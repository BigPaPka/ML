{
  "nbformat": 4,
  "nbformat_minor": 0,
  "metadata": {
    "colab": {
      "provenance": [],
      "toc_visible": true
    },
    "kernelspec": {
      "name": "python3",
      "display_name": "Python 3"
    },
    "language_info": {
      "name": "python"
    }
  },
  "cells": [
    {
      "cell_type": "markdown",
      "source": [
        "<font size=40>Линейная регрессия\n"
      ],
      "metadata": {
        "id": "eD93g-GecOFq"
      }
    },
    {
      "cell_type": "markdown",
      "source": [
        "#Введение"
      ],
      "metadata": {
        "id": "0nrycTPzcfkK"
      }
    },
    {
      "cell_type": "markdown",
      "source": [
        "Цель работы - предсказать стоимость коттеджа по его признакам."
      ],
      "metadata": {
        "id": "KjSG4kVHchWx"
      }
    },
    {
      "cell_type": "markdown",
      "source": [
        "**Описание переменных**\n",
        "\n",
        "PRICE - стоимость коттеджа в тысячах долларов США\n",
        "\n",
        "HOUSE - площадь коттеджа в квадратных метрах\n",
        "\n",
        "AREA - площадь участка в сотках\n",
        "\n",
        "DIST - расстояние от расположения недвижимости до автомобильной дороги(например, до кольцевой автодороги) в километрах.\n",
        "\n",
        "ECO - индикатор, принимающий значение 1, если рядом с коттеджом есть река или озера, и 0 - если водоемов рядов с коттеджом нет"
      ],
      "metadata": {
        "id": "PXOdeyeickgc"
      }
    },
    {
      "cell_type": "markdown",
      "source": [
        "#Подготовка данных"
      ],
      "metadata": {
        "id": "s2lQscjicn_2"
      }
    },
    {
      "cell_type": "markdown",
      "source": [
        "Подключаем библиотеки pandas, matplotlib.pyplot, numpy, stats:"
      ],
      "metadata": {
        "id": "byoRuZw0cp3W"
      }
    },
    {
      "cell_type": "code",
      "source": [
        "import pandas as pd\n",
        "import matplotlib.pyplot as plt\n",
        "import numpy as np\n",
        "import scipy.stats as stats"
      ],
      "metadata": {
        "id": "aLS29ON3crjF"
      },
      "execution_count": null,
      "outputs": []
    },
    {
      "cell_type": "markdown",
      "source": [
        "Подключаем необходимые инструменты из пакета Scikit-learn"
      ],
      "metadata": {
        "id": "bU_md4Ywcsxg"
      }
    },
    {
      "cell_type": "code",
      "source": [
        "from sklearn.model_selection import train_test_split\n",
        "from sklearn.preprocessing import OneHotEncoder\n",
        "from sklearn.linear_model import LinearRegression\n",
        "from sklearn import metrics"
      ],
      "metadata": {
        "id": "dQ8Ew-XrcuJf"
      },
      "execution_count": null,
      "outputs": []
    },
    {
      "cell_type": "markdown",
      "source": [
        "Импортируем данные"
      ],
      "metadata": {
        "id": "Jdmos4I9cvkq"
      }
    },
    {
      "cell_type": "code",
      "source": [
        "ds = pd.read_excel(\"Info.xlsx\", skiprows = 1, sheet_name = 'V(1)')\n",
        "ds"
      ],
      "metadata": {
        "colab": {
          "base_uri": "https://localhost:8080/",
          "height": 1000
        },
        "id": "dR_IvyYRcxM2",
        "outputId": "15b7e13f-754b-4da4-c465-f9509050ca56"
      },
      "execution_count": null,
      "outputs": [
        {
          "output_type": "stream",
          "name": "stderr",
          "text": [
            "/usr/local/lib/python3.10/dist-packages/openpyxl/worksheet/header_footer.py:48: UserWarning: Cannot parse header or footer so it will be ignored\n",
            "  warn(\"\"\"Cannot parse header or footer so it will be ignored\"\"\")\n"
          ]
        },
        {
          "output_type": "execute_result",
          "data": {
            "text/plain": [
              "    Price  House  Area   Dist  Eco\n",
              "0   220.0    500  40.0   26.0    1\n",
              "1    95.0    530  19.0   23.0    0\n",
              "2    45.0    350   7.0   25.0    0\n",
              "3   120.0    150  10.0   26.0    1\n",
              "4    95.0    370  15.0   45.0    1\n",
              "5   120.0    300  24.0   20.0    1\n",
              "6    16.5     78   8.5   60.0    0\n",
              "7    25.0     80  10.0   50.0    1\n",
              "8    20.0     65   6.0   25.0    0\n",
              "9    20.0     90   6.0   45.0    0\n",
              "10  100.0    600  15.0    7.0    1\n",
              "11   25.0     85  11.0   33.0    0\n",
              "12   50.0    100  10.0   85.0    1\n",
              "13    8.5     22  14.0   50.0    1\n",
              "14   16.5     60   8.0   51.0    0\n",
              "15  320.0    300  15.0    0.5    1\n",
              "16  300.0    400  22.0   20.0    1\n",
              "17   60.0    170   6.0   18.0    0\n",
              "18   14.0     60  11.0   90.0    1\n",
              "19   38.0     65   6.0   18.0    1\n",
              "20   85.0    320  20.0   25.0    0\n",
              "21   85.0    210  20.0   19.0    0\n",
              "22   28.0     60   5.0   30.0    1\n",
              "23   83.0    228  20.0   45.0    0\n",
              "24   80.0    200  20.0   25.0    1\n",
              "25   15.0     36  10.0   46.0    1\n",
              "26   27.0    180  17.0   86.0    0\n",
              "27   42.0    250  15.0   85.0    1\n",
              "28    5.5     36  12.0   85.0    0\n",
              "29   47.0    285  15.0   74.0    0\n",
              "30    5.0     36  10.0   95.0    0\n",
              "31   59.0    420  10.0    9.0    0\n",
              "32   27.0    130   6.0   12.0    0\n",
              "33  270.0    350  15.0   15.0    1\n",
              "34   96.0    300  15.0   39.0    0\n",
              "35   95.0    200  14.0   25.0    0\n",
              "36    6.0     36   6.0   65.0    0\n",
              "37  120.0    300  32.0   28.0    1\n",
              "38  135.0    170  15.0   30.0    1\n",
              "39  315.0    450  25.0   25.0    1\n",
              "40   10.0     36  12.0  105.0    0\n",
              "41  230.0    350  18.0   30.0    1\n",
              "42   15.0     46  15.0  100.0    0\n",
              "43  130.0    130  15.0   27.0    1\n",
              "44   16.5     56  15.0   75.0    0\n",
              "45    7.0     46  15.0  100.0    0\n",
              "46  110.0    170  10.0   25.0    1\n",
              "47   13.0     70   6.0   50.0    1"
            ],
            "text/html": [
              "\n",
              "  <div id=\"df-e3e09b02-f137-42d6-bd90-4bff51d7789f\">\n",
              "    <div class=\"colab-df-container\">\n",
              "      <div>\n",
              "<style scoped>\n",
              "    .dataframe tbody tr th:only-of-type {\n",
              "        vertical-align: middle;\n",
              "    }\n",
              "\n",
              "    .dataframe tbody tr th {\n",
              "        vertical-align: top;\n",
              "    }\n",
              "\n",
              "    .dataframe thead th {\n",
              "        text-align: right;\n",
              "    }\n",
              "</style>\n",
              "<table border=\"1\" class=\"dataframe\">\n",
              "  <thead>\n",
              "    <tr style=\"text-align: right;\">\n",
              "      <th></th>\n",
              "      <th>Price</th>\n",
              "      <th>House</th>\n",
              "      <th>Area</th>\n",
              "      <th>Dist</th>\n",
              "      <th>Eco</th>\n",
              "    </tr>\n",
              "  </thead>\n",
              "  <tbody>\n",
              "    <tr>\n",
              "      <th>0</th>\n",
              "      <td>220.0</td>\n",
              "      <td>500</td>\n",
              "      <td>40.0</td>\n",
              "      <td>26.0</td>\n",
              "      <td>1</td>\n",
              "    </tr>\n",
              "    <tr>\n",
              "      <th>1</th>\n",
              "      <td>95.0</td>\n",
              "      <td>530</td>\n",
              "      <td>19.0</td>\n",
              "      <td>23.0</td>\n",
              "      <td>0</td>\n",
              "    </tr>\n",
              "    <tr>\n",
              "      <th>2</th>\n",
              "      <td>45.0</td>\n",
              "      <td>350</td>\n",
              "      <td>7.0</td>\n",
              "      <td>25.0</td>\n",
              "      <td>0</td>\n",
              "    </tr>\n",
              "    <tr>\n",
              "      <th>3</th>\n",
              "      <td>120.0</td>\n",
              "      <td>150</td>\n",
              "      <td>10.0</td>\n",
              "      <td>26.0</td>\n",
              "      <td>1</td>\n",
              "    </tr>\n",
              "    <tr>\n",
              "      <th>4</th>\n",
              "      <td>95.0</td>\n",
              "      <td>370</td>\n",
              "      <td>15.0</td>\n",
              "      <td>45.0</td>\n",
              "      <td>1</td>\n",
              "    </tr>\n",
              "    <tr>\n",
              "      <th>5</th>\n",
              "      <td>120.0</td>\n",
              "      <td>300</td>\n",
              "      <td>24.0</td>\n",
              "      <td>20.0</td>\n",
              "      <td>1</td>\n",
              "    </tr>\n",
              "    <tr>\n",
              "      <th>6</th>\n",
              "      <td>16.5</td>\n",
              "      <td>78</td>\n",
              "      <td>8.5</td>\n",
              "      <td>60.0</td>\n",
              "      <td>0</td>\n",
              "    </tr>\n",
              "    <tr>\n",
              "      <th>7</th>\n",
              "      <td>25.0</td>\n",
              "      <td>80</td>\n",
              "      <td>10.0</td>\n",
              "      <td>50.0</td>\n",
              "      <td>1</td>\n",
              "    </tr>\n",
              "    <tr>\n",
              "      <th>8</th>\n",
              "      <td>20.0</td>\n",
              "      <td>65</td>\n",
              "      <td>6.0</td>\n",
              "      <td>25.0</td>\n",
              "      <td>0</td>\n",
              "    </tr>\n",
              "    <tr>\n",
              "      <th>9</th>\n",
              "      <td>20.0</td>\n",
              "      <td>90</td>\n",
              "      <td>6.0</td>\n",
              "      <td>45.0</td>\n",
              "      <td>0</td>\n",
              "    </tr>\n",
              "    <tr>\n",
              "      <th>10</th>\n",
              "      <td>100.0</td>\n",
              "      <td>600</td>\n",
              "      <td>15.0</td>\n",
              "      <td>7.0</td>\n",
              "      <td>1</td>\n",
              "    </tr>\n",
              "    <tr>\n",
              "      <th>11</th>\n",
              "      <td>25.0</td>\n",
              "      <td>85</td>\n",
              "      <td>11.0</td>\n",
              "      <td>33.0</td>\n",
              "      <td>0</td>\n",
              "    </tr>\n",
              "    <tr>\n",
              "      <th>12</th>\n",
              "      <td>50.0</td>\n",
              "      <td>100</td>\n",
              "      <td>10.0</td>\n",
              "      <td>85.0</td>\n",
              "      <td>1</td>\n",
              "    </tr>\n",
              "    <tr>\n",
              "      <th>13</th>\n",
              "      <td>8.5</td>\n",
              "      <td>22</td>\n",
              "      <td>14.0</td>\n",
              "      <td>50.0</td>\n",
              "      <td>1</td>\n",
              "    </tr>\n",
              "    <tr>\n",
              "      <th>14</th>\n",
              "      <td>16.5</td>\n",
              "      <td>60</td>\n",
              "      <td>8.0</td>\n",
              "      <td>51.0</td>\n",
              "      <td>0</td>\n",
              "    </tr>\n",
              "    <tr>\n",
              "      <th>15</th>\n",
              "      <td>320.0</td>\n",
              "      <td>300</td>\n",
              "      <td>15.0</td>\n",
              "      <td>0.5</td>\n",
              "      <td>1</td>\n",
              "    </tr>\n",
              "    <tr>\n",
              "      <th>16</th>\n",
              "      <td>300.0</td>\n",
              "      <td>400</td>\n",
              "      <td>22.0</td>\n",
              "      <td>20.0</td>\n",
              "      <td>1</td>\n",
              "    </tr>\n",
              "    <tr>\n",
              "      <th>17</th>\n",
              "      <td>60.0</td>\n",
              "      <td>170</td>\n",
              "      <td>6.0</td>\n",
              "      <td>18.0</td>\n",
              "      <td>0</td>\n",
              "    </tr>\n",
              "    <tr>\n",
              "      <th>18</th>\n",
              "      <td>14.0</td>\n",
              "      <td>60</td>\n",
              "      <td>11.0</td>\n",
              "      <td>90.0</td>\n",
              "      <td>1</td>\n",
              "    </tr>\n",
              "    <tr>\n",
              "      <th>19</th>\n",
              "      <td>38.0</td>\n",
              "      <td>65</td>\n",
              "      <td>6.0</td>\n",
              "      <td>18.0</td>\n",
              "      <td>1</td>\n",
              "    </tr>\n",
              "    <tr>\n",
              "      <th>20</th>\n",
              "      <td>85.0</td>\n",
              "      <td>320</td>\n",
              "      <td>20.0</td>\n",
              "      <td>25.0</td>\n",
              "      <td>0</td>\n",
              "    </tr>\n",
              "    <tr>\n",
              "      <th>21</th>\n",
              "      <td>85.0</td>\n",
              "      <td>210</td>\n",
              "      <td>20.0</td>\n",
              "      <td>19.0</td>\n",
              "      <td>0</td>\n",
              "    </tr>\n",
              "    <tr>\n",
              "      <th>22</th>\n",
              "      <td>28.0</td>\n",
              "      <td>60</td>\n",
              "      <td>5.0</td>\n",
              "      <td>30.0</td>\n",
              "      <td>1</td>\n",
              "    </tr>\n",
              "    <tr>\n",
              "      <th>23</th>\n",
              "      <td>83.0</td>\n",
              "      <td>228</td>\n",
              "      <td>20.0</td>\n",
              "      <td>45.0</td>\n",
              "      <td>0</td>\n",
              "    </tr>\n",
              "    <tr>\n",
              "      <th>24</th>\n",
              "      <td>80.0</td>\n",
              "      <td>200</td>\n",
              "      <td>20.0</td>\n",
              "      <td>25.0</td>\n",
              "      <td>1</td>\n",
              "    </tr>\n",
              "    <tr>\n",
              "      <th>25</th>\n",
              "      <td>15.0</td>\n",
              "      <td>36</td>\n",
              "      <td>10.0</td>\n",
              "      <td>46.0</td>\n",
              "      <td>1</td>\n",
              "    </tr>\n",
              "    <tr>\n",
              "      <th>26</th>\n",
              "      <td>27.0</td>\n",
              "      <td>180</td>\n",
              "      <td>17.0</td>\n",
              "      <td>86.0</td>\n",
              "      <td>0</td>\n",
              "    </tr>\n",
              "    <tr>\n",
              "      <th>27</th>\n",
              "      <td>42.0</td>\n",
              "      <td>250</td>\n",
              "      <td>15.0</td>\n",
              "      <td>85.0</td>\n",
              "      <td>1</td>\n",
              "    </tr>\n",
              "    <tr>\n",
              "      <th>28</th>\n",
              "      <td>5.5</td>\n",
              "      <td>36</td>\n",
              "      <td>12.0</td>\n",
              "      <td>85.0</td>\n",
              "      <td>0</td>\n",
              "    </tr>\n",
              "    <tr>\n",
              "      <th>29</th>\n",
              "      <td>47.0</td>\n",
              "      <td>285</td>\n",
              "      <td>15.0</td>\n",
              "      <td>74.0</td>\n",
              "      <td>0</td>\n",
              "    </tr>\n",
              "    <tr>\n",
              "      <th>30</th>\n",
              "      <td>5.0</td>\n",
              "      <td>36</td>\n",
              "      <td>10.0</td>\n",
              "      <td>95.0</td>\n",
              "      <td>0</td>\n",
              "    </tr>\n",
              "    <tr>\n",
              "      <th>31</th>\n",
              "      <td>59.0</td>\n",
              "      <td>420</td>\n",
              "      <td>10.0</td>\n",
              "      <td>9.0</td>\n",
              "      <td>0</td>\n",
              "    </tr>\n",
              "    <tr>\n",
              "      <th>32</th>\n",
              "      <td>27.0</td>\n",
              "      <td>130</td>\n",
              "      <td>6.0</td>\n",
              "      <td>12.0</td>\n",
              "      <td>0</td>\n",
              "    </tr>\n",
              "    <tr>\n",
              "      <th>33</th>\n",
              "      <td>270.0</td>\n",
              "      <td>350</td>\n",
              "      <td>15.0</td>\n",
              "      <td>15.0</td>\n",
              "      <td>1</td>\n",
              "    </tr>\n",
              "    <tr>\n",
              "      <th>34</th>\n",
              "      <td>96.0</td>\n",
              "      <td>300</td>\n",
              "      <td>15.0</td>\n",
              "      <td>39.0</td>\n",
              "      <td>0</td>\n",
              "    </tr>\n",
              "    <tr>\n",
              "      <th>35</th>\n",
              "      <td>95.0</td>\n",
              "      <td>200</td>\n",
              "      <td>14.0</td>\n",
              "      <td>25.0</td>\n",
              "      <td>0</td>\n",
              "    </tr>\n",
              "    <tr>\n",
              "      <th>36</th>\n",
              "      <td>6.0</td>\n",
              "      <td>36</td>\n",
              "      <td>6.0</td>\n",
              "      <td>65.0</td>\n",
              "      <td>0</td>\n",
              "    </tr>\n",
              "    <tr>\n",
              "      <th>37</th>\n",
              "      <td>120.0</td>\n",
              "      <td>300</td>\n",
              "      <td>32.0</td>\n",
              "      <td>28.0</td>\n",
              "      <td>1</td>\n",
              "    </tr>\n",
              "    <tr>\n",
              "      <th>38</th>\n",
              "      <td>135.0</td>\n",
              "      <td>170</td>\n",
              "      <td>15.0</td>\n",
              "      <td>30.0</td>\n",
              "      <td>1</td>\n",
              "    </tr>\n",
              "    <tr>\n",
              "      <th>39</th>\n",
              "      <td>315.0</td>\n",
              "      <td>450</td>\n",
              "      <td>25.0</td>\n",
              "      <td>25.0</td>\n",
              "      <td>1</td>\n",
              "    </tr>\n",
              "    <tr>\n",
              "      <th>40</th>\n",
              "      <td>10.0</td>\n",
              "      <td>36</td>\n",
              "      <td>12.0</td>\n",
              "      <td>105.0</td>\n",
              "      <td>0</td>\n",
              "    </tr>\n",
              "    <tr>\n",
              "      <th>41</th>\n",
              "      <td>230.0</td>\n",
              "      <td>350</td>\n",
              "      <td>18.0</td>\n",
              "      <td>30.0</td>\n",
              "      <td>1</td>\n",
              "    </tr>\n",
              "    <tr>\n",
              "      <th>42</th>\n",
              "      <td>15.0</td>\n",
              "      <td>46</td>\n",
              "      <td>15.0</td>\n",
              "      <td>100.0</td>\n",
              "      <td>0</td>\n",
              "    </tr>\n",
              "    <tr>\n",
              "      <th>43</th>\n",
              "      <td>130.0</td>\n",
              "      <td>130</td>\n",
              "      <td>15.0</td>\n",
              "      <td>27.0</td>\n",
              "      <td>1</td>\n",
              "    </tr>\n",
              "    <tr>\n",
              "      <th>44</th>\n",
              "      <td>16.5</td>\n",
              "      <td>56</td>\n",
              "      <td>15.0</td>\n",
              "      <td>75.0</td>\n",
              "      <td>0</td>\n",
              "    </tr>\n",
              "    <tr>\n",
              "      <th>45</th>\n",
              "      <td>7.0</td>\n",
              "      <td>46</td>\n",
              "      <td>15.0</td>\n",
              "      <td>100.0</td>\n",
              "      <td>0</td>\n",
              "    </tr>\n",
              "    <tr>\n",
              "      <th>46</th>\n",
              "      <td>110.0</td>\n",
              "      <td>170</td>\n",
              "      <td>10.0</td>\n",
              "      <td>25.0</td>\n",
              "      <td>1</td>\n",
              "    </tr>\n",
              "    <tr>\n",
              "      <th>47</th>\n",
              "      <td>13.0</td>\n",
              "      <td>70</td>\n",
              "      <td>6.0</td>\n",
              "      <td>50.0</td>\n",
              "      <td>1</td>\n",
              "    </tr>\n",
              "  </tbody>\n",
              "</table>\n",
              "</div>\n",
              "      <button class=\"colab-df-convert\" onclick=\"convertToInteractive('df-e3e09b02-f137-42d6-bd90-4bff51d7789f')\"\n",
              "              title=\"Convert this dataframe to an interactive table.\"\n",
              "              style=\"display:none;\">\n",
              "        \n",
              "  <svg xmlns=\"http://www.w3.org/2000/svg\" height=\"24px\"viewBox=\"0 0 24 24\"\n",
              "       width=\"24px\">\n",
              "    <path d=\"M0 0h24v24H0V0z\" fill=\"none\"/>\n",
              "    <path d=\"M18.56 5.44l.94 2.06.94-2.06 2.06-.94-2.06-.94-.94-2.06-.94 2.06-2.06.94zm-11 1L8.5 8.5l.94-2.06 2.06-.94-2.06-.94L8.5 2.5l-.94 2.06-2.06.94zm10 10l.94 2.06.94-2.06 2.06-.94-2.06-.94-.94-2.06-.94 2.06-2.06.94z\"/><path d=\"M17.41 7.96l-1.37-1.37c-.4-.4-.92-.59-1.43-.59-.52 0-1.04.2-1.43.59L10.3 9.45l-7.72 7.72c-.78.78-.78 2.05 0 2.83L4 21.41c.39.39.9.59 1.41.59.51 0 1.02-.2 1.41-.59l7.78-7.78 2.81-2.81c.8-.78.8-2.07 0-2.86zM5.41 20L4 18.59l7.72-7.72 1.47 1.35L5.41 20z\"/>\n",
              "  </svg>\n",
              "      </button>\n",
              "      \n",
              "  <style>\n",
              "    .colab-df-container {\n",
              "      display:flex;\n",
              "      flex-wrap:wrap;\n",
              "      gap: 12px;\n",
              "    }\n",
              "\n",
              "    .colab-df-convert {\n",
              "      background-color: #E8F0FE;\n",
              "      border: none;\n",
              "      border-radius: 50%;\n",
              "      cursor: pointer;\n",
              "      display: none;\n",
              "      fill: #1967D2;\n",
              "      height: 32px;\n",
              "      padding: 0 0 0 0;\n",
              "      width: 32px;\n",
              "    }\n",
              "\n",
              "    .colab-df-convert:hover {\n",
              "      background-color: #E2EBFA;\n",
              "      box-shadow: 0px 1px 2px rgba(60, 64, 67, 0.3), 0px 1px 3px 1px rgba(60, 64, 67, 0.15);\n",
              "      fill: #174EA6;\n",
              "    }\n",
              "\n",
              "    [theme=dark] .colab-df-convert {\n",
              "      background-color: #3B4455;\n",
              "      fill: #D2E3FC;\n",
              "    }\n",
              "\n",
              "    [theme=dark] .colab-df-convert:hover {\n",
              "      background-color: #434B5C;\n",
              "      box-shadow: 0px 1px 3px 1px rgba(0, 0, 0, 0.15);\n",
              "      filter: drop-shadow(0px 1px 2px rgba(0, 0, 0, 0.3));\n",
              "      fill: #FFFFFF;\n",
              "    }\n",
              "  </style>\n",
              "\n",
              "      <script>\n",
              "        const buttonEl =\n",
              "          document.querySelector('#df-e3e09b02-f137-42d6-bd90-4bff51d7789f button.colab-df-convert');\n",
              "        buttonEl.style.display =\n",
              "          google.colab.kernel.accessAllowed ? 'block' : 'none';\n",
              "\n",
              "        async function convertToInteractive(key) {\n",
              "          const element = document.querySelector('#df-e3e09b02-f137-42d6-bd90-4bff51d7789f');\n",
              "          const dataTable =\n",
              "            await google.colab.kernel.invokeFunction('convertToInteractive',\n",
              "                                                     [key], {});\n",
              "          if (!dataTable) return;\n",
              "\n",
              "          const docLinkHtml = 'Like what you see? Visit the ' +\n",
              "            '<a target=\"_blank\" href=https://colab.research.google.com/notebooks/data_table.ipynb>data table notebook</a>'\n",
              "            + ' to learn more about interactive tables.';\n",
              "          element.innerHTML = '';\n",
              "          dataTable['output_type'] = 'display_data';\n",
              "          await google.colab.output.renderOutput(dataTable, element);\n",
              "          const docLink = document.createElement('div');\n",
              "          docLink.innerHTML = docLinkHtml;\n",
              "          element.appendChild(docLink);\n",
              "        }\n",
              "      </script>\n",
              "    </div>\n",
              "  </div>\n",
              "  "
            ]
          },
          "metadata": {},
          "execution_count": 6
        }
      ]
    },
    {
      "cell_type": "markdown",
      "source": [
        "Выделим целевую переменную Price в переменную y1"
      ],
      "metadata": {
        "id": "Q-OSYYjxcz0B"
      }
    },
    {
      "cell_type": "code",
      "source": [
        "y1 = ds['Price']\n",
        "y1"
      ],
      "metadata": {
        "colab": {
          "base_uri": "https://localhost:8080/"
        },
        "id": "TsCLb8PHc0wJ",
        "outputId": "ccbab393-e2c7-445f-9bb2-cc8fda112fc0"
      },
      "execution_count": null,
      "outputs": [
        {
          "output_type": "execute_result",
          "data": {
            "text/plain": [
              "0     220.0\n",
              "1      95.0\n",
              "2      45.0\n",
              "3     120.0\n",
              "4      95.0\n",
              "5     120.0\n",
              "6      16.5\n",
              "7      25.0\n",
              "8      20.0\n",
              "9      20.0\n",
              "10    100.0\n",
              "11     25.0\n",
              "12     50.0\n",
              "13      8.5\n",
              "14     16.5\n",
              "15    320.0\n",
              "16    300.0\n",
              "17     60.0\n",
              "18     14.0\n",
              "19     38.0\n",
              "20     85.0\n",
              "21     85.0\n",
              "22     28.0\n",
              "23     83.0\n",
              "24     80.0\n",
              "25     15.0\n",
              "26     27.0\n",
              "27     42.0\n",
              "28      5.5\n",
              "29     47.0\n",
              "30      5.0\n",
              "31     59.0\n",
              "32     27.0\n",
              "33    270.0\n",
              "34     96.0\n",
              "35     95.0\n",
              "36      6.0\n",
              "37    120.0\n",
              "38    135.0\n",
              "39    315.0\n",
              "40     10.0\n",
              "41    230.0\n",
              "42     15.0\n",
              "43    130.0\n",
              "44     16.5\n",
              "45      7.0\n",
              "46    110.0\n",
              "47     13.0\n",
              "Name: Price, dtype: float64"
            ]
          },
          "metadata": {},
          "execution_count": 7
        }
      ]
    },
    {
      "cell_type": "markdown",
      "source": [
        "Выделим матрицу исходных признаков в переменную X1\n",
        "\n"
      ],
      "metadata": {
        "id": "lLVfJWwLc3Ik"
      }
    },
    {
      "cell_type": "code",
      "source": [
        "X1 = ds.drop('Price', axis = 1)\n",
        "X1"
      ],
      "metadata": {
        "colab": {
          "base_uri": "https://localhost:8080/",
          "height": 1000
        },
        "id": "_rsn58T4c5Kn",
        "outputId": "527f2fd0-1302-4913-b7de-608d8f7ce16c"
      },
      "execution_count": null,
      "outputs": [
        {
          "output_type": "execute_result",
          "data": {
            "text/plain": [
              "    House  Area   Dist  Eco\n",
              "0     500  40.0   26.0    1\n",
              "1     530  19.0   23.0    0\n",
              "2     350   7.0   25.0    0\n",
              "3     150  10.0   26.0    1\n",
              "4     370  15.0   45.0    1\n",
              "5     300  24.0   20.0    1\n",
              "6      78   8.5   60.0    0\n",
              "7      80  10.0   50.0    1\n",
              "8      65   6.0   25.0    0\n",
              "9      90   6.0   45.0    0\n",
              "10    600  15.0    7.0    1\n",
              "11     85  11.0   33.0    0\n",
              "12    100  10.0   85.0    1\n",
              "13     22  14.0   50.0    1\n",
              "14     60   8.0   51.0    0\n",
              "15    300  15.0    0.5    1\n",
              "16    400  22.0   20.0    1\n",
              "17    170   6.0   18.0    0\n",
              "18     60  11.0   90.0    1\n",
              "19     65   6.0   18.0    1\n",
              "20    320  20.0   25.0    0\n",
              "21    210  20.0   19.0    0\n",
              "22     60   5.0   30.0    1\n",
              "23    228  20.0   45.0    0\n",
              "24    200  20.0   25.0    1\n",
              "25     36  10.0   46.0    1\n",
              "26    180  17.0   86.0    0\n",
              "27    250  15.0   85.0    1\n",
              "28     36  12.0   85.0    0\n",
              "29    285  15.0   74.0    0\n",
              "30     36  10.0   95.0    0\n",
              "31    420  10.0    9.0    0\n",
              "32    130   6.0   12.0    0\n",
              "33    350  15.0   15.0    1\n",
              "34    300  15.0   39.0    0\n",
              "35    200  14.0   25.0    0\n",
              "36     36   6.0   65.0    0\n",
              "37    300  32.0   28.0    1\n",
              "38    170  15.0   30.0    1\n",
              "39    450  25.0   25.0    1\n",
              "40     36  12.0  105.0    0\n",
              "41    350  18.0   30.0    1\n",
              "42     46  15.0  100.0    0\n",
              "43    130  15.0   27.0    1\n",
              "44     56  15.0   75.0    0\n",
              "45     46  15.0  100.0    0\n",
              "46    170  10.0   25.0    1\n",
              "47     70   6.0   50.0    1"
            ],
            "text/html": [
              "\n",
              "  <div id=\"df-95cfa21f-210e-49e0-9227-e1a774e03d65\">\n",
              "    <div class=\"colab-df-container\">\n",
              "      <div>\n",
              "<style scoped>\n",
              "    .dataframe tbody tr th:only-of-type {\n",
              "        vertical-align: middle;\n",
              "    }\n",
              "\n",
              "    .dataframe tbody tr th {\n",
              "        vertical-align: top;\n",
              "    }\n",
              "\n",
              "    .dataframe thead th {\n",
              "        text-align: right;\n",
              "    }\n",
              "</style>\n",
              "<table border=\"1\" class=\"dataframe\">\n",
              "  <thead>\n",
              "    <tr style=\"text-align: right;\">\n",
              "      <th></th>\n",
              "      <th>House</th>\n",
              "      <th>Area</th>\n",
              "      <th>Dist</th>\n",
              "      <th>Eco</th>\n",
              "    </tr>\n",
              "  </thead>\n",
              "  <tbody>\n",
              "    <tr>\n",
              "      <th>0</th>\n",
              "      <td>500</td>\n",
              "      <td>40.0</td>\n",
              "      <td>26.0</td>\n",
              "      <td>1</td>\n",
              "    </tr>\n",
              "    <tr>\n",
              "      <th>1</th>\n",
              "      <td>530</td>\n",
              "      <td>19.0</td>\n",
              "      <td>23.0</td>\n",
              "      <td>0</td>\n",
              "    </tr>\n",
              "    <tr>\n",
              "      <th>2</th>\n",
              "      <td>350</td>\n",
              "      <td>7.0</td>\n",
              "      <td>25.0</td>\n",
              "      <td>0</td>\n",
              "    </tr>\n",
              "    <tr>\n",
              "      <th>3</th>\n",
              "      <td>150</td>\n",
              "      <td>10.0</td>\n",
              "      <td>26.0</td>\n",
              "      <td>1</td>\n",
              "    </tr>\n",
              "    <tr>\n",
              "      <th>4</th>\n",
              "      <td>370</td>\n",
              "      <td>15.0</td>\n",
              "      <td>45.0</td>\n",
              "      <td>1</td>\n",
              "    </tr>\n",
              "    <tr>\n",
              "      <th>5</th>\n",
              "      <td>300</td>\n",
              "      <td>24.0</td>\n",
              "      <td>20.0</td>\n",
              "      <td>1</td>\n",
              "    </tr>\n",
              "    <tr>\n",
              "      <th>6</th>\n",
              "      <td>78</td>\n",
              "      <td>8.5</td>\n",
              "      <td>60.0</td>\n",
              "      <td>0</td>\n",
              "    </tr>\n",
              "    <tr>\n",
              "      <th>7</th>\n",
              "      <td>80</td>\n",
              "      <td>10.0</td>\n",
              "      <td>50.0</td>\n",
              "      <td>1</td>\n",
              "    </tr>\n",
              "    <tr>\n",
              "      <th>8</th>\n",
              "      <td>65</td>\n",
              "      <td>6.0</td>\n",
              "      <td>25.0</td>\n",
              "      <td>0</td>\n",
              "    </tr>\n",
              "    <tr>\n",
              "      <th>9</th>\n",
              "      <td>90</td>\n",
              "      <td>6.0</td>\n",
              "      <td>45.0</td>\n",
              "      <td>0</td>\n",
              "    </tr>\n",
              "    <tr>\n",
              "      <th>10</th>\n",
              "      <td>600</td>\n",
              "      <td>15.0</td>\n",
              "      <td>7.0</td>\n",
              "      <td>1</td>\n",
              "    </tr>\n",
              "    <tr>\n",
              "      <th>11</th>\n",
              "      <td>85</td>\n",
              "      <td>11.0</td>\n",
              "      <td>33.0</td>\n",
              "      <td>0</td>\n",
              "    </tr>\n",
              "    <tr>\n",
              "      <th>12</th>\n",
              "      <td>100</td>\n",
              "      <td>10.0</td>\n",
              "      <td>85.0</td>\n",
              "      <td>1</td>\n",
              "    </tr>\n",
              "    <tr>\n",
              "      <th>13</th>\n",
              "      <td>22</td>\n",
              "      <td>14.0</td>\n",
              "      <td>50.0</td>\n",
              "      <td>1</td>\n",
              "    </tr>\n",
              "    <tr>\n",
              "      <th>14</th>\n",
              "      <td>60</td>\n",
              "      <td>8.0</td>\n",
              "      <td>51.0</td>\n",
              "      <td>0</td>\n",
              "    </tr>\n",
              "    <tr>\n",
              "      <th>15</th>\n",
              "      <td>300</td>\n",
              "      <td>15.0</td>\n",
              "      <td>0.5</td>\n",
              "      <td>1</td>\n",
              "    </tr>\n",
              "    <tr>\n",
              "      <th>16</th>\n",
              "      <td>400</td>\n",
              "      <td>22.0</td>\n",
              "      <td>20.0</td>\n",
              "      <td>1</td>\n",
              "    </tr>\n",
              "    <tr>\n",
              "      <th>17</th>\n",
              "      <td>170</td>\n",
              "      <td>6.0</td>\n",
              "      <td>18.0</td>\n",
              "      <td>0</td>\n",
              "    </tr>\n",
              "    <tr>\n",
              "      <th>18</th>\n",
              "      <td>60</td>\n",
              "      <td>11.0</td>\n",
              "      <td>90.0</td>\n",
              "      <td>1</td>\n",
              "    </tr>\n",
              "    <tr>\n",
              "      <th>19</th>\n",
              "      <td>65</td>\n",
              "      <td>6.0</td>\n",
              "      <td>18.0</td>\n",
              "      <td>1</td>\n",
              "    </tr>\n",
              "    <tr>\n",
              "      <th>20</th>\n",
              "      <td>320</td>\n",
              "      <td>20.0</td>\n",
              "      <td>25.0</td>\n",
              "      <td>0</td>\n",
              "    </tr>\n",
              "    <tr>\n",
              "      <th>21</th>\n",
              "      <td>210</td>\n",
              "      <td>20.0</td>\n",
              "      <td>19.0</td>\n",
              "      <td>0</td>\n",
              "    </tr>\n",
              "    <tr>\n",
              "      <th>22</th>\n",
              "      <td>60</td>\n",
              "      <td>5.0</td>\n",
              "      <td>30.0</td>\n",
              "      <td>1</td>\n",
              "    </tr>\n",
              "    <tr>\n",
              "      <th>23</th>\n",
              "      <td>228</td>\n",
              "      <td>20.0</td>\n",
              "      <td>45.0</td>\n",
              "      <td>0</td>\n",
              "    </tr>\n",
              "    <tr>\n",
              "      <th>24</th>\n",
              "      <td>200</td>\n",
              "      <td>20.0</td>\n",
              "      <td>25.0</td>\n",
              "      <td>1</td>\n",
              "    </tr>\n",
              "    <tr>\n",
              "      <th>25</th>\n",
              "      <td>36</td>\n",
              "      <td>10.0</td>\n",
              "      <td>46.0</td>\n",
              "      <td>1</td>\n",
              "    </tr>\n",
              "    <tr>\n",
              "      <th>26</th>\n",
              "      <td>180</td>\n",
              "      <td>17.0</td>\n",
              "      <td>86.0</td>\n",
              "      <td>0</td>\n",
              "    </tr>\n",
              "    <tr>\n",
              "      <th>27</th>\n",
              "      <td>250</td>\n",
              "      <td>15.0</td>\n",
              "      <td>85.0</td>\n",
              "      <td>1</td>\n",
              "    </tr>\n",
              "    <tr>\n",
              "      <th>28</th>\n",
              "      <td>36</td>\n",
              "      <td>12.0</td>\n",
              "      <td>85.0</td>\n",
              "      <td>0</td>\n",
              "    </tr>\n",
              "    <tr>\n",
              "      <th>29</th>\n",
              "      <td>285</td>\n",
              "      <td>15.0</td>\n",
              "      <td>74.0</td>\n",
              "      <td>0</td>\n",
              "    </tr>\n",
              "    <tr>\n",
              "      <th>30</th>\n",
              "      <td>36</td>\n",
              "      <td>10.0</td>\n",
              "      <td>95.0</td>\n",
              "      <td>0</td>\n",
              "    </tr>\n",
              "    <tr>\n",
              "      <th>31</th>\n",
              "      <td>420</td>\n",
              "      <td>10.0</td>\n",
              "      <td>9.0</td>\n",
              "      <td>0</td>\n",
              "    </tr>\n",
              "    <tr>\n",
              "      <th>32</th>\n",
              "      <td>130</td>\n",
              "      <td>6.0</td>\n",
              "      <td>12.0</td>\n",
              "      <td>0</td>\n",
              "    </tr>\n",
              "    <tr>\n",
              "      <th>33</th>\n",
              "      <td>350</td>\n",
              "      <td>15.0</td>\n",
              "      <td>15.0</td>\n",
              "      <td>1</td>\n",
              "    </tr>\n",
              "    <tr>\n",
              "      <th>34</th>\n",
              "      <td>300</td>\n",
              "      <td>15.0</td>\n",
              "      <td>39.0</td>\n",
              "      <td>0</td>\n",
              "    </tr>\n",
              "    <tr>\n",
              "      <th>35</th>\n",
              "      <td>200</td>\n",
              "      <td>14.0</td>\n",
              "      <td>25.0</td>\n",
              "      <td>0</td>\n",
              "    </tr>\n",
              "    <tr>\n",
              "      <th>36</th>\n",
              "      <td>36</td>\n",
              "      <td>6.0</td>\n",
              "      <td>65.0</td>\n",
              "      <td>0</td>\n",
              "    </tr>\n",
              "    <tr>\n",
              "      <th>37</th>\n",
              "      <td>300</td>\n",
              "      <td>32.0</td>\n",
              "      <td>28.0</td>\n",
              "      <td>1</td>\n",
              "    </tr>\n",
              "    <tr>\n",
              "      <th>38</th>\n",
              "      <td>170</td>\n",
              "      <td>15.0</td>\n",
              "      <td>30.0</td>\n",
              "      <td>1</td>\n",
              "    </tr>\n",
              "    <tr>\n",
              "      <th>39</th>\n",
              "      <td>450</td>\n",
              "      <td>25.0</td>\n",
              "      <td>25.0</td>\n",
              "      <td>1</td>\n",
              "    </tr>\n",
              "    <tr>\n",
              "      <th>40</th>\n",
              "      <td>36</td>\n",
              "      <td>12.0</td>\n",
              "      <td>105.0</td>\n",
              "      <td>0</td>\n",
              "    </tr>\n",
              "    <tr>\n",
              "      <th>41</th>\n",
              "      <td>350</td>\n",
              "      <td>18.0</td>\n",
              "      <td>30.0</td>\n",
              "      <td>1</td>\n",
              "    </tr>\n",
              "    <tr>\n",
              "      <th>42</th>\n",
              "      <td>46</td>\n",
              "      <td>15.0</td>\n",
              "      <td>100.0</td>\n",
              "      <td>0</td>\n",
              "    </tr>\n",
              "    <tr>\n",
              "      <th>43</th>\n",
              "      <td>130</td>\n",
              "      <td>15.0</td>\n",
              "      <td>27.0</td>\n",
              "      <td>1</td>\n",
              "    </tr>\n",
              "    <tr>\n",
              "      <th>44</th>\n",
              "      <td>56</td>\n",
              "      <td>15.0</td>\n",
              "      <td>75.0</td>\n",
              "      <td>0</td>\n",
              "    </tr>\n",
              "    <tr>\n",
              "      <th>45</th>\n",
              "      <td>46</td>\n",
              "      <td>15.0</td>\n",
              "      <td>100.0</td>\n",
              "      <td>0</td>\n",
              "    </tr>\n",
              "    <tr>\n",
              "      <th>46</th>\n",
              "      <td>170</td>\n",
              "      <td>10.0</td>\n",
              "      <td>25.0</td>\n",
              "      <td>1</td>\n",
              "    </tr>\n",
              "    <tr>\n",
              "      <th>47</th>\n",
              "      <td>70</td>\n",
              "      <td>6.0</td>\n",
              "      <td>50.0</td>\n",
              "      <td>1</td>\n",
              "    </tr>\n",
              "  </tbody>\n",
              "</table>\n",
              "</div>\n",
              "      <button class=\"colab-df-convert\" onclick=\"convertToInteractive('df-95cfa21f-210e-49e0-9227-e1a774e03d65')\"\n",
              "              title=\"Convert this dataframe to an interactive table.\"\n",
              "              style=\"display:none;\">\n",
              "        \n",
              "  <svg xmlns=\"http://www.w3.org/2000/svg\" height=\"24px\"viewBox=\"0 0 24 24\"\n",
              "       width=\"24px\">\n",
              "    <path d=\"M0 0h24v24H0V0z\" fill=\"none\"/>\n",
              "    <path d=\"M18.56 5.44l.94 2.06.94-2.06 2.06-.94-2.06-.94-.94-2.06-.94 2.06-2.06.94zm-11 1L8.5 8.5l.94-2.06 2.06-.94-2.06-.94L8.5 2.5l-.94 2.06-2.06.94zm10 10l.94 2.06.94-2.06 2.06-.94-2.06-.94-.94-2.06-.94 2.06-2.06.94z\"/><path d=\"M17.41 7.96l-1.37-1.37c-.4-.4-.92-.59-1.43-.59-.52 0-1.04.2-1.43.59L10.3 9.45l-7.72 7.72c-.78.78-.78 2.05 0 2.83L4 21.41c.39.39.9.59 1.41.59.51 0 1.02-.2 1.41-.59l7.78-7.78 2.81-2.81c.8-.78.8-2.07 0-2.86zM5.41 20L4 18.59l7.72-7.72 1.47 1.35L5.41 20z\"/>\n",
              "  </svg>\n",
              "      </button>\n",
              "      \n",
              "  <style>\n",
              "    .colab-df-container {\n",
              "      display:flex;\n",
              "      flex-wrap:wrap;\n",
              "      gap: 12px;\n",
              "    }\n",
              "\n",
              "    .colab-df-convert {\n",
              "      background-color: #E8F0FE;\n",
              "      border: none;\n",
              "      border-radius: 50%;\n",
              "      cursor: pointer;\n",
              "      display: none;\n",
              "      fill: #1967D2;\n",
              "      height: 32px;\n",
              "      padding: 0 0 0 0;\n",
              "      width: 32px;\n",
              "    }\n",
              "\n",
              "    .colab-df-convert:hover {\n",
              "      background-color: #E2EBFA;\n",
              "      box-shadow: 0px 1px 2px rgba(60, 64, 67, 0.3), 0px 1px 3px 1px rgba(60, 64, 67, 0.15);\n",
              "      fill: #174EA6;\n",
              "    }\n",
              "\n",
              "    [theme=dark] .colab-df-convert {\n",
              "      background-color: #3B4455;\n",
              "      fill: #D2E3FC;\n",
              "    }\n",
              "\n",
              "    [theme=dark] .colab-df-convert:hover {\n",
              "      background-color: #434B5C;\n",
              "      box-shadow: 0px 1px 3px 1px rgba(0, 0, 0, 0.15);\n",
              "      filter: drop-shadow(0px 1px 2px rgba(0, 0, 0, 0.3));\n",
              "      fill: #FFFFFF;\n",
              "    }\n",
              "  </style>\n",
              "\n",
              "      <script>\n",
              "        const buttonEl =\n",
              "          document.querySelector('#df-95cfa21f-210e-49e0-9227-e1a774e03d65 button.colab-df-convert');\n",
              "        buttonEl.style.display =\n",
              "          google.colab.kernel.accessAllowed ? 'block' : 'none';\n",
              "\n",
              "        async function convertToInteractive(key) {\n",
              "          const element = document.querySelector('#df-95cfa21f-210e-49e0-9227-e1a774e03d65');\n",
              "          const dataTable =\n",
              "            await google.colab.kernel.invokeFunction('convertToInteractive',\n",
              "                                                     [key], {});\n",
              "          if (!dataTable) return;\n",
              "\n",
              "          const docLinkHtml = 'Like what you see? Visit the ' +\n",
              "            '<a target=\"_blank\" href=https://colab.research.google.com/notebooks/data_table.ipynb>data table notebook</a>'\n",
              "            + ' to learn more about interactive tables.';\n",
              "          element.innerHTML = '';\n",
              "          dataTable['output_type'] = 'display_data';\n",
              "          await google.colab.output.renderOutput(dataTable, element);\n",
              "          const docLink = document.createElement('div');\n",
              "          docLink.innerHTML = docLinkHtml;\n",
              "          element.appendChild(docLink);\n",
              "        }\n",
              "      </script>\n",
              "    </div>\n",
              "  </div>\n",
              "  "
            ]
          },
          "metadata": {},
          "execution_count": 8
        }
      ]
    },
    {
      "cell_type": "markdown",
      "source": [
        "Разделим выборку на обучающую и тестовую, отнеся в тестовую часть 20% данных, а в обучающую - остальные 80%.\n",
        "\n",
        "Используем функцию train_test_split"
      ],
      "metadata": {
        "id": "lA-ZQPbkc7MP"
      }
    },
    {
      "cell_type": "code",
      "source": [
        "X1_train, X1_test, y1_train, y1_test = train_test_split(X1, y1, train_size = 0.8)\n",
        "X1_train, X1_test, y1_train, y1_test"
      ],
      "metadata": {
        "colab": {
          "base_uri": "https://localhost:8080/"
        },
        "id": "QtjQsh-Wc9V_",
        "outputId": "dda36470-a920-42f0-ee78-4e489895cf3f"
      },
      "execution_count": null,
      "outputs": [
        {
          "output_type": "execute_result",
          "data": {
            "text/plain": [
              "(    House  Area   Dist  Eco\n",
              " 42     46  15.0  100.0    0\n",
              " 11     85  11.0   33.0    0\n",
              " 8      65   6.0   25.0    0\n",
              " 43    130  15.0   27.0    1\n",
              " 40     36  12.0  105.0    0\n",
              " 2     350   7.0   25.0    0\n",
              " 14     60   8.0   51.0    0\n",
              " 26    180  17.0   86.0    0\n",
              " 12    100  10.0   85.0    1\n",
              " 22     60   5.0   30.0    1\n",
              " 3     150  10.0   26.0    1\n",
              " 23    228  20.0   45.0    0\n",
              " 25     36  10.0   46.0    1\n",
              " 39    450  25.0   25.0    1\n",
              " 5     300  24.0   20.0    1\n",
              " 32    130   6.0   12.0    0\n",
              " 6      78   8.5   60.0    0\n",
              " 33    350  15.0   15.0    1\n",
              " 24    200  20.0   25.0    1\n",
              " 4     370  15.0   45.0    1\n",
              " 47     70   6.0   50.0    1\n",
              " 31    420  10.0    9.0    0\n",
              " 35    200  14.0   25.0    0\n",
              " 37    300  32.0   28.0    1\n",
              " 28     36  12.0   85.0    0\n",
              " 19     65   6.0   18.0    1\n",
              " 17    170   6.0   18.0    0\n",
              " 1     530  19.0   23.0    0\n",
              " 34    300  15.0   39.0    0\n",
              " 29    285  15.0   74.0    0\n",
              " 21    210  20.0   19.0    0\n",
              " 27    250  15.0   85.0    1\n",
              " 38    170  15.0   30.0    1\n",
              " 0     500  40.0   26.0    1\n",
              " 41    350  18.0   30.0    1\n",
              " 15    300  15.0    0.5    1\n",
              " 30     36  10.0   95.0    0\n",
              " 20    320  20.0   25.0    0,\n",
              "     House  Area   Dist  Eco\n",
              " 7      80  10.0   50.0    1\n",
              " 36     36   6.0   65.0    0\n",
              " 46    170  10.0   25.0    1\n",
              " 18     60  11.0   90.0    1\n",
              " 9      90   6.0   45.0    0\n",
              " 13     22  14.0   50.0    1\n",
              " 44     56  15.0   75.0    0\n",
              " 45     46  15.0  100.0    0\n",
              " 10    600  15.0    7.0    1\n",
              " 16    400  22.0   20.0    1,\n",
              " 42     15.0\n",
              " 11     25.0\n",
              " 8      20.0\n",
              " 43    130.0\n",
              " 40     10.0\n",
              " 2      45.0\n",
              " 14     16.5\n",
              " 26     27.0\n",
              " 12     50.0\n",
              " 22     28.0\n",
              " 3     120.0\n",
              " 23     83.0\n",
              " 25     15.0\n",
              " 39    315.0\n",
              " 5     120.0\n",
              " 32     27.0\n",
              " 6      16.5\n",
              " 33    270.0\n",
              " 24     80.0\n",
              " 4      95.0\n",
              " 47     13.0\n",
              " 31     59.0\n",
              " 35     95.0\n",
              " 37    120.0\n",
              " 28      5.5\n",
              " 19     38.0\n",
              " 17     60.0\n",
              " 1      95.0\n",
              " 34     96.0\n",
              " 29     47.0\n",
              " 21     85.0\n",
              " 27     42.0\n",
              " 38    135.0\n",
              " 0     220.0\n",
              " 41    230.0\n",
              " 15    320.0\n",
              " 30      5.0\n",
              " 20     85.0\n",
              " Name: Price, dtype: float64,\n",
              " 7      25.0\n",
              " 36      6.0\n",
              " 46    110.0\n",
              " 18     14.0\n",
              " 9      20.0\n",
              " 13      8.5\n",
              " 44     16.5\n",
              " 45      7.0\n",
              " 10    100.0\n",
              " 16    300.0\n",
              " Name: Price, dtype: float64)"
            ]
          },
          "metadata": {},
          "execution_count": 9
        }
      ]
    },
    {
      "cell_type": "markdown",
      "source": [
        "#Обучение модели"
      ],
      "metadata": {
        "id": "Cqgi4kh1c_Kj"
      }
    },
    {
      "cell_type": "markdown",
      "source": [
        "Введем новый объект - модель линейной регрессии"
      ],
      "metadata": {
        "id": "vD6btaAjdB4L"
      }
    },
    {
      "cell_type": "code",
      "source": [
        "model = LinearRegression(fit_intercept=True)"
      ],
      "metadata": {
        "id": "caezZJLNdBYS"
      },
      "execution_count": null,
      "outputs": []
    },
    {
      "cell_type": "markdown",
      "source": [
        "Обучаем модель на наших данных"
      ],
      "metadata": {
        "id": "7qeMg2U3dEt-"
      }
    },
    {
      "cell_type": "code",
      "source": [
        "ml = model.fit(X1_train, y1_train)"
      ],
      "metadata": {
        "id": "lQg9rCXMdGH5"
      },
      "execution_count": null,
      "outputs": []
    },
    {
      "cell_type": "markdown",
      "source": [
        "Посмотрим на результат обучения. Оценки коэффициентов перед знаками"
      ],
      "metadata": {
        "id": "0OAUAcNGdHbA"
      }
    },
    {
      "cell_type": "code",
      "source": [
        "ml.coef_"
      ],
      "metadata": {
        "colab": {
          "base_uri": "https://localhost:8080/"
        },
        "id": "tISqtusmdJ_s",
        "outputId": "97c6dbb9-1a25-4aa2-a99d-d08455b70c9d"
      },
      "execution_count": null,
      "outputs": [
        {
          "output_type": "execute_result",
          "data": {
            "text/plain": [
              "array([ 0.21674318,  2.28670225, -0.70358195, 56.49218973])"
            ]
          },
          "metadata": {},
          "execution_count": 12
        }
      ]
    },
    {
      "cell_type": "markdown",
      "source": [
        "Оценка свободного коэффициента"
      ],
      "metadata": {
        "id": "BkKBh-l7dLjJ"
      }
    },
    {
      "cell_type": "code",
      "source": [
        "ml.intercept_"
      ],
      "metadata": {
        "colab": {
          "base_uri": "https://localhost:8080/"
        },
        "id": "gpCbXCl4dNAy",
        "outputId": "d025eb5e-d855-4323-dde2-7d458c58473f"
      },
      "execution_count": null,
      "outputs": [
        {
          "output_type": "execute_result",
          "data": {
            "text/plain": [
              "9.878674968566216"
            ]
          },
          "metadata": {},
          "execution_count": 13
        }
      ]
    },
    {
      "cell_type": "markdown",
      "source": [
        "#Тестирование и оценка качества"
      ],
      "metadata": {
        "id": "ucPZKEMUdOdM"
      }
    },
    {
      "cell_type": "markdown",
      "source": [
        "##Оценка качества модели на обучающей выборке"
      ],
      "metadata": {
        "id": "7KdE_x30dP1U"
      }
    },
    {
      "cell_type": "markdown",
      "source": [
        "Выполним предсказание значений целевой функции моделью с помощью метода predict"
      ],
      "metadata": {
        "id": "UfPyevNcdRUk"
      }
    },
    {
      "cell_type": "code",
      "source": [
        "y1_pred = ml.predict(X1_train)\n",
        "y1_pred"
      ],
      "metadata": {
        "colab": {
          "base_uri": "https://localhost:8080/"
        },
        "id": "NuaNnt0udTaD",
        "outputId": "e104be70-9301-40c5-cae9-8b152252a812"
      },
      "execution_count": null,
      "outputs": [
        {
          "output_type": "execute_result",
          "data": {
            "text/plain": [
              "array([-16.20880017,  30.23736548,  20.09764628, 109.85129892,\n",
              "       -28.75424845,  84.15615433,   5.29420417,  27.25833752,\n",
              "        51.1077392 ,  69.70150811, 103.4562332 ,  73.36897679,\n",
              "        64.67587186, 203.48330234, 172.2030331 ,  43.33251822,\n",
              "         4.00669495, 165.97778154, 137.86399653, 149.20518659,\n",
              "        60.08400313, 117.44559476,  67.65159332, 184.86799548,\n",
              "       -14.68260944,  81.51490966,  47.78075365, 152.01751729,\n",
              "        81.76246609,  53.88595015,  87.76073029,  95.05272718,\n",
              "       116.4102802 , 247.91741301, 162.28415903, 165.34256091,\n",
              "       -26.29183344, 107.3809882 ])"
            ]
          },
          "metadata": {},
          "execution_count": 14
        }
      ]
    },
    {
      "cell_type": "markdown",
      "source": [
        "Вычислим остатки - разности между имеющимися значениями и предсказанными значениями целевой переменной"
      ],
      "metadata": {
        "id": "NkhvrurOdRMm"
      }
    },
    {
      "cell_type": "code",
      "source": [
        "e_ml = y1_train - y1_pred\n",
        "e_ml"
      ],
      "metadata": {
        "colab": {
          "base_uri": "https://localhost:8080/"
        },
        "id": "fyWb6qz-dWEx",
        "outputId": "731c0ece-f8f9-4b50-b56e-f9223f2533d5"
      },
      "execution_count": null,
      "outputs": [
        {
          "output_type": "execute_result",
          "data": {
            "text/plain": [
              "42     31.208800\n",
              "11     -5.237365\n",
              "8      -0.097646\n",
              "43     20.148701\n",
              "40     38.754248\n",
              "2     -39.156154\n",
              "14     11.205796\n",
              "26     -0.258338\n",
              "12     -1.107739\n",
              "22    -41.701508\n",
              "3      16.543767\n",
              "23      9.631023\n",
              "25    -49.675872\n",
              "39    111.516698\n",
              "5     -52.203033\n",
              "32    -16.332518\n",
              "6      12.493305\n",
              "33    104.022218\n",
              "24    -57.863997\n",
              "4     -54.205187\n",
              "47    -47.084003\n",
              "31    -58.445595\n",
              "35     27.348407\n",
              "37    -64.867995\n",
              "28     20.182609\n",
              "19    -43.514910\n",
              "17     12.219246\n",
              "1     -57.017517\n",
              "34     14.237534\n",
              "29     -6.885950\n",
              "21     -2.760730\n",
              "27    -53.052727\n",
              "38     18.589720\n",
              "0     -27.917413\n",
              "41     67.715841\n",
              "15    154.657439\n",
              "30     31.291833\n",
              "20    -22.380988\n",
              "Name: Price, dtype: float64"
            ]
          },
          "metadata": {},
          "execution_count": 15
        }
      ]
    },
    {
      "cell_type": "markdown",
      "source": [
        "Построим диаграмму остатков"
      ],
      "metadata": {
        "id": "sfhnCLIJdXc2"
      }
    },
    {
      "cell_type": "code",
      "source": [
        "plt.scatter(e_ml.index, e_ml)"
      ],
      "metadata": {
        "colab": {
          "base_uri": "https://localhost:8080/",
          "height": 447
        },
        "id": "D3jXDnOsdYl4",
        "outputId": "c91f135a-558d-4842-f1dd-a4e20642dec9"
      },
      "execution_count": null,
      "outputs": [
        {
          "output_type": "execute_result",
          "data": {
            "text/plain": [
              "<matplotlib.collections.PathCollection at 0x7f6ad8d0e380>"
            ]
          },
          "metadata": {},
          "execution_count": 16
        },
        {
          "output_type": "display_data",
          "data": {
            "text/plain": [
              "<Figure size 640x480 with 1 Axes>"
            ],
            "image/png": "[encoded data removed]"
          },
          "metadata": {}
        }
      ]
    },
    {
      "cell_type": "markdown",
      "source": [
        "Исходя из диаграммы, имеется сравнительно небольшое количество больших остатков. Значит, качество модели на обучающей выборке является высоким."
      ],
      "metadata": {
        "id": "kM2qJo6NdaAi"
      }
    },
    {
      "cell_type": "markdown",
      "source": [
        "Вычислим коэффициент детерминации с помощью функции explained_variance_score"
      ],
      "metadata": {
        "id": "MgwEADiudbjR"
      }
    },
    {
      "cell_type": "code",
      "source": [
        "R2_ml = metrics.explained_variance_score(y1_train, y1_pred)\n",
        "R2_ml"
      ],
      "metadata": {
        "colab": {
          "base_uri": "https://localhost:8080/"
        },
        "id": "3oAU12UIddA9",
        "outputId": "622b235f-de14-4f1a-e9e0-508acf9a6186"
      },
      "execution_count": null,
      "outputs": [
        {
          "output_type": "execute_result",
          "data": {
            "text/plain": [
              "0.645488241426928"
            ]
          },
          "metadata": {},
          "execution_count": 17
        }
      ]
    },
    {
      "cell_type": "markdown",
      "source": [
        "Относительно низкая величина коэффициента детерминации подтверждает вывод о невысоком качестве модели на обучающей выборке"
      ],
      "metadata": {
        "id": "DIs4UcsNdePX"
      }
    },
    {
      "cell_type": "markdown",
      "source": [
        "Вычислим метрику **MAPE** с помощью  функции mean_absolute_percentage_error"
      ],
      "metadata": {
        "id": "CModXwGFdfqm"
      }
    },
    {
      "cell_type": "code",
      "source": [
        "mape_ml = metrics.mean_absolute_percentage_error(y1_train, y1_pred) * 100\n",
        "mape_ml"
      ],
      "metadata": {
        "colab": {
          "base_uri": "https://localhost:8080/"
        },
        "id": "kwCy71SCdg7q",
        "outputId": "010d1f5d-3ae8-40df-dc5d-5a40e13aa593"
      },
      "execution_count": null,
      "outputs": [
        {
          "output_type": "execute_result",
          "data": {
            "text/plain": [
              "97.3828741967026"
            ]
          },
          "metadata": {},
          "execution_count": 18
        }
      ]
    },
    {
      "cell_type": "markdown",
      "source": [
        "Большая величина метрики (намного больше, чем 15) также говорит о невысоком качестве модели на обучающей выборке"
      ],
      "metadata": {
        "id": "fcqHsuTJdiXF"
      }
    },
    {
      "cell_type": "markdown",
      "source": [
        "###**Вывод**\n",
        "\n",
        "Таким образом, исследуемая модель обладает невысоким качеством на обучающей выборке"
      ],
      "metadata": {
        "id": "Ea74up1vdkg6"
      }
    },
    {
      "cell_type": "markdown",
      "source": [
        "Вычислим дополнительные характеристики - метрики MSE и MAE. Они потребуются для сравнения качества модели на обучающей и тестовой выборках.\n",
        "\n",
        "Метрика MSE:"
      ],
      "metadata": {
        "id": "C8gtmigHdnJW"
      }
    },
    {
      "cell_type": "code",
      "source": [
        "mse_ml = metrics.mean_squared_error(y1_train, y1_pred)\n",
        "mse_ml"
      ],
      "metadata": {
        "colab": {
          "base_uri": "https://localhost:8080/"
        },
        "id": "UGzndynqdr2B",
        "outputId": "96898dfd-dbe0-45a7-e337-28579e7cf5d0"
      },
      "execution_count": null,
      "outputs": [
        {
          "output_type": "execute_result",
          "data": {
            "text/plain": [
              "2429.080751186773"
            ]
          },
          "metadata": {},
          "execution_count": 19
        }
      ]
    },
    {
      "cell_type": "markdown",
      "source": [
        "Метрика MAE:"
      ],
      "metadata": {
        "id": "iIQ1lFVLdtEa"
      }
    },
    {
      "cell_type": "code",
      "source": [
        "mae_ml = metrics.mean_absolute_error(y1_train, y1_pred)\n",
        "mae_ml"
      ],
      "metadata": {
        "colab": {
          "base_uri": "https://localhost:8080/"
        },
        "id": "jiyokvnydrvK",
        "outputId": "927beac5-fcb8-4ce0-e8fb-71ef2b7560b7"
      },
      "execution_count": null,
      "outputs": [
        {
          "output_type": "execute_result",
          "data": {
            "text/plain": [
              "36.93511507357295"
            ]
          },
          "metadata": {},
          "execution_count": 20
        }
      ]
    },
    {
      "cell_type": "markdown",
      "source": [
        "##Оценка качества модели на тестовой выборке"
      ],
      "metadata": {
        "id": "Y3UvcG2ajPZS"
      }
    },
    {
      "cell_type": "markdown",
      "source": [
        "Выполним предсказание значений целевой функции моделью\n",
        "с помощью метода predict"
      ],
      "metadata": {
        "id": "Vq8bvY5ojTXD"
      }
    },
    {
      "cell_type": "code",
      "source": [
        "y1_test_pred = ml.predict(X1_test)\n",
        "y1_test_pred"
      ],
      "metadata": {
        "colab": {
          "base_uri": "https://localhost:8080/"
        },
        "id": "KSPl_4eQjVaL",
        "outputId": "664ec715-af20-4adf-c867-141987b5150c"
      },
      "execution_count": null,
      "outputs": [
        {
          "output_type": "execute_result",
          "data": {
            "text/plain": [
              "array([ 71.3982439 , -14.33118391, 108.49467871,  41.20680457,\n",
              "        11.44458672,  67.97394855,   3.54818037, -16.20880017,\n",
              "       225.79223172, 189.30394644])"
            ]
          },
          "metadata": {},
          "execution_count": 21
        }
      ]
    },
    {
      "cell_type": "markdown",
      "source": [
        "Вычислим остатки - разности между имеющимися значениями и предсказанными значениями целевой переменной"
      ],
      "metadata": {
        "id": "4smevHhsjWgO"
      }
    },
    {
      "cell_type": "code",
      "source": [
        "e_test_ml = y1_test - y1_test_pred\n",
        "e_test_ml"
      ],
      "metadata": {
        "colab": {
          "base_uri": "https://localhost:8080/"
        },
        "id": "7JcFSsZIjX0O",
        "outputId": "a955ad2a-d40b-4599-c326-58bc555fcc37"
      },
      "execution_count": null,
      "outputs": [
        {
          "output_type": "execute_result",
          "data": {
            "text/plain": [
              "7     -46.398244\n",
              "36     20.331184\n",
              "46      1.505321\n",
              "18    -27.206805\n",
              "9       8.555413\n",
              "13    -59.473949\n",
              "44     12.951820\n",
              "45     23.208800\n",
              "10   -125.792232\n",
              "16    110.696054\n",
              "Name: Price, dtype: float64"
            ]
          },
          "metadata": {},
          "execution_count": 22
        }
      ]
    },
    {
      "cell_type": "markdown",
      "source": [
        "Построим диаграмму остатков"
      ],
      "metadata": {
        "id": "SH5wT_TCjY7V"
      }
    },
    {
      "cell_type": "code",
      "source": [
        "plt.scatter(e_test_ml.index, e_test_ml)"
      ],
      "metadata": {
        "colab": {
          "base_uri": "https://localhost:8080/",
          "height": 447
        },
        "id": "6PoX2kSljaYW",
        "outputId": "9ef404cf-43c2-49d8-c885-69d115d87d4f"
      },
      "execution_count": null,
      "outputs": [
        {
          "output_type": "execute_result",
          "data": {
            "text/plain": [
              "<matplotlib.collections.PathCollection at 0x7f6ad492f340>"
            ]
          },
          "metadata": {},
          "execution_count": 23
        },
        {
          "output_type": "display_data",
          "data": {
            "text/plain": [
              "<Figure size 640x480 with 1 Axes>"
            ],
            "image/png": "[encoded data removed]"
          },
          "metadata": {}
        }
      ]
    },
    {
      "cell_type": "markdown",
      "source": [
        "Исходя из диаграммы, имеется сравнительно небольшое количество больших остатков. Значит, качество модели на обучающей выборке является высоким."
      ],
      "metadata": {
        "id": "iFDR5K5bjfep"
      }
    },
    {
      "cell_type": "markdown",
      "source": [
        "Вычислим коэффициент детерминации с помощью функции explained_variance_score"
      ],
      "metadata": {
        "id": "73emgDSdjip3"
      }
    },
    {
      "cell_type": "code",
      "source": [
        "R2_test_ml = metrics.explained_variance_score(y1_test, y1_test_pred)\n",
        "R2_test_ml"
      ],
      "metadata": {
        "id": "1QAF2QBgjr39",
        "colab": {
          "base_uri": "https://localhost:8080/"
        },
        "outputId": "9449e2ec-b3fc-44c7-fc31-cb0af5a353ec"
      },
      "execution_count": null,
      "outputs": [
        {
          "output_type": "execute_result",
          "data": {
            "text/plain": [
              "0.5444226386221789"
            ]
          },
          "metadata": {},
          "execution_count": 24
        }
      ]
    },
    {
      "cell_type": "markdown",
      "source": [
        "Вычислим метрику MAPE с помощью функции mean_absolute_percentage_error"
      ],
      "metadata": {
        "id": "ydWbGHVy5-d3"
      }
    },
    {
      "cell_type": "code",
      "source": [
        "mape_test_ml = metrics.mean_absolute_percentage_error(y1_test, y1_test_pred) * 100\n",
        "mape_test_ml"
      ],
      "metadata": {
        "colab": {
          "base_uri": "https://localhost:8080/"
        },
        "id": "LxyIbUpF6Bcy",
        "outputId": "f2509ecc-099d-4d54-fc36-2def44fb2cc4"
      },
      "execution_count": null,
      "outputs": [
        {
          "output_type": "execute_result",
          "data": {
            "text/plain": [
              "203.53604927591851"
            ]
          },
          "metadata": {},
          "execution_count": 25
        }
      ]
    },
    {
      "cell_type": "markdown",
      "source": [
        "Напротив, большая величина метрики (намного больше, чем 15) также говорит о невысоком качестве модели на тестирующей выборке"
      ],
      "metadata": {
        "id": "gF06pQ176DSW"
      }
    },
    {
      "cell_type": "markdown",
      "source": [
        "###**Вывод**"
      ],
      "metadata": {
        "id": "m6CWYNE66FKM"
      }
    },
    {
      "cell_type": "markdown",
      "source": [
        "Таким образом, исследуемая модель обладает более высоким качеством на обучающей выборке, нежели на обучающей выборке"
      ],
      "metadata": {
        "id": "Bamvr1-J6Iv_"
      }
    },
    {
      "cell_type": "markdown",
      "source": [
        "Вычислим дополнительные характеристики - метрики MSE и MAE. Они потребуются для сравнения качества модели на обучающей и тестовой выборках.\n",
        "\n",
        "Метрика MSE:"
      ],
      "metadata": {
        "id": "eGJskyK-6K98"
      }
    },
    {
      "cell_type": "code",
      "source": [
        "mse_test_ml = metrics.mean_squared_error(y1_test, y1_test_pred)\n",
        "mse_test_ml"
      ],
      "metadata": {
        "colab": {
          "base_uri": "https://localhost:8080/"
        },
        "id": "IOGD1BKe6M8F",
        "outputId": "8e16c6c3-58e5-4086-a2bc-f79ad2eb6afd"
      },
      "execution_count": null,
      "outputs": [
        {
          "output_type": "execute_result",
          "data": {
            "text/plain": [
              "3570.2675808692197"
            ]
          },
          "metadata": {},
          "execution_count": 26
        }
      ]
    },
    {
      "cell_type": "code",
      "source": [
        "mae_test_ml = metrics.mean_absolute_error(y1_test, y1_test_pred)\n",
        "mae_test_ml"
      ],
      "metadata": {
        "colab": {
          "base_uri": "https://localhost:8080/"
        },
        "id": "kvkte0jBtfR-",
        "outputId": "92f54cd7-f247-429b-de46-5a3fa021a4e8"
      },
      "execution_count": null,
      "outputs": [
        {
          "output_type": "execute_result",
          "data": {
            "text/plain": [
              "43.61198205800398"
            ]
          },
          "metadata": {},
          "execution_count": 27
        }
      ]
    },
    {
      "cell_type": "markdown",
      "source": [
        "Составим таблицу из значений найденных метрик на обучающей и тестовой выборках"
      ],
      "metadata": {
        "id": "M0HRqyFM68k_"
      }
    },
    {
      "cell_type": "code",
      "source": [
        "ind = ['R', 'MAPE', 'MSE', 'MAE']\n",
        "dat1 = [R2_ml, mape_ml, mse_ml, mae_ml]\n",
        "dat2 = [R2_test_ml, mape_test_ml, mse_test_ml, mae_test_ml]\n",
        "\n",
        "pd.DataFrame({\n",
        "    'Metrics': ['R', 'MAPE', 'MSE', 'MAE'],\n",
        "    'Train': [R2_ml, mape_ml, mse_ml, mae_ml],\n",
        "    'Test': [R2_test_ml, mape_test_ml, mse_test_ml, mae_test_ml]\n",
        "})"
      ],
      "metadata": {
        "colab": {
          "base_uri": "https://localhost:8080/",
          "height": 175
        },
        "id": "CEcZk1wU6-3V",
        "outputId": "e14451b2-d322-4457-e811-4c66070f2077"
      },
      "execution_count": null,
      "outputs": [
        {
          "output_type": "execute_result",
          "data": {
            "text/plain": [
              "  Metrics        Train         Test\n",
              "0       R     0.645488     0.544423\n",
              "1    MAPE    97.382874   203.536049\n",
              "2     MSE  2429.080751  3570.267581\n",
              "3     MAE    36.935115    43.611982"
            ],
            "text/html": [
              "\n",
              "  <div id=\"df-d6049d34-ee19-48d0-9844-2d954cd2b53d\">\n",
              "    <div class=\"colab-df-container\">\n",
              "      <div>\n",
              "<style scoped>\n",
              "    .dataframe tbody tr th:only-of-type {\n",
              "        vertical-align: middle;\n",
              "    }\n",
              "\n",
              "    .dataframe tbody tr th {\n",
              "        vertical-align: top;\n",
              "    }\n",
              "\n",
              "    .dataframe thead th {\n",
              "        text-align: right;\n",
              "    }\n",
              "</style>\n",
              "<table border=\"1\" class=\"dataframe\">\n",
              "  <thead>\n",
              "    <tr style=\"text-align: right;\">\n",
              "      <th></th>\n",
              "      <th>Metrics</th>\n",
              "      <th>Train</th>\n",
              "      <th>Test</th>\n",
              "    </tr>\n",
              "  </thead>\n",
              "  <tbody>\n",
              "    <tr>\n",
              "      <th>0</th>\n",
              "      <td>R</td>\n",
              "      <td>0.645488</td>\n",
              "      <td>0.544423</td>\n",
              "    </tr>\n",
              "    <tr>\n",
              "      <th>1</th>\n",
              "      <td>MAPE</td>\n",
              "      <td>97.382874</td>\n",
              "      <td>203.536049</td>\n",
              "    </tr>\n",
              "    <tr>\n",
              "      <th>2</th>\n",
              "      <td>MSE</td>\n",
              "      <td>2429.080751</td>\n",
              "      <td>3570.267581</td>\n",
              "    </tr>\n",
              "    <tr>\n",
              "      <th>3</th>\n",
              "      <td>MAE</td>\n",
              "      <td>36.935115</td>\n",
              "      <td>43.611982</td>\n",
              "    </tr>\n",
              "  </tbody>\n",
              "</table>\n",
              "</div>\n",
              "      <button class=\"colab-df-convert\" onclick=\"convertToInteractive('df-d6049d34-ee19-48d0-9844-2d954cd2b53d')\"\n",
              "              title=\"Convert this dataframe to an interactive table.\"\n",
              "              style=\"display:none;\">\n",
              "        \n",
              "  <svg xmlns=\"http://www.w3.org/2000/svg\" height=\"24px\"viewBox=\"0 0 24 24\"\n",
              "       width=\"24px\">\n",
              "    <path d=\"M0 0h24v24H0V0z\" fill=\"none\"/>\n",
              "    <path d=\"M18.56 5.44l.94 2.06.94-2.06 2.06-.94-2.06-.94-.94-2.06-.94 2.06-2.06.94zm-11 1L8.5 8.5l.94-2.06 2.06-.94-2.06-.94L8.5 2.5l-.94 2.06-2.06.94zm10 10l.94 2.06.94-2.06 2.06-.94-2.06-.94-.94-2.06-.94 2.06-2.06.94z\"/><path d=\"M17.41 7.96l-1.37-1.37c-.4-.4-.92-.59-1.43-.59-.52 0-1.04.2-1.43.59L10.3 9.45l-7.72 7.72c-.78.78-.78 2.05 0 2.83L4 21.41c.39.39.9.59 1.41.59.51 0 1.02-.2 1.41-.59l7.78-7.78 2.81-2.81c.8-.78.8-2.07 0-2.86zM5.41 20L4 18.59l7.72-7.72 1.47 1.35L5.41 20z\"/>\n",
              "  </svg>\n",
              "      </button>\n",
              "      \n",
              "  <style>\n",
              "    .colab-df-container {\n",
              "      display:flex;\n",
              "      flex-wrap:wrap;\n",
              "      gap: 12px;\n",
              "    }\n",
              "\n",
              "    .colab-df-convert {\n",
              "      background-color: #E8F0FE;\n",
              "      border: none;\n",
              "      border-radius: 50%;\n",
              "      cursor: pointer;\n",
              "      display: none;\n",
              "      fill: #1967D2;\n",
              "      height: 32px;\n",
              "      padding: 0 0 0 0;\n",
              "      width: 32px;\n",
              "    }\n",
              "\n",
              "    .colab-df-convert:hover {\n",
              "      background-color: #E2EBFA;\n",
              "      box-shadow: 0px 1px 2px rgba(60, 64, 67, 0.3), 0px 1px 3px 1px rgba(60, 64, 67, 0.15);\n",
              "      fill: #174EA6;\n",
              "    }\n",
              "\n",
              "    [theme=dark] .colab-df-convert {\n",
              "      background-color: #3B4455;\n",
              "      fill: #D2E3FC;\n",
              "    }\n",
              "\n",
              "    [theme=dark] .colab-df-convert:hover {\n",
              "      background-color: #434B5C;\n",
              "      box-shadow: 0px 1px 3px 1px rgba(0, 0, 0, 0.15);\n",
              "      filter: drop-shadow(0px 1px 2px rgba(0, 0, 0, 0.3));\n",
              "      fill: #FFFFFF;\n",
              "    }\n",
              "  </style>\n",
              "\n",
              "      <script>\n",
              "        const buttonEl =\n",
              "          document.querySelector('#df-d6049d34-ee19-48d0-9844-2d954cd2b53d button.colab-df-convert');\n",
              "        buttonEl.style.display =\n",
              "          google.colab.kernel.accessAllowed ? 'block' : 'none';\n",
              "\n",
              "        async function convertToInteractive(key) {\n",
              "          const element = document.querySelector('#df-d6049d34-ee19-48d0-9844-2d954cd2b53d');\n",
              "          const dataTable =\n",
              "            await google.colab.kernel.invokeFunction('convertToInteractive',\n",
              "                                                     [key], {});\n",
              "          if (!dataTable) return;\n",
              "\n",
              "          const docLinkHtml = 'Like what you see? Visit the ' +\n",
              "            '<a target=\"_blank\" href=https://colab.research.google.com/notebooks/data_table.ipynb>data table notebook</a>'\n",
              "            + ' to learn more about interactive tables.';\n",
              "          element.innerHTML = '';\n",
              "          dataTable['output_type'] = 'display_data';\n",
              "          await google.colab.output.renderOutput(dataTable, element);\n",
              "          const docLink = document.createElement('div');\n",
              "          docLink.innerHTML = docLinkHtml;\n",
              "          element.appendChild(docLink);\n",
              "        }\n",
              "      </script>\n",
              "    </div>\n",
              "  </div>\n",
              "  "
            ]
          },
          "metadata": {},
          "execution_count": 28
        }
      ]
    },
    {
      "cell_type": "markdown",
      "source": [
        "#Улучшение качества модели"
      ],
      "metadata": {
        "id": "O2Pc9dd_7CMB"
      }
    },
    {
      "cell_type": "markdown",
      "source": [
        "##Очистка данных"
      ],
      "metadata": {
        "id": "SglbHyuI7DaO"
      }
    },
    {
      "cell_type": "markdown",
      "source": [
        "Построим диаграмму рассеяния, расположив выборочные значения стоимости коттеджа по горизонтальной оси"
      ],
      "metadata": {
        "id": "EUODyMPT7Fgd"
      }
    },
    {
      "cell_type": "code",
      "source": [
        "box = plt.boxplot(ds.Price, vert = False, notch = True, patch_artist = True,\n",
        "                  flierprops = dict(markerfacecolor = 'purple', marker = 's'),\n",
        "                  boxprops = dict(color = 'red', facecolor = 'lime' ))\n",
        "plt.title(\"Диаграмма размаха\")\n",
        "plt.xlabel(\"Выборочные значения\")"
      ],
      "metadata": {
        "colab": {
          "base_uri": "https://localhost:8080/",
          "height": 489
        },
        "id": "ML0plZVn7Hb6",
        "outputId": "4249f6e3-e608-4081-93e3-d26f38cacccf"
      },
      "execution_count": null,
      "outputs": [
        {
          "output_type": "execute_result",
          "data": {
            "text/plain": [
              "Text(0.5, 0, 'Выборочные значения')"
            ]
          },
          "metadata": {},
          "execution_count": 29
        },
        {
          "output_type": "display_data",
          "data": {
            "text/plain": [
              "<Figure size 640x480 with 1 Axes>"
            ],
            "image/png": "[encoded data removed]"
          },
          "metadata": {}
        }
      ]
    },
    {
      "cell_type": "markdown",
      "source": [
        "В выборке, по-видимому, присутствуют аномальные данные.\n",
        "Генеральная совокупность возможно не симметрична (усы разной длины)."
      ],
      "metadata": {
        "id": "rIPJJAQQ7KUL"
      }
    },
    {
      "cell_type": "markdown",
      "source": [
        "Выберем данные с помощью условия *Price < 250*"
      ],
      "metadata": {
        "id": "Dn815UG17N12"
      }
    },
    {
      "cell_type": "code",
      "source": [
        "ds2 = ds[ds.Price < 250]\n",
        "ds2"
      ],
      "metadata": {
        "colab": {
          "base_uri": "https://localhost:8080/",
          "height": 1000
        },
        "id": "6rTnEtJz7POd",
        "outputId": "f75bd934-1fc5-4155-b02d-7acb01faf7b5"
      },
      "execution_count": null,
      "outputs": [
        {
          "output_type": "execute_result",
          "data": {
            "text/plain": [
              "    Price  House  Area   Dist  Eco\n",
              "0   220.0    500  40.0   26.0    1\n",
              "1    95.0    530  19.0   23.0    0\n",
              "2    45.0    350   7.0   25.0    0\n",
              "3   120.0    150  10.0   26.0    1\n",
              "4    95.0    370  15.0   45.0    1\n",
              "5   120.0    300  24.0   20.0    1\n",
              "6    16.5     78   8.5   60.0    0\n",
              "7    25.0     80  10.0   50.0    1\n",
              "8    20.0     65   6.0   25.0    0\n",
              "9    20.0     90   6.0   45.0    0\n",
              "10  100.0    600  15.0    7.0    1\n",
              "11   25.0     85  11.0   33.0    0\n",
              "12   50.0    100  10.0   85.0    1\n",
              "13    8.5     22  14.0   50.0    1\n",
              "14   16.5     60   8.0   51.0    0\n",
              "17   60.0    170   6.0   18.0    0\n",
              "18   14.0     60  11.0   90.0    1\n",
              "19   38.0     65   6.0   18.0    1\n",
              "20   85.0    320  20.0   25.0    0\n",
              "21   85.0    210  20.0   19.0    0\n",
              "22   28.0     60   5.0   30.0    1\n",
              "23   83.0    228  20.0   45.0    0\n",
              "24   80.0    200  20.0   25.0    1\n",
              "25   15.0     36  10.0   46.0    1\n",
              "26   27.0    180  17.0   86.0    0\n",
              "27   42.0    250  15.0   85.0    1\n",
              "28    5.5     36  12.0   85.0    0\n",
              "29   47.0    285  15.0   74.0    0\n",
              "30    5.0     36  10.0   95.0    0\n",
              "31   59.0    420  10.0    9.0    0\n",
              "32   27.0    130   6.0   12.0    0\n",
              "34   96.0    300  15.0   39.0    0\n",
              "35   95.0    200  14.0   25.0    0\n",
              "36    6.0     36   6.0   65.0    0\n",
              "37  120.0    300  32.0   28.0    1\n",
              "38  135.0    170  15.0   30.0    1\n",
              "40   10.0     36  12.0  105.0    0\n",
              "41  230.0    350  18.0   30.0    1\n",
              "42   15.0     46  15.0  100.0    0\n",
              "43  130.0    130  15.0   27.0    1\n",
              "44   16.5     56  15.0   75.0    0\n",
              "45    7.0     46  15.0  100.0    0\n",
              "46  110.0    170  10.0   25.0    1\n",
              "47   13.0     70   6.0   50.0    1"
            ],
            "text/html": [
              "\n",
              "  <div id=\"df-7e617fec-1dd2-4675-8e4b-9d16fa84b22d\">\n",
              "    <div class=\"colab-df-container\">\n",
              "      <div>\n",
              "<style scoped>\n",
              "    .dataframe tbody tr th:only-of-type {\n",
              "        vertical-align: middle;\n",
              "    }\n",
              "\n",
              "    .dataframe tbody tr th {\n",
              "        vertical-align: top;\n",
              "    }\n",
              "\n",
              "    .dataframe thead th {\n",
              "        text-align: right;\n",
              "    }\n",
              "</style>\n",
              "<table border=\"1\" class=\"dataframe\">\n",
              "  <thead>\n",
              "    <tr style=\"text-align: right;\">\n",
              "      <th></th>\n",
              "      <th>Price</th>\n",
              "      <th>House</th>\n",
              "      <th>Area</th>\n",
              "      <th>Dist</th>\n",
              "      <th>Eco</th>\n",
              "    </tr>\n",
              "  </thead>\n",
              "  <tbody>\n",
              "    <tr>\n",
              "      <th>0</th>\n",
              "      <td>220.0</td>\n",
              "      <td>500</td>\n",
              "      <td>40.0</td>\n",
              "      <td>26.0</td>\n",
              "      <td>1</td>\n",
              "    </tr>\n",
              "    <tr>\n",
              "      <th>1</th>\n",
              "      <td>95.0</td>\n",
              "      <td>530</td>\n",
              "      <td>19.0</td>\n",
              "      <td>23.0</td>\n",
              "      <td>0</td>\n",
              "    </tr>\n",
              "    <tr>\n",
              "      <th>2</th>\n",
              "      <td>45.0</td>\n",
              "      <td>350</td>\n",
              "      <td>7.0</td>\n",
              "      <td>25.0</td>\n",
              "      <td>0</td>\n",
              "    </tr>\n",
              "    <tr>\n",
              "      <th>3</th>\n",
              "      <td>120.0</td>\n",
              "      <td>150</td>\n",
              "      <td>10.0</td>\n",
              "      <td>26.0</td>\n",
              "      <td>1</td>\n",
              "    </tr>\n",
              "    <tr>\n",
              "      <th>4</th>\n",
              "      <td>95.0</td>\n",
              "      <td>370</td>\n",
              "      <td>15.0</td>\n",
              "      <td>45.0</td>\n",
              "      <td>1</td>\n",
              "    </tr>\n",
              "    <tr>\n",
              "      <th>5</th>\n",
              "      <td>120.0</td>\n",
              "      <td>300</td>\n",
              "      <td>24.0</td>\n",
              "      <td>20.0</td>\n",
              "      <td>1</td>\n",
              "    </tr>\n",
              "    <tr>\n",
              "      <th>6</th>\n",
              "      <td>16.5</td>\n",
              "      <td>78</td>\n",
              "      <td>8.5</td>\n",
              "      <td>60.0</td>\n",
              "      <td>0</td>\n",
              "    </tr>\n",
              "    <tr>\n",
              "      <th>7</th>\n",
              "      <td>25.0</td>\n",
              "      <td>80</td>\n",
              "      <td>10.0</td>\n",
              "      <td>50.0</td>\n",
              "      <td>1</td>\n",
              "    </tr>\n",
              "    <tr>\n",
              "      <th>8</th>\n",
              "      <td>20.0</td>\n",
              "      <td>65</td>\n",
              "      <td>6.0</td>\n",
              "      <td>25.0</td>\n",
              "      <td>0</td>\n",
              "    </tr>\n",
              "    <tr>\n",
              "      <th>9</th>\n",
              "      <td>20.0</td>\n",
              "      <td>90</td>\n",
              "      <td>6.0</td>\n",
              "      <td>45.0</td>\n",
              "      <td>0</td>\n",
              "    </tr>\n",
              "    <tr>\n",
              "      <th>10</th>\n",
              "      <td>100.0</td>\n",
              "      <td>600</td>\n",
              "      <td>15.0</td>\n",
              "      <td>7.0</td>\n",
              "      <td>1</td>\n",
              "    </tr>\n",
              "    <tr>\n",
              "      <th>11</th>\n",
              "      <td>25.0</td>\n",
              "      <td>85</td>\n",
              "      <td>11.0</td>\n",
              "      <td>33.0</td>\n",
              "      <td>0</td>\n",
              "    </tr>\n",
              "    <tr>\n",
              "      <th>12</th>\n",
              "      <td>50.0</td>\n",
              "      <td>100</td>\n",
              "      <td>10.0</td>\n",
              "      <td>85.0</td>\n",
              "      <td>1</td>\n",
              "    </tr>\n",
              "    <tr>\n",
              "      <th>13</th>\n",
              "      <td>8.5</td>\n",
              "      <td>22</td>\n",
              "      <td>14.0</td>\n",
              "      <td>50.0</td>\n",
              "      <td>1</td>\n",
              "    </tr>\n",
              "    <tr>\n",
              "      <th>14</th>\n",
              "      <td>16.5</td>\n",
              "      <td>60</td>\n",
              "      <td>8.0</td>\n",
              "      <td>51.0</td>\n",
              "      <td>0</td>\n",
              "    </tr>\n",
              "    <tr>\n",
              "      <th>17</th>\n",
              "      <td>60.0</td>\n",
              "      <td>170</td>\n",
              "      <td>6.0</td>\n",
              "      <td>18.0</td>\n",
              "      <td>0</td>\n",
              "    </tr>\n",
              "    <tr>\n",
              "      <th>18</th>\n",
              "      <td>14.0</td>\n",
              "      <td>60</td>\n",
              "      <td>11.0</td>\n",
              "      <td>90.0</td>\n",
              "      <td>1</td>\n",
              "    </tr>\n",
              "    <tr>\n",
              "      <th>19</th>\n",
              "      <td>38.0</td>\n",
              "      <td>65</td>\n",
              "      <td>6.0</td>\n",
              "      <td>18.0</td>\n",
              "      <td>1</td>\n",
              "    </tr>\n",
              "    <tr>\n",
              "      <th>20</th>\n",
              "      <td>85.0</td>\n",
              "      <td>320</td>\n",
              "      <td>20.0</td>\n",
              "      <td>25.0</td>\n",
              "      <td>0</td>\n",
              "    </tr>\n",
              "    <tr>\n",
              "      <th>21</th>\n",
              "      <td>85.0</td>\n",
              "      <td>210</td>\n",
              "      <td>20.0</td>\n",
              "      <td>19.0</td>\n",
              "      <td>0</td>\n",
              "    </tr>\n",
              "    <tr>\n",
              "      <th>22</th>\n",
              "      <td>28.0</td>\n",
              "      <td>60</td>\n",
              "      <td>5.0</td>\n",
              "      <td>30.0</td>\n",
              "      <td>1</td>\n",
              "    </tr>\n",
              "    <tr>\n",
              "      <th>23</th>\n",
              "      <td>83.0</td>\n",
              "      <td>228</td>\n",
              "      <td>20.0</td>\n",
              "      <td>45.0</td>\n",
              "      <td>0</td>\n",
              "    </tr>\n",
              "    <tr>\n",
              "      <th>24</th>\n",
              "      <td>80.0</td>\n",
              "      <td>200</td>\n",
              "      <td>20.0</td>\n",
              "      <td>25.0</td>\n",
              "      <td>1</td>\n",
              "    </tr>\n",
              "    <tr>\n",
              "      <th>25</th>\n",
              "      <td>15.0</td>\n",
              "      <td>36</td>\n",
              "      <td>10.0</td>\n",
              "      <td>46.0</td>\n",
              "      <td>1</td>\n",
              "    </tr>\n",
              "    <tr>\n",
              "      <th>26</th>\n",
              "      <td>27.0</td>\n",
              "      <td>180</td>\n",
              "      <td>17.0</td>\n",
              "      <td>86.0</td>\n",
              "      <td>0</td>\n",
              "    </tr>\n",
              "    <tr>\n",
              "      <th>27</th>\n",
              "      <td>42.0</td>\n",
              "      <td>250</td>\n",
              "      <td>15.0</td>\n",
              "      <td>85.0</td>\n",
              "      <td>1</td>\n",
              "    </tr>\n",
              "    <tr>\n",
              "      <th>28</th>\n",
              "      <td>5.5</td>\n",
              "      <td>36</td>\n",
              "      <td>12.0</td>\n",
              "      <td>85.0</td>\n",
              "      <td>0</td>\n",
              "    </tr>\n",
              "    <tr>\n",
              "      <th>29</th>\n",
              "      <td>47.0</td>\n",
              "      <td>285</td>\n",
              "      <td>15.0</td>\n",
              "      <td>74.0</td>\n",
              "      <td>0</td>\n",
              "    </tr>\n",
              "    <tr>\n",
              "      <th>30</th>\n",
              "      <td>5.0</td>\n",
              "      <td>36</td>\n",
              "      <td>10.0</td>\n",
              "      <td>95.0</td>\n",
              "      <td>0</td>\n",
              "    </tr>\n",
              "    <tr>\n",
              "      <th>31</th>\n",
              "      <td>59.0</td>\n",
              "      <td>420</td>\n",
              "      <td>10.0</td>\n",
              "      <td>9.0</td>\n",
              "      <td>0</td>\n",
              "    </tr>\n",
              "    <tr>\n",
              "      <th>32</th>\n",
              "      <td>27.0</td>\n",
              "      <td>130</td>\n",
              "      <td>6.0</td>\n",
              "      <td>12.0</td>\n",
              "      <td>0</td>\n",
              "    </tr>\n",
              "    <tr>\n",
              "      <th>34</th>\n",
              "      <td>96.0</td>\n",
              "      <td>300</td>\n",
              "      <td>15.0</td>\n",
              "      <td>39.0</td>\n",
              "      <td>0</td>\n",
              "    </tr>\n",
              "    <tr>\n",
              "      <th>35</th>\n",
              "      <td>95.0</td>\n",
              "      <td>200</td>\n",
              "      <td>14.0</td>\n",
              "      <td>25.0</td>\n",
              "      <td>0</td>\n",
              "    </tr>\n",
              "    <tr>\n",
              "      <th>36</th>\n",
              "      <td>6.0</td>\n",
              "      <td>36</td>\n",
              "      <td>6.0</td>\n",
              "      <td>65.0</td>\n",
              "      <td>0</td>\n",
              "    </tr>\n",
              "    <tr>\n",
              "      <th>37</th>\n",
              "      <td>120.0</td>\n",
              "      <td>300</td>\n",
              "      <td>32.0</td>\n",
              "      <td>28.0</td>\n",
              "      <td>1</td>\n",
              "    </tr>\n",
              "    <tr>\n",
              "      <th>38</th>\n",
              "      <td>135.0</td>\n",
              "      <td>170</td>\n",
              "      <td>15.0</td>\n",
              "      <td>30.0</td>\n",
              "      <td>1</td>\n",
              "    </tr>\n",
              "    <tr>\n",
              "      <th>40</th>\n",
              "      <td>10.0</td>\n",
              "      <td>36</td>\n",
              "      <td>12.0</td>\n",
              "      <td>105.0</td>\n",
              "      <td>0</td>\n",
              "    </tr>\n",
              "    <tr>\n",
              "      <th>41</th>\n",
              "      <td>230.0</td>\n",
              "      <td>350</td>\n",
              "      <td>18.0</td>\n",
              "      <td>30.0</td>\n",
              "      <td>1</td>\n",
              "    </tr>\n",
              "    <tr>\n",
              "      <th>42</th>\n",
              "      <td>15.0</td>\n",
              "      <td>46</td>\n",
              "      <td>15.0</td>\n",
              "      <td>100.0</td>\n",
              "      <td>0</td>\n",
              "    </tr>\n",
              "    <tr>\n",
              "      <th>43</th>\n",
              "      <td>130.0</td>\n",
              "      <td>130</td>\n",
              "      <td>15.0</td>\n",
              "      <td>27.0</td>\n",
              "      <td>1</td>\n",
              "    </tr>\n",
              "    <tr>\n",
              "      <th>44</th>\n",
              "      <td>16.5</td>\n",
              "      <td>56</td>\n",
              "      <td>15.0</td>\n",
              "      <td>75.0</td>\n",
              "      <td>0</td>\n",
              "    </tr>\n",
              "    <tr>\n",
              "      <th>45</th>\n",
              "      <td>7.0</td>\n",
              "      <td>46</td>\n",
              "      <td>15.0</td>\n",
              "      <td>100.0</td>\n",
              "      <td>0</td>\n",
              "    </tr>\n",
              "    <tr>\n",
              "      <th>46</th>\n",
              "      <td>110.0</td>\n",
              "      <td>170</td>\n",
              "      <td>10.0</td>\n",
              "      <td>25.0</td>\n",
              "      <td>1</td>\n",
              "    </tr>\n",
              "    <tr>\n",
              "      <th>47</th>\n",
              "      <td>13.0</td>\n",
              "      <td>70</td>\n",
              "      <td>6.0</td>\n",
              "      <td>50.0</td>\n",
              "      <td>1</td>\n",
              "    </tr>\n",
              "  </tbody>\n",
              "</table>\n",
              "</div>\n",
              "      <button class=\"colab-df-convert\" onclick=\"convertToInteractive('df-7e617fec-1dd2-4675-8e4b-9d16fa84b22d')\"\n",
              "              title=\"Convert this dataframe to an interactive table.\"\n",
              "              style=\"display:none;\">\n",
              "        \n",
              "  <svg xmlns=\"http://www.w3.org/2000/svg\" height=\"24px\"viewBox=\"0 0 24 24\"\n",
              "       width=\"24px\">\n",
              "    <path d=\"M0 0h24v24H0V0z\" fill=\"none\"/>\n",
              "    <path d=\"M18.56 5.44l.94 2.06.94-2.06 2.06-.94-2.06-.94-.94-2.06-.94 2.06-2.06.94zm-11 1L8.5 8.5l.94-2.06 2.06-.94-2.06-.94L8.5 2.5l-.94 2.06-2.06.94zm10 10l.94 2.06.94-2.06 2.06-.94-2.06-.94-.94-2.06-.94 2.06-2.06.94z\"/><path d=\"M17.41 7.96l-1.37-1.37c-.4-.4-.92-.59-1.43-.59-.52 0-1.04.2-1.43.59L10.3 9.45l-7.72 7.72c-.78.78-.78 2.05 0 2.83L4 21.41c.39.39.9.59 1.41.59.51 0 1.02-.2 1.41-.59l7.78-7.78 2.81-2.81c.8-.78.8-2.07 0-2.86zM5.41 20L4 18.59l7.72-7.72 1.47 1.35L5.41 20z\"/>\n",
              "  </svg>\n",
              "      </button>\n",
              "      \n",
              "  <style>\n",
              "    .colab-df-container {\n",
              "      display:flex;\n",
              "      flex-wrap:wrap;\n",
              "      gap: 12px;\n",
              "    }\n",
              "\n",
              "    .colab-df-convert {\n",
              "      background-color: #E8F0FE;\n",
              "      border: none;\n",
              "      border-radius: 50%;\n",
              "      cursor: pointer;\n",
              "      display: none;\n",
              "      fill: #1967D2;\n",
              "      height: 32px;\n",
              "      padding: 0 0 0 0;\n",
              "      width: 32px;\n",
              "    }\n",
              "\n",
              "    .colab-df-convert:hover {\n",
              "      background-color: #E2EBFA;\n",
              "      box-shadow: 0px 1px 2px rgba(60, 64, 67, 0.3), 0px 1px 3px 1px rgba(60, 64, 67, 0.15);\n",
              "      fill: #174EA6;\n",
              "    }\n",
              "\n",
              "    [theme=dark] .colab-df-convert {\n",
              "      background-color: #3B4455;\n",
              "      fill: #D2E3FC;\n",
              "    }\n",
              "\n",
              "    [theme=dark] .colab-df-convert:hover {\n",
              "      background-color: #434B5C;\n",
              "      box-shadow: 0px 1px 3px 1px rgba(0, 0, 0, 0.15);\n",
              "      filter: drop-shadow(0px 1px 2px rgba(0, 0, 0, 0.3));\n",
              "      fill: #FFFFFF;\n",
              "    }\n",
              "  </style>\n",
              "\n",
              "      <script>\n",
              "        const buttonEl =\n",
              "          document.querySelector('#df-7e617fec-1dd2-4675-8e4b-9d16fa84b22d button.colab-df-convert');\n",
              "        buttonEl.style.display =\n",
              "          google.colab.kernel.accessAllowed ? 'block' : 'none';\n",
              "\n",
              "        async function convertToInteractive(key) {\n",
              "          const element = document.querySelector('#df-7e617fec-1dd2-4675-8e4b-9d16fa84b22d');\n",
              "          const dataTable =\n",
              "            await google.colab.kernel.invokeFunction('convertToInteractive',\n",
              "                                                     [key], {});\n",
              "          if (!dataTable) return;\n",
              "\n",
              "          const docLinkHtml = 'Like what you see? Visit the ' +\n",
              "            '<a target=\"_blank\" href=https://colab.research.google.com/notebooks/data_table.ipynb>data table notebook</a>'\n",
              "            + ' to learn more about interactive tables.';\n",
              "          element.innerHTML = '';\n",
              "          dataTable['output_type'] = 'display_data';\n",
              "          await google.colab.output.renderOutput(dataTable, element);\n",
              "          const docLink = document.createElement('div');\n",
              "          docLink.innerHTML = docLinkHtml;\n",
              "          element.appendChild(docLink);\n",
              "        }\n",
              "      </script>\n",
              "    </div>\n",
              "  </div>\n",
              "  "
            ]
          },
          "metadata": {},
          "execution_count": 30
        }
      ]
    },
    {
      "cell_type": "markdown",
      "source": [
        "После выборки данных с помощью условия Price < 250, были убраны аномальные данные"
      ],
      "metadata": {
        "id": "iJ6OgeyEBbrK"
      }
    },
    {
      "cell_type": "code",
      "source": [
        "dif = len(ds) - len(ds2)\n",
        "dif"
      ],
      "metadata": {
        "colab": {
          "base_uri": "https://localhost:8080/"
        },
        "id": "WvHj_CQQ6Zsc",
        "outputId": "7fc7a38a-faf6-480b-a593-e93e6d4a4e15"
      },
      "execution_count": null,
      "outputs": [
        {
          "output_type": "execute_result",
          "data": {
            "text/plain": [
              "4"
            ]
          },
          "metadata": {},
          "execution_count": 113
        }
      ]
    },
    {
      "cell_type": "markdown",
      "source": [
        "Выделим целевую переменную Price в переменную y2"
      ],
      "metadata": {
        "id": "NA7H79A87VqB"
      }
    },
    {
      "cell_type": "code",
      "source": [
        "y2 = ds2['Price']\n",
        "y2"
      ],
      "metadata": {
        "colab": {
          "base_uri": "https://localhost:8080/"
        },
        "id": "JWkxmiG97XBR",
        "outputId": "b0f36178-29c1-479c-a8a8-08113ec2f2b1"
      },
      "execution_count": null,
      "outputs": [
        {
          "output_type": "execute_result",
          "data": {
            "text/plain": [
              "0     220.0\n",
              "1      95.0\n",
              "2      45.0\n",
              "3     120.0\n",
              "4      95.0\n",
              "5     120.0\n",
              "6      16.5\n",
              "7      25.0\n",
              "8      20.0\n",
              "9      20.0\n",
              "10    100.0\n",
              "11     25.0\n",
              "12     50.0\n",
              "13      8.5\n",
              "14     16.5\n",
              "17     60.0\n",
              "18     14.0\n",
              "19     38.0\n",
              "20     85.0\n",
              "21     85.0\n",
              "22     28.0\n",
              "23     83.0\n",
              "24     80.0\n",
              "25     15.0\n",
              "26     27.0\n",
              "27     42.0\n",
              "28      5.5\n",
              "29     47.0\n",
              "30      5.0\n",
              "31     59.0\n",
              "32     27.0\n",
              "34     96.0\n",
              "35     95.0\n",
              "36      6.0\n",
              "37    120.0\n",
              "38    135.0\n",
              "40     10.0\n",
              "41    230.0\n",
              "42     15.0\n",
              "43    130.0\n",
              "44     16.5\n",
              "45      7.0\n",
              "46    110.0\n",
              "47     13.0\n",
              "Name: Price, dtype: float64"
            ]
          },
          "metadata": {},
          "execution_count": 32
        }
      ]
    },
    {
      "cell_type": "markdown",
      "source": [
        "Выделим матрицу исходных признаков в переменную X2"
      ],
      "metadata": {
        "id": "U8tBpVjz7Ytc"
      }
    },
    {
      "cell_type": "code",
      "source": [
        "X2 = ds2.drop('Price', axis = 1)\n",
        "X2"
      ],
      "metadata": {
        "colab": {
          "base_uri": "https://localhost:8080/",
          "height": 1000
        },
        "id": "0FndWn-r7Z9h",
        "outputId": "367d32b7-9e6f-4e6f-8c91-8b950621a6cc"
      },
      "execution_count": null,
      "outputs": [
        {
          "output_type": "execute_result",
          "data": {
            "text/plain": [
              "    House  Area   Dist  Eco\n",
              "0     500  40.0   26.0    1\n",
              "1     530  19.0   23.0    0\n",
              "2     350   7.0   25.0    0\n",
              "3     150  10.0   26.0    1\n",
              "4     370  15.0   45.0    1\n",
              "5     300  24.0   20.0    1\n",
              "6      78   8.5   60.0    0\n",
              "7      80  10.0   50.0    1\n",
              "8      65   6.0   25.0    0\n",
              "9      90   6.0   45.0    0\n",
              "10    600  15.0    7.0    1\n",
              "11     85  11.0   33.0    0\n",
              "12    100  10.0   85.0    1\n",
              "13     22  14.0   50.0    1\n",
              "14     60   8.0   51.0    0\n",
              "17    170   6.0   18.0    0\n",
              "18     60  11.0   90.0    1\n",
              "19     65   6.0   18.0    1\n",
              "20    320  20.0   25.0    0\n",
              "21    210  20.0   19.0    0\n",
              "22     60   5.0   30.0    1\n",
              "23    228  20.0   45.0    0\n",
              "24    200  20.0   25.0    1\n",
              "25     36  10.0   46.0    1\n",
              "26    180  17.0   86.0    0\n",
              "27    250  15.0   85.0    1\n",
              "28     36  12.0   85.0    0\n",
              "29    285  15.0   74.0    0\n",
              "30     36  10.0   95.0    0\n",
              "31    420  10.0    9.0    0\n",
              "32    130   6.0   12.0    0\n",
              "34    300  15.0   39.0    0\n",
              "35    200  14.0   25.0    0\n",
              "36     36   6.0   65.0    0\n",
              "37    300  32.0   28.0    1\n",
              "38    170  15.0   30.0    1\n",
              "40     36  12.0  105.0    0\n",
              "41    350  18.0   30.0    1\n",
              "42     46  15.0  100.0    0\n",
              "43    130  15.0   27.0    1\n",
              "44     56  15.0   75.0    0\n",
              "45     46  15.0  100.0    0\n",
              "46    170  10.0   25.0    1\n",
              "47     70   6.0   50.0    1"
            ],
            "text/html": [
              "\n",
              "  <div id=\"df-5f8cb9b2-cb40-45a3-9615-50987115065d\">\n",
              "    <div class=\"colab-df-container\">\n",
              "      <div>\n",
              "<style scoped>\n",
              "    .dataframe tbody tr th:only-of-type {\n",
              "        vertical-align: middle;\n",
              "    }\n",
              "\n",
              "    .dataframe tbody tr th {\n",
              "        vertical-align: top;\n",
              "    }\n",
              "\n",
              "    .dataframe thead th {\n",
              "        text-align: right;\n",
              "    }\n",
              "</style>\n",
              "<table border=\"1\" class=\"dataframe\">\n",
              "  <thead>\n",
              "    <tr style=\"text-align: right;\">\n",
              "      <th></th>\n",
              "      <th>House</th>\n",
              "      <th>Area</th>\n",
              "      <th>Dist</th>\n",
              "      <th>Eco</th>\n",
              "    </tr>\n",
              "  </thead>\n",
              "  <tbody>\n",
              "    <tr>\n",
              "      <th>0</th>\n",
              "      <td>500</td>\n",
              "      <td>40.0</td>\n",
              "      <td>26.0</td>\n",
              "      <td>1</td>\n",
              "    </tr>\n",
              "    <tr>\n",
              "      <th>1</th>\n",
              "      <td>530</td>\n",
              "      <td>19.0</td>\n",
              "      <td>23.0</td>\n",
              "      <td>0</td>\n",
              "    </tr>\n",
              "    <tr>\n",
              "      <th>2</th>\n",
              "      <td>350</td>\n",
              "      <td>7.0</td>\n",
              "      <td>25.0</td>\n",
              "      <td>0</td>\n",
              "    </tr>\n",
              "    <tr>\n",
              "      <th>3</th>\n",
              "      <td>150</td>\n",
              "      <td>10.0</td>\n",
              "      <td>26.0</td>\n",
              "      <td>1</td>\n",
              "    </tr>\n",
              "    <tr>\n",
              "      <th>4</th>\n",
              "      <td>370</td>\n",
              "      <td>15.0</td>\n",
              "      <td>45.0</td>\n",
              "      <td>1</td>\n",
              "    </tr>\n",
              "    <tr>\n",
              "      <th>5</th>\n",
              "      <td>300</td>\n",
              "      <td>24.0</td>\n",
              "      <td>20.0</td>\n",
              "      <td>1</td>\n",
              "    </tr>\n",
              "    <tr>\n",
              "      <th>6</th>\n",
              "      <td>78</td>\n",
              "      <td>8.5</td>\n",
              "      <td>60.0</td>\n",
              "      <td>0</td>\n",
              "    </tr>\n",
              "    <tr>\n",
              "      <th>7</th>\n",
              "      <td>80</td>\n",
              "      <td>10.0</td>\n",
              "      <td>50.0</td>\n",
              "      <td>1</td>\n",
              "    </tr>\n",
              "    <tr>\n",
              "      <th>8</th>\n",
              "      <td>65</td>\n",
              "      <td>6.0</td>\n",
              "      <td>25.0</td>\n",
              "      <td>0</td>\n",
              "    </tr>\n",
              "    <tr>\n",
              "      <th>9</th>\n",
              "      <td>90</td>\n",
              "      <td>6.0</td>\n",
              "      <td>45.0</td>\n",
              "      <td>0</td>\n",
              "    </tr>\n",
              "    <tr>\n",
              "      <th>10</th>\n",
              "      <td>600</td>\n",
              "      <td>15.0</td>\n",
              "      <td>7.0</td>\n",
              "      <td>1</td>\n",
              "    </tr>\n",
              "    <tr>\n",
              "      <th>11</th>\n",
              "      <td>85</td>\n",
              "      <td>11.0</td>\n",
              "      <td>33.0</td>\n",
              "      <td>0</td>\n",
              "    </tr>\n",
              "    <tr>\n",
              "      <th>12</th>\n",
              "      <td>100</td>\n",
              "      <td>10.0</td>\n",
              "      <td>85.0</td>\n",
              "      <td>1</td>\n",
              "    </tr>\n",
              "    <tr>\n",
              "      <th>13</th>\n",
              "      <td>22</td>\n",
              "      <td>14.0</td>\n",
              "      <td>50.0</td>\n",
              "      <td>1</td>\n",
              "    </tr>\n",
              "    <tr>\n",
              "      <th>14</th>\n",
              "      <td>60</td>\n",
              "      <td>8.0</td>\n",
              "      <td>51.0</td>\n",
              "      <td>0</td>\n",
              "    </tr>\n",
              "    <tr>\n",
              "      <th>17</th>\n",
              "      <td>170</td>\n",
              "      <td>6.0</td>\n",
              "      <td>18.0</td>\n",
              "      <td>0</td>\n",
              "    </tr>\n",
              "    <tr>\n",
              "      <th>18</th>\n",
              "      <td>60</td>\n",
              "      <td>11.0</td>\n",
              "      <td>90.0</td>\n",
              "      <td>1</td>\n",
              "    </tr>\n",
              "    <tr>\n",
              "      <th>19</th>\n",
              "      <td>65</td>\n",
              "      <td>6.0</td>\n",
              "      <td>18.0</td>\n",
              "      <td>1</td>\n",
              "    </tr>\n",
              "    <tr>\n",
              "      <th>20</th>\n",
              "      <td>320</td>\n",
              "      <td>20.0</td>\n",
              "      <td>25.0</td>\n",
              "      <td>0</td>\n",
              "    </tr>\n",
              "    <tr>\n",
              "      <th>21</th>\n",
              "      <td>210</td>\n",
              "      <td>20.0</td>\n",
              "      <td>19.0</td>\n",
              "      <td>0</td>\n",
              "    </tr>\n",
              "    <tr>\n",
              "      <th>22</th>\n",
              "      <td>60</td>\n",
              "      <td>5.0</td>\n",
              "      <td>30.0</td>\n",
              "      <td>1</td>\n",
              "    </tr>\n",
              "    <tr>\n",
              "      <th>23</th>\n",
              "      <td>228</td>\n",
              "      <td>20.0</td>\n",
              "      <td>45.0</td>\n",
              "      <td>0</td>\n",
              "    </tr>\n",
              "    <tr>\n",
              "      <th>24</th>\n",
              "      <td>200</td>\n",
              "      <td>20.0</td>\n",
              "      <td>25.0</td>\n",
              "      <td>1</td>\n",
              "    </tr>\n",
              "    <tr>\n",
              "      <th>25</th>\n",
              "      <td>36</td>\n",
              "      <td>10.0</td>\n",
              "      <td>46.0</td>\n",
              "      <td>1</td>\n",
              "    </tr>\n",
              "    <tr>\n",
              "      <th>26</th>\n",
              "      <td>180</td>\n",
              "      <td>17.0</td>\n",
              "      <td>86.0</td>\n",
              "      <td>0</td>\n",
              "    </tr>\n",
              "    <tr>\n",
              "      <th>27</th>\n",
              "      <td>250</td>\n",
              "      <td>15.0</td>\n",
              "      <td>85.0</td>\n",
              "      <td>1</td>\n",
              "    </tr>\n",
              "    <tr>\n",
              "      <th>28</th>\n",
              "      <td>36</td>\n",
              "      <td>12.0</td>\n",
              "      <td>85.0</td>\n",
              "      <td>0</td>\n",
              "    </tr>\n",
              "    <tr>\n",
              "      <th>29</th>\n",
              "      <td>285</td>\n",
              "      <td>15.0</td>\n",
              "      <td>74.0</td>\n",
              "      <td>0</td>\n",
              "    </tr>\n",
              "    <tr>\n",
              "      <th>30</th>\n",
              "      <td>36</td>\n",
              "      <td>10.0</td>\n",
              "      <td>95.0</td>\n",
              "      <td>0</td>\n",
              "    </tr>\n",
              "    <tr>\n",
              "      <th>31</th>\n",
              "      <td>420</td>\n",
              "      <td>10.0</td>\n",
              "      <td>9.0</td>\n",
              "      <td>0</td>\n",
              "    </tr>\n",
              "    <tr>\n",
              "      <th>32</th>\n",
              "      <td>130</td>\n",
              "      <td>6.0</td>\n",
              "      <td>12.0</td>\n",
              "      <td>0</td>\n",
              "    </tr>\n",
              "    <tr>\n",
              "      <th>34</th>\n",
              "      <td>300</td>\n",
              "      <td>15.0</td>\n",
              "      <td>39.0</td>\n",
              "      <td>0</td>\n",
              "    </tr>\n",
              "    <tr>\n",
              "      <th>35</th>\n",
              "      <td>200</td>\n",
              "      <td>14.0</td>\n",
              "      <td>25.0</td>\n",
              "      <td>0</td>\n",
              "    </tr>\n",
              "    <tr>\n",
              "      <th>36</th>\n",
              "      <td>36</td>\n",
              "      <td>6.0</td>\n",
              "      <td>65.0</td>\n",
              "      <td>0</td>\n",
              "    </tr>\n",
              "    <tr>\n",
              "      <th>37</th>\n",
              "      <td>300</td>\n",
              "      <td>32.0</td>\n",
              "      <td>28.0</td>\n",
              "      <td>1</td>\n",
              "    </tr>\n",
              "    <tr>\n",
              "      <th>38</th>\n",
              "      <td>170</td>\n",
              "      <td>15.0</td>\n",
              "      <td>30.0</td>\n",
              "      <td>1</td>\n",
              "    </tr>\n",
              "    <tr>\n",
              "      <th>40</th>\n",
              "      <td>36</td>\n",
              "      <td>12.0</td>\n",
              "      <td>105.0</td>\n",
              "      <td>0</td>\n",
              "    </tr>\n",
              "    <tr>\n",
              "      <th>41</th>\n",
              "      <td>350</td>\n",
              "      <td>18.0</td>\n",
              "      <td>30.0</td>\n",
              "      <td>1</td>\n",
              "    </tr>\n",
              "    <tr>\n",
              "      <th>42</th>\n",
              "      <td>46</td>\n",
              "      <td>15.0</td>\n",
              "      <td>100.0</td>\n",
              "      <td>0</td>\n",
              "    </tr>\n",
              "    <tr>\n",
              "      <th>43</th>\n",
              "      <td>130</td>\n",
              "      <td>15.0</td>\n",
              "      <td>27.0</td>\n",
              "      <td>1</td>\n",
              "    </tr>\n",
              "    <tr>\n",
              "      <th>44</th>\n",
              "      <td>56</td>\n",
              "      <td>15.0</td>\n",
              "      <td>75.0</td>\n",
              "      <td>0</td>\n",
              "    </tr>\n",
              "    <tr>\n",
              "      <th>45</th>\n",
              "      <td>46</td>\n",
              "      <td>15.0</td>\n",
              "      <td>100.0</td>\n",
              "      <td>0</td>\n",
              "    </tr>\n",
              "    <tr>\n",
              "      <th>46</th>\n",
              "      <td>170</td>\n",
              "      <td>10.0</td>\n",
              "      <td>25.0</td>\n",
              "      <td>1</td>\n",
              "    </tr>\n",
              "    <tr>\n",
              "      <th>47</th>\n",
              "      <td>70</td>\n",
              "      <td>6.0</td>\n",
              "      <td>50.0</td>\n",
              "      <td>1</td>\n",
              "    </tr>\n",
              "  </tbody>\n",
              "</table>\n",
              "</div>\n",
              "      <button class=\"colab-df-convert\" onclick=\"convertToInteractive('df-5f8cb9b2-cb40-45a3-9615-50987115065d')\"\n",
              "              title=\"Convert this dataframe to an interactive table.\"\n",
              "              style=\"display:none;\">\n",
              "        \n",
              "  <svg xmlns=\"http://www.w3.org/2000/svg\" height=\"24px\"viewBox=\"0 0 24 24\"\n",
              "       width=\"24px\">\n",
              "    <path d=\"M0 0h24v24H0V0z\" fill=\"none\"/>\n",
              "    <path d=\"M18.56 5.44l.94 2.06.94-2.06 2.06-.94-2.06-.94-.94-2.06-.94 2.06-2.06.94zm-11 1L8.5 8.5l.94-2.06 2.06-.94-2.06-.94L8.5 2.5l-.94 2.06-2.06.94zm10 10l.94 2.06.94-2.06 2.06-.94-2.06-.94-.94-2.06-.94 2.06-2.06.94z\"/><path d=\"M17.41 7.96l-1.37-1.37c-.4-.4-.92-.59-1.43-.59-.52 0-1.04.2-1.43.59L10.3 9.45l-7.72 7.72c-.78.78-.78 2.05 0 2.83L4 21.41c.39.39.9.59 1.41.59.51 0 1.02-.2 1.41-.59l7.78-7.78 2.81-2.81c.8-.78.8-2.07 0-2.86zM5.41 20L4 18.59l7.72-7.72 1.47 1.35L5.41 20z\"/>\n",
              "  </svg>\n",
              "      </button>\n",
              "      \n",
              "  <style>\n",
              "    .colab-df-container {\n",
              "      display:flex;\n",
              "      flex-wrap:wrap;\n",
              "      gap: 12px;\n",
              "    }\n",
              "\n",
              "    .colab-df-convert {\n",
              "      background-color: #E8F0FE;\n",
              "      border: none;\n",
              "      border-radius: 50%;\n",
              "      cursor: pointer;\n",
              "      display: none;\n",
              "      fill: #1967D2;\n",
              "      height: 32px;\n",
              "      padding: 0 0 0 0;\n",
              "      width: 32px;\n",
              "    }\n",
              "\n",
              "    .colab-df-convert:hover {\n",
              "      background-color: #E2EBFA;\n",
              "      box-shadow: 0px 1px 2px rgba(60, 64, 67, 0.3), 0px 1px 3px 1px rgba(60, 64, 67, 0.15);\n",
              "      fill: #174EA6;\n",
              "    }\n",
              "\n",
              "    [theme=dark] .colab-df-convert {\n",
              "      background-color: #3B4455;\n",
              "      fill: #D2E3FC;\n",
              "    }\n",
              "\n",
              "    [theme=dark] .colab-df-convert:hover {\n",
              "      background-color: #434B5C;\n",
              "      box-shadow: 0px 1px 3px 1px rgba(0, 0, 0, 0.15);\n",
              "      filter: drop-shadow(0px 1px 2px rgba(0, 0, 0, 0.3));\n",
              "      fill: #FFFFFF;\n",
              "    }\n",
              "  </style>\n",
              "\n",
              "      <script>\n",
              "        const buttonEl =\n",
              "          document.querySelector('#df-5f8cb9b2-cb40-45a3-9615-50987115065d button.colab-df-convert');\n",
              "        buttonEl.style.display =\n",
              "          google.colab.kernel.accessAllowed ? 'block' : 'none';\n",
              "\n",
              "        async function convertToInteractive(key) {\n",
              "          const element = document.querySelector('#df-5f8cb9b2-cb40-45a3-9615-50987115065d');\n",
              "          const dataTable =\n",
              "            await google.colab.kernel.invokeFunction('convertToInteractive',\n",
              "                                                     [key], {});\n",
              "          if (!dataTable) return;\n",
              "\n",
              "          const docLinkHtml = 'Like what you see? Visit the ' +\n",
              "            '<a target=\"_blank\" href=https://colab.research.google.com/notebooks/data_table.ipynb>data table notebook</a>'\n",
              "            + ' to learn more about interactive tables.';\n",
              "          element.innerHTML = '';\n",
              "          dataTable['output_type'] = 'display_data';\n",
              "          await google.colab.output.renderOutput(dataTable, element);\n",
              "          const docLink = document.createElement('div');\n",
              "          docLink.innerHTML = docLinkHtml;\n",
              "          element.appendChild(docLink);\n",
              "        }\n",
              "      </script>\n",
              "    </div>\n",
              "  </div>\n",
              "  "
            ]
          },
          "metadata": {},
          "execution_count": 33
        }
      ]
    },
    {
      "cell_type": "markdown",
      "source": [
        "Обучим модель с помощью выборки, не разделяя ее на обучающую и тестовую части"
      ],
      "metadata": {
        "id": "snmro1un8Dwm"
      }
    },
    {
      "cell_type": "code",
      "source": [
        "ml2 = model.fit(X2, y2)"
      ],
      "metadata": {
        "id": "chpcuW_y8FIF"
      },
      "execution_count": null,
      "outputs": []
    },
    {
      "cell_type": "markdown",
      "source": [
        "Найдем предсказанные моделью значения зависимой переменной"
      ],
      "metadata": {
        "id": "kXN1eF8PvdPl"
      }
    },
    {
      "cell_type": "code",
      "source": [
        "y2_pred = ml2.predict(X2)"
      ],
      "metadata": {
        "id": "wGf2rc9RviCR"
      },
      "execution_count": null,
      "outputs": []
    },
    {
      "cell_type": "markdown",
      "source": [
        "<!-- R2 -->\n",
        "Вычислим коэффициент детерминации с помощью функции explained_variance_score"
      ],
      "metadata": {
        "id": "Z3aiij3Q8a0z"
      }
    },
    {
      "cell_type": "code",
      "source": [
        "R2test_m2 = metrics.explained_variance_score(y2, y2_pred)\n",
        "R2test_m2"
      ],
      "metadata": {
        "colab": {
          "base_uri": "https://localhost:8080/"
        },
        "id": "64OhxjR58eJx",
        "outputId": "1bbdedc7-132d-40e3-d5fe-d3c60df4550c"
      },
      "execution_count": null,
      "outputs": [
        {
          "output_type": "execute_result",
          "data": {
            "text/plain": [
              "0.7166463357391579"
            ]
          },
          "metadata": {},
          "execution_count": 36
        }
      ]
    },
    {
      "cell_type": "markdown",
      "source": [
        "Коэффициент детерминации стал больше по сравнению с предыдущей моделью, но несущественно. Попробуем отобрать данные, убирая в таблице ds2 строку, у которой в модели m2 самый большой остаток"
      ],
      "metadata": {
        "id": "jvFeu5k1vseH"
      }
    },
    {
      "cell_type": "code",
      "source": [
        "e_ml2 = y2 - y2_pred\n",
        "e_ml2"
      ],
      "metadata": {
        "colab": {
          "base_uri": "https://localhost:8080/"
        },
        "id": "gqGKahk1vypp",
        "outputId": "b08d244f-f956-4e66-c974-5546382a4cd3"
      },
      "execution_count": null,
      "outputs": [
        {
          "output_type": "execute_result",
          "data": {
            "text/plain": [
              "0      14.497845\n",
              "1     -19.862234\n",
              "2     -11.145696\n",
              "3      48.783108\n",
              "4      -2.508008\n",
              "5     -16.230129\n",
              "6       2.204046\n",
              "7     -25.118789\n",
              "8      -5.715462\n",
              "9       3.953468\n",
              "10    -42.228673\n",
              "11    -14.639330\n",
              "12     19.056992\n",
              "13    -49.584985\n",
              "14      0.178156\n",
              "17     20.099410\n",
              "18    -13.502539\n",
              "19    -16.489402\n",
              "20    -12.086023\n",
              "21     -5.253930\n",
              "22    -15.420587\n",
              "23      6.692510\n",
              "24    -30.250527\n",
              "25    -33.349374\n",
              "26     -9.956872\n",
              "27    -20.027990\n",
              "28     -1.543752\n",
              "29     -0.415934\n",
              "30     10.714397\n",
              "31    -23.531829\n",
              "32    -12.715268\n",
              "34     26.084899\n",
              "35     29.518723\n",
              "36      7.123753\n",
              "37    -38.360061\n",
              "38     47.450685\n",
              "40     14.999024\n",
              "41    115.253847\n",
              "42      5.933651\n",
              "43     44.442423\n",
              "44     -8.569358\n",
              "45     -2.066349\n",
              "46     36.281892\n",
              "47    -22.695729\n",
              "Name: Price, dtype: float64"
            ]
          },
          "metadata": {},
          "execution_count": 37
        }
      ]
    },
    {
      "cell_type": "markdown",
      "source": [
        "Удалим в исходной матрице данных строки с достаточно большими значениями"
      ],
      "metadata": {
        "id": "aciva3FX8fTa"
      }
    },
    {
      "cell_type": "code",
      "source": [
        "ds3 = ds2.drop(labels = [38], axis = 0)\n"
      ],
      "metadata": {
        "id": "yJAvfpwf8g_c"
      },
      "execution_count": null,
      "outputs": []
    },
    {
      "cell_type": "markdown",
      "source": [
        "Выделим целевую переменную Price в переменную y3"
      ],
      "metadata": {
        "id": "-I9vyGhU8j1g"
      }
    },
    {
      "cell_type": "code",
      "source": [
        "y3 = ds3['Price']\n",
        "y3"
      ],
      "metadata": {
        "colab": {
          "base_uri": "https://localhost:8080/"
        },
        "id": "RCfYybUE8k0s",
        "outputId": "5a285779-8083-482b-c21c-dd38b16fee7b"
      },
      "execution_count": null,
      "outputs": [
        {
          "output_type": "execute_result",
          "data": {
            "text/plain": [
              "0     220.0\n",
              "1      95.0\n",
              "2      45.0\n",
              "3     120.0\n",
              "4      95.0\n",
              "5     120.0\n",
              "6      16.5\n",
              "7      25.0\n",
              "8      20.0\n",
              "9      20.0\n",
              "10    100.0\n",
              "11     25.0\n",
              "12     50.0\n",
              "13      8.5\n",
              "14     16.5\n",
              "17     60.0\n",
              "18     14.0\n",
              "19     38.0\n",
              "20     85.0\n",
              "21     85.0\n",
              "22     28.0\n",
              "23     83.0\n",
              "24     80.0\n",
              "25     15.0\n",
              "26     27.0\n",
              "27     42.0\n",
              "28      5.5\n",
              "29     47.0\n",
              "30      5.0\n",
              "31     59.0\n",
              "32     27.0\n",
              "34     96.0\n",
              "35     95.0\n",
              "36      6.0\n",
              "37    120.0\n",
              "40     10.0\n",
              "41    230.0\n",
              "42     15.0\n",
              "43    130.0\n",
              "44     16.5\n",
              "45      7.0\n",
              "46    110.0\n",
              "47     13.0\n",
              "Name: Price, dtype: float64"
            ]
          },
          "metadata": {},
          "execution_count": 39
        }
      ]
    },
    {
      "cell_type": "markdown",
      "source": [
        "Выделим матрицу исходных признаков в переменную X3"
      ],
      "metadata": {
        "id": "wHcbhKPo8moB"
      }
    },
    {
      "cell_type": "code",
      "source": [
        "X3 = ds3.drop('Price', axis=1)\n",
        "X3"
      ],
      "metadata": {
        "colab": {
          "base_uri": "https://localhost:8080/",
          "height": 1000
        },
        "id": "B9yHBoMB8oNd",
        "outputId": "c27eddfb-1825-46c9-df17-de4557775445"
      },
      "execution_count": null,
      "outputs": [
        {
          "output_type": "execute_result",
          "data": {
            "text/plain": [
              "    House  Area   Dist  Eco\n",
              "0     500  40.0   26.0    1\n",
              "1     530  19.0   23.0    0\n",
              "2     350   7.0   25.0    0\n",
              "3     150  10.0   26.0    1\n",
              "4     370  15.0   45.0    1\n",
              "5     300  24.0   20.0    1\n",
              "6      78   8.5   60.0    0\n",
              "7      80  10.0   50.0    1\n",
              "8      65   6.0   25.0    0\n",
              "9      90   6.0   45.0    0\n",
              "10    600  15.0    7.0    1\n",
              "11     85  11.0   33.0    0\n",
              "12    100  10.0   85.0    1\n",
              "13     22  14.0   50.0    1\n",
              "14     60   8.0   51.0    0\n",
              "17    170   6.0   18.0    0\n",
              "18     60  11.0   90.0    1\n",
              "19     65   6.0   18.0    1\n",
              "20    320  20.0   25.0    0\n",
              "21    210  20.0   19.0    0\n",
              "22     60   5.0   30.0    1\n",
              "23    228  20.0   45.0    0\n",
              "24    200  20.0   25.0    1\n",
              "25     36  10.0   46.0    1\n",
              "26    180  17.0   86.0    0\n",
              "27    250  15.0   85.0    1\n",
              "28     36  12.0   85.0    0\n",
              "29    285  15.0   74.0    0\n",
              "30     36  10.0   95.0    0\n",
              "31    420  10.0    9.0    0\n",
              "32    130   6.0   12.0    0\n",
              "34    300  15.0   39.0    0\n",
              "35    200  14.0   25.0    0\n",
              "36     36   6.0   65.0    0\n",
              "37    300  32.0   28.0    1\n",
              "40     36  12.0  105.0    0\n",
              "41    350  18.0   30.0    1\n",
              "42     46  15.0  100.0    0\n",
              "43    130  15.0   27.0    1\n",
              "44     56  15.0   75.0    0\n",
              "45     46  15.0  100.0    0\n",
              "46    170  10.0   25.0    1\n",
              "47     70   6.0   50.0    1"
            ],
            "text/html": [
              "\n",
              "  <div id=\"df-da71d3dd-4fba-49df-95aa-94aef5aaf85b\">\n",
              "    <div class=\"colab-df-container\">\n",
              "      <div>\n",
              "<style scoped>\n",
              "    .dataframe tbody tr th:only-of-type {\n",
              "        vertical-align: middle;\n",
              "    }\n",
              "\n",
              "    .dataframe tbody tr th {\n",
              "        vertical-align: top;\n",
              "    }\n",
              "\n",
              "    .dataframe thead th {\n",
              "        text-align: right;\n",
              "    }\n",
              "</style>\n",
              "<table border=\"1\" class=\"dataframe\">\n",
              "  <thead>\n",
              "    <tr style=\"text-align: right;\">\n",
              "      <th></th>\n",
              "      <th>House</th>\n",
              "      <th>Area</th>\n",
              "      <th>Dist</th>\n",
              "      <th>Eco</th>\n",
              "    </tr>\n",
              "  </thead>\n",
              "  <tbody>\n",
              "    <tr>\n",
              "      <th>0</th>\n",
              "      <td>500</td>\n",
              "      <td>40.0</td>\n",
              "      <td>26.0</td>\n",
              "      <td>1</td>\n",
              "    </tr>\n",
              "    <tr>\n",
              "      <th>1</th>\n",
              "      <td>530</td>\n",
              "      <td>19.0</td>\n",
              "      <td>23.0</td>\n",
              "      <td>0</td>\n",
              "    </tr>\n",
              "    <tr>\n",
              "      <th>2</th>\n",
              "      <td>350</td>\n",
              "      <td>7.0</td>\n",
              "      <td>25.0</td>\n",
              "      <td>0</td>\n",
              "    </tr>\n",
              "    <tr>\n",
              "      <th>3</th>\n",
              "      <td>150</td>\n",
              "      <td>10.0</td>\n",
              "      <td>26.0</td>\n",
              "      <td>1</td>\n",
              "    </tr>\n",
              "    <tr>\n",
              "      <th>4</th>\n",
              "      <td>370</td>\n",
              "      <td>15.0</td>\n",
              "      <td>45.0</td>\n",
              "      <td>1</td>\n",
              "    </tr>\n",
              "    <tr>\n",
              "      <th>5</th>\n",
              "      <td>300</td>\n",
              "      <td>24.0</td>\n",
              "      <td>20.0</td>\n",
              "      <td>1</td>\n",
              "    </tr>\n",
              "    <tr>\n",
              "      <th>6</th>\n",
              "      <td>78</td>\n",
              "      <td>8.5</td>\n",
              "      <td>60.0</td>\n",
              "      <td>0</td>\n",
              "    </tr>\n",
              "    <tr>\n",
              "      <th>7</th>\n",
              "      <td>80</td>\n",
              "      <td>10.0</td>\n",
              "      <td>50.0</td>\n",
              "      <td>1</td>\n",
              "    </tr>\n",
              "    <tr>\n",
              "      <th>8</th>\n",
              "      <td>65</td>\n",
              "      <td>6.0</td>\n",
              "      <td>25.0</td>\n",
              "      <td>0</td>\n",
              "    </tr>\n",
              "    <tr>\n",
              "      <th>9</th>\n",
              "      <td>90</td>\n",
              "      <td>6.0</td>\n",
              "      <td>45.0</td>\n",
              "      <td>0</td>\n",
              "    </tr>\n",
              "    <tr>\n",
              "      <th>10</th>\n",
              "      <td>600</td>\n",
              "      <td>15.0</td>\n",
              "      <td>7.0</td>\n",
              "      <td>1</td>\n",
              "    </tr>\n",
              "    <tr>\n",
              "      <th>11</th>\n",
              "      <td>85</td>\n",
              "      <td>11.0</td>\n",
              "      <td>33.0</td>\n",
              "      <td>0</td>\n",
              "    </tr>\n",
              "    <tr>\n",
              "      <th>12</th>\n",
              "      <td>100</td>\n",
              "      <td>10.0</td>\n",
              "      <td>85.0</td>\n",
              "      <td>1</td>\n",
              "    </tr>\n",
              "    <tr>\n",
              "      <th>13</th>\n",
              "      <td>22</td>\n",
              "      <td>14.0</td>\n",
              "      <td>50.0</td>\n",
              "      <td>1</td>\n",
              "    </tr>\n",
              "    <tr>\n",
              "      <th>14</th>\n",
              "      <td>60</td>\n",
              "      <td>8.0</td>\n",
              "      <td>51.0</td>\n",
              "      <td>0</td>\n",
              "    </tr>\n",
              "    <tr>\n",
              "      <th>17</th>\n",
              "      <td>170</td>\n",
              "      <td>6.0</td>\n",
              "      <td>18.0</td>\n",
              "      <td>0</td>\n",
              "    </tr>\n",
              "    <tr>\n",
              "      <th>18</th>\n",
              "      <td>60</td>\n",
              "      <td>11.0</td>\n",
              "      <td>90.0</td>\n",
              "      <td>1</td>\n",
              "    </tr>\n",
              "    <tr>\n",
              "      <th>19</th>\n",
              "      <td>65</td>\n",
              "      <td>6.0</td>\n",
              "      <td>18.0</td>\n",
              "      <td>1</td>\n",
              "    </tr>\n",
              "    <tr>\n",
              "      <th>20</th>\n",
              "      <td>320</td>\n",
              "      <td>20.0</td>\n",
              "      <td>25.0</td>\n",
              "      <td>0</td>\n",
              "    </tr>\n",
              "    <tr>\n",
              "      <th>21</th>\n",
              "      <td>210</td>\n",
              "      <td>20.0</td>\n",
              "      <td>19.0</td>\n",
              "      <td>0</td>\n",
              "    </tr>\n",
              "    <tr>\n",
              "      <th>22</th>\n",
              "      <td>60</td>\n",
              "      <td>5.0</td>\n",
              "      <td>30.0</td>\n",
              "      <td>1</td>\n",
              "    </tr>\n",
              "    <tr>\n",
              "      <th>23</th>\n",
              "      <td>228</td>\n",
              "      <td>20.0</td>\n",
              "      <td>45.0</td>\n",
              "      <td>0</td>\n",
              "    </tr>\n",
              "    <tr>\n",
              "      <th>24</th>\n",
              "      <td>200</td>\n",
              "      <td>20.0</td>\n",
              "      <td>25.0</td>\n",
              "      <td>1</td>\n",
              "    </tr>\n",
              "    <tr>\n",
              "      <th>25</th>\n",
              "      <td>36</td>\n",
              "      <td>10.0</td>\n",
              "      <td>46.0</td>\n",
              "      <td>1</td>\n",
              "    </tr>\n",
              "    <tr>\n",
              "      <th>26</th>\n",
              "      <td>180</td>\n",
              "      <td>17.0</td>\n",
              "      <td>86.0</td>\n",
              "      <td>0</td>\n",
              "    </tr>\n",
              "    <tr>\n",
              "      <th>27</th>\n",
              "      <td>250</td>\n",
              "      <td>15.0</td>\n",
              "      <td>85.0</td>\n",
              "      <td>1</td>\n",
              "    </tr>\n",
              "    <tr>\n",
              "      <th>28</th>\n",
              "      <td>36</td>\n",
              "      <td>12.0</td>\n",
              "      <td>85.0</td>\n",
              "      <td>0</td>\n",
              "    </tr>\n",
              "    <tr>\n",
              "      <th>29</th>\n",
              "      <td>285</td>\n",
              "      <td>15.0</td>\n",
              "      <td>74.0</td>\n",
              "      <td>0</td>\n",
              "    </tr>\n",
              "    <tr>\n",
              "      <th>30</th>\n",
              "      <td>36</td>\n",
              "      <td>10.0</td>\n",
              "      <td>95.0</td>\n",
              "      <td>0</td>\n",
              "    </tr>\n",
              "    <tr>\n",
              "      <th>31</th>\n",
              "      <td>420</td>\n",
              "      <td>10.0</td>\n",
              "      <td>9.0</td>\n",
              "      <td>0</td>\n",
              "    </tr>\n",
              "    <tr>\n",
              "      <th>32</th>\n",
              "      <td>130</td>\n",
              "      <td>6.0</td>\n",
              "      <td>12.0</td>\n",
              "      <td>0</td>\n",
              "    </tr>\n",
              "    <tr>\n",
              "      <th>34</th>\n",
              "      <td>300</td>\n",
              "      <td>15.0</td>\n",
              "      <td>39.0</td>\n",
              "      <td>0</td>\n",
              "    </tr>\n",
              "    <tr>\n",
              "      <th>35</th>\n",
              "      <td>200</td>\n",
              "      <td>14.0</td>\n",
              "      <td>25.0</td>\n",
              "      <td>0</td>\n",
              "    </tr>\n",
              "    <tr>\n",
              "      <th>36</th>\n",
              "      <td>36</td>\n",
              "      <td>6.0</td>\n",
              "      <td>65.0</td>\n",
              "      <td>0</td>\n",
              "    </tr>\n",
              "    <tr>\n",
              "      <th>37</th>\n",
              "      <td>300</td>\n",
              "      <td>32.0</td>\n",
              "      <td>28.0</td>\n",
              "      <td>1</td>\n",
              "    </tr>\n",
              "    <tr>\n",
              "      <th>40</th>\n",
              "      <td>36</td>\n",
              "      <td>12.0</td>\n",
              "      <td>105.0</td>\n",
              "      <td>0</td>\n",
              "    </tr>\n",
              "    <tr>\n",
              "      <th>41</th>\n",
              "      <td>350</td>\n",
              "      <td>18.0</td>\n",
              "      <td>30.0</td>\n",
              "      <td>1</td>\n",
              "    </tr>\n",
              "    <tr>\n",
              "      <th>42</th>\n",
              "      <td>46</td>\n",
              "      <td>15.0</td>\n",
              "      <td>100.0</td>\n",
              "      <td>0</td>\n",
              "    </tr>\n",
              "    <tr>\n",
              "      <th>43</th>\n",
              "      <td>130</td>\n",
              "      <td>15.0</td>\n",
              "      <td>27.0</td>\n",
              "      <td>1</td>\n",
              "    </tr>\n",
              "    <tr>\n",
              "      <th>44</th>\n",
              "      <td>56</td>\n",
              "      <td>15.0</td>\n",
              "      <td>75.0</td>\n",
              "      <td>0</td>\n",
              "    </tr>\n",
              "    <tr>\n",
              "      <th>45</th>\n",
              "      <td>46</td>\n",
              "      <td>15.0</td>\n",
              "      <td>100.0</td>\n",
              "      <td>0</td>\n",
              "    </tr>\n",
              "    <tr>\n",
              "      <th>46</th>\n",
              "      <td>170</td>\n",
              "      <td>10.0</td>\n",
              "      <td>25.0</td>\n",
              "      <td>1</td>\n",
              "    </tr>\n",
              "    <tr>\n",
              "      <th>47</th>\n",
              "      <td>70</td>\n",
              "      <td>6.0</td>\n",
              "      <td>50.0</td>\n",
              "      <td>1</td>\n",
              "    </tr>\n",
              "  </tbody>\n",
              "</table>\n",
              "</div>\n",
              "      <button class=\"colab-df-convert\" onclick=\"convertToInteractive('df-da71d3dd-4fba-49df-95aa-94aef5aaf85b')\"\n",
              "              title=\"Convert this dataframe to an interactive table.\"\n",
              "              style=\"display:none;\">\n",
              "        \n",
              "  <svg xmlns=\"http://www.w3.org/2000/svg\" height=\"24px\"viewBox=\"0 0 24 24\"\n",
              "       width=\"24px\">\n",
              "    <path d=\"M0 0h24v24H0V0z\" fill=\"none\"/>\n",
              "    <path d=\"M18.56 5.44l.94 2.06.94-2.06 2.06-.94-2.06-.94-.94-2.06-.94 2.06-2.06.94zm-11 1L8.5 8.5l.94-2.06 2.06-.94-2.06-.94L8.5 2.5l-.94 2.06-2.06.94zm10 10l.94 2.06.94-2.06 2.06-.94-2.06-.94-.94-2.06-.94 2.06-2.06.94z\"/><path d=\"M17.41 7.96l-1.37-1.37c-.4-.4-.92-.59-1.43-.59-.52 0-1.04.2-1.43.59L10.3 9.45l-7.72 7.72c-.78.78-.78 2.05 0 2.83L4 21.41c.39.39.9.59 1.41.59.51 0 1.02-.2 1.41-.59l7.78-7.78 2.81-2.81c.8-.78.8-2.07 0-2.86zM5.41 20L4 18.59l7.72-7.72 1.47 1.35L5.41 20z\"/>\n",
              "  </svg>\n",
              "      </button>\n",
              "      \n",
              "  <style>\n",
              "    .colab-df-container {\n",
              "      display:flex;\n",
              "      flex-wrap:wrap;\n",
              "      gap: 12px;\n",
              "    }\n",
              "\n",
              "    .colab-df-convert {\n",
              "      background-color: #E8F0FE;\n",
              "      border: none;\n",
              "      border-radius: 50%;\n",
              "      cursor: pointer;\n",
              "      display: none;\n",
              "      fill: #1967D2;\n",
              "      height: 32px;\n",
              "      padding: 0 0 0 0;\n",
              "      width: 32px;\n",
              "    }\n",
              "\n",
              "    .colab-df-convert:hover {\n",
              "      background-color: #E2EBFA;\n",
              "      box-shadow: 0px 1px 2px rgba(60, 64, 67, 0.3), 0px 1px 3px 1px rgba(60, 64, 67, 0.15);\n",
              "      fill: #174EA6;\n",
              "    }\n",
              "\n",
              "    [theme=dark] .colab-df-convert {\n",
              "      background-color: #3B4455;\n",
              "      fill: #D2E3FC;\n",
              "    }\n",
              "\n",
              "    [theme=dark] .colab-df-convert:hover {\n",
              "      background-color: #434B5C;\n",
              "      box-shadow: 0px 1px 3px 1px rgba(0, 0, 0, 0.15);\n",
              "      filter: drop-shadow(0px 1px 2px rgba(0, 0, 0, 0.3));\n",
              "      fill: #FFFFFF;\n",
              "    }\n",
              "  </style>\n",
              "\n",
              "      <script>\n",
              "        const buttonEl =\n",
              "          document.querySelector('#df-da71d3dd-4fba-49df-95aa-94aef5aaf85b button.colab-df-convert');\n",
              "        buttonEl.style.display =\n",
              "          google.colab.kernel.accessAllowed ? 'block' : 'none';\n",
              "\n",
              "        async function convertToInteractive(key) {\n",
              "          const element = document.querySelector('#df-da71d3dd-4fba-49df-95aa-94aef5aaf85b');\n",
              "          const dataTable =\n",
              "            await google.colab.kernel.invokeFunction('convertToInteractive',\n",
              "                                                     [key], {});\n",
              "          if (!dataTable) return;\n",
              "\n",
              "          const docLinkHtml = 'Like what you see? Visit the ' +\n",
              "            '<a target=\"_blank\" href=https://colab.research.google.com/notebooks/data_table.ipynb>data table notebook</a>'\n",
              "            + ' to learn more about interactive tables.';\n",
              "          element.innerHTML = '';\n",
              "          dataTable['output_type'] = 'display_data';\n",
              "          await google.colab.output.renderOutput(dataTable, element);\n",
              "          const docLink = document.createElement('div');\n",
              "          docLink.innerHTML = docLinkHtml;\n",
              "          element.appendChild(docLink);\n",
              "        }\n",
              "      </script>\n",
              "    </div>\n",
              "  </div>\n",
              "  "
            ]
          },
          "metadata": {},
          "execution_count": 40
        }
      ]
    },
    {
      "cell_type": "markdown",
      "source": [
        "Обучим модель  с помощью выборки, не разделяя ее на обучающую и тестовую части"
      ],
      "metadata": {
        "id": "fm27VBtI8rG6"
      }
    },
    {
      "cell_type": "code",
      "source": [
        "m3 = model.fit(X3, y3)"
      ],
      "metadata": {
        "id": "t4U7yI8lw7ak"
      },
      "execution_count": null,
      "outputs": []
    },
    {
      "cell_type": "markdown",
      "source": [
        "Найдем предсказанные моделью значения зависимой переменной"
      ],
      "metadata": {
        "id": "cOCbQzVl8slh"
      }
    },
    {
      "cell_type": "code",
      "source": [
        "y3_pred = m3.predict(X3)"
      ],
      "metadata": {
        "id": "bLBrqDRu8tlC"
      },
      "execution_count": null,
      "outputs": []
    },
    {
      "cell_type": "markdown",
      "source": [
        "Вычислим коэффициент детерминации с помощью функции explained_variance_score"
      ],
      "metadata": {
        "id": "zZ12FUFCxBsv"
      }
    },
    {
      "cell_type": "code",
      "source": [
        "R2test_m3 = metrics.explained_variance_score(y3, y3_pred)\n",
        "R2test_m3"
      ],
      "metadata": {
        "colab": {
          "base_uri": "https://localhost:8080/"
        },
        "id": "M3MDYzaVxGNR",
        "outputId": "e5b0aff9-176c-4f8a-c0f3-9537d02f6352"
      },
      "execution_count": null,
      "outputs": [
        {
          "output_type": "execute_result",
          "data": {
            "text/plain": [
              "0.7230298103460846"
            ]
          },
          "metadata": {},
          "execution_count": 43
        }
      ]
    },
    {
      "cell_type": "code",
      "source": [
        "e_m3 = y3 - y3_pred\n",
        "e_m3"
      ],
      "metadata": {
        "colab": {
          "base_uri": "https://localhost:8080/"
        },
        "id": "kVBjFVoKxUUK",
        "outputId": "648675d0-5f34-4144-ca05-94ed3a02b1bc"
      },
      "execution_count": null,
      "outputs": [
        {
          "output_type": "execute_result",
          "data": {
            "text/plain": [
              "0      17.156682\n",
              "1     -20.739551\n",
              "2     -11.750696\n",
              "3      51.686436\n",
              "4      -1.140533\n",
              "5     -13.188323\n",
              "6       2.251399\n",
              "7     -22.507833\n",
              "8      -4.721237\n",
              "9       4.218965\n",
              "10    -41.091947\n",
              "11    -13.695996\n",
              "12     20.530924\n",
              "13    -46.397363\n",
              "14      0.562847\n",
              "17     20.686549\n",
              "18    -11.881805\n",
              "19    -13.097056\n",
              "20    -11.739486\n",
              "21     -4.092122\n",
              "22    -12.408819\n",
              "23      6.991377\n",
              "24    -27.011469\n",
              "25    -30.365653\n",
              "26    -10.753447\n",
              "27    -19.128399\n",
              "28     -1.771752\n",
              "29     -1.593318\n",
              "30     10.075271\n",
              "31    -23.898452\n",
              "32    -11.720328\n",
              "34     25.840804\n",
              "35     30.205208\n",
              "36      7.120383\n",
              "37    -35.073439\n",
              "40     14.187822\n",
              "41    117.354429\n",
              "42      5.389325\n",
              "43     47.731821\n",
              "44     -8.442891\n",
              "45     -2.610675\n",
              "46     39.097960\n",
              "47    -20.265612\n",
              "Name: Price, dtype: float64"
            ]
          },
          "metadata": {},
          "execution_count": 44
        }
      ]
    },
    {
      "cell_type": "markdown",
      "source": [
        "Коэффициент детерминации стал больше по сравнению с предыдущей моделью, но несущественно. Попробуем отобрать данные, убирая в таблице ds3 строку, у которой в модели m3 самый большой остаток"
      ],
      "metadata": {
        "id": "pR3iX53Nxe5f"
      }
    },
    {
      "cell_type": "code",
      "source": [
        "ds4 = ds3.drop(labels = [41], axis = 0)"
      ],
      "metadata": {
        "id": "5KzKZgbHxh5S"
      },
      "execution_count": null,
      "outputs": []
    },
    {
      "cell_type": "markdown",
      "source": [
        "Выделим целевую переменную Price в переменную y4"
      ],
      "metadata": {
        "id": "-KXfCxvnxp0a"
      }
    },
    {
      "cell_type": "code",
      "source": [
        "y4 = ds4['Price']"
      ],
      "metadata": {
        "id": "fzm0ONRDxrDE"
      },
      "execution_count": null,
      "outputs": []
    },
    {
      "cell_type": "markdown",
      "source": [
        "Выделим матрицу исходных признаков в переменную X4"
      ],
      "metadata": {
        "id": "gSN5SGGdxspH"
      }
    },
    {
      "cell_type": "code",
      "source": [
        "X4 = ds4.drop('Price', axis=1)"
      ],
      "metadata": {
        "id": "QoyoS-TpxuM9"
      },
      "execution_count": null,
      "outputs": []
    },
    {
      "cell_type": "markdown",
      "source": [
        "Обучим модель  с помощью выборки, не разделяя ее на обучаую и тестовую части"
      ],
      "metadata": {
        "id": "x7d45OWxxwn_"
      }
    },
    {
      "cell_type": "code",
      "source": [
        "m4 = model.fit(X4, y4)"
      ],
      "metadata": {
        "id": "TFikWjjdx0Tb"
      },
      "execution_count": null,
      "outputs": []
    },
    {
      "cell_type": "markdown",
      "source": [
        "Найдем предсказанные моделью значения зависимой переменной"
      ],
      "metadata": {
        "id": "FlUDC8D8x4Dn"
      }
    },
    {
      "cell_type": "code",
      "source": [
        "y4_pred = m4.predict(X4)"
      ],
      "metadata": {
        "id": "V7QDq1D5x71G"
      },
      "execution_count": null,
      "outputs": []
    },
    {
      "cell_type": "markdown",
      "source": [
        "Вычислим коэффициент детерминации с помощью функции explained_variance_score"
      ],
      "metadata": {
        "id": "mvUjp6ARx_Ag"
      }
    },
    {
      "cell_type": "code",
      "source": [
        "R2test_m4 = metrics.explained_variance_score(y4, y4_pred)\n",
        "R2test_m4"
      ],
      "metadata": {
        "colab": {
          "base_uri": "https://localhost:8080/"
        },
        "id": "je-08IGMx969",
        "outputId": "7e30c91b-bab5-408a-f71e-e47c238f7952"
      },
      "execution_count": null,
      "outputs": [
        {
          "output_type": "execute_result",
          "data": {
            "text/plain": [
              "0.7946536725088469"
            ]
          },
          "metadata": {},
          "execution_count": 83
        }
      ]
    },
    {
      "cell_type": "code",
      "source": [
        "e_m4 = y4 - y4_pred\n",
        "e_m4"
      ],
      "metadata": {
        "colab": {
          "base_uri": "https://localhost:8080/"
        },
        "id": "kWtIos3Pzjx7",
        "outputId": "2b550416-a6ab-49e9-bd24-e2bc1f7af724"
      },
      "execution_count": null,
      "outputs": [
        {
          "output_type": "execute_result",
          "data": {
            "text/plain": [
              "0     28.458609\n",
              "1    -12.927500\n",
              "2     -7.211270\n",
              "3     57.235774\n",
              "4     10.046890\n",
              "5     -5.463533\n",
              "6      0.616848\n",
              "7    -18.089204\n",
              "8     -7.392468\n",
              "9      2.745387\n",
              "10   -25.054164\n",
              "11   -16.170548\n",
              "12    26.435571\n",
              "13   -43.899448\n",
              "14    -1.730063\n",
              "17    20.517117\n",
              "18    -6.973229\n",
              "19    -9.521360\n",
              "20    -9.372275\n",
              "21    -4.716295\n",
              "22    -8.520275\n",
              "23     7.551808\n",
              "24   -21.284313\n",
              "25   -27.188032\n",
              "26    -9.962957\n",
              "27    -9.911086\n",
              "28    -4.167638\n",
              "29     1.775719\n",
              "30     8.172894\n",
              "31   -18.329548\n",
              "32   -13.083620\n",
              "34    28.622585\n",
              "35    30.137957\n",
              "36     4.815823\n",
              "37   -27.989052\n",
              "40    12.347616\n",
              "42     3.343485\n",
              "43    52.256193\n",
              "44   -10.926542\n",
              "45    -4.656515\n",
              "46    45.133092\n",
              "47   -15.672434\n",
              "Name: Price, dtype: float64"
            ]
          },
          "metadata": {},
          "execution_count": 84
        }
      ]
    },
    {
      "cell_type": "markdown",
      "source": [
        "Коэффициент детерминации стал больше по сравнению с предыдущей моделью, но несущественно. Попробуем отобрать данные, убирая в таблице ds4 строку, у которой в модели m4 самый большой остаток"
      ],
      "metadata": {
        "id": "r64M2cPezErC"
      }
    },
    {
      "cell_type": "code",
      "source": [
        "ds5 = ds4.drop(labels = [3], axis = 0)"
      ],
      "metadata": {
        "id": "U0XhZ-OTzErU"
      },
      "execution_count": null,
      "outputs": []
    },
    {
      "cell_type": "markdown",
      "source": [
        "Выделим целевую переменную Price в переменную y5"
      ],
      "metadata": {
        "id": "X0OL86FUzErU"
      }
    },
    {
      "cell_type": "code",
      "source": [
        "y5 = ds5['Price']"
      ],
      "metadata": {
        "id": "xZoWRj0HzErU"
      },
      "execution_count": null,
      "outputs": []
    },
    {
      "cell_type": "markdown",
      "source": [
        "Выделим матрицу исходных признаков в переменную X5"
      ],
      "metadata": {
        "id": "BNS4iWdmzErU"
      }
    },
    {
      "cell_type": "code",
      "source": [
        "X5 = ds5.drop('Price', axis=1)"
      ],
      "metadata": {
        "id": "xVp-GyynzErU"
      },
      "execution_count": null,
      "outputs": []
    },
    {
      "cell_type": "markdown",
      "source": [
        "Обучим модель  с помощью выборки, не разделяя ее на обучаую и тестовую части"
      ],
      "metadata": {
        "id": "Ajev7YYXzErV"
      }
    },
    {
      "cell_type": "code",
      "source": [
        "m5 = model.fit(X5, y5)"
      ],
      "metadata": {
        "id": "Bvb1yAfFzErV"
      },
      "execution_count": null,
      "outputs": []
    },
    {
      "cell_type": "markdown",
      "source": [
        "Найдем предсказанные моделью значения зависимой переменной"
      ],
      "metadata": {
        "id": "JsRiE6TyzErV"
      }
    },
    {
      "cell_type": "code",
      "source": [
        "y5_pred = m5.predict(X5)"
      ],
      "metadata": {
        "id": "Bj_8MyRezErV"
      },
      "execution_count": null,
      "outputs": []
    },
    {
      "cell_type": "markdown",
      "source": [
        "Вычислим коэффициент детерминации с помощью функции explained_variance_score"
      ],
      "metadata": {
        "id": "19lzPeA4zErV"
      }
    },
    {
      "cell_type": "code",
      "source": [
        "R2test_m5 = metrics.explained_variance_score(y5, y5_pred)\n",
        "R2test_m5"
      ],
      "metadata": {
        "colab": {
          "base_uri": "https://localhost:8080/"
        },
        "outputId": "b65a6b15-efa0-4f95-dea7-37f6cfa93150",
        "id": "Rot_xpKkzErV"
      },
      "execution_count": null,
      "outputs": [
        {
          "output_type": "execute_result",
          "data": {
            "text/plain": [
              "0.824750403982233"
            ]
          },
          "metadata": {},
          "execution_count": 90
        }
      ]
    },
    {
      "cell_type": "markdown",
      "source": [
        "Коэффициент детерминации превысил величину 0,8. Перейдем к обучению данной модели."
      ],
      "metadata": {
        "id": "SdIXkaqEzu8Y"
      }
    },
    {
      "cell_type": "markdown",
      "source": [
        "##Обучение модели"
      ],
      "metadata": {
        "id": "dFVv2qVQ9JVQ"
      }
    },
    {
      "cell_type": "markdown",
      "source": [
        "Разделим выборку на обучающую и тестовую, отнеся в тестовую часть 20% данных, а в обучающую - остальные 80%.\n",
        "\n",
        "Используем функцию train_test_split"
      ],
      "metadata": {
        "id": "QOPo-t8C9KcQ"
      }
    },
    {
      "cell_type": "code",
      "source": [
        "X5_train, X5_test, y5_train, y5_test = train_test_split(X5, y5, train_size = 0.8)\n",
        "X5_train, X5_test, y5_train, y5_test"
      ],
      "metadata": {
        "id": "xCg88Zu-9LQs",
        "colab": {
          "base_uri": "https://localhost:8080/"
        },
        "outputId": "e3f7bb42-f4b9-4496-df60-d83397e93fd5"
      },
      "execution_count": null,
      "outputs": [
        {
          "output_type": "execute_result",
          "data": {
            "text/plain": [
              "(    House  Area   Dist  Eco\n",
              " 1     530  19.0   23.0    0\n",
              " 9      90   6.0   45.0    0\n",
              " 4     370  15.0   45.0    1\n",
              " 22     60   5.0   30.0    1\n",
              " 28     36  12.0   85.0    0\n",
              " 20    320  20.0   25.0    0\n",
              " 30     36  10.0   95.0    0\n",
              " 26    180  17.0   86.0    0\n",
              " 8      65   6.0   25.0    0\n",
              " 35    200  14.0   25.0    0\n",
              " 19     65   6.0   18.0    1\n",
              " 13     22  14.0   50.0    1\n",
              " 43    130  15.0   27.0    1\n",
              " 25     36  10.0   46.0    1\n",
              " 5     300  24.0   20.0    1\n",
              " 42     46  15.0  100.0    0\n",
              " 23    228  20.0   45.0    0\n",
              " 2     350   7.0   25.0    0\n",
              " 7      80  10.0   50.0    1\n",
              " 24    200  20.0   25.0    1\n",
              " 14     60   8.0   51.0    0\n",
              " 12    100  10.0   85.0    1\n",
              " 21    210  20.0   19.0    0\n",
              " 34    300  15.0   39.0    0\n",
              " 10    600  15.0    7.0    1\n",
              " 0     500  40.0   26.0    1\n",
              " 27    250  15.0   85.0    1\n",
              " 31    420  10.0    9.0    0\n",
              " 29    285  15.0   74.0    0\n",
              " 46    170  10.0   25.0    1\n",
              " 44     56  15.0   75.0    0\n",
              " 11     85  11.0   33.0    0,\n",
              "     House  Area   Dist  Eco\n",
              " 45     46  15.0  100.0    0\n",
              " 18     60  11.0   90.0    1\n",
              " 47     70   6.0   50.0    1\n",
              " 17    170   6.0   18.0    0\n",
              " 6      78   8.5   60.0    0\n",
              " 40     36  12.0  105.0    0\n",
              " 32    130   6.0   12.0    0\n",
              " 36     36   6.0   65.0    0\n",
              " 37    300  32.0   28.0    1,\n",
              " 1      95.0\n",
              " 9      20.0\n",
              " 4      95.0\n",
              " 22     28.0\n",
              " 28      5.5\n",
              " 20     85.0\n",
              " 30      5.0\n",
              " 26     27.0\n",
              " 8      20.0\n",
              " 35     95.0\n",
              " 19     38.0\n",
              " 13      8.5\n",
              " 43    130.0\n",
              " 25     15.0\n",
              " 5     120.0\n",
              " 42     15.0\n",
              " 23     83.0\n",
              " 2      45.0\n",
              " 7      25.0\n",
              " 24     80.0\n",
              " 14     16.5\n",
              " 12     50.0\n",
              " 21     85.0\n",
              " 34     96.0\n",
              " 10    100.0\n",
              " 0     220.0\n",
              " 27     42.0\n",
              " 31     59.0\n",
              " 29     47.0\n",
              " 46    110.0\n",
              " 44     16.5\n",
              " 11     25.0\n",
              " Name: Price, dtype: float64,\n",
              " 45      7.0\n",
              " 18     14.0\n",
              " 47     13.0\n",
              " 17     60.0\n",
              " 6      16.5\n",
              " 40     10.0\n",
              " 32     27.0\n",
              " 36      6.0\n",
              " 37    120.0\n",
              " Name: Price, dtype: float64)"
            ]
          },
          "metadata": {},
          "execution_count": 92
        }
      ]
    },
    {
      "cell_type": "markdown",
      "source": [
        "Введем новый объект - модель линейной регрессии"
      ],
      "metadata": {
        "id": "XukD3Sfk9MOZ"
      }
    },
    {
      "cell_type": "code",
      "source": [
        "model_cleared_data = LinearRegression(fit_intercept=True)"
      ],
      "metadata": {
        "id": "tSHxC48G9NyT"
      },
      "execution_count": null,
      "outputs": []
    },
    {
      "cell_type": "markdown",
      "source": [
        "Обучаем модель на наших данных"
      ],
      "metadata": {
        "id": "xKhp9ROq9Ot6"
      }
    },
    {
      "cell_type": "code",
      "source": [
        "ml_cleared = model_cleared_data.fit(X5_train, y5_train)"
      ],
      "metadata": {
        "id": "0vR9wi9D9Pct"
      },
      "execution_count": null,
      "outputs": []
    },
    {
      "cell_type": "markdown",
      "source": [
        "Посмотрим на результат обучения. Оценки коэффициентов перед признаками"
      ],
      "metadata": {
        "id": "BEccoBqc0MmO"
      }
    },
    {
      "cell_type": "code",
      "source": [
        "ml_cleared.coef_"
      ],
      "metadata": {
        "colab": {
          "base_uri": "https://localhost:8080/"
        },
        "id": "pR_GJGXc0Oj5",
        "outputId": "ea64faac-fd0c-4ca2-81d4-57166a29b926"
      },
      "execution_count": null,
      "outputs": [
        {
          "output_type": "execute_result",
          "data": {
            "text/plain": [
              "array([ 0.06937784,  4.00053601, -0.5776625 , 15.96769061])"
            ]
          },
          "metadata": {},
          "execution_count": 95
        }
      ]
    },
    {
      "cell_type": "markdown",
      "source": [
        "Оценка свободного коэффициента"
      ],
      "metadata": {
        "id": "81sK5D2s9Qu3"
      }
    },
    {
      "cell_type": "code",
      "source": [
        "ml_cleared.intercept_"
      ],
      "metadata": {
        "colab": {
          "base_uri": "https://localhost:8080/"
        },
        "id": "YtEhQ5rB9SKT",
        "outputId": "66e800ff-3529-424c-d1a6-16db9a0109bb"
      },
      "execution_count": null,
      "outputs": [
        {
          "output_type": "execute_result",
          "data": {
            "text/plain": [
              "8.084576604342246"
            ]
          },
          "metadata": {},
          "execution_count": 96
        }
      ]
    },
    {
      "cell_type": "markdown",
      "source": [
        "##Тестирование и оценка качества"
      ],
      "metadata": {
        "id": "ZmPvovTu9TNq"
      }
    },
    {
      "cell_type": "markdown",
      "source": [
        "###Оценка качества модели на обучающей выборке"
      ],
      "metadata": {
        "id": "m_1DA1Il9UU-"
      }
    },
    {
      "cell_type": "markdown",
      "source": [
        "Выполним предсказание значений целевой функции моделью\n",
        "с помощью метода predict"
      ],
      "metadata": {
        "id": "TO9lxDAx9V2j"
      }
    },
    {
      "cell_type": "code",
      "source": [
        "y5_pred_ = ml_cleared.predict(X5_train)\n",
        "y5_pred_"
      ],
      "metadata": {
        "colab": {
          "base_uri": "https://localhost:8080/"
        },
        "id": "qy2U1CdA9XHm",
        "outputId": "3ec1d7b4-f9ce-4ee7-f1f7-0a79e4357438"
      },
      "execution_count": null,
      "outputs": [
        {
          "output_type": "execute_result",
          "data": {
            "text/plain": [
              "array([107.57877976,  12.33698605,  83.73529659,  30.88774285,\n",
              "         9.48729871,  95.8546439 ,  -4.2903983 ,  38.90272555,\n",
              "        22.15578996,  63.52608676,  42.16711806,  52.70295899,\n",
              "        77.48253943,  39.98275473, 129.3252342 ,  13.51774769,\n",
              "        77.91863245,  45.92901101,  40.72472979, 103.49699344,\n",
              "        14.79074782,  21.89409919,  91.68905625,  66.37713202,\n",
              "       121.64337524, 203.74340386,  52.30345559,  72.02966798,\n",
              "        45.11827694,  61.41029805,  28.65308857,  38.92472688])"
            ]
          },
          "metadata": {},
          "execution_count": 97
        }
      ]
    },
    {
      "cell_type": "markdown",
      "source": [
        "Вычислим остатки - разности между имеющимися значениями и предсказанными значениями целевой переменной"
      ],
      "metadata": {
        "id": "_DGV4OeI9YaA"
      }
    },
    {
      "cell_type": "code",
      "source": [
        "e_cleared_ml = y5_train - y5_pred_\n",
        "e_cleared_ml"
      ],
      "metadata": {
        "colab": {
          "base_uri": "https://localhost:8080/"
        },
        "id": "2BythJac9a73",
        "outputId": "adea2086-ce8e-4129-e677-62fdc950798f"
      },
      "execution_count": null,
      "outputs": [
        {
          "output_type": "execute_result",
          "data": {
            "text/plain": [
              "1    -12.578780\n",
              "9      7.663014\n",
              "4     11.264703\n",
              "22    -2.887743\n",
              "28    -3.987299\n",
              "20   -10.854644\n",
              "30     9.290398\n",
              "26   -11.902726\n",
              "8     -2.155790\n",
              "35    31.473913\n",
              "19    -4.167118\n",
              "13   -44.202959\n",
              "43    52.517461\n",
              "25   -24.982755\n",
              "5     -9.325234\n",
              "42     1.482252\n",
              "23     5.081368\n",
              "2     -0.929011\n",
              "7    -15.724730\n",
              "24   -23.496993\n",
              "14     1.709252\n",
              "12    28.105901\n",
              "21    -6.689056\n",
              "34    29.622868\n",
              "10   -21.643375\n",
              "0     16.256596\n",
              "27   -10.303456\n",
              "31   -13.029668\n",
              "29     1.881723\n",
              "46    48.589702\n",
              "44   -12.153089\n",
              "11   -13.924727\n",
              "Name: Price, dtype: float64"
            ]
          },
          "metadata": {},
          "execution_count": 98
        }
      ]
    },
    {
      "cell_type": "markdown",
      "source": [
        "Построим диаграмму остатков"
      ],
      "metadata": {
        "id": "A1RaWwVH9cvm"
      }
    },
    {
      "cell_type": "code",
      "source": [
        "plt.scatter(e_cleared_ml.index, e_cleared_ml)"
      ],
      "metadata": {
        "colab": {
          "base_uri": "https://localhost:8080/",
          "height": 447
        },
        "id": "l7PCwYqm9dqR",
        "outputId": "765775e9-a313-4636-ad53-fffc3b8e8c94"
      },
      "execution_count": null,
      "outputs": [
        {
          "output_type": "execute_result",
          "data": {
            "text/plain": [
              "<matplotlib.collections.PathCollection at 0x7f6ad4725f00>"
            ]
          },
          "metadata": {},
          "execution_count": 99
        },
        {
          "output_type": "display_data",
          "data": {
            "text/plain": [
              "<Figure size 640x480 with 1 Axes>"
            ],
            "image/png": "[encoded data removed]"
          },
          "metadata": {}
        }
      ]
    },
    {
      "cell_type": "markdown",
      "source": [
        "Исходя из диаграммы, имеется много больших остатков. Значит, качество модели на обучающей выборке является невысоким."
      ],
      "metadata": {
        "id": "As9Na-fU9fAS"
      }
    },
    {
      "cell_type": "markdown",
      "source": [
        "Вычислим коэффициент детерминации с помощью функции explained_variance_score"
      ],
      "metadata": {
        "id": "qh0azrKQ9e6F"
      }
    },
    {
      "cell_type": "code",
      "source": [
        "R2_cleared_ml = metrics.explained_variance_score(y5_train, y5_pred_)\n",
        "R2_cleared_ml"
      ],
      "metadata": {
        "colab": {
          "base_uri": "https://localhost:8080/"
        },
        "id": "yj-FRsRi9iTB",
        "outputId": "bfc09871-7d31-4fb6-efa9-3b0641b069d1"
      },
      "execution_count": null,
      "outputs": [
        {
          "output_type": "execute_result",
          "data": {
            "text/plain": [
              "0.8108603200060821"
            ]
          },
          "metadata": {},
          "execution_count": 100
        }
      ]
    },
    {
      "cell_type": "markdown",
      "source": [
        "Значение R2 больше 0.8, это значит, что модель хорошо показывает на обучающей выборке"
      ],
      "metadata": {
        "id": "tSjJ7Xmy9jzR"
      }
    },
    {
      "cell_type": "markdown",
      "source": [
        "Вычислим метрику MAPE с помощью функции mean_absolute_percentage_error"
      ],
      "metadata": {
        "id": "SVS8-fF39lLk"
      }
    },
    {
      "cell_type": "code",
      "source": [
        "mape_cleared_ml = metrics.mean_absolute_percentage_error(y5_train, y5_pred_) * 100\n",
        "mape_cleared_ml"
      ],
      "metadata": {
        "colab": {
          "base_uri": "https://localhost:8080/"
        },
        "id": "CeU6Y-dD9mN0",
        "outputId": "7bc225d6-3eec-4f7a-acec-0f5e635bf156"
      },
      "execution_count": null,
      "outputs": [
        {
          "output_type": "execute_result",
          "data": {
            "text/plain": [
              "51.479112600655256"
            ]
          },
          "metadata": {},
          "execution_count": 101
        }
      ]
    },
    {
      "cell_type": "markdown",
      "source": [
        "Вычислим дополнительные характеристики - метрики MSE и MAE. Они потребуются для сравнения качества модели на обучающей и тестовой выборках.\n",
        "\n",
        "Метрика MSE:"
      ],
      "metadata": {
        "id": "1hHnSS9e9nMB"
      }
    },
    {
      "cell_type": "code",
      "source": [
        "mse_cleared_ml = metrics.mean_squared_error(y5_train, y5_pred_)\n",
        "mse_cleared_ml"
      ],
      "metadata": {
        "colab": {
          "base_uri": "https://localhost:8080/"
        },
        "id": "weFAg5-A9oZx",
        "outputId": "7a1199ed-8f62-4f71-9924-4749e93252d9"
      },
      "execution_count": null,
      "outputs": [
        {
          "output_type": "execute_result",
          "data": {
            "text/plain": [
              "418.9909372796517"
            ]
          },
          "metadata": {},
          "execution_count": 102
        }
      ]
    },
    {
      "cell_type": "markdown",
      "source": [
        "Метрика MAE:"
      ],
      "metadata": {
        "id": "qhkoYcEQ9pke"
      }
    },
    {
      "cell_type": "code",
      "source": [
        "mae_cleared_ml = metrics.mean_absolute_error(y5_train, y5_pred_)\n",
        "mae_cleared_ml"
      ],
      "metadata": {
        "colab": {
          "base_uri": "https://localhost:8080/"
        },
        "id": "gLI48S759qq_",
        "outputId": "255f24b2-0b32-4874-fdb7-c701817c7569"
      },
      "execution_count": null,
      "outputs": [
        {
          "output_type": "execute_result",
          "data": {
            "text/plain": [
              "15.308696966041538"
            ]
          },
          "metadata": {},
          "execution_count": 103
        }
      ]
    },
    {
      "cell_type": "markdown",
      "source": [
        "###Оценка качества модели на тестовой выборке"
      ],
      "metadata": {
        "id": "HiQp2WmE9r_i"
      }
    },
    {
      "cell_type": "markdown",
      "source": [
        "Выполним предсказание значений целевой функции моделью с помощью метода predict"
      ],
      "metadata": {
        "id": "wGiJV5919uHr"
      }
    },
    {
      "cell_type": "code",
      "source": [
        "y5_test_pred = ml_cleared.predict(X5_test)\n",
        "y5_test_pred"
      ],
      "metadata": {
        "colab": {
          "base_uri": "https://localhost:8080/"
        },
        "id": "xam8B-xG9vV_",
        "outputId": "8b032860-d905-44a3-b0b0-b9a2e397782b"
      },
      "execution_count": null,
      "outputs": [
        {
          "output_type": "execute_result",
          "data": {
            "text/plain": [
              "array([ 13.51774769,  20.23120902,  24.02880732,  33.48410089,\n",
              "        12.8408545 ,  -2.06595126,  34.17496219,  -2.9626674 ,\n",
              "       156.70822231])"
            ]
          },
          "metadata": {},
          "execution_count": 104
        }
      ]
    },
    {
      "cell_type": "markdown",
      "source": [
        "Вычислим остатки - разности между имеющимися значениями и предсказанными значениями целевой переменной"
      ],
      "metadata": {
        "id": "3SNOGBqK9wQC"
      }
    },
    {
      "cell_type": "code",
      "source": [
        "e_cleared_test_ml = y5_test - y5_test_pred\n",
        "e_cleared_test_ml"
      ],
      "metadata": {
        "colab": {
          "base_uri": "https://localhost:8080/"
        },
        "id": "O_0_n9QH9xTw",
        "outputId": "3c50d17e-2436-493d-eb8d-061f17084006"
      },
      "execution_count": null,
      "outputs": [
        {
          "output_type": "execute_result",
          "data": {
            "text/plain": [
              "45    -6.517748\n",
              "18    -6.231209\n",
              "47   -11.028807\n",
              "17    26.515899\n",
              "6      3.659146\n",
              "40    12.065951\n",
              "32    -7.174962\n",
              "36     8.962667\n",
              "37   -36.708222\n",
              "Name: Price, dtype: float64"
            ]
          },
          "metadata": {},
          "execution_count": 105
        }
      ]
    },
    {
      "cell_type": "markdown",
      "source": [
        "Построим диаграмму остатков"
      ],
      "metadata": {
        "id": "I_Lzjpax9-VY"
      }
    },
    {
      "cell_type": "code",
      "source": [
        "plt.scatter(e_cleared_test_ml.index, e_cleared_test_ml)"
      ],
      "metadata": {
        "colab": {
          "base_uri": "https://localhost:8080/",
          "height": 447
        },
        "id": "VU_tP0Ko-ADn",
        "outputId": "649c0856-4542-4587-f407-dcf8a9716d6d"
      },
      "execution_count": null,
      "outputs": [
        {
          "output_type": "execute_result",
          "data": {
            "text/plain": [
              "<matplotlib.collections.PathCollection at 0x7f6ada0aee30>"
            ]
          },
          "metadata": {},
          "execution_count": 106
        },
        {
          "output_type": "display_data",
          "data": {
            "text/plain": [
              "<Figure size 640x480 with 1 Axes>"
            ],
            "image/png": "[encoded data removed]"
          },
          "metadata": {}
        }
      ]
    },
    {
      "cell_type": "markdown",
      "source": [
        "Исходя из диаграммы, имеется немного больших остатков. Значит, качество модели на тестовой выборке является высоким."
      ],
      "metadata": {
        "id": "VZjXnxYK-BgA"
      }
    },
    {
      "cell_type": "markdown",
      "source": [
        "Вычислим коэффициент детерминации с помощью функции explained_variance_score"
      ],
      "metadata": {
        "id": "G-reD4sf-BU4"
      }
    },
    {
      "cell_type": "code",
      "source": [
        "R2_cleared_test_ml = metrics.explained_variance_score(y5_test, y5_test_pred)\n",
        "R2_cleared_test_ml"
      ],
      "metadata": {
        "colab": {
          "base_uri": "https://localhost:8080/"
        },
        "id": "d135QxBb-H6n",
        "outputId": "34554119-f24d-43f9-8599-a5abe31bfeab"
      },
      "execution_count": null,
      "outputs": [
        {
          "output_type": "execute_result",
          "data": {
            "text/plain": [
              "0.7763125115580085"
            ]
          },
          "metadata": {},
          "execution_count": 107
        }
      ]
    },
    {
      "cell_type": "markdown",
      "source": [
        "Вычислим метрику MAPE с помощью функции mean_absolute_percentage_error"
      ],
      "metadata": {
        "id": "9oMzn6Az-FKp"
      }
    },
    {
      "cell_type": "code",
      "source": [
        "mape_cleared_test_ml = metrics.mean_absolute_percentage_error(y5_test, y5_test_pred) * 100\n",
        "mape_cleared_test_ml"
      ],
      "metadata": {
        "colab": {
          "base_uri": "https://localhost:8080/"
        },
        "id": "2zgcDjRz-HCa",
        "outputId": "01fd125d-72fe-42a3-cb4b-353b481446c9"
      },
      "execution_count": null,
      "outputs": [
        {
          "output_type": "execute_result",
          "data": {
            "text/plain": [
              "68.44750255462316"
            ]
          },
          "metadata": {},
          "execution_count": 108
        }
      ]
    },
    {
      "cell_type": "markdown",
      "source": [
        "###**Вывод**"
      ],
      "metadata": {
        "id": "D-49up_i-Mtx"
      }
    },
    {
      "cell_type": "markdown",
      "source": [
        "Таким образом, исследуемая модель обладает более высоким качеством на тестовой выборке, нежели на обучающей выборке, то есть модель недообучена"
      ],
      "metadata": {
        "id": "NKadRKmA-Rti"
      }
    },
    {
      "cell_type": "markdown",
      "source": [
        "Вычислим дополнительные характеристики - метрики MSE и MAE. Они потребуются для сравнения качества модели на обучающей и тестовой выборках.\n",
        "\n",
        "Метрика MSE:"
      ],
      "metadata": {
        "id": "nUlxURLG-THl"
      }
    },
    {
      "cell_type": "code",
      "source": [
        "mse_cleared_test_ml = metrics.mean_squared_error(y5_test, y5_test_pred)\n",
        "mse_cleared_test_ml"
      ],
      "metadata": {
        "colab": {
          "base_uri": "https://localhost:8080/"
        },
        "id": "Ypd6hDCU-UfG",
        "outputId": "4b8556ea-7725-40a7-e517-e618ab803eec"
      },
      "execution_count": null,
      "outputs": [
        {
          "output_type": "execute_result",
          "data": {
            "text/plain": [
              "282.70178865934963"
            ]
          },
          "metadata": {},
          "execution_count": 109
        }
      ]
    },
    {
      "cell_type": "markdown",
      "source": [
        "Метрика MAE:"
      ],
      "metadata": {
        "id": "d28pjikR-WON"
      }
    },
    {
      "cell_type": "code",
      "source": [
        "mae_cleared_test_ml = metrics.mean_absolute_error(y5_test, y5_test_pred)\n",
        "mae_cleared_test_ml"
      ],
      "metadata": {
        "colab": {
          "base_uri": "https://localhost:8080/"
        },
        "id": "5uq4GpYu-YCM",
        "outputId": "17bf689f-f31b-4c3d-fac8-be87138c1c5b"
      },
      "execution_count": null,
      "outputs": [
        {
          "output_type": "execute_result",
          "data": {
            "text/plain": [
              "13.207179089677235"
            ]
          },
          "metadata": {},
          "execution_count": 110
        }
      ]
    },
    {
      "cell_type": "code",
      "source": [
        "ind = ['R2', 'MAPE', 'MSE', 'MAE']\n",
        "dat1 = [R2_cleared_ml, mape_cleared_ml, mse_cleared_ml, mae_cleared_ml]\n",
        "dat2 = [R2_cleared_test_ml, mape_cleared_test_ml, mse_cleared_test_ml, mae_cleared_test_ml]\n",
        "\n",
        "pd.DataFrame({\n",
        "    'Metrics': ['R2', 'MAPE', 'MSE', 'MAE'],\n",
        "    'Train': [R2_cleared_ml, mape_cleared_ml, mse_cleared_ml, mae_cleared_ml],\n",
        "    'Test': [R2_cleared_test_ml, mape_cleared_test_ml, mse_cleared_test_ml, mae_cleared_test_ml]\n",
        "})"
      ],
      "metadata": {
        "colab": {
          "base_uri": "https://localhost:8080/",
          "height": 175
        },
        "id": "yLUveZKB-Yxh",
        "outputId": "00a7d121-4148-40fa-ffa0-a690e72f2c8e"
      },
      "execution_count": null,
      "outputs": [
        {
          "output_type": "execute_result",
          "data": {
            "text/plain": [
              "  Metrics       Train        Test\n",
              "0      R2    0.810860    0.776313\n",
              "1    MAPE   51.479113   68.447503\n",
              "2     MSE  418.990937  282.701789\n",
              "3     MAE   15.308697   13.207179"
            ],
            "text/html": [
              "\n",
              "  <div id=\"df-4e6e1be0-366a-4ca9-a0a7-a633ae02e563\">\n",
              "    <div class=\"colab-df-container\">\n",
              "      <div>\n",
              "<style scoped>\n",
              "    .dataframe tbody tr th:only-of-type {\n",
              "        vertical-align: middle;\n",
              "    }\n",
              "\n",
              "    .dataframe tbody tr th {\n",
              "        vertical-align: top;\n",
              "    }\n",
              "\n",
              "    .dataframe thead th {\n",
              "        text-align: right;\n",
              "    }\n",
              "</style>\n",
              "<table border=\"1\" class=\"dataframe\">\n",
              "  <thead>\n",
              "    <tr style=\"text-align: right;\">\n",
              "      <th></th>\n",
              "      <th>Metrics</th>\n",
              "      <th>Train</th>\n",
              "      <th>Test</th>\n",
              "    </tr>\n",
              "  </thead>\n",
              "  <tbody>\n",
              "    <tr>\n",
              "      <th>0</th>\n",
              "      <td>R2</td>\n",
              "      <td>0.810860</td>\n",
              "      <td>0.776313</td>\n",
              "    </tr>\n",
              "    <tr>\n",
              "      <th>1</th>\n",
              "      <td>MAPE</td>\n",
              "      <td>51.479113</td>\n",
              "      <td>68.447503</td>\n",
              "    </tr>\n",
              "    <tr>\n",
              "      <th>2</th>\n",
              "      <td>MSE</td>\n",
              "      <td>418.990937</td>\n",
              "      <td>282.701789</td>\n",
              "    </tr>\n",
              "    <tr>\n",
              "      <th>3</th>\n",
              "      <td>MAE</td>\n",
              "      <td>15.308697</td>\n",
              "      <td>13.207179</td>\n",
              "    </tr>\n",
              "  </tbody>\n",
              "</table>\n",
              "</div>\n",
              "      <button class=\"colab-df-convert\" onclick=\"convertToInteractive('df-4e6e1be0-366a-4ca9-a0a7-a633ae02e563')\"\n",
              "              title=\"Convert this dataframe to an interactive table.\"\n",
              "              style=\"display:none;\">\n",
              "        \n",
              "  <svg xmlns=\"http://www.w3.org/2000/svg\" height=\"24px\"viewBox=\"0 0 24 24\"\n",
              "       width=\"24px\">\n",
              "    <path d=\"M0 0h24v24H0V0z\" fill=\"none\"/>\n",
              "    <path d=\"M18.56 5.44l.94 2.06.94-2.06 2.06-.94-2.06-.94-.94-2.06-.94 2.06-2.06.94zm-11 1L8.5 8.5l.94-2.06 2.06-.94-2.06-.94L8.5 2.5l-.94 2.06-2.06.94zm10 10l.94 2.06.94-2.06 2.06-.94-2.06-.94-.94-2.06-.94 2.06-2.06.94z\"/><path d=\"M17.41 7.96l-1.37-1.37c-.4-.4-.92-.59-1.43-.59-.52 0-1.04.2-1.43.59L10.3 9.45l-7.72 7.72c-.78.78-.78 2.05 0 2.83L4 21.41c.39.39.9.59 1.41.59.51 0 1.02-.2 1.41-.59l7.78-7.78 2.81-2.81c.8-.78.8-2.07 0-2.86zM5.41 20L4 18.59l7.72-7.72 1.47 1.35L5.41 20z\"/>\n",
              "  </svg>\n",
              "      </button>\n",
              "      \n",
              "  <style>\n",
              "    .colab-df-container {\n",
              "      display:flex;\n",
              "      flex-wrap:wrap;\n",
              "      gap: 12px;\n",
              "    }\n",
              "\n",
              "    .colab-df-convert {\n",
              "      background-color: #E8F0FE;\n",
              "      border: none;\n",
              "      border-radius: 50%;\n",
              "      cursor: pointer;\n",
              "      display: none;\n",
              "      fill: #1967D2;\n",
              "      height: 32px;\n",
              "      padding: 0 0 0 0;\n",
              "      width: 32px;\n",
              "    }\n",
              "\n",
              "    .colab-df-convert:hover {\n",
              "      background-color: #E2EBFA;\n",
              "      box-shadow: 0px 1px 2px rgba(60, 64, 67, 0.3), 0px 1px 3px 1px rgba(60, 64, 67, 0.15);\n",
              "      fill: #174EA6;\n",
              "    }\n",
              "\n",
              "    [theme=dark] .colab-df-convert {\n",
              "      background-color: #3B4455;\n",
              "      fill: #D2E3FC;\n",
              "    }\n",
              "\n",
              "    [theme=dark] .colab-df-convert:hover {\n",
              "      background-color: #434B5C;\n",
              "      box-shadow: 0px 1px 3px 1px rgba(0, 0, 0, 0.15);\n",
              "      filter: drop-shadow(0px 1px 2px rgba(0, 0, 0, 0.3));\n",
              "      fill: #FFFFFF;\n",
              "    }\n",
              "  </style>\n",
              "\n",
              "      <script>\n",
              "        const buttonEl =\n",
              "          document.querySelector('#df-4e6e1be0-366a-4ca9-a0a7-a633ae02e563 button.colab-df-convert');\n",
              "        buttonEl.style.display =\n",
              "          google.colab.kernel.accessAllowed ? 'block' : 'none';\n",
              "\n",
              "        async function convertToInteractive(key) {\n",
              "          const element = document.querySelector('#df-4e6e1be0-366a-4ca9-a0a7-a633ae02e563');\n",
              "          const dataTable =\n",
              "            await google.colab.kernel.invokeFunction('convertToInteractive',\n",
              "                                                     [key], {});\n",
              "          if (!dataTable) return;\n",
              "\n",
              "          const docLinkHtml = 'Like what you see? Visit the ' +\n",
              "            '<a target=\"_blank\" href=https://colab.research.google.com/notebooks/data_table.ipynb>data table notebook</a>'\n",
              "            + ' to learn more about interactive tables.';\n",
              "          element.innerHTML = '';\n",
              "          dataTable['output_type'] = 'display_data';\n",
              "          await google.colab.output.renderOutput(dataTable, element);\n",
              "          const docLink = document.createElement('div');\n",
              "          docLink.innerHTML = docLinkHtml;\n",
              "          element.appendChild(docLink);\n",
              "        }\n",
              "      </script>\n",
              "    </div>\n",
              "  </div>\n",
              "  "
            ]
          },
          "metadata": {},
          "execution_count": 112
        }
      ]
    },
    {
      "cell_type": "markdown",
      "source": [
        "Вывод:\n",
        "\n",
        "$R^2$ стал лучше на тестовой выборке, но MAPE стали хуже на тестовой выборке, а MSE, MAE хуже на обучающей выборке, следовательно нельзя сказать модель переобучена или недообучена."
      ],
      "metadata": {
        "id": "NJ-2T0LN3PZ9"
      }
    },
    {
      "cell_type": "markdown",
      "source": [
        "#Заключение"
      ],
      "metadata": {
        "id": "buCte8K--aHQ"
      }
    },
    {
      "cell_type": "markdown",
      "source": [
        "Целью нашей работы было: предсказать стоимость коттеджа по его признакам. Мы провели тестирование и оценку качества модели на обучающей и тестовой выборках используя модель линейной регрессии, пользуясь библиотеками pandas, matplotlib.pyplot, numpy и stats и необходимыми нам инструментами пакета Scikit-learn.\n",
        "\n",
        "Мы улучшили качество модели посредством дополнительной очистки данных и ее переобучения.\n",
        "\n",
        "Проведя повторную оценку и тестирование модели, мы не можем сделать вывод, что данная модель получилась переобученной или недообученой, так как она показывает половину хороших результатов на тестовой выборке и половину хороших на обучающей выборке."
      ],
      "metadata": {
        "id": "N2ccR5IjMnOu"
      }
    }
  ]
}