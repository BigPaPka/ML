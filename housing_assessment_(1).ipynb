{
  "nbformat": 4,
  "nbformat_minor": 0,
  "metadata": {
    "colab": {
      "provenance": []
    },
    "kernelspec": {
      "name": "python3",
      "display_name": "Python 3"
    },
    "language_info": {
      "name": "python"
    }
  },
  "cells": [
    {
      "cell_type": "markdown",
      "source": [
        "<font size=40>Линейная регрессия\n"
      ],
      "metadata": {
        "id": "eD93g-GecOFq"
      }
    },
    {
      "cell_type": "markdown",
      "source": [
        "#Введение"
      ],
      "metadata": {
        "id": "0nrycTPzcfkK"
      }
    },
    {
      "cell_type": "markdown",
      "source": [
        "Цель работы - предсказать стоимость коттеджа по его признакам."
      ],
      "metadata": {
        "id": "KjSG4kVHchWx"
      }
    },
    {
      "cell_type": "markdown",
      "source": [
        "**Описание переменных**\n",
        "\n",
        "PRICE - стоимость коттеджа в тысячах долларов США\n",
        "\n",
        "HOUSE - площадь коттеджа в квадратных метрах\n",
        "\n",
        "AREA - площадь участка в сотках\n",
        "\n",
        "DIST - расстояние от расположения недвижимости до автомобильной дороги(например, до кольцевой автодороги) в километрах.(Пример)\n",
        "\n",
        "TER - индикатор, принимающий значение 1, если с коттеджом есть терраса или веранда, и 0 -иначе"
      ],
      "metadata": {
        "id": "PXOdeyeickgc"
      }
    },
    {
      "cell_type": "markdown",
      "source": [
        "#Подготовка данных"
      ],
      "metadata": {
        "id": "s2lQscjicn_2"
      }
    },
    {
      "cell_type": "markdown",
      "source": [
        "Подключаем библиотеки pandas, matplotlib.pyplot, numpy, stats:"
      ],
      "metadata": {
        "id": "byoRuZw0cp3W"
      }
    },
    {
      "cell_type": "code",
      "source": [
        "import pandas as pd\n",
        "import matplotlib.pyplot as plt\n",
        "import numpy as np\n",
        "import scipy.stats as stats"
      ],
      "metadata": {
        "id": "aLS29ON3crjF"
      },
      "execution_count": 1,
      "outputs": []
    },
    {
      "cell_type": "markdown",
      "source": [
        "Подключаем необходимые инструменты из пакета Scikit-learn"
      ],
      "metadata": {
        "id": "bU_md4Ywcsxg"
      }
    },
    {
      "cell_type": "code",
      "source": [
        "from sklearn.model_selection import train_test_split\n",
        "from sklearn.preprocessing import OneHotEncoder\n",
        "from sklearn.linear_model import LinearRegression\n",
        "from sklearn import metrics"
      ],
      "metadata": {
        "id": "dQ8Ew-XrcuJf"
      },
      "execution_count": 2,
      "outputs": []
    },
    {
      "cell_type": "markdown",
      "source": [
        "Импортируем данные"
      ],
      "metadata": {
        "id": "Jdmos4I9cvkq"
      }
    },
    {
      "cell_type": "code",
      "source": [
        "ds = pd.read_excel(\"Info (5).xlsx\", skiprows = 1, sheet_name = 'V(1)')\n",
        "ds"
      ],
      "metadata": {
        "colab": {
          "base_uri": "https://localhost:8080/",
          "height": 1000
        },
        "id": "dR_IvyYRcxM2",
        "outputId": "4770df1c-8c47-4efc-9246-b4a4be218bab"
      },
      "execution_count": 3,
      "outputs": [
        {
          "output_type": "execute_result",
          "data": {
            "text/plain": [
              "    Price  House  Area   Dist  Ter\n",
              "0   220.0    500  40.0   26.0    1\n",
              "1    95.0    530  19.0   23.0    0\n",
              "2    45.0    350   7.0   25.0    0\n",
              "3   120.0    150  10.0   26.0    1\n",
              "4    95.0    370  15.0   45.0    1\n",
              "5   120.0    300  24.0   20.0    1\n",
              "6    16.5     78   8.5   60.0    0\n",
              "7    25.0     80  10.0   50.0    1\n",
              "8    20.0     65   6.0   25.0    0\n",
              "9    20.0     90   6.0   45.0    0\n",
              "10  100.0    600  15.0    7.0    1\n",
              "11   25.0     85  11.0   33.0    0\n",
              "12   50.0    100  10.0   85.0    1\n",
              "13    8.5     22  14.0   50.0    1\n",
              "14   16.5     60   8.0   51.0    0\n",
              "15  320.0    300  15.0    0.5    1\n",
              "16  300.0    400  22.0   20.0    1\n",
              "17   60.0    170   6.0   18.0    0\n",
              "18   14.0     60  11.0   90.0    1\n",
              "19   38.0     65   6.0   18.0    1\n",
              "20   85.0    320  20.0   25.0    0\n",
              "21   85.0    210  20.0   19.0    0\n",
              "22   28.0     60   5.0   30.0    1\n",
              "23   83.0    228  20.0   45.0    0\n",
              "24   80.0    200  20.0   25.0    1\n",
              "25   15.0     36  10.0   46.0    1\n",
              "26   27.0    180  17.0   86.0    0\n",
              "27   42.0    250  15.0   85.0    1\n",
              "28    5.5     36  12.0   85.0    0\n",
              "29   47.0    285  15.0   74.0    0\n",
              "30    5.0     36  10.0   95.0    0\n",
              "31   59.0    420  10.0    9.0    0\n",
              "32   27.0    130   6.0   12.0    0\n",
              "33  270.0    350  15.0   15.0    1\n",
              "34   96.0    300  15.0   39.0    0\n",
              "35   95.0    200  14.0   25.0    0\n",
              "36    6.0     36   6.0   65.0    0\n",
              "37  120.0    300  32.0   28.0    1\n",
              "38  135.0    170  15.0   30.0    1\n",
              "39  315.0    450  25.0   25.0    1\n",
              "40   10.0     36  12.0  105.0    0\n",
              "41  230.0    350  18.0   30.0    1\n",
              "42   15.0     46  15.0  100.0    0\n",
              "43  130.0    130  15.0   27.0    1\n",
              "44   16.5     56  15.0   75.0    0\n",
              "45    7.0     46  15.0  100.0    0\n",
              "46  110.0    170  10.0   25.0    1\n",
              "47   13.0     70   6.0   50.0    1"
            ],
            "text/html": [
              "\n",
              "  <div id=\"df-60a98ae4-7969-4c78-9e42-45767192d0bd\" class=\"colab-df-container\">\n",
              "    <div>\n",
              "<style scoped>\n",
              "    .dataframe tbody tr th:only-of-type {\n",
              "        vertical-align: middle;\n",
              "    }\n",
              "\n",
              "    .dataframe tbody tr th {\n",
              "        vertical-align: top;\n",
              "    }\n",
              "\n",
              "    .dataframe thead th {\n",
              "        text-align: right;\n",
              "    }\n",
              "</style>\n",
              "<table border=\"1\" class=\"dataframe\">\n",
              "  <thead>\n",
              "    <tr style=\"text-align: right;\">\n",
              "      <th></th>\n",
              "      <th>Price</th>\n",
              "      <th>House</th>\n",
              "      <th>Area</th>\n",
              "      <th>Dist</th>\n",
              "      <th>Ter</th>\n",
              "    </tr>\n",
              "  </thead>\n",
              "  <tbody>\n",
              "    <tr>\n",
              "      <th>0</th>\n",
              "      <td>220.0</td>\n",
              "      <td>500</td>\n",
              "      <td>40.0</td>\n",
              "      <td>26.0</td>\n",
              "      <td>1</td>\n",
              "    </tr>\n",
              "    <tr>\n",
              "      <th>1</th>\n",
              "      <td>95.0</td>\n",
              "      <td>530</td>\n",
              "      <td>19.0</td>\n",
              "      <td>23.0</td>\n",
              "      <td>0</td>\n",
              "    </tr>\n",
              "    <tr>\n",
              "      <th>2</th>\n",
              "      <td>45.0</td>\n",
              "      <td>350</td>\n",
              "      <td>7.0</td>\n",
              "      <td>25.0</td>\n",
              "      <td>0</td>\n",
              "    </tr>\n",
              "    <tr>\n",
              "      <th>3</th>\n",
              "      <td>120.0</td>\n",
              "      <td>150</td>\n",
              "      <td>10.0</td>\n",
              "      <td>26.0</td>\n",
              "      <td>1</td>\n",
              "    </tr>\n",
              "    <tr>\n",
              "      <th>4</th>\n",
              "      <td>95.0</td>\n",
              "      <td>370</td>\n",
              "      <td>15.0</td>\n",
              "      <td>45.0</td>\n",
              "      <td>1</td>\n",
              "    </tr>\n",
              "    <tr>\n",
              "      <th>5</th>\n",
              "      <td>120.0</td>\n",
              "      <td>300</td>\n",
              "      <td>24.0</td>\n",
              "      <td>20.0</td>\n",
              "      <td>1</td>\n",
              "    </tr>\n",
              "    <tr>\n",
              "      <th>6</th>\n",
              "      <td>16.5</td>\n",
              "      <td>78</td>\n",
              "      <td>8.5</td>\n",
              "      <td>60.0</td>\n",
              "      <td>0</td>\n",
              "    </tr>\n",
              "    <tr>\n",
              "      <th>7</th>\n",
              "      <td>25.0</td>\n",
              "      <td>80</td>\n",
              "      <td>10.0</td>\n",
              "      <td>50.0</td>\n",
              "      <td>1</td>\n",
              "    </tr>\n",
              "    <tr>\n",
              "      <th>8</th>\n",
              "      <td>20.0</td>\n",
              "      <td>65</td>\n",
              "      <td>6.0</td>\n",
              "      <td>25.0</td>\n",
              "      <td>0</td>\n",
              "    </tr>\n",
              "    <tr>\n",
              "      <th>9</th>\n",
              "      <td>20.0</td>\n",
              "      <td>90</td>\n",
              "      <td>6.0</td>\n",
              "      <td>45.0</td>\n",
              "      <td>0</td>\n",
              "    </tr>\n",
              "    <tr>\n",
              "      <th>10</th>\n",
              "      <td>100.0</td>\n",
              "      <td>600</td>\n",
              "      <td>15.0</td>\n",
              "      <td>7.0</td>\n",
              "      <td>1</td>\n",
              "    </tr>\n",
              "    <tr>\n",
              "      <th>11</th>\n",
              "      <td>25.0</td>\n",
              "      <td>85</td>\n",
              "      <td>11.0</td>\n",
              "      <td>33.0</td>\n",
              "      <td>0</td>\n",
              "    </tr>\n",
              "    <tr>\n",
              "      <th>12</th>\n",
              "      <td>50.0</td>\n",
              "      <td>100</td>\n",
              "      <td>10.0</td>\n",
              "      <td>85.0</td>\n",
              "      <td>1</td>\n",
              "    </tr>\n",
              "    <tr>\n",
              "      <th>13</th>\n",
              "      <td>8.5</td>\n",
              "      <td>22</td>\n",
              "      <td>14.0</td>\n",
              "      <td>50.0</td>\n",
              "      <td>1</td>\n",
              "    </tr>\n",
              "    <tr>\n",
              "      <th>14</th>\n",
              "      <td>16.5</td>\n",
              "      <td>60</td>\n",
              "      <td>8.0</td>\n",
              "      <td>51.0</td>\n",
              "      <td>0</td>\n",
              "    </tr>\n",
              "    <tr>\n",
              "      <th>15</th>\n",
              "      <td>320.0</td>\n",
              "      <td>300</td>\n",
              "      <td>15.0</td>\n",
              "      <td>0.5</td>\n",
              "      <td>1</td>\n",
              "    </tr>\n",
              "    <tr>\n",
              "      <th>16</th>\n",
              "      <td>300.0</td>\n",
              "      <td>400</td>\n",
              "      <td>22.0</td>\n",
              "      <td>20.0</td>\n",
              "      <td>1</td>\n",
              "    </tr>\n",
              "    <tr>\n",
              "      <th>17</th>\n",
              "      <td>60.0</td>\n",
              "      <td>170</td>\n",
              "      <td>6.0</td>\n",
              "      <td>18.0</td>\n",
              "      <td>0</td>\n",
              "    </tr>\n",
              "    <tr>\n",
              "      <th>18</th>\n",
              "      <td>14.0</td>\n",
              "      <td>60</td>\n",
              "      <td>11.0</td>\n",
              "      <td>90.0</td>\n",
              "      <td>1</td>\n",
              "    </tr>\n",
              "    <tr>\n",
              "      <th>19</th>\n",
              "      <td>38.0</td>\n",
              "      <td>65</td>\n",
              "      <td>6.0</td>\n",
              "      <td>18.0</td>\n",
              "      <td>1</td>\n",
              "    </tr>\n",
              "    <tr>\n",
              "      <th>20</th>\n",
              "      <td>85.0</td>\n",
              "      <td>320</td>\n",
              "      <td>20.0</td>\n",
              "      <td>25.0</td>\n",
              "      <td>0</td>\n",
              "    </tr>\n",
              "    <tr>\n",
              "      <th>21</th>\n",
              "      <td>85.0</td>\n",
              "      <td>210</td>\n",
              "      <td>20.0</td>\n",
              "      <td>19.0</td>\n",
              "      <td>0</td>\n",
              "    </tr>\n",
              "    <tr>\n",
              "      <th>22</th>\n",
              "      <td>28.0</td>\n",
              "      <td>60</td>\n",
              "      <td>5.0</td>\n",
              "      <td>30.0</td>\n",
              "      <td>1</td>\n",
              "    </tr>\n",
              "    <tr>\n",
              "      <th>23</th>\n",
              "      <td>83.0</td>\n",
              "      <td>228</td>\n",
              "      <td>20.0</td>\n",
              "      <td>45.0</td>\n",
              "      <td>0</td>\n",
              "    </tr>\n",
              "    <tr>\n",
              "      <th>24</th>\n",
              "      <td>80.0</td>\n",
              "      <td>200</td>\n",
              "      <td>20.0</td>\n",
              "      <td>25.0</td>\n",
              "      <td>1</td>\n",
              "    </tr>\n",
              "    <tr>\n",
              "      <th>25</th>\n",
              "      <td>15.0</td>\n",
              "      <td>36</td>\n",
              "      <td>10.0</td>\n",
              "      <td>46.0</td>\n",
              "      <td>1</td>\n",
              "    </tr>\n",
              "    <tr>\n",
              "      <th>26</th>\n",
              "      <td>27.0</td>\n",
              "      <td>180</td>\n",
              "      <td>17.0</td>\n",
              "      <td>86.0</td>\n",
              "      <td>0</td>\n",
              "    </tr>\n",
              "    <tr>\n",
              "      <th>27</th>\n",
              "      <td>42.0</td>\n",
              "      <td>250</td>\n",
              "      <td>15.0</td>\n",
              "      <td>85.0</td>\n",
              "      <td>1</td>\n",
              "    </tr>\n",
              "    <tr>\n",
              "      <th>28</th>\n",
              "      <td>5.5</td>\n",
              "      <td>36</td>\n",
              "      <td>12.0</td>\n",
              "      <td>85.0</td>\n",
              "      <td>0</td>\n",
              "    </tr>\n",
              "    <tr>\n",
              "      <th>29</th>\n",
              "      <td>47.0</td>\n",
              "      <td>285</td>\n",
              "      <td>15.0</td>\n",
              "      <td>74.0</td>\n",
              "      <td>0</td>\n",
              "    </tr>\n",
              "    <tr>\n",
              "      <th>30</th>\n",
              "      <td>5.0</td>\n",
              "      <td>36</td>\n",
              "      <td>10.0</td>\n",
              "      <td>95.0</td>\n",
              "      <td>0</td>\n",
              "    </tr>\n",
              "    <tr>\n",
              "      <th>31</th>\n",
              "      <td>59.0</td>\n",
              "      <td>420</td>\n",
              "      <td>10.0</td>\n",
              "      <td>9.0</td>\n",
              "      <td>0</td>\n",
              "    </tr>\n",
              "    <tr>\n",
              "      <th>32</th>\n",
              "      <td>27.0</td>\n",
              "      <td>130</td>\n",
              "      <td>6.0</td>\n",
              "      <td>12.0</td>\n",
              "      <td>0</td>\n",
              "    </tr>\n",
              "    <tr>\n",
              "      <th>33</th>\n",
              "      <td>270.0</td>\n",
              "      <td>350</td>\n",
              "      <td>15.0</td>\n",
              "      <td>15.0</td>\n",
              "      <td>1</td>\n",
              "    </tr>\n",
              "    <tr>\n",
              "      <th>34</th>\n",
              "      <td>96.0</td>\n",
              "      <td>300</td>\n",
              "      <td>15.0</td>\n",
              "      <td>39.0</td>\n",
              "      <td>0</td>\n",
              "    </tr>\n",
              "    <tr>\n",
              "      <th>35</th>\n",
              "      <td>95.0</td>\n",
              "      <td>200</td>\n",
              "      <td>14.0</td>\n",
              "      <td>25.0</td>\n",
              "      <td>0</td>\n",
              "    </tr>\n",
              "    <tr>\n",
              "      <th>36</th>\n",
              "      <td>6.0</td>\n",
              "      <td>36</td>\n",
              "      <td>6.0</td>\n",
              "      <td>65.0</td>\n",
              "      <td>0</td>\n",
              "    </tr>\n",
              "    <tr>\n",
              "      <th>37</th>\n",
              "      <td>120.0</td>\n",
              "      <td>300</td>\n",
              "      <td>32.0</td>\n",
              "      <td>28.0</td>\n",
              "      <td>1</td>\n",
              "    </tr>\n",
              "    <tr>\n",
              "      <th>38</th>\n",
              "      <td>135.0</td>\n",
              "      <td>170</td>\n",
              "      <td>15.0</td>\n",
              "      <td>30.0</td>\n",
              "      <td>1</td>\n",
              "    </tr>\n",
              "    <tr>\n",
              "      <th>39</th>\n",
              "      <td>315.0</td>\n",
              "      <td>450</td>\n",
              "      <td>25.0</td>\n",
              "      <td>25.0</td>\n",
              "      <td>1</td>\n",
              "    </tr>\n",
              "    <tr>\n",
              "      <th>40</th>\n",
              "      <td>10.0</td>\n",
              "      <td>36</td>\n",
              "      <td>12.0</td>\n",
              "      <td>105.0</td>\n",
              "      <td>0</td>\n",
              "    </tr>\n",
              "    <tr>\n",
              "      <th>41</th>\n",
              "      <td>230.0</td>\n",
              "      <td>350</td>\n",
              "      <td>18.0</td>\n",
              "      <td>30.0</td>\n",
              "      <td>1</td>\n",
              "    </tr>\n",
              "    <tr>\n",
              "      <th>42</th>\n",
              "      <td>15.0</td>\n",
              "      <td>46</td>\n",
              "      <td>15.0</td>\n",
              "      <td>100.0</td>\n",
              "      <td>0</td>\n",
              "    </tr>\n",
              "    <tr>\n",
              "      <th>43</th>\n",
              "      <td>130.0</td>\n",
              "      <td>130</td>\n",
              "      <td>15.0</td>\n",
              "      <td>27.0</td>\n",
              "      <td>1</td>\n",
              "    </tr>\n",
              "    <tr>\n",
              "      <th>44</th>\n",
              "      <td>16.5</td>\n",
              "      <td>56</td>\n",
              "      <td>15.0</td>\n",
              "      <td>75.0</td>\n",
              "      <td>0</td>\n",
              "    </tr>\n",
              "    <tr>\n",
              "      <th>45</th>\n",
              "      <td>7.0</td>\n",
              "      <td>46</td>\n",
              "      <td>15.0</td>\n",
              "      <td>100.0</td>\n",
              "      <td>0</td>\n",
              "    </tr>\n",
              "    <tr>\n",
              "      <th>46</th>\n",
              "      <td>110.0</td>\n",
              "      <td>170</td>\n",
              "      <td>10.0</td>\n",
              "      <td>25.0</td>\n",
              "      <td>1</td>\n",
              "    </tr>\n",
              "    <tr>\n",
              "      <th>47</th>\n",
              "      <td>13.0</td>\n",
              "      <td>70</td>\n",
              "      <td>6.0</td>\n",
              "      <td>50.0</td>\n",
              "      <td>1</td>\n",
              "    </tr>\n",
              "  </tbody>\n",
              "</table>\n",
              "</div>\n",
              "    <div class=\"colab-df-buttons\">\n",
              "\n",
              "  <div class=\"colab-df-container\">\n",
              "    <button class=\"colab-df-convert\" onclick=\"convertToInteractive('df-60a98ae4-7969-4c78-9e42-45767192d0bd')\"\n",
              "            title=\"Convert this dataframe to an interactive table.\"\n",
              "            style=\"display:none;\">\n",
              "\n",
              "  <svg xmlns=\"http://www.w3.org/2000/svg\" height=\"24px\" viewBox=\"0 -960 960 960\">\n",
              "    <path d=\"M120-120v-720h720v720H120Zm60-500h600v-160H180v160Zm220 220h160v-160H400v160Zm0 220h160v-160H400v160ZM180-400h160v-160H180v160Zm440 0h160v-160H620v160ZM180-180h160v-160H180v160Zm440 0h160v-160H620v160Z\"/>\n",
              "  </svg>\n",
              "    </button>\n",
              "\n",
              "  <style>\n",
              "    .colab-df-container {\n",
              "      display:flex;\n",
              "      gap: 12px;\n",
              "    }\n",
              "\n",
              "    .colab-df-convert {\n",
              "      background-color: #E8F0FE;\n",
              "      border: none;\n",
              "      border-radius: 50%;\n",
              "      cursor: pointer;\n",
              "      display: none;\n",
              "      fill: #1967D2;\n",
              "      height: 32px;\n",
              "      padding: 0 0 0 0;\n",
              "      width: 32px;\n",
              "    }\n",
              "\n",
              "    .colab-df-convert:hover {\n",
              "      background-color: #E2EBFA;\n",
              "      box-shadow: 0px 1px 2px rgba(60, 64, 67, 0.3), 0px 1px 3px 1px rgba(60, 64, 67, 0.15);\n",
              "      fill: #174EA6;\n",
              "    }\n",
              "\n",
              "    .colab-df-buttons div {\n",
              "      margin-bottom: 4px;\n",
              "    }\n",
              "\n",
              "    [theme=dark] .colab-df-convert {\n",
              "      background-color: #3B4455;\n",
              "      fill: #D2E3FC;\n",
              "    }\n",
              "\n",
              "    [theme=dark] .colab-df-convert:hover {\n",
              "      background-color: #434B5C;\n",
              "      box-shadow: 0px 1px 3px 1px rgba(0, 0, 0, 0.15);\n",
              "      filter: drop-shadow(0px 1px 2px rgba(0, 0, 0, 0.3));\n",
              "      fill: #FFFFFF;\n",
              "    }\n",
              "  </style>\n",
              "\n",
              "    <script>\n",
              "      const buttonEl =\n",
              "        document.querySelector('#df-60a98ae4-7969-4c78-9e42-45767192d0bd button.colab-df-convert');\n",
              "      buttonEl.style.display =\n",
              "        google.colab.kernel.accessAllowed ? 'block' : 'none';\n",
              "\n",
              "      async function convertToInteractive(key) {\n",
              "        const element = document.querySelector('#df-60a98ae4-7969-4c78-9e42-45767192d0bd');\n",
              "        const dataTable =\n",
              "          await google.colab.kernel.invokeFunction('convertToInteractive',\n",
              "                                                    [key], {});\n",
              "        if (!dataTable) return;\n",
              "\n",
              "        const docLinkHtml = 'Like what you see? Visit the ' +\n",
              "          '<a target=\"_blank\" href=https://colab.research.google.com/notebooks/data_table.ipynb>data table notebook</a>'\n",
              "          + ' to learn more about interactive tables.';\n",
              "        element.innerHTML = '';\n",
              "        dataTable['output_type'] = 'display_data';\n",
              "        await google.colab.output.renderOutput(dataTable, element);\n",
              "        const docLink = document.createElement('div');\n",
              "        docLink.innerHTML = docLinkHtml;\n",
              "        element.appendChild(docLink);\n",
              "      }\n",
              "    </script>\n",
              "  </div>\n",
              "\n",
              "\n",
              "<div id=\"df-7ef7a217-f859-4336-9f1b-721ba34c1826\">\n",
              "  <button class=\"colab-df-quickchart\" onclick=\"quickchart('df-7ef7a217-f859-4336-9f1b-721ba34c1826')\"\n",
              "            title=\"Suggest charts.\"\n",
              "            style=\"display:none;\">\n",
              "\n",
              "<svg xmlns=\"http://www.w3.org/2000/svg\" height=\"24px\"viewBox=\"0 0 24 24\"\n",
              "     width=\"24px\">\n",
              "    <g>\n",
              "        <path d=\"M19 3H5c-1.1 0-2 .9-2 2v14c0 1.1.9 2 2 2h14c1.1 0 2-.9 2-2V5c0-1.1-.9-2-2-2zM9 17H7v-7h2v7zm4 0h-2V7h2v10zm4 0h-2v-4h2v4z\"/>\n",
              "    </g>\n",
              "</svg>\n",
              "  </button>\n",
              "\n",
              "<style>\n",
              "  .colab-df-quickchart {\n",
              "      --bg-color: #E8F0FE;\n",
              "      --fill-color: #1967D2;\n",
              "      --hover-bg-color: #E2EBFA;\n",
              "      --hover-fill-color: #174EA6;\n",
              "      --disabled-fill-color: #AAA;\n",
              "      --disabled-bg-color: #DDD;\n",
              "  }\n",
              "\n",
              "  [theme=dark] .colab-df-quickchart {\n",
              "      --bg-color: #3B4455;\n",
              "      --fill-color: #D2E3FC;\n",
              "      --hover-bg-color: #434B5C;\n",
              "      --hover-fill-color: #FFFFFF;\n",
              "      --disabled-bg-color: #3B4455;\n",
              "      --disabled-fill-color: #666;\n",
              "  }\n",
              "\n",
              "  .colab-df-quickchart {\n",
              "    background-color: var(--bg-color);\n",
              "    border: none;\n",
              "    border-radius: 50%;\n",
              "    cursor: pointer;\n",
              "    display: none;\n",
              "    fill: var(--fill-color);\n",
              "    height: 32px;\n",
              "    padding: 0;\n",
              "    width: 32px;\n",
              "  }\n",
              "\n",
              "  .colab-df-quickchart:hover {\n",
              "    background-color: var(--hover-bg-color);\n",
              "    box-shadow: 0 1px 2px rgba(60, 64, 67, 0.3), 0 1px 3px 1px rgba(60, 64, 67, 0.15);\n",
              "    fill: var(--button-hover-fill-color);\n",
              "  }\n",
              "\n",
              "  .colab-df-quickchart-complete:disabled,\n",
              "  .colab-df-quickchart-complete:disabled:hover {\n",
              "    background-color: var(--disabled-bg-color);\n",
              "    fill: var(--disabled-fill-color);\n",
              "    box-shadow: none;\n",
              "  }\n",
              "\n",
              "  .colab-df-spinner {\n",
              "    border: 2px solid var(--fill-color);\n",
              "    border-color: transparent;\n",
              "    border-bottom-color: var(--fill-color);\n",
              "    animation:\n",
              "      spin 1s steps(1) infinite;\n",
              "  }\n",
              "\n",
              "  @keyframes spin {\n",
              "    0% {\n",
              "      border-color: transparent;\n",
              "      border-bottom-color: var(--fill-color);\n",
              "      border-left-color: var(--fill-color);\n",
              "    }\n",
              "    20% {\n",
              "      border-color: transparent;\n",
              "      border-left-color: var(--fill-color);\n",
              "      border-top-color: var(--fill-color);\n",
              "    }\n",
              "    30% {\n",
              "      border-color: transparent;\n",
              "      border-left-color: var(--fill-color);\n",
              "      border-top-color: var(--fill-color);\n",
              "      border-right-color: var(--fill-color);\n",
              "    }\n",
              "    40% {\n",
              "      border-color: transparent;\n",
              "      border-right-color: var(--fill-color);\n",
              "      border-top-color: var(--fill-color);\n",
              "    }\n",
              "    60% {\n",
              "      border-color: transparent;\n",
              "      border-right-color: var(--fill-color);\n",
              "    }\n",
              "    80% {\n",
              "      border-color: transparent;\n",
              "      border-right-color: var(--fill-color);\n",
              "      border-bottom-color: var(--fill-color);\n",
              "    }\n",
              "    90% {\n",
              "      border-color: transparent;\n",
              "      border-bottom-color: var(--fill-color);\n",
              "    }\n",
              "  }\n",
              "</style>\n",
              "\n",
              "  <script>\n",
              "    async function quickchart(key) {\n",
              "      const quickchartButtonEl =\n",
              "        document.querySelector('#' + key + ' button');\n",
              "      quickchartButtonEl.disabled = true;  // To prevent multiple clicks.\n",
              "      quickchartButtonEl.classList.add('colab-df-spinner');\n",
              "      try {\n",
              "        const charts = await google.colab.kernel.invokeFunction(\n",
              "            'suggestCharts', [key], {});\n",
              "      } catch (error) {\n",
              "        console.error('Error during call to suggestCharts:', error);\n",
              "      }\n",
              "      quickchartButtonEl.classList.remove('colab-df-spinner');\n",
              "      quickchartButtonEl.classList.add('colab-df-quickchart-complete');\n",
              "    }\n",
              "    (() => {\n",
              "      let quickchartButtonEl =\n",
              "        document.querySelector('#df-7ef7a217-f859-4336-9f1b-721ba34c1826 button');\n",
              "      quickchartButtonEl.style.display =\n",
              "        google.colab.kernel.accessAllowed ? 'block' : 'none';\n",
              "    })();\n",
              "  </script>\n",
              "</div>\n",
              "    </div>\n",
              "  </div>\n"
            ]
          },
          "metadata": {},
          "execution_count": 3
        }
      ]
    },
    {
      "cell_type": "markdown",
      "source": [
        "Выделим целевую переменную Price в переменную y1"
      ],
      "metadata": {
        "id": "Q-OSYYjxcz0B"
      }
    },
    {
      "cell_type": "code",
      "source": [
        "y1 = ds['Price']\n",
        "y1"
      ],
      "metadata": {
        "colab": {
          "base_uri": "https://localhost:8080/"
        },
        "id": "TsCLb8PHc0wJ",
        "outputId": "f7abd3b4-845c-465e-f5b8-50b370566f06"
      },
      "execution_count": 4,
      "outputs": [
        {
          "output_type": "execute_result",
          "data": {
            "text/plain": [
              "0     220.0\n",
              "1      95.0\n",
              "2      45.0\n",
              "3     120.0\n",
              "4      95.0\n",
              "5     120.0\n",
              "6      16.5\n",
              "7      25.0\n",
              "8      20.0\n",
              "9      20.0\n",
              "10    100.0\n",
              "11     25.0\n",
              "12     50.0\n",
              "13      8.5\n",
              "14     16.5\n",
              "15    320.0\n",
              "16    300.0\n",
              "17     60.0\n",
              "18     14.0\n",
              "19     38.0\n",
              "20     85.0\n",
              "21     85.0\n",
              "22     28.0\n",
              "23     83.0\n",
              "24     80.0\n",
              "25     15.0\n",
              "26     27.0\n",
              "27     42.0\n",
              "28      5.5\n",
              "29     47.0\n",
              "30      5.0\n",
              "31     59.0\n",
              "32     27.0\n",
              "33    270.0\n",
              "34     96.0\n",
              "35     95.0\n",
              "36      6.0\n",
              "37    120.0\n",
              "38    135.0\n",
              "39    315.0\n",
              "40     10.0\n",
              "41    230.0\n",
              "42     15.0\n",
              "43    130.0\n",
              "44     16.5\n",
              "45      7.0\n",
              "46    110.0\n",
              "47     13.0\n",
              "Name: Price, dtype: float64"
            ]
          },
          "metadata": {},
          "execution_count": 4
        }
      ]
    },
    {
      "cell_type": "markdown",
      "source": [
        "Выделим матрицу исходных признаков в переменную X1\n",
        "\n"
      ],
      "metadata": {
        "id": "lLVfJWwLc3Ik"
      }
    },
    {
      "cell_type": "code",
      "source": [
        "X1 = ds.drop('Price', axis = 1)\n",
        "X1"
      ],
      "metadata": {
        "colab": {
          "base_uri": "https://localhost:8080/",
          "height": 1000
        },
        "id": "_rsn58T4c5Kn",
        "outputId": "8faf7b1c-077c-4e38-f970-4749965f099a"
      },
      "execution_count": 5,
      "outputs": [
        {
          "output_type": "execute_result",
          "data": {
            "text/plain": [
              "    House  Area   Dist  Ter\n",
              "0     500  40.0   26.0    1\n",
              "1     530  19.0   23.0    0\n",
              "2     350   7.0   25.0    0\n",
              "3     150  10.0   26.0    1\n",
              "4     370  15.0   45.0    1\n",
              "5     300  24.0   20.0    1\n",
              "6      78   8.5   60.0    0\n",
              "7      80  10.0   50.0    1\n",
              "8      65   6.0   25.0    0\n",
              "9      90   6.0   45.0    0\n",
              "10    600  15.0    7.0    1\n",
              "11     85  11.0   33.0    0\n",
              "12    100  10.0   85.0    1\n",
              "13     22  14.0   50.0    1\n",
              "14     60   8.0   51.0    0\n",
              "15    300  15.0    0.5    1\n",
              "16    400  22.0   20.0    1\n",
              "17    170   6.0   18.0    0\n",
              "18     60  11.0   90.0    1\n",
              "19     65   6.0   18.0    1\n",
              "20    320  20.0   25.0    0\n",
              "21    210  20.0   19.0    0\n",
              "22     60   5.0   30.0    1\n",
              "23    228  20.0   45.0    0\n",
              "24    200  20.0   25.0    1\n",
              "25     36  10.0   46.0    1\n",
              "26    180  17.0   86.0    0\n",
              "27    250  15.0   85.0    1\n",
              "28     36  12.0   85.0    0\n",
              "29    285  15.0   74.0    0\n",
              "30     36  10.0   95.0    0\n",
              "31    420  10.0    9.0    0\n",
              "32    130   6.0   12.0    0\n",
              "33    350  15.0   15.0    1\n",
              "34    300  15.0   39.0    0\n",
              "35    200  14.0   25.0    0\n",
              "36     36   6.0   65.0    0\n",
              "37    300  32.0   28.0    1\n",
              "38    170  15.0   30.0    1\n",
              "39    450  25.0   25.0    1\n",
              "40     36  12.0  105.0    0\n",
              "41    350  18.0   30.0    1\n",
              "42     46  15.0  100.0    0\n",
              "43    130  15.0   27.0    1\n",
              "44     56  15.0   75.0    0\n",
              "45     46  15.0  100.0    0\n",
              "46    170  10.0   25.0    1\n",
              "47     70   6.0   50.0    1"
            ],
            "text/html": [
              "\n",
              "  <div id=\"df-815e7822-591d-4efb-ba77-6c2428cc3661\" class=\"colab-df-container\">\n",
              "    <div>\n",
              "<style scoped>\n",
              "    .dataframe tbody tr th:only-of-type {\n",
              "        vertical-align: middle;\n",
              "    }\n",
              "\n",
              "    .dataframe tbody tr th {\n",
              "        vertical-align: top;\n",
              "    }\n",
              "\n",
              "    .dataframe thead th {\n",
              "        text-align: right;\n",
              "    }\n",
              "</style>\n",
              "<table border=\"1\" class=\"dataframe\">\n",
              "  <thead>\n",
              "    <tr style=\"text-align: right;\">\n",
              "      <th></th>\n",
              "      <th>House</th>\n",
              "      <th>Area</th>\n",
              "      <th>Dist</th>\n",
              "      <th>Ter</th>\n",
              "    </tr>\n",
              "  </thead>\n",
              "  <tbody>\n",
              "    <tr>\n",
              "      <th>0</th>\n",
              "      <td>500</td>\n",
              "      <td>40.0</td>\n",
              "      <td>26.0</td>\n",
              "      <td>1</td>\n",
              "    </tr>\n",
              "    <tr>\n",
              "      <th>1</th>\n",
              "      <td>530</td>\n",
              "      <td>19.0</td>\n",
              "      <td>23.0</td>\n",
              "      <td>0</td>\n",
              "    </tr>\n",
              "    <tr>\n",
              "      <th>2</th>\n",
              "      <td>350</td>\n",
              "      <td>7.0</td>\n",
              "      <td>25.0</td>\n",
              "      <td>0</td>\n",
              "    </tr>\n",
              "    <tr>\n",
              "      <th>3</th>\n",
              "      <td>150</td>\n",
              "      <td>10.0</td>\n",
              "      <td>26.0</td>\n",
              "      <td>1</td>\n",
              "    </tr>\n",
              "    <tr>\n",
              "      <th>4</th>\n",
              "      <td>370</td>\n",
              "      <td>15.0</td>\n",
              "      <td>45.0</td>\n",
              "      <td>1</td>\n",
              "    </tr>\n",
              "    <tr>\n",
              "      <th>5</th>\n",
              "      <td>300</td>\n",
              "      <td>24.0</td>\n",
              "      <td>20.0</td>\n",
              "      <td>1</td>\n",
              "    </tr>\n",
              "    <tr>\n",
              "      <th>6</th>\n",
              "      <td>78</td>\n",
              "      <td>8.5</td>\n",
              "      <td>60.0</td>\n",
              "      <td>0</td>\n",
              "    </tr>\n",
              "    <tr>\n",
              "      <th>7</th>\n",
              "      <td>80</td>\n",
              "      <td>10.0</td>\n",
              "      <td>50.0</td>\n",
              "      <td>1</td>\n",
              "    </tr>\n",
              "    <tr>\n",
              "      <th>8</th>\n",
              "      <td>65</td>\n",
              "      <td>6.0</td>\n",
              "      <td>25.0</td>\n",
              "      <td>0</td>\n",
              "    </tr>\n",
              "    <tr>\n",
              "      <th>9</th>\n",
              "      <td>90</td>\n",
              "      <td>6.0</td>\n",
              "      <td>45.0</td>\n",
              "      <td>0</td>\n",
              "    </tr>\n",
              "    <tr>\n",
              "      <th>10</th>\n",
              "      <td>600</td>\n",
              "      <td>15.0</td>\n",
              "      <td>7.0</td>\n",
              "      <td>1</td>\n",
              "    </tr>\n",
              "    <tr>\n",
              "      <th>11</th>\n",
              "      <td>85</td>\n",
              "      <td>11.0</td>\n",
              "      <td>33.0</td>\n",
              "      <td>0</td>\n",
              "    </tr>\n",
              "    <tr>\n",
              "      <th>12</th>\n",
              "      <td>100</td>\n",
              "      <td>10.0</td>\n",
              "      <td>85.0</td>\n",
              "      <td>1</td>\n",
              "    </tr>\n",
              "    <tr>\n",
              "      <th>13</th>\n",
              "      <td>22</td>\n",
              "      <td>14.0</td>\n",
              "      <td>50.0</td>\n",
              "      <td>1</td>\n",
              "    </tr>\n",
              "    <tr>\n",
              "      <th>14</th>\n",
              "      <td>60</td>\n",
              "      <td>8.0</td>\n",
              "      <td>51.0</td>\n",
              "      <td>0</td>\n",
              "    </tr>\n",
              "    <tr>\n",
              "      <th>15</th>\n",
              "      <td>300</td>\n",
              "      <td>15.0</td>\n",
              "      <td>0.5</td>\n",
              "      <td>1</td>\n",
              "    </tr>\n",
              "    <tr>\n",
              "      <th>16</th>\n",
              "      <td>400</td>\n",
              "      <td>22.0</td>\n",
              "      <td>20.0</td>\n",
              "      <td>1</td>\n",
              "    </tr>\n",
              "    <tr>\n",
              "      <th>17</th>\n",
              "      <td>170</td>\n",
              "      <td>6.0</td>\n",
              "      <td>18.0</td>\n",
              "      <td>0</td>\n",
              "    </tr>\n",
              "    <tr>\n",
              "      <th>18</th>\n",
              "      <td>60</td>\n",
              "      <td>11.0</td>\n",
              "      <td>90.0</td>\n",
              "      <td>1</td>\n",
              "    </tr>\n",
              "    <tr>\n",
              "      <th>19</th>\n",
              "      <td>65</td>\n",
              "      <td>6.0</td>\n",
              "      <td>18.0</td>\n",
              "      <td>1</td>\n",
              "    </tr>\n",
              "    <tr>\n",
              "      <th>20</th>\n",
              "      <td>320</td>\n",
              "      <td>20.0</td>\n",
              "      <td>25.0</td>\n",
              "      <td>0</td>\n",
              "    </tr>\n",
              "    <tr>\n",
              "      <th>21</th>\n",
              "      <td>210</td>\n",
              "      <td>20.0</td>\n",
              "      <td>19.0</td>\n",
              "      <td>0</td>\n",
              "    </tr>\n",
              "    <tr>\n",
              "      <th>22</th>\n",
              "      <td>60</td>\n",
              "      <td>5.0</td>\n",
              "      <td>30.0</td>\n",
              "      <td>1</td>\n",
              "    </tr>\n",
              "    <tr>\n",
              "      <th>23</th>\n",
              "      <td>228</td>\n",
              "      <td>20.0</td>\n",
              "      <td>45.0</td>\n",
              "      <td>0</td>\n",
              "    </tr>\n",
              "    <tr>\n",
              "      <th>24</th>\n",
              "      <td>200</td>\n",
              "      <td>20.0</td>\n",
              "      <td>25.0</td>\n",
              "      <td>1</td>\n",
              "    </tr>\n",
              "    <tr>\n",
              "      <th>25</th>\n",
              "      <td>36</td>\n",
              "      <td>10.0</td>\n",
              "      <td>46.0</td>\n",
              "      <td>1</td>\n",
              "    </tr>\n",
              "    <tr>\n",
              "      <th>26</th>\n",
              "      <td>180</td>\n",
              "      <td>17.0</td>\n",
              "      <td>86.0</td>\n",
              "      <td>0</td>\n",
              "    </tr>\n",
              "    <tr>\n",
              "      <th>27</th>\n",
              "      <td>250</td>\n",
              "      <td>15.0</td>\n",
              "      <td>85.0</td>\n",
              "      <td>1</td>\n",
              "    </tr>\n",
              "    <tr>\n",
              "      <th>28</th>\n",
              "      <td>36</td>\n",
              "      <td>12.0</td>\n",
              "      <td>85.0</td>\n",
              "      <td>0</td>\n",
              "    </tr>\n",
              "    <tr>\n",
              "      <th>29</th>\n",
              "      <td>285</td>\n",
              "      <td>15.0</td>\n",
              "      <td>74.0</td>\n",
              "      <td>0</td>\n",
              "    </tr>\n",
              "    <tr>\n",
              "      <th>30</th>\n",
              "      <td>36</td>\n",
              "      <td>10.0</td>\n",
              "      <td>95.0</td>\n",
              "      <td>0</td>\n",
              "    </tr>\n",
              "    <tr>\n",
              "      <th>31</th>\n",
              "      <td>420</td>\n",
              "      <td>10.0</td>\n",
              "      <td>9.0</td>\n",
              "      <td>0</td>\n",
              "    </tr>\n",
              "    <tr>\n",
              "      <th>32</th>\n",
              "      <td>130</td>\n",
              "      <td>6.0</td>\n",
              "      <td>12.0</td>\n",
              "      <td>0</td>\n",
              "    </tr>\n",
              "    <tr>\n",
              "      <th>33</th>\n",
              "      <td>350</td>\n",
              "      <td>15.0</td>\n",
              "      <td>15.0</td>\n",
              "      <td>1</td>\n",
              "    </tr>\n",
              "    <tr>\n",
              "      <th>34</th>\n",
              "      <td>300</td>\n",
              "      <td>15.0</td>\n",
              "      <td>39.0</td>\n",
              "      <td>0</td>\n",
              "    </tr>\n",
              "    <tr>\n",
              "      <th>35</th>\n",
              "      <td>200</td>\n",
              "      <td>14.0</td>\n",
              "      <td>25.0</td>\n",
              "      <td>0</td>\n",
              "    </tr>\n",
              "    <tr>\n",
              "      <th>36</th>\n",
              "      <td>36</td>\n",
              "      <td>6.0</td>\n",
              "      <td>65.0</td>\n",
              "      <td>0</td>\n",
              "    </tr>\n",
              "    <tr>\n",
              "      <th>37</th>\n",
              "      <td>300</td>\n",
              "      <td>32.0</td>\n",
              "      <td>28.0</td>\n",
              "      <td>1</td>\n",
              "    </tr>\n",
              "    <tr>\n",
              "      <th>38</th>\n",
              "      <td>170</td>\n",
              "      <td>15.0</td>\n",
              "      <td>30.0</td>\n",
              "      <td>1</td>\n",
              "    </tr>\n",
              "    <tr>\n",
              "      <th>39</th>\n",
              "      <td>450</td>\n",
              "      <td>25.0</td>\n",
              "      <td>25.0</td>\n",
              "      <td>1</td>\n",
              "    </tr>\n",
              "    <tr>\n",
              "      <th>40</th>\n",
              "      <td>36</td>\n",
              "      <td>12.0</td>\n",
              "      <td>105.0</td>\n",
              "      <td>0</td>\n",
              "    </tr>\n",
              "    <tr>\n",
              "      <th>41</th>\n",
              "      <td>350</td>\n",
              "      <td>18.0</td>\n",
              "      <td>30.0</td>\n",
              "      <td>1</td>\n",
              "    </tr>\n",
              "    <tr>\n",
              "      <th>42</th>\n",
              "      <td>46</td>\n",
              "      <td>15.0</td>\n",
              "      <td>100.0</td>\n",
              "      <td>0</td>\n",
              "    </tr>\n",
              "    <tr>\n",
              "      <th>43</th>\n",
              "      <td>130</td>\n",
              "      <td>15.0</td>\n",
              "      <td>27.0</td>\n",
              "      <td>1</td>\n",
              "    </tr>\n",
              "    <tr>\n",
              "      <th>44</th>\n",
              "      <td>56</td>\n",
              "      <td>15.0</td>\n",
              "      <td>75.0</td>\n",
              "      <td>0</td>\n",
              "    </tr>\n",
              "    <tr>\n",
              "      <th>45</th>\n",
              "      <td>46</td>\n",
              "      <td>15.0</td>\n",
              "      <td>100.0</td>\n",
              "      <td>0</td>\n",
              "    </tr>\n",
              "    <tr>\n",
              "      <th>46</th>\n",
              "      <td>170</td>\n",
              "      <td>10.0</td>\n",
              "      <td>25.0</td>\n",
              "      <td>1</td>\n",
              "    </tr>\n",
              "    <tr>\n",
              "      <th>47</th>\n",
              "      <td>70</td>\n",
              "      <td>6.0</td>\n",
              "      <td>50.0</td>\n",
              "      <td>1</td>\n",
              "    </tr>\n",
              "  </tbody>\n",
              "</table>\n",
              "</div>\n",
              "    <div class=\"colab-df-buttons\">\n",
              "\n",
              "  <div class=\"colab-df-container\">\n",
              "    <button class=\"colab-df-convert\" onclick=\"convertToInteractive('df-815e7822-591d-4efb-ba77-6c2428cc3661')\"\n",
              "            title=\"Convert this dataframe to an interactive table.\"\n",
              "            style=\"display:none;\">\n",
              "\n",
              "  <svg xmlns=\"http://www.w3.org/2000/svg\" height=\"24px\" viewBox=\"0 -960 960 960\">\n",
              "    <path d=\"M120-120v-720h720v720H120Zm60-500h600v-160H180v160Zm220 220h160v-160H400v160Zm0 220h160v-160H400v160ZM180-400h160v-160H180v160Zm440 0h160v-160H620v160ZM180-180h160v-160H180v160Zm440 0h160v-160H620v160Z\"/>\n",
              "  </svg>\n",
              "    </button>\n",
              "\n",
              "  <style>\n",
              "    .colab-df-container {\n",
              "      display:flex;\n",
              "      gap: 12px;\n",
              "    }\n",
              "\n",
              "    .colab-df-convert {\n",
              "      background-color: #E8F0FE;\n",
              "      border: none;\n",
              "      border-radius: 50%;\n",
              "      cursor: pointer;\n",
              "      display: none;\n",
              "      fill: #1967D2;\n",
              "      height: 32px;\n",
              "      padding: 0 0 0 0;\n",
              "      width: 32px;\n",
              "    }\n",
              "\n",
              "    .colab-df-convert:hover {\n",
              "      background-color: #E2EBFA;\n",
              "      box-shadow: 0px 1px 2px rgba(60, 64, 67, 0.3), 0px 1px 3px 1px rgba(60, 64, 67, 0.15);\n",
              "      fill: #174EA6;\n",
              "    }\n",
              "\n",
              "    .colab-df-buttons div {\n",
              "      margin-bottom: 4px;\n",
              "    }\n",
              "\n",
              "    [theme=dark] .colab-df-convert {\n",
              "      background-color: #3B4455;\n",
              "      fill: #D2E3FC;\n",
              "    }\n",
              "\n",
              "    [theme=dark] .colab-df-convert:hover {\n",
              "      background-color: #434B5C;\n",
              "      box-shadow: 0px 1px 3px 1px rgba(0, 0, 0, 0.15);\n",
              "      filter: drop-shadow(0px 1px 2px rgba(0, 0, 0, 0.3));\n",
              "      fill: #FFFFFF;\n",
              "    }\n",
              "  </style>\n",
              "\n",
              "    <script>\n",
              "      const buttonEl =\n",
              "        document.querySelector('#df-815e7822-591d-4efb-ba77-6c2428cc3661 button.colab-df-convert');\n",
              "      buttonEl.style.display =\n",
              "        google.colab.kernel.accessAllowed ? 'block' : 'none';\n",
              "\n",
              "      async function convertToInteractive(key) {\n",
              "        const element = document.querySelector('#df-815e7822-591d-4efb-ba77-6c2428cc3661');\n",
              "        const dataTable =\n",
              "          await google.colab.kernel.invokeFunction('convertToInteractive',\n",
              "                                                    [key], {});\n",
              "        if (!dataTable) return;\n",
              "\n",
              "        const docLinkHtml = 'Like what you see? Visit the ' +\n",
              "          '<a target=\"_blank\" href=https://colab.research.google.com/notebooks/data_table.ipynb>data table notebook</a>'\n",
              "          + ' to learn more about interactive tables.';\n",
              "        element.innerHTML = '';\n",
              "        dataTable['output_type'] = 'display_data';\n",
              "        await google.colab.output.renderOutput(dataTable, element);\n",
              "        const docLink = document.createElement('div');\n",
              "        docLink.innerHTML = docLinkHtml;\n",
              "        element.appendChild(docLink);\n",
              "      }\n",
              "    </script>\n",
              "  </div>\n",
              "\n",
              "\n",
              "<div id=\"df-0b5c9bf4-50f5-4496-92a8-cdd6f306c6e3\">\n",
              "  <button class=\"colab-df-quickchart\" onclick=\"quickchart('df-0b5c9bf4-50f5-4496-92a8-cdd6f306c6e3')\"\n",
              "            title=\"Suggest charts.\"\n",
              "            style=\"display:none;\">\n",
              "\n",
              "<svg xmlns=\"http://www.w3.org/2000/svg\" height=\"24px\"viewBox=\"0 0 24 24\"\n",
              "     width=\"24px\">\n",
              "    <g>\n",
              "        <path d=\"M19 3H5c-1.1 0-2 .9-2 2v14c0 1.1.9 2 2 2h14c1.1 0 2-.9 2-2V5c0-1.1-.9-2-2-2zM9 17H7v-7h2v7zm4 0h-2V7h2v10zm4 0h-2v-4h2v4z\"/>\n",
              "    </g>\n",
              "</svg>\n",
              "  </button>\n",
              "\n",
              "<style>\n",
              "  .colab-df-quickchart {\n",
              "      --bg-color: #E8F0FE;\n",
              "      --fill-color: #1967D2;\n",
              "      --hover-bg-color: #E2EBFA;\n",
              "      --hover-fill-color: #174EA6;\n",
              "      --disabled-fill-color: #AAA;\n",
              "      --disabled-bg-color: #DDD;\n",
              "  }\n",
              "\n",
              "  [theme=dark] .colab-df-quickchart {\n",
              "      --bg-color: #3B4455;\n",
              "      --fill-color: #D2E3FC;\n",
              "      --hover-bg-color: #434B5C;\n",
              "      --hover-fill-color: #FFFFFF;\n",
              "      --disabled-bg-color: #3B4455;\n",
              "      --disabled-fill-color: #666;\n",
              "  }\n",
              "\n",
              "  .colab-df-quickchart {\n",
              "    background-color: var(--bg-color);\n",
              "    border: none;\n",
              "    border-radius: 50%;\n",
              "    cursor: pointer;\n",
              "    display: none;\n",
              "    fill: var(--fill-color);\n",
              "    height: 32px;\n",
              "    padding: 0;\n",
              "    width: 32px;\n",
              "  }\n",
              "\n",
              "  .colab-df-quickchart:hover {\n",
              "    background-color: var(--hover-bg-color);\n",
              "    box-shadow: 0 1px 2px rgba(60, 64, 67, 0.3), 0 1px 3px 1px rgba(60, 64, 67, 0.15);\n",
              "    fill: var(--button-hover-fill-color);\n",
              "  }\n",
              "\n",
              "  .colab-df-quickchart-complete:disabled,\n",
              "  .colab-df-quickchart-complete:disabled:hover {\n",
              "    background-color: var(--disabled-bg-color);\n",
              "    fill: var(--disabled-fill-color);\n",
              "    box-shadow: none;\n",
              "  }\n",
              "\n",
              "  .colab-df-spinner {\n",
              "    border: 2px solid var(--fill-color);\n",
              "    border-color: transparent;\n",
              "    border-bottom-color: var(--fill-color);\n",
              "    animation:\n",
              "      spin 1s steps(1) infinite;\n",
              "  }\n",
              "\n",
              "  @keyframes spin {\n",
              "    0% {\n",
              "      border-color: transparent;\n",
              "      border-bottom-color: var(--fill-color);\n",
              "      border-left-color: var(--fill-color);\n",
              "    }\n",
              "    20% {\n",
              "      border-color: transparent;\n",
              "      border-left-color: var(--fill-color);\n",
              "      border-top-color: var(--fill-color);\n",
              "    }\n",
              "    30% {\n",
              "      border-color: transparent;\n",
              "      border-left-color: var(--fill-color);\n",
              "      border-top-color: var(--fill-color);\n",
              "      border-right-color: var(--fill-color);\n",
              "    }\n",
              "    40% {\n",
              "      border-color: transparent;\n",
              "      border-right-color: var(--fill-color);\n",
              "      border-top-color: var(--fill-color);\n",
              "    }\n",
              "    60% {\n",
              "      border-color: transparent;\n",
              "      border-right-color: var(--fill-color);\n",
              "    }\n",
              "    80% {\n",
              "      border-color: transparent;\n",
              "      border-right-color: var(--fill-color);\n",
              "      border-bottom-color: var(--fill-color);\n",
              "    }\n",
              "    90% {\n",
              "      border-color: transparent;\n",
              "      border-bottom-color: var(--fill-color);\n",
              "    }\n",
              "  }\n",
              "</style>\n",
              "\n",
              "  <script>\n",
              "    async function quickchart(key) {\n",
              "      const quickchartButtonEl =\n",
              "        document.querySelector('#' + key + ' button');\n",
              "      quickchartButtonEl.disabled = true;  // To prevent multiple clicks.\n",
              "      quickchartButtonEl.classList.add('colab-df-spinner');\n",
              "      try {\n",
              "        const charts = await google.colab.kernel.invokeFunction(\n",
              "            'suggestCharts', [key], {});\n",
              "      } catch (error) {\n",
              "        console.error('Error during call to suggestCharts:', error);\n",
              "      }\n",
              "      quickchartButtonEl.classList.remove('colab-df-spinner');\n",
              "      quickchartButtonEl.classList.add('colab-df-quickchart-complete');\n",
              "    }\n",
              "    (() => {\n",
              "      let quickchartButtonEl =\n",
              "        document.querySelector('#df-0b5c9bf4-50f5-4496-92a8-cdd6f306c6e3 button');\n",
              "      quickchartButtonEl.style.display =\n",
              "        google.colab.kernel.accessAllowed ? 'block' : 'none';\n",
              "    })();\n",
              "  </script>\n",
              "</div>\n",
              "    </div>\n",
              "  </div>\n"
            ]
          },
          "metadata": {},
          "execution_count": 5
        }
      ]
    },
    {
      "cell_type": "markdown",
      "source": [
        "Разделим выборку на обучающую и тестовую, отнеся в тестовую часть 20% данных, а в обучающую - остальные 80%.\n",
        "\n",
        "Используем функцию train_test_split"
      ],
      "metadata": {
        "id": "lA-ZQPbkc7MP"
      }
    },
    {
      "cell_type": "code",
      "source": [
        "X1_train, X1_test, y1_train, y1_test = train_test_split(X1, y1, train_size = 0.8)\n",
        "X1_train, X1_test, y1_train, y1_test"
      ],
      "metadata": {
        "colab": {
          "base_uri": "https://localhost:8080/"
        },
        "id": "QtjQsh-Wc9V_",
        "outputId": "a5ebccfe-483a-4856-d6bb-0e46dcb8ad21"
      },
      "execution_count": 6,
      "outputs": [
        {
          "output_type": "execute_result",
          "data": {
            "text/plain": [
              "(    House  Area   Dist  Ter\n",
              " 29    285  15.0   74.0    0\n",
              " 1     530  19.0   23.0    0\n",
              " 19     65   6.0   18.0    1\n",
              " 36     36   6.0   65.0    0\n",
              " 39    450  25.0   25.0    1\n",
              " 33    350  15.0   15.0    1\n",
              " 26    180  17.0   86.0    0\n",
              " 47     70   6.0   50.0    1\n",
              " 32    130   6.0   12.0    0\n",
              " 37    300  32.0   28.0    1\n",
              " 7      80  10.0   50.0    1\n",
              " 43    130  15.0   27.0    1\n",
              " 42     46  15.0  100.0    0\n",
              " 6      78   8.5   60.0    0\n",
              " 12    100  10.0   85.0    1\n",
              " 25     36  10.0   46.0    1\n",
              " 20    320  20.0   25.0    0\n",
              " 3     150  10.0   26.0    1\n",
              " 8      65   6.0   25.0    0\n",
              " 45     46  15.0  100.0    0\n",
              " 35    200  14.0   25.0    0\n",
              " 28     36  12.0   85.0    0\n",
              " 31    420  10.0    9.0    0\n",
              " 16    400  22.0   20.0    1\n",
              " 0     500  40.0   26.0    1\n",
              " 46    170  10.0   25.0    1\n",
              " 22     60   5.0   30.0    1\n",
              " 9      90   6.0   45.0    0\n",
              " 40     36  12.0  105.0    0\n",
              " 44     56  15.0   75.0    0\n",
              " 24    200  20.0   25.0    1\n",
              " 27    250  15.0   85.0    1\n",
              " 38    170  15.0   30.0    1\n",
              " 30     36  10.0   95.0    0\n",
              " 14     60   8.0   51.0    0\n",
              " 17    170   6.0   18.0    0\n",
              " 21    210  20.0   19.0    0\n",
              " 15    300  15.0    0.5    1,\n",
              "     House  Area  Dist  Ter\n",
              " 2     350   7.0  25.0    0\n",
              " 41    350  18.0  30.0    1\n",
              " 11     85  11.0  33.0    0\n",
              " 18     60  11.0  90.0    1\n",
              " 23    228  20.0  45.0    0\n",
              " 4     370  15.0  45.0    1\n",
              " 34    300  15.0  39.0    0\n",
              " 5     300  24.0  20.0    1\n",
              " 10    600  15.0   7.0    1\n",
              " 13     22  14.0  50.0    1,\n",
              " 29     47.0\n",
              " 1      95.0\n",
              " 19     38.0\n",
              " 36      6.0\n",
              " 39    315.0\n",
              " 33    270.0\n",
              " 26     27.0\n",
              " 47     13.0\n",
              " 32     27.0\n",
              " 37    120.0\n",
              " 7      25.0\n",
              " 43    130.0\n",
              " 42     15.0\n",
              " 6      16.5\n",
              " 12     50.0\n",
              " 25     15.0\n",
              " 20     85.0\n",
              " 3     120.0\n",
              " 8      20.0\n",
              " 45      7.0\n",
              " 35     95.0\n",
              " 28      5.5\n",
              " 31     59.0\n",
              " 16    300.0\n",
              " 0     220.0\n",
              " 46    110.0\n",
              " 22     28.0\n",
              " 9      20.0\n",
              " 40     10.0\n",
              " 44     16.5\n",
              " 24     80.0\n",
              " 27     42.0\n",
              " 38    135.0\n",
              " 30      5.0\n",
              " 14     16.5\n",
              " 17     60.0\n",
              " 21     85.0\n",
              " 15    320.0\n",
              " Name: Price, dtype: float64,\n",
              " 2      45.0\n",
              " 41    230.0\n",
              " 11     25.0\n",
              " 18     14.0\n",
              " 23     83.0\n",
              " 4      95.0\n",
              " 34     96.0\n",
              " 5     120.0\n",
              " 10    100.0\n",
              " 13      8.5\n",
              " Name: Price, dtype: float64)"
            ]
          },
          "metadata": {},
          "execution_count": 6
        }
      ]
    },
    {
      "cell_type": "markdown",
      "source": [
        "#Обучение модели"
      ],
      "metadata": {
        "id": "Cqgi4kh1c_Kj"
      }
    },
    {
      "cell_type": "markdown",
      "source": [
        "Введем новый объект - модель линейной регрессии"
      ],
      "metadata": {
        "id": "vD6btaAjdB4L"
      }
    },
    {
      "cell_type": "code",
      "source": [
        "model = LinearRegression(fit_intercept=True)"
      ],
      "metadata": {
        "id": "caezZJLNdBYS"
      },
      "execution_count": 7,
      "outputs": []
    },
    {
      "cell_type": "markdown",
      "source": [
        "Обучаем модель на наших данных"
      ],
      "metadata": {
        "id": "7qeMg2U3dEt-"
      }
    },
    {
      "cell_type": "code",
      "source": [
        "ml = model.fit(X1_train, y1_train)"
      ],
      "metadata": {
        "id": "lQg9rCXMdGH5"
      },
      "execution_count": 8,
      "outputs": []
    },
    {
      "cell_type": "markdown",
      "source": [
        "Посмотрим на результат обучения. Оценки коэффициентов перед знаками"
      ],
      "metadata": {
        "id": "0OAUAcNGdHbA"
      }
    },
    {
      "cell_type": "code",
      "source": [
        "ml.coef_"
      ],
      "metadata": {
        "colab": {
          "base_uri": "https://localhost:8080/"
        },
        "id": "tISqtusmdJ_s",
        "outputId": "f967da8c-8cf8-46c0-b071-c314a926c78e"
      },
      "execution_count": 9,
      "outputs": [
        {
          "output_type": "execute_result",
          "data": {
            "text/plain": [
              "array([ 0.27555009,  1.95705484, -0.62374602, 57.42436466])"
            ]
          },
          "metadata": {},
          "execution_count": 9
        }
      ]
    },
    {
      "cell_type": "markdown",
      "source": [
        "Оценка свободного коэффициента"
      ],
      "metadata": {
        "id": "BkKBh-l7dLjJ"
      }
    },
    {
      "cell_type": "code",
      "source": [
        "ml.intercept_"
      ],
      "metadata": {
        "colab": {
          "base_uri": "https://localhost:8080/"
        },
        "id": "gpCbXCl4dNAy",
        "outputId": "6de95322-9e4a-463d-8c40-8924768a700b"
      },
      "execution_count": 10,
      "outputs": [
        {
          "output_type": "execute_result",
          "data": {
            "text/plain": [
              "4.833046363347762"
            ]
          },
          "metadata": {},
          "execution_count": 10
        }
      ]
    },
    {
      "cell_type": "markdown",
      "source": [
        "#Тестирование и оценка качества"
      ],
      "metadata": {
        "id": "ucPZKEMUdOdM"
      }
    },
    {
      "cell_type": "markdown",
      "source": [
        "##Оценка качества модели на обучающей выборке"
      ],
      "metadata": {
        "id": "7KdE_x30dP1U"
      }
    },
    {
      "cell_type": "markdown",
      "source": [
        "Выполним предсказание значений целевой функции моделью с помощью метода predict"
      ],
      "metadata": {
        "id": "UfPyevNcdRUk"
      }
    },
    {
      "cell_type": "code",
      "source": [
        "y1_pred = ml.predict(X1_train)\n",
        "y1_pred"
      ],
      "metadata": {
        "colab": {
          "base_uri": "https://localhost:8080/"
        },
        "id": "NuaNnt0udTaD",
        "outputId": "163de3bd-f43e-4cb2-dab8-437d65abe8e5"
      },
      "execution_count": 11,
      "outputs": [
        {
          "output_type": "execute_result",
          "data": {
            "text/plain": [
              "array([ 66.56343863, 173.71247645,  80.68306743, -14.04831264,\n",
              "       219.58767107, 178.69957408,  34.05983685,  62.10094528,\n",
              "        44.9119346 , 190.0833037 ,  72.68466552, 110.59360252,\n",
              "       -15.51042886,   5.53615824,  56.36455663,  63.05544572,\n",
              "       116.55652079, 106.94307611,  18.89248065, -15.51042886,\n",
              "        71.74818122, -14.78090398, 134.52091749, 203.05773225,\n",
              "       262.09725202, 113.07782389,  69.86330993,  13.30631248,\n",
              "       -27.25582434,   2.83872248, 140.9148749 , 107.48234401,\n",
              "       119.74436798, -24.93247384,   5.21144341,  52.191462  ,\n",
              "        89.98848723, 173.96638695])"
            ]
          },
          "metadata": {},
          "execution_count": 11
        }
      ]
    },
    {
      "cell_type": "markdown",
      "source": [
        "Вычислим остатки - разности между имеющимися значениями и предсказанными значениями целевой переменной"
      ],
      "metadata": {
        "id": "NkhvrurOdRMm"
      }
    },
    {
      "cell_type": "code",
      "source": [
        "e_ml = y1_train - y1_pred\n",
        "e_ml"
      ],
      "metadata": {
        "colab": {
          "base_uri": "https://localhost:8080/"
        },
        "id": "fyWb6qz-dWEx",
        "outputId": "5dcc26b1-39d3-4427-efa7-ed2bfb76f276"
      },
      "execution_count": 12,
      "outputs": [
        {
          "output_type": "execute_result",
          "data": {
            "text/plain": [
              "29    -19.563439\n",
              "1     -78.712476\n",
              "19    -42.683067\n",
              "36     20.048313\n",
              "39     95.412329\n",
              "33     91.300426\n",
              "26     -7.059837\n",
              "47    -49.100945\n",
              "32    -17.911935\n",
              "37    -70.083304\n",
              "7     -47.684666\n",
              "43     19.406397\n",
              "42     30.510429\n",
              "6      10.963842\n",
              "12     -6.364557\n",
              "25    -48.055446\n",
              "20    -31.556521\n",
              "3      13.056924\n",
              "8       1.107519\n",
              "45     22.510429\n",
              "35     23.251819\n",
              "28     20.280904\n",
              "31    -75.520917\n",
              "16     96.942268\n",
              "0     -42.097252\n",
              "46     -3.077824\n",
              "22    -41.863310\n",
              "9       6.693688\n",
              "40     37.255824\n",
              "44     13.661278\n",
              "24    -60.914875\n",
              "27    -65.482344\n",
              "38     15.255632\n",
              "30     29.932474\n",
              "14     11.288557\n",
              "17      7.808538\n",
              "21     -4.988487\n",
              "15    146.033613\n",
              "Name: Price, dtype: float64"
            ]
          },
          "metadata": {},
          "execution_count": 12
        }
      ]
    },
    {
      "cell_type": "markdown",
      "source": [
        "Построим диаграмму остатков"
      ],
      "metadata": {
        "id": "sfhnCLIJdXc2"
      }
    },
    {
      "cell_type": "code",
      "source": [
        "plt.scatter(e_ml.index, e_ml)"
      ],
      "metadata": {
        "colab": {
          "base_uri": "https://localhost:8080/",
          "height": 448
        },
        "id": "D3jXDnOsdYl4",
        "outputId": "d4ab93a2-5340-4f0a-b31b-474c5c3bcf91"
      },
      "execution_count": 13,
      "outputs": [
        {
          "output_type": "execute_result",
          "data": {
            "text/plain": [
              "<matplotlib.collections.PathCollection at 0x78d59843d4e0>"
            ]
          },
          "metadata": {},
          "execution_count": 13
        },
        {
          "output_type": "display_data",
          "data": {
            "text/plain": [
              "<Figure size 640x480 with 1 Axes>"
            ],
            "image/png": "[encoded data removed]"
          },
          "metadata": {}
        }
      ]
    },
    {
      "cell_type": "markdown",
      "source": [
        "Исходя из диаграммы, имеется сравнительно небольшое количество больших остатков. Значит, качество модели на обучающей выборке является высоким."
      ],
      "metadata": {
        "id": "kM2qJo6NdaAi"
      }
    },
    {
      "cell_type": "markdown",
      "source": [
        "Вычислим коэффициент детерминации с помощью функции explained_variance_score"
      ],
      "metadata": {
        "id": "MgwEADiudbjR"
      }
    },
    {
      "cell_type": "code",
      "source": [
        "R2_ml = metrics.explained_variance_score(y1_train, y1_pred)\n",
        "R2_ml"
      ],
      "metadata": {
        "colab": {
          "base_uri": "https://localhost:8080/"
        },
        "id": "3oAU12UIddA9",
        "outputId": "cc289ef8-5daf-46c1-eee2-e9dfc38e50c9"
      },
      "execution_count": 14,
      "outputs": [
        {
          "output_type": "execute_result",
          "data": {
            "text/plain": [
              "0.6918669305312106"
            ]
          },
          "metadata": {},
          "execution_count": 14
        }
      ]
    },
    {
      "cell_type": "markdown",
      "source": [
        "Относительно низкая величина коэффициента детерминации подтверждает вывод о невысоком качестве модели на обучающей выборке"
      ],
      "metadata": {
        "id": "DIs4UcsNdePX"
      }
    },
    {
      "cell_type": "markdown",
      "source": [
        "Вычислим метрику **MAPE** с помощью  функции mean_absolute_percentage_error"
      ],
      "metadata": {
        "id": "CModXwGFdfqm"
      }
    },
    {
      "cell_type": "code",
      "source": [
        "mape_ml = metrics.mean_absolute_percentage_error(y1_train, y1_pred) * 100\n",
        "mape_ml"
      ],
      "metadata": {
        "colab": {
          "base_uri": "https://localhost:8080/"
        },
        "id": "kwCy71SCdg7q",
        "outputId": "29ee62bf-d0f4-4049-b1ba-1896eafeeb02"
      },
      "execution_count": 15,
      "outputs": [
        {
          "output_type": "execute_result",
          "data": {
            "text/plain": [
              "119.37142430842403"
            ]
          },
          "metadata": {},
          "execution_count": 15
        }
      ]
    },
    {
      "cell_type": "markdown",
      "source": [
        "Большая величина метрики (намного больше, чем 15) также говорит о невысоком качестве модели на обучающей выборке"
      ],
      "metadata": {
        "id": "fcqHsuTJdiXF"
      }
    },
    {
      "cell_type": "markdown",
      "source": [
        "###**Вывод**\n",
        "\n",
        "Таким образом, исследуемая модель обладает невысоким качеством на обучающей выборке"
      ],
      "metadata": {
        "id": "Ea74up1vdkg6"
      }
    },
    {
      "cell_type": "markdown",
      "source": [
        "Вычислим дополнительные характеристики - метрики MSE и MAE. Они потребуются для сравнения качества модели на обучающей и тестовой выборках.\n",
        "\n",
        "Метрика MSE:"
      ],
      "metadata": {
        "id": "C8gtmigHdnJW"
      }
    },
    {
      "cell_type": "code",
      "source": [
        "mse_ml = metrics.mean_squared_error(y1_train, y1_pred)\n",
        "mse_ml"
      ],
      "metadata": {
        "colab": {
          "base_uri": "https://localhost:8080/"
        },
        "id": "UGzndynqdr2B",
        "outputId": "ebdf5bc9-fe46-4e1b-9b3e-86bca7f12d89"
      },
      "execution_count": 16,
      "outputs": [
        {
          "output_type": "execute_result",
          "data": {
            "text/plain": [
              "2461.406435798858"
            ]
          },
          "metadata": {},
          "execution_count": 16
        }
      ]
    },
    {
      "cell_type": "markdown",
      "source": [
        "Метрика MAE:"
      ],
      "metadata": {
        "id": "iIQ1lFVLdtEa"
      }
    },
    {
      "cell_type": "code",
      "source": [
        "mae_ml = metrics.mean_absolute_error(y1_train, y1_pred)\n",
        "mae_ml"
      ],
      "metadata": {
        "colab": {
          "base_uri": "https://localhost:8080/"
        },
        "id": "jiyokvnydrvK",
        "outputId": "09be13a0-3f9b-4800-fa43-2ba17dc17a45"
      },
      "execution_count": 17,
      "outputs": [
        {
          "output_type": "execute_result",
          "data": {
            "text/plain": [
              "37.51164216181203"
            ]
          },
          "metadata": {},
          "execution_count": 17
        }
      ]
    },
    {
      "cell_type": "markdown",
      "source": [
        "##Оценка качества модели на тестовой выборке"
      ],
      "metadata": {
        "id": "Y3UvcG2ajPZS"
      }
    },
    {
      "cell_type": "markdown",
      "source": [
        "Выполним предсказание значений целевой функции моделью\n",
        "с помощью метода predict"
      ],
      "metadata": {
        "id": "Vq8bvY5ojTXD"
      }
    },
    {
      "cell_type": "code",
      "source": [
        "y1_test_pred = ml.predict(X1_test)\n",
        "y1_test_pred"
      ],
      "metadata": {
        "colab": {
          "base_uri": "https://localhost:8080/"
        },
        "id": "KSPl_4eQjVaL",
        "outputId": "b94231e5-cf49-4c17-c425-358899fd9218"
      },
      "execution_count": 18,
      "outputs": [
        {
          "output_type": "execute_result",
          "data": {
            "text/plain": [
              "array([ 99.38131053, 175.21454832,  29.19878845,  44.18087786,\n",
              "        78.73099234, 165.49819529,  92.52780059, 179.41683314,\n",
              "       252.5770642 ,  64.53097977])"
            ]
          },
          "metadata": {},
          "execution_count": 18
        }
      ]
    },
    {
      "cell_type": "markdown",
      "source": [
        "Вычислим остатки - разности между имеющимися значениями и предсказанными значениями целевой переменной"
      ],
      "metadata": {
        "id": "4smevHhsjWgO"
      }
    },
    {
      "cell_type": "code",
      "source": [
        "e_test_ml = y1_test - y1_test_pred\n",
        "e_test_ml"
      ],
      "metadata": {
        "colab": {
          "base_uri": "https://localhost:8080/"
        },
        "id": "7JcFSsZIjX0O",
        "outputId": "670302f9-1ab6-4892-cdb8-ccd3b668f78f"
      },
      "execution_count": 19,
      "outputs": [
        {
          "output_type": "execute_result",
          "data": {
            "text/plain": [
              "2     -54.381311\n",
              "41     54.785452\n",
              "11     -4.198788\n",
              "18    -30.180878\n",
              "23      4.269008\n",
              "4     -70.498195\n",
              "34      3.472199\n",
              "5     -59.416833\n",
              "10   -152.577064\n",
              "13    -56.030980\n",
              "Name: Price, dtype: float64"
            ]
          },
          "metadata": {},
          "execution_count": 19
        }
      ]
    },
    {
      "cell_type": "markdown",
      "source": [
        "Построим диаграмму остатков"
      ],
      "metadata": {
        "id": "SH5wT_TCjY7V"
      }
    },
    {
      "cell_type": "code",
      "source": [
        "plt.scatter(e_test_ml.index, e_test_ml)"
      ],
      "metadata": {
        "colab": {
          "base_uri": "https://localhost:8080/",
          "height": 448
        },
        "id": "6PoX2kSljaYW",
        "outputId": "878e8244-f6d2-40a8-947e-fe708c06218f"
      },
      "execution_count": 20,
      "outputs": [
        {
          "output_type": "execute_result",
          "data": {
            "text/plain": [
              "<matplotlib.collections.PathCollection at 0x78d594226d10>"
            ]
          },
          "metadata": {},
          "execution_count": 20
        },
        {
          "output_type": "display_data",
          "data": {
            "text/plain": [
              "<Figure size 640x480 with 1 Axes>"
            ],
            "image/png": "[encoded data removed]"
          },
          "metadata": {}
        }
      ]
    },
    {
      "cell_type": "markdown",
      "source": [
        "Исходя из диаграммы, имеется сравнительно небольшое количество больших остатков. Значит, качество модели на обучающей выборке является высоким."
      ],
      "metadata": {
        "id": "iFDR5K5bjfep"
      }
    },
    {
      "cell_type": "markdown",
      "source": [
        "Вычислим коэффициент детерминации с помощью функции explained_variance_score"
      ],
      "metadata": {
        "id": "73emgDSdjip3"
      }
    },
    {
      "cell_type": "code",
      "source": [
        "R2_test_ml = metrics.explained_variance_score(y1_test, y1_test_pred)\n",
        "R2_test_ml"
      ],
      "metadata": {
        "id": "1QAF2QBgjr39",
        "colab": {
          "base_uri": "https://localhost:8080/"
        },
        "outputId": "0a907052-6ad0-4437-dc59-20bfa7994e08"
      },
      "execution_count": 21,
      "outputs": [
        {
          "output_type": "execute_result",
          "data": {
            "text/plain": [
              "0.2623680504619178"
            ]
          },
          "metadata": {},
          "execution_count": 21
        }
      ]
    },
    {
      "cell_type": "markdown",
      "source": [
        "Вычислим метрику MAPE с помощью функции mean_absolute_percentage_error"
      ],
      "metadata": {
        "id": "ydWbGHVy5-d3"
      }
    },
    {
      "cell_type": "code",
      "source": [
        "mape_test_ml = metrics.mean_absolute_percentage_error(y1_test, y1_test_pred) * 100\n",
        "mape_test_ml"
      ],
      "metadata": {
        "colab": {
          "base_uri": "https://localhost:8080/"
        },
        "id": "LxyIbUpF6Bcy",
        "outputId": "2e9c74ef-0537-491d-d631-32cdc5b17dac"
      },
      "execution_count": 22,
      "outputs": [
        {
          "output_type": "execute_result",
          "data": {
            "text/plain": [
              "132.1287943997287"
            ]
          },
          "metadata": {},
          "execution_count": 22
        }
      ]
    },
    {
      "cell_type": "markdown",
      "source": [
        "Напротив, большая величина метрики (намного больше, чем 15) также говорит о невысоком качестве модели на тестирующей выборке"
      ],
      "metadata": {
        "id": "gF06pQ176DSW"
      }
    },
    {
      "cell_type": "markdown",
      "source": [
        "###**Вывод**"
      ],
      "metadata": {
        "id": "m6CWYNE66FKM"
      }
    },
    {
      "cell_type": "markdown",
      "source": [
        "Таким образом, исследуемая модель обладает более высоким качеством на обучающей выборке, нежели на обучающей выборке"
      ],
      "metadata": {
        "id": "Bamvr1-J6Iv_"
      }
    },
    {
      "cell_type": "markdown",
      "source": [
        "Вычислим дополнительные характеристики - метрики MSE и MAE. Они потребуются для сравнения качества модели на обучающей и тестовой выборках.\n",
        "\n",
        "Метрика MSE:"
      ],
      "metadata": {
        "id": "eGJskyK-6K98"
      }
    },
    {
      "cell_type": "code",
      "source": [
        "mse_test_ml = metrics.mean_squared_error(y1_test, y1_test_pred)\n",
        "mse_test_ml"
      ],
      "metadata": {
        "colab": {
          "base_uri": "https://localhost:8080/"
        },
        "id": "IOGD1BKe6M8F",
        "outputId": "7ba25843-a8f8-4de8-e430-2b9035d61f3c"
      },
      "execution_count": 23,
      "outputs": [
        {
          "output_type": "execute_result",
          "data": {
            "text/plain": [
              "4183.715527211201"
            ]
          },
          "metadata": {},
          "execution_count": 23
        }
      ]
    },
    {
      "cell_type": "code",
      "source": [
        "mae_test_ml = metrics.mean_absolute_error(y1_test, y1_test_pred)\n",
        "mae_test_ml"
      ],
      "metadata": {
        "colab": {
          "base_uri": "https://localhost:8080/"
        },
        "id": "kvkte0jBtfR-",
        "outputId": "7783dc25-25d2-47f9-ff69-fea171041a33"
      },
      "execution_count": 24,
      "outputs": [
        {
          "output_type": "execute_result",
          "data": {
            "text/plain": [
              "48.98107079932478"
            ]
          },
          "metadata": {},
          "execution_count": 24
        }
      ]
    },
    {
      "cell_type": "markdown",
      "source": [
        "Составим таблицу из значений найденных метрик на обучающей и тестовой выборках"
      ],
      "metadata": {
        "id": "M0HRqyFM68k_"
      }
    },
    {
      "cell_type": "code",
      "source": [
        "ind = ['R', 'MAPE', 'MSE', 'MAE']\n",
        "dat1 = [R2_ml, mape_ml, mse_ml, mae_ml]\n",
        "dat2 = [R2_test_ml, mape_test_ml, mse_test_ml, mae_test_ml]\n",
        "\n",
        "pd.DataFrame({\n",
        "    'Metrics': ['R', 'MAPE', 'MSE', 'MAE'],\n",
        "    'Train': [R2_ml, mape_ml, mse_ml, mae_ml],\n",
        "    'Test': [R2_test_ml, mape_test_ml, mse_test_ml, mae_test_ml]\n",
        "})"
      ],
      "metadata": {
        "colab": {
          "base_uri": "https://localhost:8080/",
          "height": 175
        },
        "id": "CEcZk1wU6-3V",
        "outputId": "b1cc4bbd-03f6-4ee8-d3b2-36b9446858fd"
      },
      "execution_count": 25,
      "outputs": [
        {
          "output_type": "execute_result",
          "data": {
            "text/plain": [
              "  Metrics        Train         Test\n",
              "0       R     0.691867     0.262368\n",
              "1    MAPE   119.371424   132.128794\n",
              "2     MSE  2461.406436  4183.715527\n",
              "3     MAE    37.511642    48.981071"
            ],
            "text/html": [
              "\n",
              "  <div id=\"df-69272aa3-31fd-413a-a21f-a3eb70db3cd2\" class=\"colab-df-container\">\n",
              "    <div>\n",
              "<style scoped>\n",
              "    .dataframe tbody tr th:only-of-type {\n",
              "        vertical-align: middle;\n",
              "    }\n",
              "\n",
              "    .dataframe tbody tr th {\n",
              "        vertical-align: top;\n",
              "    }\n",
              "\n",
              "    .dataframe thead th {\n",
              "        text-align: right;\n",
              "    }\n",
              "</style>\n",
              "<table border=\"1\" class=\"dataframe\">\n",
              "  <thead>\n",
              "    <tr style=\"text-align: right;\">\n",
              "      <th></th>\n",
              "      <th>Metrics</th>\n",
              "      <th>Train</th>\n",
              "      <th>Test</th>\n",
              "    </tr>\n",
              "  </thead>\n",
              "  <tbody>\n",
              "    <tr>\n",
              "      <th>0</th>\n",
              "      <td>R</td>\n",
              "      <td>0.691867</td>\n",
              "      <td>0.262368</td>\n",
              "    </tr>\n",
              "    <tr>\n",
              "      <th>1</th>\n",
              "      <td>MAPE</td>\n",
              "      <td>119.371424</td>\n",
              "      <td>132.128794</td>\n",
              "    </tr>\n",
              "    <tr>\n",
              "      <th>2</th>\n",
              "      <td>MSE</td>\n",
              "      <td>2461.406436</td>\n",
              "      <td>4183.715527</td>\n",
              "    </tr>\n",
              "    <tr>\n",
              "      <th>3</th>\n",
              "      <td>MAE</td>\n",
              "      <td>37.511642</td>\n",
              "      <td>48.981071</td>\n",
              "    </tr>\n",
              "  </tbody>\n",
              "</table>\n",
              "</div>\n",
              "    <div class=\"colab-df-buttons\">\n",
              "\n",
              "  <div class=\"colab-df-container\">\n",
              "    <button class=\"colab-df-convert\" onclick=\"convertToInteractive('df-69272aa3-31fd-413a-a21f-a3eb70db3cd2')\"\n",
              "            title=\"Convert this dataframe to an interactive table.\"\n",
              "            style=\"display:none;\">\n",
              "\n",
              "  <svg xmlns=\"http://www.w3.org/2000/svg\" height=\"24px\" viewBox=\"0 -960 960 960\">\n",
              "    <path d=\"M120-120v-720h720v720H120Zm60-500h600v-160H180v160Zm220 220h160v-160H400v160Zm0 220h160v-160H400v160ZM180-400h160v-160H180v160Zm440 0h160v-160H620v160ZM180-180h160v-160H180v160Zm440 0h160v-160H620v160Z\"/>\n",
              "  </svg>\n",
              "    </button>\n",
              "\n",
              "  <style>\n",
              "    .colab-df-container {\n",
              "      display:flex;\n",
              "      gap: 12px;\n",
              "    }\n",
              "\n",
              "    .colab-df-convert {\n",
              "      background-color: #E8F0FE;\n",
              "      border: none;\n",
              "      border-radius: 50%;\n",
              "      cursor: pointer;\n",
              "      display: none;\n",
              "      fill: #1967D2;\n",
              "      height: 32px;\n",
              "      padding: 0 0 0 0;\n",
              "      width: 32px;\n",
              "    }\n",
              "\n",
              "    .colab-df-convert:hover {\n",
              "      background-color: #E2EBFA;\n",
              "      box-shadow: 0px 1px 2px rgba(60, 64, 67, 0.3), 0px 1px 3px 1px rgba(60, 64, 67, 0.15);\n",
              "      fill: #174EA6;\n",
              "    }\n",
              "\n",
              "    .colab-df-buttons div {\n",
              "      margin-bottom: 4px;\n",
              "    }\n",
              "\n",
              "    [theme=dark] .colab-df-convert {\n",
              "      background-color: #3B4455;\n",
              "      fill: #D2E3FC;\n",
              "    }\n",
              "\n",
              "    [theme=dark] .colab-df-convert:hover {\n",
              "      background-color: #434B5C;\n",
              "      box-shadow: 0px 1px 3px 1px rgba(0, 0, 0, 0.15);\n",
              "      filter: drop-shadow(0px 1px 2px rgba(0, 0, 0, 0.3));\n",
              "      fill: #FFFFFF;\n",
              "    }\n",
              "  </style>\n",
              "\n",
              "    <script>\n",
              "      const buttonEl =\n",
              "        document.querySelector('#df-69272aa3-31fd-413a-a21f-a3eb70db3cd2 button.colab-df-convert');\n",
              "      buttonEl.style.display =\n",
              "        google.colab.kernel.accessAllowed ? 'block' : 'none';\n",
              "\n",
              "      async function convertToInteractive(key) {\n",
              "        const element = document.querySelector('#df-69272aa3-31fd-413a-a21f-a3eb70db3cd2');\n",
              "        const dataTable =\n",
              "          await google.colab.kernel.invokeFunction('convertToInteractive',\n",
              "                                                    [key], {});\n",
              "        if (!dataTable) return;\n",
              "\n",
              "        const docLinkHtml = 'Like what you see? Visit the ' +\n",
              "          '<a target=\"_blank\" href=https://colab.research.google.com/notebooks/data_table.ipynb>data table notebook</a>'\n",
              "          + ' to learn more about interactive tables.';\n",
              "        element.innerHTML = '';\n",
              "        dataTable['output_type'] = 'display_data';\n",
              "        await google.colab.output.renderOutput(dataTable, element);\n",
              "        const docLink = document.createElement('div');\n",
              "        docLink.innerHTML = docLinkHtml;\n",
              "        element.appendChild(docLink);\n",
              "      }\n",
              "    </script>\n",
              "  </div>\n",
              "\n",
              "\n",
              "<div id=\"df-34cbb8a3-007e-40c7-8e51-b8dc3a820e29\">\n",
              "  <button class=\"colab-df-quickchart\" onclick=\"quickchart('df-34cbb8a3-007e-40c7-8e51-b8dc3a820e29')\"\n",
              "            title=\"Suggest charts.\"\n",
              "            style=\"display:none;\">\n",
              "\n",
              "<svg xmlns=\"http://www.w3.org/2000/svg\" height=\"24px\"viewBox=\"0 0 24 24\"\n",
              "     width=\"24px\">\n",
              "    <g>\n",
              "        <path d=\"M19 3H5c-1.1 0-2 .9-2 2v14c0 1.1.9 2 2 2h14c1.1 0 2-.9 2-2V5c0-1.1-.9-2-2-2zM9 17H7v-7h2v7zm4 0h-2V7h2v10zm4 0h-2v-4h2v4z\"/>\n",
              "    </g>\n",
              "</svg>\n",
              "  </button>\n",
              "\n",
              "<style>\n",
              "  .colab-df-quickchart {\n",
              "      --bg-color: #E8F0FE;\n",
              "      --fill-color: #1967D2;\n",
              "      --hover-bg-color: #E2EBFA;\n",
              "      --hover-fill-color: #174EA6;\n",
              "      --disabled-fill-color: #AAA;\n",
              "      --disabled-bg-color: #DDD;\n",
              "  }\n",
              "\n",
              "  [theme=dark] .colab-df-quickchart {\n",
              "      --bg-color: #3B4455;\n",
              "      --fill-color: #D2E3FC;\n",
              "      --hover-bg-color: #434B5C;\n",
              "      --hover-fill-color: #FFFFFF;\n",
              "      --disabled-bg-color: #3B4455;\n",
              "      --disabled-fill-color: #666;\n",
              "  }\n",
              "\n",
              "  .colab-df-quickchart {\n",
              "    background-color: var(--bg-color);\n",
              "    border: none;\n",
              "    border-radius: 50%;\n",
              "    cursor: pointer;\n",
              "    display: none;\n",
              "    fill: var(--fill-color);\n",
              "    height: 32px;\n",
              "    padding: 0;\n",
              "    width: 32px;\n",
              "  }\n",
              "\n",
              "  .colab-df-quickchart:hover {\n",
              "    background-color: var(--hover-bg-color);\n",
              "    box-shadow: 0 1px 2px rgba(60, 64, 67, 0.3), 0 1px 3px 1px rgba(60, 64, 67, 0.15);\n",
              "    fill: var(--button-hover-fill-color);\n",
              "  }\n",
              "\n",
              "  .colab-df-quickchart-complete:disabled,\n",
              "  .colab-df-quickchart-complete:disabled:hover {\n",
              "    background-color: var(--disabled-bg-color);\n",
              "    fill: var(--disabled-fill-color);\n",
              "    box-shadow: none;\n",
              "  }\n",
              "\n",
              "  .colab-df-spinner {\n",
              "    border: 2px solid var(--fill-color);\n",
              "    border-color: transparent;\n",
              "    border-bottom-color: var(--fill-color);\n",
              "    animation:\n",
              "      spin 1s steps(1) infinite;\n",
              "  }\n",
              "\n",
              "  @keyframes spin {\n",
              "    0% {\n",
              "      border-color: transparent;\n",
              "      border-bottom-color: var(--fill-color);\n",
              "      border-left-color: var(--fill-color);\n",
              "    }\n",
              "    20% {\n",
              "      border-color: transparent;\n",
              "      border-left-color: var(--fill-color);\n",
              "      border-top-color: var(--fill-color);\n",
              "    }\n",
              "    30% {\n",
              "      border-color: transparent;\n",
              "      border-left-color: var(--fill-color);\n",
              "      border-top-color: var(--fill-color);\n",
              "      border-right-color: var(--fill-color);\n",
              "    }\n",
              "    40% {\n",
              "      border-color: transparent;\n",
              "      border-right-color: var(--fill-color);\n",
              "      border-top-color: var(--fill-color);\n",
              "    }\n",
              "    60% {\n",
              "      border-color: transparent;\n",
              "      border-right-color: var(--fill-color);\n",
              "    }\n",
              "    80% {\n",
              "      border-color: transparent;\n",
              "      border-right-color: var(--fill-color);\n",
              "      border-bottom-color: var(--fill-color);\n",
              "    }\n",
              "    90% {\n",
              "      border-color: transparent;\n",
              "      border-bottom-color: var(--fill-color);\n",
              "    }\n",
              "  }\n",
              "</style>\n",
              "\n",
              "  <script>\n",
              "    async function quickchart(key) {\n",
              "      const quickchartButtonEl =\n",
              "        document.querySelector('#' + key + ' button');\n",
              "      quickchartButtonEl.disabled = true;  // To prevent multiple clicks.\n",
              "      quickchartButtonEl.classList.add('colab-df-spinner');\n",
              "      try {\n",
              "        const charts = await google.colab.kernel.invokeFunction(\n",
              "            'suggestCharts', [key], {});\n",
              "      } catch (error) {\n",
              "        console.error('Error during call to suggestCharts:', error);\n",
              "      }\n",
              "      quickchartButtonEl.classList.remove('colab-df-spinner');\n",
              "      quickchartButtonEl.classList.add('colab-df-quickchart-complete');\n",
              "    }\n",
              "    (() => {\n",
              "      let quickchartButtonEl =\n",
              "        document.querySelector('#df-34cbb8a3-007e-40c7-8e51-b8dc3a820e29 button');\n",
              "      quickchartButtonEl.style.display =\n",
              "        google.colab.kernel.accessAllowed ? 'block' : 'none';\n",
              "    })();\n",
              "  </script>\n",
              "</div>\n",
              "    </div>\n",
              "  </div>\n"
            ]
          },
          "metadata": {},
          "execution_count": 25
        }
      ]
    },
    {
      "cell_type": "markdown",
      "source": [
        "#Улучшение качества модели"
      ],
      "metadata": {
        "id": "O2Pc9dd_7CMB"
      }
    },
    {
      "cell_type": "markdown",
      "source": [
        "##Очистка данных"
      ],
      "metadata": {
        "id": "SglbHyuI7DaO"
      }
    },
    {
      "cell_type": "markdown",
      "source": [
        "Построим диаграмму рассеяния, расположив выборочные значения стоимости коттеджа по горизонтальной оси"
      ],
      "metadata": {
        "id": "EUODyMPT7Fgd"
      }
    },
    {
      "cell_type": "code",
      "source": [
        "box = plt.boxplot(ds.Price, vert = False, notch = True, patch_artist = True,\n",
        "                  flierprops = dict(markerfacecolor = 'purple', marker = 's'),\n",
        "                  boxprops = dict(color = 'red', facecolor = 'lime' ))\n",
        "plt.title(\"Диаграмма размаха\")\n",
        "plt.xlabel(\"Выборочные значения\")"
      ],
      "metadata": {
        "colab": {
          "base_uri": "https://localhost:8080/",
          "height": 490
        },
        "id": "ML0plZVn7Hb6",
        "outputId": "a52f90e2-1f42-40ea-9a68-96c56575dc40"
      },
      "execution_count": 26,
      "outputs": [
        {
          "output_type": "execute_result",
          "data": {
            "text/plain": [
              "Text(0.5, 0, 'Выборочные значения')"
            ]
          },
          "metadata": {},
          "execution_count": 26
        },
        {
          "output_type": "display_data",
          "data": {
            "text/plain": [
              "<Figure size 640x480 with 1 Axes>"
            ],
            "image/png": "[encoded data removed]"
          },
          "metadata": {}
        }
      ]
    },
    {
      "cell_type": "markdown",
      "source": [
        "В выборке, по-видимому, присутствуют аномальные данные.\n",
        "Генеральная совокупность возможно не симметрична (усы разной длины)."
      ],
      "metadata": {
        "id": "rIPJJAQQ7KUL"
      }
    },
    {
      "cell_type": "markdown",
      "source": [
        "Выберем данные с помощью условия *Price < 250*"
      ],
      "metadata": {
        "id": "Dn815UG17N12"
      }
    },
    {
      "cell_type": "code",
      "source": [
        "ds2 = ds[ds.Price < 250]\n",
        "ds2"
      ],
      "metadata": {
        "colab": {
          "base_uri": "https://localhost:8080/",
          "height": 1000
        },
        "id": "6rTnEtJz7POd",
        "outputId": "04a6dce6-8cdd-4d5c-e893-4e06023301be"
      },
      "execution_count": 27,
      "outputs": [
        {
          "output_type": "execute_result",
          "data": {
            "text/plain": [
              "    Price  House  Area   Dist  Ter\n",
              "0   220.0    500  40.0   26.0    1\n",
              "1    95.0    530  19.0   23.0    0\n",
              "2    45.0    350   7.0   25.0    0\n",
              "3   120.0    150  10.0   26.0    1\n",
              "4    95.0    370  15.0   45.0    1\n",
              "5   120.0    300  24.0   20.0    1\n",
              "6    16.5     78   8.5   60.0    0\n",
              "7    25.0     80  10.0   50.0    1\n",
              "8    20.0     65   6.0   25.0    0\n",
              "9    20.0     90   6.0   45.0    0\n",
              "10  100.0    600  15.0    7.0    1\n",
              "11   25.0     85  11.0   33.0    0\n",
              "12   50.0    100  10.0   85.0    1\n",
              "13    8.5     22  14.0   50.0    1\n",
              "14   16.5     60   8.0   51.0    0\n",
              "17   60.0    170   6.0   18.0    0\n",
              "18   14.0     60  11.0   90.0    1\n",
              "19   38.0     65   6.0   18.0    1\n",
              "20   85.0    320  20.0   25.0    0\n",
              "21   85.0    210  20.0   19.0    0\n",
              "22   28.0     60   5.0   30.0    1\n",
              "23   83.0    228  20.0   45.0    0\n",
              "24   80.0    200  20.0   25.0    1\n",
              "25   15.0     36  10.0   46.0    1\n",
              "26   27.0    180  17.0   86.0    0\n",
              "27   42.0    250  15.0   85.0    1\n",
              "28    5.5     36  12.0   85.0    0\n",
              "29   47.0    285  15.0   74.0    0\n",
              "30    5.0     36  10.0   95.0    0\n",
              "31   59.0    420  10.0    9.0    0\n",
              "32   27.0    130   6.0   12.0    0\n",
              "34   96.0    300  15.0   39.0    0\n",
              "35   95.0    200  14.0   25.0    0\n",
              "36    6.0     36   6.0   65.0    0\n",
              "37  120.0    300  32.0   28.0    1\n",
              "38  135.0    170  15.0   30.0    1\n",
              "40   10.0     36  12.0  105.0    0\n",
              "41  230.0    350  18.0   30.0    1\n",
              "42   15.0     46  15.0  100.0    0\n",
              "43  130.0    130  15.0   27.0    1\n",
              "44   16.5     56  15.0   75.0    0\n",
              "45    7.0     46  15.0  100.0    0\n",
              "46  110.0    170  10.0   25.0    1\n",
              "47   13.0     70   6.0   50.0    1"
            ],
            "text/html": [
              "\n",
              "  <div id=\"df-d36b4502-354d-4b34-b546-993715c9dae0\" class=\"colab-df-container\">\n",
              "    <div>\n",
              "<style scoped>\n",
              "    .dataframe tbody tr th:only-of-type {\n",
              "        vertical-align: middle;\n",
              "    }\n",
              "\n",
              "    .dataframe tbody tr th {\n",
              "        vertical-align: top;\n",
              "    }\n",
              "\n",
              "    .dataframe thead th {\n",
              "        text-align: right;\n",
              "    }\n",
              "</style>\n",
              "<table border=\"1\" class=\"dataframe\">\n",
              "  <thead>\n",
              "    <tr style=\"text-align: right;\">\n",
              "      <th></th>\n",
              "      <th>Price</th>\n",
              "      <th>House</th>\n",
              "      <th>Area</th>\n",
              "      <th>Dist</th>\n",
              "      <th>Ter</th>\n",
              "    </tr>\n",
              "  </thead>\n",
              "  <tbody>\n",
              "    <tr>\n",
              "      <th>0</th>\n",
              "      <td>220.0</td>\n",
              "      <td>500</td>\n",
              "      <td>40.0</td>\n",
              "      <td>26.0</td>\n",
              "      <td>1</td>\n",
              "    </tr>\n",
              "    <tr>\n",
              "      <th>1</th>\n",
              "      <td>95.0</td>\n",
              "      <td>530</td>\n",
              "      <td>19.0</td>\n",
              "      <td>23.0</td>\n",
              "      <td>0</td>\n",
              "    </tr>\n",
              "    <tr>\n",
              "      <th>2</th>\n",
              "      <td>45.0</td>\n",
              "      <td>350</td>\n",
              "      <td>7.0</td>\n",
              "      <td>25.0</td>\n",
              "      <td>0</td>\n",
              "    </tr>\n",
              "    <tr>\n",
              "      <th>3</th>\n",
              "      <td>120.0</td>\n",
              "      <td>150</td>\n",
              "      <td>10.0</td>\n",
              "      <td>26.0</td>\n",
              "      <td>1</td>\n",
              "    </tr>\n",
              "    <tr>\n",
              "      <th>4</th>\n",
              "      <td>95.0</td>\n",
              "      <td>370</td>\n",
              "      <td>15.0</td>\n",
              "      <td>45.0</td>\n",
              "      <td>1</td>\n",
              "    </tr>\n",
              "    <tr>\n",
              "      <th>5</th>\n",
              "      <td>120.0</td>\n",
              "      <td>300</td>\n",
              "      <td>24.0</td>\n",
              "      <td>20.0</td>\n",
              "      <td>1</td>\n",
              "    </tr>\n",
              "    <tr>\n",
              "      <th>6</th>\n",
              "      <td>16.5</td>\n",
              "      <td>78</td>\n",
              "      <td>8.5</td>\n",
              "      <td>60.0</td>\n",
              "      <td>0</td>\n",
              "    </tr>\n",
              "    <tr>\n",
              "      <th>7</th>\n",
              "      <td>25.0</td>\n",
              "      <td>80</td>\n",
              "      <td>10.0</td>\n",
              "      <td>50.0</td>\n",
              "      <td>1</td>\n",
              "    </tr>\n",
              "    <tr>\n",
              "      <th>8</th>\n",
              "      <td>20.0</td>\n",
              "      <td>65</td>\n",
              "      <td>6.0</td>\n",
              "      <td>25.0</td>\n",
              "      <td>0</td>\n",
              "    </tr>\n",
              "    <tr>\n",
              "      <th>9</th>\n",
              "      <td>20.0</td>\n",
              "      <td>90</td>\n",
              "      <td>6.0</td>\n",
              "      <td>45.0</td>\n",
              "      <td>0</td>\n",
              "    </tr>\n",
              "    <tr>\n",
              "      <th>10</th>\n",
              "      <td>100.0</td>\n",
              "      <td>600</td>\n",
              "      <td>15.0</td>\n",
              "      <td>7.0</td>\n",
              "      <td>1</td>\n",
              "    </tr>\n",
              "    <tr>\n",
              "      <th>11</th>\n",
              "      <td>25.0</td>\n",
              "      <td>85</td>\n",
              "      <td>11.0</td>\n",
              "      <td>33.0</td>\n",
              "      <td>0</td>\n",
              "    </tr>\n",
              "    <tr>\n",
              "      <th>12</th>\n",
              "      <td>50.0</td>\n",
              "      <td>100</td>\n",
              "      <td>10.0</td>\n",
              "      <td>85.0</td>\n",
              "      <td>1</td>\n",
              "    </tr>\n",
              "    <tr>\n",
              "      <th>13</th>\n",
              "      <td>8.5</td>\n",
              "      <td>22</td>\n",
              "      <td>14.0</td>\n",
              "      <td>50.0</td>\n",
              "      <td>1</td>\n",
              "    </tr>\n",
              "    <tr>\n",
              "      <th>14</th>\n",
              "      <td>16.5</td>\n",
              "      <td>60</td>\n",
              "      <td>8.0</td>\n",
              "      <td>51.0</td>\n",
              "      <td>0</td>\n",
              "    </tr>\n",
              "    <tr>\n",
              "      <th>17</th>\n",
              "      <td>60.0</td>\n",
              "      <td>170</td>\n",
              "      <td>6.0</td>\n",
              "      <td>18.0</td>\n",
              "      <td>0</td>\n",
              "    </tr>\n",
              "    <tr>\n",
              "      <th>18</th>\n",
              "      <td>14.0</td>\n",
              "      <td>60</td>\n",
              "      <td>11.0</td>\n",
              "      <td>90.0</td>\n",
              "      <td>1</td>\n",
              "    </tr>\n",
              "    <tr>\n",
              "      <th>19</th>\n",
              "      <td>38.0</td>\n",
              "      <td>65</td>\n",
              "      <td>6.0</td>\n",
              "      <td>18.0</td>\n",
              "      <td>1</td>\n",
              "    </tr>\n",
              "    <tr>\n",
              "      <th>20</th>\n",
              "      <td>85.0</td>\n",
              "      <td>320</td>\n",
              "      <td>20.0</td>\n",
              "      <td>25.0</td>\n",
              "      <td>0</td>\n",
              "    </tr>\n",
              "    <tr>\n",
              "      <th>21</th>\n",
              "      <td>85.0</td>\n",
              "      <td>210</td>\n",
              "      <td>20.0</td>\n",
              "      <td>19.0</td>\n",
              "      <td>0</td>\n",
              "    </tr>\n",
              "    <tr>\n",
              "      <th>22</th>\n",
              "      <td>28.0</td>\n",
              "      <td>60</td>\n",
              "      <td>5.0</td>\n",
              "      <td>30.0</td>\n",
              "      <td>1</td>\n",
              "    </tr>\n",
              "    <tr>\n",
              "      <th>23</th>\n",
              "      <td>83.0</td>\n",
              "      <td>228</td>\n",
              "      <td>20.0</td>\n",
              "      <td>45.0</td>\n",
              "      <td>0</td>\n",
              "    </tr>\n",
              "    <tr>\n",
              "      <th>24</th>\n",
              "      <td>80.0</td>\n",
              "      <td>200</td>\n",
              "      <td>20.0</td>\n",
              "      <td>25.0</td>\n",
              "      <td>1</td>\n",
              "    </tr>\n",
              "    <tr>\n",
              "      <th>25</th>\n",
              "      <td>15.0</td>\n",
              "      <td>36</td>\n",
              "      <td>10.0</td>\n",
              "      <td>46.0</td>\n",
              "      <td>1</td>\n",
              "    </tr>\n",
              "    <tr>\n",
              "      <th>26</th>\n",
              "      <td>27.0</td>\n",
              "      <td>180</td>\n",
              "      <td>17.0</td>\n",
              "      <td>86.0</td>\n",
              "      <td>0</td>\n",
              "    </tr>\n",
              "    <tr>\n",
              "      <th>27</th>\n",
              "      <td>42.0</td>\n",
              "      <td>250</td>\n",
              "      <td>15.0</td>\n",
              "      <td>85.0</td>\n",
              "      <td>1</td>\n",
              "    </tr>\n",
              "    <tr>\n",
              "      <th>28</th>\n",
              "      <td>5.5</td>\n",
              "      <td>36</td>\n",
              "      <td>12.0</td>\n",
              "      <td>85.0</td>\n",
              "      <td>0</td>\n",
              "    </tr>\n",
              "    <tr>\n",
              "      <th>29</th>\n",
              "      <td>47.0</td>\n",
              "      <td>285</td>\n",
              "      <td>15.0</td>\n",
              "      <td>74.0</td>\n",
              "      <td>0</td>\n",
              "    </tr>\n",
              "    <tr>\n",
              "      <th>30</th>\n",
              "      <td>5.0</td>\n",
              "      <td>36</td>\n",
              "      <td>10.0</td>\n",
              "      <td>95.0</td>\n",
              "      <td>0</td>\n",
              "    </tr>\n",
              "    <tr>\n",
              "      <th>31</th>\n",
              "      <td>59.0</td>\n",
              "      <td>420</td>\n",
              "      <td>10.0</td>\n",
              "      <td>9.0</td>\n",
              "      <td>0</td>\n",
              "    </tr>\n",
              "    <tr>\n",
              "      <th>32</th>\n",
              "      <td>27.0</td>\n",
              "      <td>130</td>\n",
              "      <td>6.0</td>\n",
              "      <td>12.0</td>\n",
              "      <td>0</td>\n",
              "    </tr>\n",
              "    <tr>\n",
              "      <th>34</th>\n",
              "      <td>96.0</td>\n",
              "      <td>300</td>\n",
              "      <td>15.0</td>\n",
              "      <td>39.0</td>\n",
              "      <td>0</td>\n",
              "    </tr>\n",
              "    <tr>\n",
              "      <th>35</th>\n",
              "      <td>95.0</td>\n",
              "      <td>200</td>\n",
              "      <td>14.0</td>\n",
              "      <td>25.0</td>\n",
              "      <td>0</td>\n",
              "    </tr>\n",
              "    <tr>\n",
              "      <th>36</th>\n",
              "      <td>6.0</td>\n",
              "      <td>36</td>\n",
              "      <td>6.0</td>\n",
              "      <td>65.0</td>\n",
              "      <td>0</td>\n",
              "    </tr>\n",
              "    <tr>\n",
              "      <th>37</th>\n",
              "      <td>120.0</td>\n",
              "      <td>300</td>\n",
              "      <td>32.0</td>\n",
              "      <td>28.0</td>\n",
              "      <td>1</td>\n",
              "    </tr>\n",
              "    <tr>\n",
              "      <th>38</th>\n",
              "      <td>135.0</td>\n",
              "      <td>170</td>\n",
              "      <td>15.0</td>\n",
              "      <td>30.0</td>\n",
              "      <td>1</td>\n",
              "    </tr>\n",
              "    <tr>\n",
              "      <th>40</th>\n",
              "      <td>10.0</td>\n",
              "      <td>36</td>\n",
              "      <td>12.0</td>\n",
              "      <td>105.0</td>\n",
              "      <td>0</td>\n",
              "    </tr>\n",
              "    <tr>\n",
              "      <th>41</th>\n",
              "      <td>230.0</td>\n",
              "      <td>350</td>\n",
              "      <td>18.0</td>\n",
              "      <td>30.0</td>\n",
              "      <td>1</td>\n",
              "    </tr>\n",
              "    <tr>\n",
              "      <th>42</th>\n",
              "      <td>15.0</td>\n",
              "      <td>46</td>\n",
              "      <td>15.0</td>\n",
              "      <td>100.0</td>\n",
              "      <td>0</td>\n",
              "    </tr>\n",
              "    <tr>\n",
              "      <th>43</th>\n",
              "      <td>130.0</td>\n",
              "      <td>130</td>\n",
              "      <td>15.0</td>\n",
              "      <td>27.0</td>\n",
              "      <td>1</td>\n",
              "    </tr>\n",
              "    <tr>\n",
              "      <th>44</th>\n",
              "      <td>16.5</td>\n",
              "      <td>56</td>\n",
              "      <td>15.0</td>\n",
              "      <td>75.0</td>\n",
              "      <td>0</td>\n",
              "    </tr>\n",
              "    <tr>\n",
              "      <th>45</th>\n",
              "      <td>7.0</td>\n",
              "      <td>46</td>\n",
              "      <td>15.0</td>\n",
              "      <td>100.0</td>\n",
              "      <td>0</td>\n",
              "    </tr>\n",
              "    <tr>\n",
              "      <th>46</th>\n",
              "      <td>110.0</td>\n",
              "      <td>170</td>\n",
              "      <td>10.0</td>\n",
              "      <td>25.0</td>\n",
              "      <td>1</td>\n",
              "    </tr>\n",
              "    <tr>\n",
              "      <th>47</th>\n",
              "      <td>13.0</td>\n",
              "      <td>70</td>\n",
              "      <td>6.0</td>\n",
              "      <td>50.0</td>\n",
              "      <td>1</td>\n",
              "    </tr>\n",
              "  </tbody>\n",
              "</table>\n",
              "</div>\n",
              "    <div class=\"colab-df-buttons\">\n",
              "\n",
              "  <div class=\"colab-df-container\">\n",
              "    <button class=\"colab-df-convert\" onclick=\"convertToInteractive('df-d36b4502-354d-4b34-b546-993715c9dae0')\"\n",
              "            title=\"Convert this dataframe to an interactive table.\"\n",
              "            style=\"display:none;\">\n",
              "\n",
              "  <svg xmlns=\"http://www.w3.org/2000/svg\" height=\"24px\" viewBox=\"0 -960 960 960\">\n",
              "    <path d=\"M120-120v-720h720v720H120Zm60-500h600v-160H180v160Zm220 220h160v-160H400v160Zm0 220h160v-160H400v160ZM180-400h160v-160H180v160Zm440 0h160v-160H620v160ZM180-180h160v-160H180v160Zm440 0h160v-160H620v160Z\"/>\n",
              "  </svg>\n",
              "    </button>\n",
              "\n",
              "  <style>\n",
              "    .colab-df-container {\n",
              "      display:flex;\n",
              "      gap: 12px;\n",
              "    }\n",
              "\n",
              "    .colab-df-convert {\n",
              "      background-color: #E8F0FE;\n",
              "      border: none;\n",
              "      border-radius: 50%;\n",
              "      cursor: pointer;\n",
              "      display: none;\n",
              "      fill: #1967D2;\n",
              "      height: 32px;\n",
              "      padding: 0 0 0 0;\n",
              "      width: 32px;\n",
              "    }\n",
              "\n",
              "    .colab-df-convert:hover {\n",
              "      background-color: #E2EBFA;\n",
              "      box-shadow: 0px 1px 2px rgba(60, 64, 67, 0.3), 0px 1px 3px 1px rgba(60, 64, 67, 0.15);\n",
              "      fill: #174EA6;\n",
              "    }\n",
              "\n",
              "    .colab-df-buttons div {\n",
              "      margin-bottom: 4px;\n",
              "    }\n",
              "\n",
              "    [theme=dark] .colab-df-convert {\n",
              "      background-color: #3B4455;\n",
              "      fill: #D2E3FC;\n",
              "    }\n",
              "\n",
              "    [theme=dark] .colab-df-convert:hover {\n",
              "      background-color: #434B5C;\n",
              "      box-shadow: 0px 1px 3px 1px rgba(0, 0, 0, 0.15);\n",
              "      filter: drop-shadow(0px 1px 2px rgba(0, 0, 0, 0.3));\n",
              "      fill: #FFFFFF;\n",
              "    }\n",
              "  </style>\n",
              "\n",
              "    <script>\n",
              "      const buttonEl =\n",
              "        document.querySelector('#df-d36b4502-354d-4b34-b546-993715c9dae0 button.colab-df-convert');\n",
              "      buttonEl.style.display =\n",
              "        google.colab.kernel.accessAllowed ? 'block' : 'none';\n",
              "\n",
              "      async function convertToInteractive(key) {\n",
              "        const element = document.querySelector('#df-d36b4502-354d-4b34-b546-993715c9dae0');\n",
              "        const dataTable =\n",
              "          await google.colab.kernel.invokeFunction('convertToInteractive',\n",
              "                                                    [key], {});\n",
              "        if (!dataTable) return;\n",
              "\n",
              "        const docLinkHtml = 'Like what you see? Visit the ' +\n",
              "          '<a target=\"_blank\" href=https://colab.research.google.com/notebooks/data_table.ipynb>data table notebook</a>'\n",
              "          + ' to learn more about interactive tables.';\n",
              "        element.innerHTML = '';\n",
              "        dataTable['output_type'] = 'display_data';\n",
              "        await google.colab.output.renderOutput(dataTable, element);\n",
              "        const docLink = document.createElement('div');\n",
              "        docLink.innerHTML = docLinkHtml;\n",
              "        element.appendChild(docLink);\n",
              "      }\n",
              "    </script>\n",
              "  </div>\n",
              "\n",
              "\n",
              "<div id=\"df-6c329ff0-0658-4b00-b754-a5a9928548d4\">\n",
              "  <button class=\"colab-df-quickchart\" onclick=\"quickchart('df-6c329ff0-0658-4b00-b754-a5a9928548d4')\"\n",
              "            title=\"Suggest charts.\"\n",
              "            style=\"display:none;\">\n",
              "\n",
              "<svg xmlns=\"http://www.w3.org/2000/svg\" height=\"24px\"viewBox=\"0 0 24 24\"\n",
              "     width=\"24px\">\n",
              "    <g>\n",
              "        <path d=\"M19 3H5c-1.1 0-2 .9-2 2v14c0 1.1.9 2 2 2h14c1.1 0 2-.9 2-2V5c0-1.1-.9-2-2-2zM9 17H7v-7h2v7zm4 0h-2V7h2v10zm4 0h-2v-4h2v4z\"/>\n",
              "    </g>\n",
              "</svg>\n",
              "  </button>\n",
              "\n",
              "<style>\n",
              "  .colab-df-quickchart {\n",
              "      --bg-color: #E8F0FE;\n",
              "      --fill-color: #1967D2;\n",
              "      --hover-bg-color: #E2EBFA;\n",
              "      --hover-fill-color: #174EA6;\n",
              "      --disabled-fill-color: #AAA;\n",
              "      --disabled-bg-color: #DDD;\n",
              "  }\n",
              "\n",
              "  [theme=dark] .colab-df-quickchart {\n",
              "      --bg-color: #3B4455;\n",
              "      --fill-color: #D2E3FC;\n",
              "      --hover-bg-color: #434B5C;\n",
              "      --hover-fill-color: #FFFFFF;\n",
              "      --disabled-bg-color: #3B4455;\n",
              "      --disabled-fill-color: #666;\n",
              "  }\n",
              "\n",
              "  .colab-df-quickchart {\n",
              "    background-color: var(--bg-color);\n",
              "    border: none;\n",
              "    border-radius: 50%;\n",
              "    cursor: pointer;\n",
              "    display: none;\n",
              "    fill: var(--fill-color);\n",
              "    height: 32px;\n",
              "    padding: 0;\n",
              "    width: 32px;\n",
              "  }\n",
              "\n",
              "  .colab-df-quickchart:hover {\n",
              "    background-color: var(--hover-bg-color);\n",
              "    box-shadow: 0 1px 2px rgba(60, 64, 67, 0.3), 0 1px 3px 1px rgba(60, 64, 67, 0.15);\n",
              "    fill: var(--button-hover-fill-color);\n",
              "  }\n",
              "\n",
              "  .colab-df-quickchart-complete:disabled,\n",
              "  .colab-df-quickchart-complete:disabled:hover {\n",
              "    background-color: var(--disabled-bg-color);\n",
              "    fill: var(--disabled-fill-color);\n",
              "    box-shadow: none;\n",
              "  }\n",
              "\n",
              "  .colab-df-spinner {\n",
              "    border: 2px solid var(--fill-color);\n",
              "    border-color: transparent;\n",
              "    border-bottom-color: var(--fill-color);\n",
              "    animation:\n",
              "      spin 1s steps(1) infinite;\n",
              "  }\n",
              "\n",
              "  @keyframes spin {\n",
              "    0% {\n",
              "      border-color: transparent;\n",
              "      border-bottom-color: var(--fill-color);\n",
              "      border-left-color: var(--fill-color);\n",
              "    }\n",
              "    20% {\n",
              "      border-color: transparent;\n",
              "      border-left-color: var(--fill-color);\n",
              "      border-top-color: var(--fill-color);\n",
              "    }\n",
              "    30% {\n",
              "      border-color: transparent;\n",
              "      border-left-color: var(--fill-color);\n",
              "      border-top-color: var(--fill-color);\n",
              "      border-right-color: var(--fill-color);\n",
              "    }\n",
              "    40% {\n",
              "      border-color: transparent;\n",
              "      border-right-color: var(--fill-color);\n",
              "      border-top-color: var(--fill-color);\n",
              "    }\n",
              "    60% {\n",
              "      border-color: transparent;\n",
              "      border-right-color: var(--fill-color);\n",
              "    }\n",
              "    80% {\n",
              "      border-color: transparent;\n",
              "      border-right-color: var(--fill-color);\n",
              "      border-bottom-color: var(--fill-color);\n",
              "    }\n",
              "    90% {\n",
              "      border-color: transparent;\n",
              "      border-bottom-color: var(--fill-color);\n",
              "    }\n",
              "  }\n",
              "</style>\n",
              "\n",
              "  <script>\n",
              "    async function quickchart(key) {\n",
              "      const quickchartButtonEl =\n",
              "        document.querySelector('#' + key + ' button');\n",
              "      quickchartButtonEl.disabled = true;  // To prevent multiple clicks.\n",
              "      quickchartButtonEl.classList.add('colab-df-spinner');\n",
              "      try {\n",
              "        const charts = await google.colab.kernel.invokeFunction(\n",
              "            'suggestCharts', [key], {});\n",
              "      } catch (error) {\n",
              "        console.error('Error during call to suggestCharts:', error);\n",
              "      }\n",
              "      quickchartButtonEl.classList.remove('colab-df-spinner');\n",
              "      quickchartButtonEl.classList.add('colab-df-quickchart-complete');\n",
              "    }\n",
              "    (() => {\n",
              "      let quickchartButtonEl =\n",
              "        document.querySelector('#df-6c329ff0-0658-4b00-b754-a5a9928548d4 button');\n",
              "      quickchartButtonEl.style.display =\n",
              "        google.colab.kernel.accessAllowed ? 'block' : 'none';\n",
              "    })();\n",
              "  </script>\n",
              "</div>\n",
              "    </div>\n",
              "  </div>\n"
            ]
          },
          "metadata": {},
          "execution_count": 27
        }
      ]
    },
    {
      "cell_type": "markdown",
      "source": [
        "После выборки данных с помощью условия Price < 250, были убраны аномальные данные"
      ],
      "metadata": {
        "id": "iJ6OgeyEBbrK"
      }
    },
    {
      "cell_type": "code",
      "source": [
        "dif = len(ds) - len(ds2)\n",
        "dif"
      ],
      "metadata": {
        "colab": {
          "base_uri": "https://localhost:8080/"
        },
        "id": "WvHj_CQQ6Zsc",
        "outputId": "fe0706b0-ad89-4e62-bc0e-ea996135a9b1"
      },
      "execution_count": 28,
      "outputs": [
        {
          "output_type": "execute_result",
          "data": {
            "text/plain": [
              "4"
            ]
          },
          "metadata": {},
          "execution_count": 28
        }
      ]
    },
    {
      "cell_type": "markdown",
      "source": [
        "Выделим целевую переменную Price в переменную y2"
      ],
      "metadata": {
        "id": "NA7H79A87VqB"
      }
    },
    {
      "cell_type": "code",
      "source": [
        "y2 = ds2['Price']\n",
        "y2"
      ],
      "metadata": {
        "colab": {
          "base_uri": "https://localhost:8080/"
        },
        "id": "JWkxmiG97XBR",
        "outputId": "cf278788-1465-4704-9918-02abe0f02d0c"
      },
      "execution_count": 29,
      "outputs": [
        {
          "output_type": "execute_result",
          "data": {
            "text/plain": [
              "0     220.0\n",
              "1      95.0\n",
              "2      45.0\n",
              "3     120.0\n",
              "4      95.0\n",
              "5     120.0\n",
              "6      16.5\n",
              "7      25.0\n",
              "8      20.0\n",
              "9      20.0\n",
              "10    100.0\n",
              "11     25.0\n",
              "12     50.0\n",
              "13      8.5\n",
              "14     16.5\n",
              "17     60.0\n",
              "18     14.0\n",
              "19     38.0\n",
              "20     85.0\n",
              "21     85.0\n",
              "22     28.0\n",
              "23     83.0\n",
              "24     80.0\n",
              "25     15.0\n",
              "26     27.0\n",
              "27     42.0\n",
              "28      5.5\n",
              "29     47.0\n",
              "30      5.0\n",
              "31     59.0\n",
              "32     27.0\n",
              "34     96.0\n",
              "35     95.0\n",
              "36      6.0\n",
              "37    120.0\n",
              "38    135.0\n",
              "40     10.0\n",
              "41    230.0\n",
              "42     15.0\n",
              "43    130.0\n",
              "44     16.5\n",
              "45      7.0\n",
              "46    110.0\n",
              "47     13.0\n",
              "Name: Price, dtype: float64"
            ]
          },
          "metadata": {},
          "execution_count": 29
        }
      ]
    },
    {
      "cell_type": "markdown",
      "source": [
        "Выделим матрицу исходных признаков в переменную X2"
      ],
      "metadata": {
        "id": "U8tBpVjz7Ytc"
      }
    },
    {
      "cell_type": "code",
      "source": [
        "X2 = ds2.drop('Price', axis = 1)\n",
        "X2"
      ],
      "metadata": {
        "colab": {
          "base_uri": "https://localhost:8080/",
          "height": 1000
        },
        "id": "0FndWn-r7Z9h",
        "outputId": "8da86421-9f3a-4771-9a85-ff540126a23d"
      },
      "execution_count": 30,
      "outputs": [
        {
          "output_type": "execute_result",
          "data": {
            "text/plain": [
              "    House  Area   Dist  Ter\n",
              "0     500  40.0   26.0    1\n",
              "1     530  19.0   23.0    0\n",
              "2     350   7.0   25.0    0\n",
              "3     150  10.0   26.0    1\n",
              "4     370  15.0   45.0    1\n",
              "5     300  24.0   20.0    1\n",
              "6      78   8.5   60.0    0\n",
              "7      80  10.0   50.0    1\n",
              "8      65   6.0   25.0    0\n",
              "9      90   6.0   45.0    0\n",
              "10    600  15.0    7.0    1\n",
              "11     85  11.0   33.0    0\n",
              "12    100  10.0   85.0    1\n",
              "13     22  14.0   50.0    1\n",
              "14     60   8.0   51.0    0\n",
              "17    170   6.0   18.0    0\n",
              "18     60  11.0   90.0    1\n",
              "19     65   6.0   18.0    1\n",
              "20    320  20.0   25.0    0\n",
              "21    210  20.0   19.0    0\n",
              "22     60   5.0   30.0    1\n",
              "23    228  20.0   45.0    0\n",
              "24    200  20.0   25.0    1\n",
              "25     36  10.0   46.0    1\n",
              "26    180  17.0   86.0    0\n",
              "27    250  15.0   85.0    1\n",
              "28     36  12.0   85.0    0\n",
              "29    285  15.0   74.0    0\n",
              "30     36  10.0   95.0    0\n",
              "31    420  10.0    9.0    0\n",
              "32    130   6.0   12.0    0\n",
              "34    300  15.0   39.0    0\n",
              "35    200  14.0   25.0    0\n",
              "36     36   6.0   65.0    0\n",
              "37    300  32.0   28.0    1\n",
              "38    170  15.0   30.0    1\n",
              "40     36  12.0  105.0    0\n",
              "41    350  18.0   30.0    1\n",
              "42     46  15.0  100.0    0\n",
              "43    130  15.0   27.0    1\n",
              "44     56  15.0   75.0    0\n",
              "45     46  15.0  100.0    0\n",
              "46    170  10.0   25.0    1\n",
              "47     70   6.0   50.0    1"
            ],
            "text/html": [
              "\n",
              "  <div id=\"df-2a50b2f8-6a6d-4eae-8410-bd474bc14e18\" class=\"colab-df-container\">\n",
              "    <div>\n",
              "<style scoped>\n",
              "    .dataframe tbody tr th:only-of-type {\n",
              "        vertical-align: middle;\n",
              "    }\n",
              "\n",
              "    .dataframe tbody tr th {\n",
              "        vertical-align: top;\n",
              "    }\n",
              "\n",
              "    .dataframe thead th {\n",
              "        text-align: right;\n",
              "    }\n",
              "</style>\n",
              "<table border=\"1\" class=\"dataframe\">\n",
              "  <thead>\n",
              "    <tr style=\"text-align: right;\">\n",
              "      <th></th>\n",
              "      <th>House</th>\n",
              "      <th>Area</th>\n",
              "      <th>Dist</th>\n",
              "      <th>Ter</th>\n",
              "    </tr>\n",
              "  </thead>\n",
              "  <tbody>\n",
              "    <tr>\n",
              "      <th>0</th>\n",
              "      <td>500</td>\n",
              "      <td>40.0</td>\n",
              "      <td>26.0</td>\n",
              "      <td>1</td>\n",
              "    </tr>\n",
              "    <tr>\n",
              "      <th>1</th>\n",
              "      <td>530</td>\n",
              "      <td>19.0</td>\n",
              "      <td>23.0</td>\n",
              "      <td>0</td>\n",
              "    </tr>\n",
              "    <tr>\n",
              "      <th>2</th>\n",
              "      <td>350</td>\n",
              "      <td>7.0</td>\n",
              "      <td>25.0</td>\n",
              "      <td>0</td>\n",
              "    </tr>\n",
              "    <tr>\n",
              "      <th>3</th>\n",
              "      <td>150</td>\n",
              "      <td>10.0</td>\n",
              "      <td>26.0</td>\n",
              "      <td>1</td>\n",
              "    </tr>\n",
              "    <tr>\n",
              "      <th>4</th>\n",
              "      <td>370</td>\n",
              "      <td>15.0</td>\n",
              "      <td>45.0</td>\n",
              "      <td>1</td>\n",
              "    </tr>\n",
              "    <tr>\n",
              "      <th>5</th>\n",
              "      <td>300</td>\n",
              "      <td>24.0</td>\n",
              "      <td>20.0</td>\n",
              "      <td>1</td>\n",
              "    </tr>\n",
              "    <tr>\n",
              "      <th>6</th>\n",
              "      <td>78</td>\n",
              "      <td>8.5</td>\n",
              "      <td>60.0</td>\n",
              "      <td>0</td>\n",
              "    </tr>\n",
              "    <tr>\n",
              "      <th>7</th>\n",
              "      <td>80</td>\n",
              "      <td>10.0</td>\n",
              "      <td>50.0</td>\n",
              "      <td>1</td>\n",
              "    </tr>\n",
              "    <tr>\n",
              "      <th>8</th>\n",
              "      <td>65</td>\n",
              "      <td>6.0</td>\n",
              "      <td>25.0</td>\n",
              "      <td>0</td>\n",
              "    </tr>\n",
              "    <tr>\n",
              "      <th>9</th>\n",
              "      <td>90</td>\n",
              "      <td>6.0</td>\n",
              "      <td>45.0</td>\n",
              "      <td>0</td>\n",
              "    </tr>\n",
              "    <tr>\n",
              "      <th>10</th>\n",
              "      <td>600</td>\n",
              "      <td>15.0</td>\n",
              "      <td>7.0</td>\n",
              "      <td>1</td>\n",
              "    </tr>\n",
              "    <tr>\n",
              "      <th>11</th>\n",
              "      <td>85</td>\n",
              "      <td>11.0</td>\n",
              "      <td>33.0</td>\n",
              "      <td>0</td>\n",
              "    </tr>\n",
              "    <tr>\n",
              "      <th>12</th>\n",
              "      <td>100</td>\n",
              "      <td>10.0</td>\n",
              "      <td>85.0</td>\n",
              "      <td>1</td>\n",
              "    </tr>\n",
              "    <tr>\n",
              "      <th>13</th>\n",
              "      <td>22</td>\n",
              "      <td>14.0</td>\n",
              "      <td>50.0</td>\n",
              "      <td>1</td>\n",
              "    </tr>\n",
              "    <tr>\n",
              "      <th>14</th>\n",
              "      <td>60</td>\n",
              "      <td>8.0</td>\n",
              "      <td>51.0</td>\n",
              "      <td>0</td>\n",
              "    </tr>\n",
              "    <tr>\n",
              "      <th>17</th>\n",
              "      <td>170</td>\n",
              "      <td>6.0</td>\n",
              "      <td>18.0</td>\n",
              "      <td>0</td>\n",
              "    </tr>\n",
              "    <tr>\n",
              "      <th>18</th>\n",
              "      <td>60</td>\n",
              "      <td>11.0</td>\n",
              "      <td>90.0</td>\n",
              "      <td>1</td>\n",
              "    </tr>\n",
              "    <tr>\n",
              "      <th>19</th>\n",
              "      <td>65</td>\n",
              "      <td>6.0</td>\n",
              "      <td>18.0</td>\n",
              "      <td>1</td>\n",
              "    </tr>\n",
              "    <tr>\n",
              "      <th>20</th>\n",
              "      <td>320</td>\n",
              "      <td>20.0</td>\n",
              "      <td>25.0</td>\n",
              "      <td>0</td>\n",
              "    </tr>\n",
              "    <tr>\n",
              "      <th>21</th>\n",
              "      <td>210</td>\n",
              "      <td>20.0</td>\n",
              "      <td>19.0</td>\n",
              "      <td>0</td>\n",
              "    </tr>\n",
              "    <tr>\n",
              "      <th>22</th>\n",
              "      <td>60</td>\n",
              "      <td>5.0</td>\n",
              "      <td>30.0</td>\n",
              "      <td>1</td>\n",
              "    </tr>\n",
              "    <tr>\n",
              "      <th>23</th>\n",
              "      <td>228</td>\n",
              "      <td>20.0</td>\n",
              "      <td>45.0</td>\n",
              "      <td>0</td>\n",
              "    </tr>\n",
              "    <tr>\n",
              "      <th>24</th>\n",
              "      <td>200</td>\n",
              "      <td>20.0</td>\n",
              "      <td>25.0</td>\n",
              "      <td>1</td>\n",
              "    </tr>\n",
              "    <tr>\n",
              "      <th>25</th>\n",
              "      <td>36</td>\n",
              "      <td>10.0</td>\n",
              "      <td>46.0</td>\n",
              "      <td>1</td>\n",
              "    </tr>\n",
              "    <tr>\n",
              "      <th>26</th>\n",
              "      <td>180</td>\n",
              "      <td>17.0</td>\n",
              "      <td>86.0</td>\n",
              "      <td>0</td>\n",
              "    </tr>\n",
              "    <tr>\n",
              "      <th>27</th>\n",
              "      <td>250</td>\n",
              "      <td>15.0</td>\n",
              "      <td>85.0</td>\n",
              "      <td>1</td>\n",
              "    </tr>\n",
              "    <tr>\n",
              "      <th>28</th>\n",
              "      <td>36</td>\n",
              "      <td>12.0</td>\n",
              "      <td>85.0</td>\n",
              "      <td>0</td>\n",
              "    </tr>\n",
              "    <tr>\n",
              "      <th>29</th>\n",
              "      <td>285</td>\n",
              "      <td>15.0</td>\n",
              "      <td>74.0</td>\n",
              "      <td>0</td>\n",
              "    </tr>\n",
              "    <tr>\n",
              "      <th>30</th>\n",
              "      <td>36</td>\n",
              "      <td>10.0</td>\n",
              "      <td>95.0</td>\n",
              "      <td>0</td>\n",
              "    </tr>\n",
              "    <tr>\n",
              "      <th>31</th>\n",
              "      <td>420</td>\n",
              "      <td>10.0</td>\n",
              "      <td>9.0</td>\n",
              "      <td>0</td>\n",
              "    </tr>\n",
              "    <tr>\n",
              "      <th>32</th>\n",
              "      <td>130</td>\n",
              "      <td>6.0</td>\n",
              "      <td>12.0</td>\n",
              "      <td>0</td>\n",
              "    </tr>\n",
              "    <tr>\n",
              "      <th>34</th>\n",
              "      <td>300</td>\n",
              "      <td>15.0</td>\n",
              "      <td>39.0</td>\n",
              "      <td>0</td>\n",
              "    </tr>\n",
              "    <tr>\n",
              "      <th>35</th>\n",
              "      <td>200</td>\n",
              "      <td>14.0</td>\n",
              "      <td>25.0</td>\n",
              "      <td>0</td>\n",
              "    </tr>\n",
              "    <tr>\n",
              "      <th>36</th>\n",
              "      <td>36</td>\n",
              "      <td>6.0</td>\n",
              "      <td>65.0</td>\n",
              "      <td>0</td>\n",
              "    </tr>\n",
              "    <tr>\n",
              "      <th>37</th>\n",
              "      <td>300</td>\n",
              "      <td>32.0</td>\n",
              "      <td>28.0</td>\n",
              "      <td>1</td>\n",
              "    </tr>\n",
              "    <tr>\n",
              "      <th>38</th>\n",
              "      <td>170</td>\n",
              "      <td>15.0</td>\n",
              "      <td>30.0</td>\n",
              "      <td>1</td>\n",
              "    </tr>\n",
              "    <tr>\n",
              "      <th>40</th>\n",
              "      <td>36</td>\n",
              "      <td>12.0</td>\n",
              "      <td>105.0</td>\n",
              "      <td>0</td>\n",
              "    </tr>\n",
              "    <tr>\n",
              "      <th>41</th>\n",
              "      <td>350</td>\n",
              "      <td>18.0</td>\n",
              "      <td>30.0</td>\n",
              "      <td>1</td>\n",
              "    </tr>\n",
              "    <tr>\n",
              "      <th>42</th>\n",
              "      <td>46</td>\n",
              "      <td>15.0</td>\n",
              "      <td>100.0</td>\n",
              "      <td>0</td>\n",
              "    </tr>\n",
              "    <tr>\n",
              "      <th>43</th>\n",
              "      <td>130</td>\n",
              "      <td>15.0</td>\n",
              "      <td>27.0</td>\n",
              "      <td>1</td>\n",
              "    </tr>\n",
              "    <tr>\n",
              "      <th>44</th>\n",
              "      <td>56</td>\n",
              "      <td>15.0</td>\n",
              "      <td>75.0</td>\n",
              "      <td>0</td>\n",
              "    </tr>\n",
              "    <tr>\n",
              "      <th>45</th>\n",
              "      <td>46</td>\n",
              "      <td>15.0</td>\n",
              "      <td>100.0</td>\n",
              "      <td>0</td>\n",
              "    </tr>\n",
              "    <tr>\n",
              "      <th>46</th>\n",
              "      <td>170</td>\n",
              "      <td>10.0</td>\n",
              "      <td>25.0</td>\n",
              "      <td>1</td>\n",
              "    </tr>\n",
              "    <tr>\n",
              "      <th>47</th>\n",
              "      <td>70</td>\n",
              "      <td>6.0</td>\n",
              "      <td>50.0</td>\n",
              "      <td>1</td>\n",
              "    </tr>\n",
              "  </tbody>\n",
              "</table>\n",
              "</div>\n",
              "    <div class=\"colab-df-buttons\">\n",
              "\n",
              "  <div class=\"colab-df-container\">\n",
              "    <button class=\"colab-df-convert\" onclick=\"convertToInteractive('df-2a50b2f8-6a6d-4eae-8410-bd474bc14e18')\"\n",
              "            title=\"Convert this dataframe to an interactive table.\"\n",
              "            style=\"display:none;\">\n",
              "\n",
              "  <svg xmlns=\"http://www.w3.org/2000/svg\" height=\"24px\" viewBox=\"0 -960 960 960\">\n",
              "    <path d=\"M120-120v-720h720v720H120Zm60-500h600v-160H180v160Zm220 220h160v-160H400v160Zm0 220h160v-160H400v160ZM180-400h160v-160H180v160Zm440 0h160v-160H620v160ZM180-180h160v-160H180v160Zm440 0h160v-160H620v160Z\"/>\n",
              "  </svg>\n",
              "    </button>\n",
              "\n",
              "  <style>\n",
              "    .colab-df-container {\n",
              "      display:flex;\n",
              "      gap: 12px;\n",
              "    }\n",
              "\n",
              "    .colab-df-convert {\n",
              "      background-color: #E8F0FE;\n",
              "      border: none;\n",
              "      border-radius: 50%;\n",
              "      cursor: pointer;\n",
              "      display: none;\n",
              "      fill: #1967D2;\n",
              "      height: 32px;\n",
              "      padding: 0 0 0 0;\n",
              "      width: 32px;\n",
              "    }\n",
              "\n",
              "    .colab-df-convert:hover {\n",
              "      background-color: #E2EBFA;\n",
              "      box-shadow: 0px 1px 2px rgba(60, 64, 67, 0.3), 0px 1px 3px 1px rgba(60, 64, 67, 0.15);\n",
              "      fill: #174EA6;\n",
              "    }\n",
              "\n",
              "    .colab-df-buttons div {\n",
              "      margin-bottom: 4px;\n",
              "    }\n",
              "\n",
              "    [theme=dark] .colab-df-convert {\n",
              "      background-color: #3B4455;\n",
              "      fill: #D2E3FC;\n",
              "    }\n",
              "\n",
              "    [theme=dark] .colab-df-convert:hover {\n",
              "      background-color: #434B5C;\n",
              "      box-shadow: 0px 1px 3px 1px rgba(0, 0, 0, 0.15);\n",
              "      filter: drop-shadow(0px 1px 2px rgba(0, 0, 0, 0.3));\n",
              "      fill: #FFFFFF;\n",
              "    }\n",
              "  </style>\n",
              "\n",
              "    <script>\n",
              "      const buttonEl =\n",
              "        document.querySelector('#df-2a50b2f8-6a6d-4eae-8410-bd474bc14e18 button.colab-df-convert');\n",
              "      buttonEl.style.display =\n",
              "        google.colab.kernel.accessAllowed ? 'block' : 'none';\n",
              "\n",
              "      async function convertToInteractive(key) {\n",
              "        const element = document.querySelector('#df-2a50b2f8-6a6d-4eae-8410-bd474bc14e18');\n",
              "        const dataTable =\n",
              "          await google.colab.kernel.invokeFunction('convertToInteractive',\n",
              "                                                    [key], {});\n",
              "        if (!dataTable) return;\n",
              "\n",
              "        const docLinkHtml = 'Like what you see? Visit the ' +\n",
              "          '<a target=\"_blank\" href=https://colab.research.google.com/notebooks/data_table.ipynb>data table notebook</a>'\n",
              "          + ' to learn more about interactive tables.';\n",
              "        element.innerHTML = '';\n",
              "        dataTable['output_type'] = 'display_data';\n",
              "        await google.colab.output.renderOutput(dataTable, element);\n",
              "        const docLink = document.createElement('div');\n",
              "        docLink.innerHTML = docLinkHtml;\n",
              "        element.appendChild(docLink);\n",
              "      }\n",
              "    </script>\n",
              "  </div>\n",
              "\n",
              "\n",
              "<div id=\"df-2ed83781-e048-4b67-b111-1ed46aed813f\">\n",
              "  <button class=\"colab-df-quickchart\" onclick=\"quickchart('df-2ed83781-e048-4b67-b111-1ed46aed813f')\"\n",
              "            title=\"Suggest charts.\"\n",
              "            style=\"display:none;\">\n",
              "\n",
              "<svg xmlns=\"http://www.w3.org/2000/svg\" height=\"24px\"viewBox=\"0 0 24 24\"\n",
              "     width=\"24px\">\n",
              "    <g>\n",
              "        <path d=\"M19 3H5c-1.1 0-2 .9-2 2v14c0 1.1.9 2 2 2h14c1.1 0 2-.9 2-2V5c0-1.1-.9-2-2-2zM9 17H7v-7h2v7zm4 0h-2V7h2v10zm4 0h-2v-4h2v4z\"/>\n",
              "    </g>\n",
              "</svg>\n",
              "  </button>\n",
              "\n",
              "<style>\n",
              "  .colab-df-quickchart {\n",
              "      --bg-color: #E8F0FE;\n",
              "      --fill-color: #1967D2;\n",
              "      --hover-bg-color: #E2EBFA;\n",
              "      --hover-fill-color: #174EA6;\n",
              "      --disabled-fill-color: #AAA;\n",
              "      --disabled-bg-color: #DDD;\n",
              "  }\n",
              "\n",
              "  [theme=dark] .colab-df-quickchart {\n",
              "      --bg-color: #3B4455;\n",
              "      --fill-color: #D2E3FC;\n",
              "      --hover-bg-color: #434B5C;\n",
              "      --hover-fill-color: #FFFFFF;\n",
              "      --disabled-bg-color: #3B4455;\n",
              "      --disabled-fill-color: #666;\n",
              "  }\n",
              "\n",
              "  .colab-df-quickchart {\n",
              "    background-color: var(--bg-color);\n",
              "    border: none;\n",
              "    border-radius: 50%;\n",
              "    cursor: pointer;\n",
              "    display: none;\n",
              "    fill: var(--fill-color);\n",
              "    height: 32px;\n",
              "    padding: 0;\n",
              "    width: 32px;\n",
              "  }\n",
              "\n",
              "  .colab-df-quickchart:hover {\n",
              "    background-color: var(--hover-bg-color);\n",
              "    box-shadow: 0 1px 2px rgba(60, 64, 67, 0.3), 0 1px 3px 1px rgba(60, 64, 67, 0.15);\n",
              "    fill: var(--button-hover-fill-color);\n",
              "  }\n",
              "\n",
              "  .colab-df-quickchart-complete:disabled,\n",
              "  .colab-df-quickchart-complete:disabled:hover {\n",
              "    background-color: var(--disabled-bg-color);\n",
              "    fill: var(--disabled-fill-color);\n",
              "    box-shadow: none;\n",
              "  }\n",
              "\n",
              "  .colab-df-spinner {\n",
              "    border: 2px solid var(--fill-color);\n",
              "    border-color: transparent;\n",
              "    border-bottom-color: var(--fill-color);\n",
              "    animation:\n",
              "      spin 1s steps(1) infinite;\n",
              "  }\n",
              "\n",
              "  @keyframes spin {\n",
              "    0% {\n",
              "      border-color: transparent;\n",
              "      border-bottom-color: var(--fill-color);\n",
              "      border-left-color: var(--fill-color);\n",
              "    }\n",
              "    20% {\n",
              "      border-color: transparent;\n",
              "      border-left-color: var(--fill-color);\n",
              "      border-top-color: var(--fill-color);\n",
              "    }\n",
              "    30% {\n",
              "      border-color: transparent;\n",
              "      border-left-color: var(--fill-color);\n",
              "      border-top-color: var(--fill-color);\n",
              "      border-right-color: var(--fill-color);\n",
              "    }\n",
              "    40% {\n",
              "      border-color: transparent;\n",
              "      border-right-color: var(--fill-color);\n",
              "      border-top-color: var(--fill-color);\n",
              "    }\n",
              "    60% {\n",
              "      border-color: transparent;\n",
              "      border-right-color: var(--fill-color);\n",
              "    }\n",
              "    80% {\n",
              "      border-color: transparent;\n",
              "      border-right-color: var(--fill-color);\n",
              "      border-bottom-color: var(--fill-color);\n",
              "    }\n",
              "    90% {\n",
              "      border-color: transparent;\n",
              "      border-bottom-color: var(--fill-color);\n",
              "    }\n",
              "  }\n",
              "</style>\n",
              "\n",
              "  <script>\n",
              "    async function quickchart(key) {\n",
              "      const quickchartButtonEl =\n",
              "        document.querySelector('#' + key + ' button');\n",
              "      quickchartButtonEl.disabled = true;  // To prevent multiple clicks.\n",
              "      quickchartButtonEl.classList.add('colab-df-spinner');\n",
              "      try {\n",
              "        const charts = await google.colab.kernel.invokeFunction(\n",
              "            'suggestCharts', [key], {});\n",
              "      } catch (error) {\n",
              "        console.error('Error during call to suggestCharts:', error);\n",
              "      }\n",
              "      quickchartButtonEl.classList.remove('colab-df-spinner');\n",
              "      quickchartButtonEl.classList.add('colab-df-quickchart-complete');\n",
              "    }\n",
              "    (() => {\n",
              "      let quickchartButtonEl =\n",
              "        document.querySelector('#df-2ed83781-e048-4b67-b111-1ed46aed813f button');\n",
              "      quickchartButtonEl.style.display =\n",
              "        google.colab.kernel.accessAllowed ? 'block' : 'none';\n",
              "    })();\n",
              "  </script>\n",
              "</div>\n",
              "    </div>\n",
              "  </div>\n"
            ]
          },
          "metadata": {},
          "execution_count": 30
        }
      ]
    },
    {
      "cell_type": "markdown",
      "source": [
        "Обучим модель с помощью выборки, не разделяя ее на обучающую и тестовую части"
      ],
      "metadata": {
        "id": "snmro1un8Dwm"
      }
    },
    {
      "cell_type": "code",
      "source": [
        "ml2 = model.fit(X2, y2)"
      ],
      "metadata": {
        "id": "chpcuW_y8FIF"
      },
      "execution_count": 31,
      "outputs": []
    },
    {
      "cell_type": "markdown",
      "source": [
        "Найдем предсказанные моделью значения зависимой переменной"
      ],
      "metadata": {
        "id": "kXN1eF8PvdPl"
      }
    },
    {
      "cell_type": "code",
      "source": [
        "y2_pred = ml2.predict(X2)"
      ],
      "metadata": {
        "id": "wGf2rc9RviCR"
      },
      "execution_count": 32,
      "outputs": []
    },
    {
      "cell_type": "markdown",
      "source": [
        "<!-- R2 -->\n",
        "Вычислим коэффициент детерминации с помощью функции explained_variance_score"
      ],
      "metadata": {
        "id": "Z3aiij3Q8a0z"
      }
    },
    {
      "cell_type": "code",
      "source": [
        "R2test_m2 = metrics.explained_variance_score(y2, y2_pred)\n",
        "R2test_m2"
      ],
      "metadata": {
        "colab": {
          "base_uri": "https://localhost:8080/"
        },
        "id": "64OhxjR58eJx",
        "outputId": "4afd1711-740a-4791-a9c7-0159b3fb83f8"
      },
      "execution_count": 33,
      "outputs": [
        {
          "output_type": "execute_result",
          "data": {
            "text/plain": [
              "0.7166463357391579"
            ]
          },
          "metadata": {},
          "execution_count": 33
        }
      ]
    },
    {
      "cell_type": "markdown",
      "source": [
        "Коэффициент детерминации стал больше по сравнению с предыдущей моделью, но несущественно. Попробуем отобрать данные, убирая в таблице ds2 строку, у которой в модели m2 самый большой остаток"
      ],
      "metadata": {
        "id": "jvFeu5k1vseH"
      }
    },
    {
      "cell_type": "code",
      "source": [
        "e_ml2 = y2 - y2_pred\n",
        "e_ml2"
      ],
      "metadata": {
        "colab": {
          "base_uri": "https://localhost:8080/"
        },
        "id": "gqGKahk1vypp",
        "outputId": "894bc0fe-ec50-4306-f5dc-8d9d6e9fcdb8"
      },
      "execution_count": 34,
      "outputs": [
        {
          "output_type": "execute_result",
          "data": {
            "text/plain": [
              "0      14.497845\n",
              "1     -19.862234\n",
              "2     -11.145696\n",
              "3      48.783108\n",
              "4      -2.508008\n",
              "5     -16.230129\n",
              "6       2.204046\n",
              "7     -25.118789\n",
              "8      -5.715462\n",
              "9       3.953468\n",
              "10    -42.228673\n",
              "11    -14.639330\n",
              "12     19.056992\n",
              "13    -49.584985\n",
              "14      0.178156\n",
              "17     20.099410\n",
              "18    -13.502539\n",
              "19    -16.489402\n",
              "20    -12.086023\n",
              "21     -5.253930\n",
              "22    -15.420587\n",
              "23      6.692510\n",
              "24    -30.250527\n",
              "25    -33.349374\n",
              "26     -9.956872\n",
              "27    -20.027990\n",
              "28     -1.543752\n",
              "29     -0.415934\n",
              "30     10.714397\n",
              "31    -23.531829\n",
              "32    -12.715268\n",
              "34     26.084899\n",
              "35     29.518723\n",
              "36      7.123753\n",
              "37    -38.360061\n",
              "38     47.450685\n",
              "40     14.999024\n",
              "41    115.253847\n",
              "42      5.933651\n",
              "43     44.442423\n",
              "44     -8.569358\n",
              "45     -2.066349\n",
              "46     36.281892\n",
              "47    -22.695729\n",
              "Name: Price, dtype: float64"
            ]
          },
          "metadata": {},
          "execution_count": 34
        }
      ]
    },
    {
      "cell_type": "markdown",
      "source": [
        "Удалим в исходной матрице данных строки с достаточно большими значениями"
      ],
      "metadata": {
        "id": "aciva3FX8fTa"
      }
    },
    {
      "cell_type": "code",
      "source": [
        "ds3 = ds2.drop(labels = [38], axis = 0)\n"
      ],
      "metadata": {
        "id": "yJAvfpwf8g_c"
      },
      "execution_count": 35,
      "outputs": []
    },
    {
      "cell_type": "markdown",
      "source": [
        "Выделим целевую переменную Price в переменную y3"
      ],
      "metadata": {
        "id": "-I9vyGhU8j1g"
      }
    },
    {
      "cell_type": "code",
      "source": [
        "y3 = ds3['Price']\n",
        "y3"
      ],
      "metadata": {
        "colab": {
          "base_uri": "https://localhost:8080/"
        },
        "id": "RCfYybUE8k0s",
        "outputId": "65832c52-1062-4b5b-8347-ec57df6c1b42"
      },
      "execution_count": 36,
      "outputs": [
        {
          "output_type": "execute_result",
          "data": {
            "text/plain": [
              "0     220.0\n",
              "1      95.0\n",
              "2      45.0\n",
              "3     120.0\n",
              "4      95.0\n",
              "5     120.0\n",
              "6      16.5\n",
              "7      25.0\n",
              "8      20.0\n",
              "9      20.0\n",
              "10    100.0\n",
              "11     25.0\n",
              "12     50.0\n",
              "13      8.5\n",
              "14     16.5\n",
              "17     60.0\n",
              "18     14.0\n",
              "19     38.0\n",
              "20     85.0\n",
              "21     85.0\n",
              "22     28.0\n",
              "23     83.0\n",
              "24     80.0\n",
              "25     15.0\n",
              "26     27.0\n",
              "27     42.0\n",
              "28      5.5\n",
              "29     47.0\n",
              "30      5.0\n",
              "31     59.0\n",
              "32     27.0\n",
              "34     96.0\n",
              "35     95.0\n",
              "36      6.0\n",
              "37    120.0\n",
              "40     10.0\n",
              "41    230.0\n",
              "42     15.0\n",
              "43    130.0\n",
              "44     16.5\n",
              "45      7.0\n",
              "46    110.0\n",
              "47     13.0\n",
              "Name: Price, dtype: float64"
            ]
          },
          "metadata": {},
          "execution_count": 36
        }
      ]
    },
    {
      "cell_type": "markdown",
      "source": [
        "Выделим матрицу исходных признаков в переменную X3"
      ],
      "metadata": {
        "id": "wHcbhKPo8moB"
      }
    },
    {
      "cell_type": "code",
      "source": [
        "X3 = ds3.drop('Price', axis=1)\n",
        "X3"
      ],
      "metadata": {
        "colab": {
          "base_uri": "https://localhost:8080/",
          "height": 1000
        },
        "id": "B9yHBoMB8oNd",
        "outputId": "91b9acc6-2ad8-4faa-8365-9f0630d788ac"
      },
      "execution_count": 37,
      "outputs": [
        {
          "output_type": "execute_result",
          "data": {
            "text/plain": [
              "    House  Area   Dist  Ter\n",
              "0     500  40.0   26.0    1\n",
              "1     530  19.0   23.0    0\n",
              "2     350   7.0   25.0    0\n",
              "3     150  10.0   26.0    1\n",
              "4     370  15.0   45.0    1\n",
              "5     300  24.0   20.0    1\n",
              "6      78   8.5   60.0    0\n",
              "7      80  10.0   50.0    1\n",
              "8      65   6.0   25.0    0\n",
              "9      90   6.0   45.0    0\n",
              "10    600  15.0    7.0    1\n",
              "11     85  11.0   33.0    0\n",
              "12    100  10.0   85.0    1\n",
              "13     22  14.0   50.0    1\n",
              "14     60   8.0   51.0    0\n",
              "17    170   6.0   18.0    0\n",
              "18     60  11.0   90.0    1\n",
              "19     65   6.0   18.0    1\n",
              "20    320  20.0   25.0    0\n",
              "21    210  20.0   19.0    0\n",
              "22     60   5.0   30.0    1\n",
              "23    228  20.0   45.0    0\n",
              "24    200  20.0   25.0    1\n",
              "25     36  10.0   46.0    1\n",
              "26    180  17.0   86.0    0\n",
              "27    250  15.0   85.0    1\n",
              "28     36  12.0   85.0    0\n",
              "29    285  15.0   74.0    0\n",
              "30     36  10.0   95.0    0\n",
              "31    420  10.0    9.0    0\n",
              "32    130   6.0   12.0    0\n",
              "34    300  15.0   39.0    0\n",
              "35    200  14.0   25.0    0\n",
              "36     36   6.0   65.0    0\n",
              "37    300  32.0   28.0    1\n",
              "40     36  12.0  105.0    0\n",
              "41    350  18.0   30.0    1\n",
              "42     46  15.0  100.0    0\n",
              "43    130  15.0   27.0    1\n",
              "44     56  15.0   75.0    0\n",
              "45     46  15.0  100.0    0\n",
              "46    170  10.0   25.0    1\n",
              "47     70   6.0   50.0    1"
            ],
            "text/html": [
              "\n",
              "  <div id=\"df-eb22bd88-190e-4437-a122-12957becc25f\" class=\"colab-df-container\">\n",
              "    <div>\n",
              "<style scoped>\n",
              "    .dataframe tbody tr th:only-of-type {\n",
              "        vertical-align: middle;\n",
              "    }\n",
              "\n",
              "    .dataframe tbody tr th {\n",
              "        vertical-align: top;\n",
              "    }\n",
              "\n",
              "    .dataframe thead th {\n",
              "        text-align: right;\n",
              "    }\n",
              "</style>\n",
              "<table border=\"1\" class=\"dataframe\">\n",
              "  <thead>\n",
              "    <tr style=\"text-align: right;\">\n",
              "      <th></th>\n",
              "      <th>House</th>\n",
              "      <th>Area</th>\n",
              "      <th>Dist</th>\n",
              "      <th>Ter</th>\n",
              "    </tr>\n",
              "  </thead>\n",
              "  <tbody>\n",
              "    <tr>\n",
              "      <th>0</th>\n",
              "      <td>500</td>\n",
              "      <td>40.0</td>\n",
              "      <td>26.0</td>\n",
              "      <td>1</td>\n",
              "    </tr>\n",
              "    <tr>\n",
              "      <th>1</th>\n",
              "      <td>530</td>\n",
              "      <td>19.0</td>\n",
              "      <td>23.0</td>\n",
              "      <td>0</td>\n",
              "    </tr>\n",
              "    <tr>\n",
              "      <th>2</th>\n",
              "      <td>350</td>\n",
              "      <td>7.0</td>\n",
              "      <td>25.0</td>\n",
              "      <td>0</td>\n",
              "    </tr>\n",
              "    <tr>\n",
              "      <th>3</th>\n",
              "      <td>150</td>\n",
              "      <td>10.0</td>\n",
              "      <td>26.0</td>\n",
              "      <td>1</td>\n",
              "    </tr>\n",
              "    <tr>\n",
              "      <th>4</th>\n",
              "      <td>370</td>\n",
              "      <td>15.0</td>\n",
              "      <td>45.0</td>\n",
              "      <td>1</td>\n",
              "    </tr>\n",
              "    <tr>\n",
              "      <th>5</th>\n",
              "      <td>300</td>\n",
              "      <td>24.0</td>\n",
              "      <td>20.0</td>\n",
              "      <td>1</td>\n",
              "    </tr>\n",
              "    <tr>\n",
              "      <th>6</th>\n",
              "      <td>78</td>\n",
              "      <td>8.5</td>\n",
              "      <td>60.0</td>\n",
              "      <td>0</td>\n",
              "    </tr>\n",
              "    <tr>\n",
              "      <th>7</th>\n",
              "      <td>80</td>\n",
              "      <td>10.0</td>\n",
              "      <td>50.0</td>\n",
              "      <td>1</td>\n",
              "    </tr>\n",
              "    <tr>\n",
              "      <th>8</th>\n",
              "      <td>65</td>\n",
              "      <td>6.0</td>\n",
              "      <td>25.0</td>\n",
              "      <td>0</td>\n",
              "    </tr>\n",
              "    <tr>\n",
              "      <th>9</th>\n",
              "      <td>90</td>\n",
              "      <td>6.0</td>\n",
              "      <td>45.0</td>\n",
              "      <td>0</td>\n",
              "    </tr>\n",
              "    <tr>\n",
              "      <th>10</th>\n",
              "      <td>600</td>\n",
              "      <td>15.0</td>\n",
              "      <td>7.0</td>\n",
              "      <td>1</td>\n",
              "    </tr>\n",
              "    <tr>\n",
              "      <th>11</th>\n",
              "      <td>85</td>\n",
              "      <td>11.0</td>\n",
              "      <td>33.0</td>\n",
              "      <td>0</td>\n",
              "    </tr>\n",
              "    <tr>\n",
              "      <th>12</th>\n",
              "      <td>100</td>\n",
              "      <td>10.0</td>\n",
              "      <td>85.0</td>\n",
              "      <td>1</td>\n",
              "    </tr>\n",
              "    <tr>\n",
              "      <th>13</th>\n",
              "      <td>22</td>\n",
              "      <td>14.0</td>\n",
              "      <td>50.0</td>\n",
              "      <td>1</td>\n",
              "    </tr>\n",
              "    <tr>\n",
              "      <th>14</th>\n",
              "      <td>60</td>\n",
              "      <td>8.0</td>\n",
              "      <td>51.0</td>\n",
              "      <td>0</td>\n",
              "    </tr>\n",
              "    <tr>\n",
              "      <th>17</th>\n",
              "      <td>170</td>\n",
              "      <td>6.0</td>\n",
              "      <td>18.0</td>\n",
              "      <td>0</td>\n",
              "    </tr>\n",
              "    <tr>\n",
              "      <th>18</th>\n",
              "      <td>60</td>\n",
              "      <td>11.0</td>\n",
              "      <td>90.0</td>\n",
              "      <td>1</td>\n",
              "    </tr>\n",
              "    <tr>\n",
              "      <th>19</th>\n",
              "      <td>65</td>\n",
              "      <td>6.0</td>\n",
              "      <td>18.0</td>\n",
              "      <td>1</td>\n",
              "    </tr>\n",
              "    <tr>\n",
              "      <th>20</th>\n",
              "      <td>320</td>\n",
              "      <td>20.0</td>\n",
              "      <td>25.0</td>\n",
              "      <td>0</td>\n",
              "    </tr>\n",
              "    <tr>\n",
              "      <th>21</th>\n",
              "      <td>210</td>\n",
              "      <td>20.0</td>\n",
              "      <td>19.0</td>\n",
              "      <td>0</td>\n",
              "    </tr>\n",
              "    <tr>\n",
              "      <th>22</th>\n",
              "      <td>60</td>\n",
              "      <td>5.0</td>\n",
              "      <td>30.0</td>\n",
              "      <td>1</td>\n",
              "    </tr>\n",
              "    <tr>\n",
              "      <th>23</th>\n",
              "      <td>228</td>\n",
              "      <td>20.0</td>\n",
              "      <td>45.0</td>\n",
              "      <td>0</td>\n",
              "    </tr>\n",
              "    <tr>\n",
              "      <th>24</th>\n",
              "      <td>200</td>\n",
              "      <td>20.0</td>\n",
              "      <td>25.0</td>\n",
              "      <td>1</td>\n",
              "    </tr>\n",
              "    <tr>\n",
              "      <th>25</th>\n",
              "      <td>36</td>\n",
              "      <td>10.0</td>\n",
              "      <td>46.0</td>\n",
              "      <td>1</td>\n",
              "    </tr>\n",
              "    <tr>\n",
              "      <th>26</th>\n",
              "      <td>180</td>\n",
              "      <td>17.0</td>\n",
              "      <td>86.0</td>\n",
              "      <td>0</td>\n",
              "    </tr>\n",
              "    <tr>\n",
              "      <th>27</th>\n",
              "      <td>250</td>\n",
              "      <td>15.0</td>\n",
              "      <td>85.0</td>\n",
              "      <td>1</td>\n",
              "    </tr>\n",
              "    <tr>\n",
              "      <th>28</th>\n",
              "      <td>36</td>\n",
              "      <td>12.0</td>\n",
              "      <td>85.0</td>\n",
              "      <td>0</td>\n",
              "    </tr>\n",
              "    <tr>\n",
              "      <th>29</th>\n",
              "      <td>285</td>\n",
              "      <td>15.0</td>\n",
              "      <td>74.0</td>\n",
              "      <td>0</td>\n",
              "    </tr>\n",
              "    <tr>\n",
              "      <th>30</th>\n",
              "      <td>36</td>\n",
              "      <td>10.0</td>\n",
              "      <td>95.0</td>\n",
              "      <td>0</td>\n",
              "    </tr>\n",
              "    <tr>\n",
              "      <th>31</th>\n",
              "      <td>420</td>\n",
              "      <td>10.0</td>\n",
              "      <td>9.0</td>\n",
              "      <td>0</td>\n",
              "    </tr>\n",
              "    <tr>\n",
              "      <th>32</th>\n",
              "      <td>130</td>\n",
              "      <td>6.0</td>\n",
              "      <td>12.0</td>\n",
              "      <td>0</td>\n",
              "    </tr>\n",
              "    <tr>\n",
              "      <th>34</th>\n",
              "      <td>300</td>\n",
              "      <td>15.0</td>\n",
              "      <td>39.0</td>\n",
              "      <td>0</td>\n",
              "    </tr>\n",
              "    <tr>\n",
              "      <th>35</th>\n",
              "      <td>200</td>\n",
              "      <td>14.0</td>\n",
              "      <td>25.0</td>\n",
              "      <td>0</td>\n",
              "    </tr>\n",
              "    <tr>\n",
              "      <th>36</th>\n",
              "      <td>36</td>\n",
              "      <td>6.0</td>\n",
              "      <td>65.0</td>\n",
              "      <td>0</td>\n",
              "    </tr>\n",
              "    <tr>\n",
              "      <th>37</th>\n",
              "      <td>300</td>\n",
              "      <td>32.0</td>\n",
              "      <td>28.0</td>\n",
              "      <td>1</td>\n",
              "    </tr>\n",
              "    <tr>\n",
              "      <th>40</th>\n",
              "      <td>36</td>\n",
              "      <td>12.0</td>\n",
              "      <td>105.0</td>\n",
              "      <td>0</td>\n",
              "    </tr>\n",
              "    <tr>\n",
              "      <th>41</th>\n",
              "      <td>350</td>\n",
              "      <td>18.0</td>\n",
              "      <td>30.0</td>\n",
              "      <td>1</td>\n",
              "    </tr>\n",
              "    <tr>\n",
              "      <th>42</th>\n",
              "      <td>46</td>\n",
              "      <td>15.0</td>\n",
              "      <td>100.0</td>\n",
              "      <td>0</td>\n",
              "    </tr>\n",
              "    <tr>\n",
              "      <th>43</th>\n",
              "      <td>130</td>\n",
              "      <td>15.0</td>\n",
              "      <td>27.0</td>\n",
              "      <td>1</td>\n",
              "    </tr>\n",
              "    <tr>\n",
              "      <th>44</th>\n",
              "      <td>56</td>\n",
              "      <td>15.0</td>\n",
              "      <td>75.0</td>\n",
              "      <td>0</td>\n",
              "    </tr>\n",
              "    <tr>\n",
              "      <th>45</th>\n",
              "      <td>46</td>\n",
              "      <td>15.0</td>\n",
              "      <td>100.0</td>\n",
              "      <td>0</td>\n",
              "    </tr>\n",
              "    <tr>\n",
              "      <th>46</th>\n",
              "      <td>170</td>\n",
              "      <td>10.0</td>\n",
              "      <td>25.0</td>\n",
              "      <td>1</td>\n",
              "    </tr>\n",
              "    <tr>\n",
              "      <th>47</th>\n",
              "      <td>70</td>\n",
              "      <td>6.0</td>\n",
              "      <td>50.0</td>\n",
              "      <td>1</td>\n",
              "    </tr>\n",
              "  </tbody>\n",
              "</table>\n",
              "</div>\n",
              "    <div class=\"colab-df-buttons\">\n",
              "\n",
              "  <div class=\"colab-df-container\">\n",
              "    <button class=\"colab-df-convert\" onclick=\"convertToInteractive('df-eb22bd88-190e-4437-a122-12957becc25f')\"\n",
              "            title=\"Convert this dataframe to an interactive table.\"\n",
              "            style=\"display:none;\">\n",
              "\n",
              "  <svg xmlns=\"http://www.w3.org/2000/svg\" height=\"24px\" viewBox=\"0 -960 960 960\">\n",
              "    <path d=\"M120-120v-720h720v720H120Zm60-500h600v-160H180v160Zm220 220h160v-160H400v160Zm0 220h160v-160H400v160ZM180-400h160v-160H180v160Zm440 0h160v-160H620v160ZM180-180h160v-160H180v160Zm440 0h160v-160H620v160Z\"/>\n",
              "  </svg>\n",
              "    </button>\n",
              "\n",
              "  <style>\n",
              "    .colab-df-container {\n",
              "      display:flex;\n",
              "      gap: 12px;\n",
              "    }\n",
              "\n",
              "    .colab-df-convert {\n",
              "      background-color: #E8F0FE;\n",
              "      border: none;\n",
              "      border-radius: 50%;\n",
              "      cursor: pointer;\n",
              "      display: none;\n",
              "      fill: #1967D2;\n",
              "      height: 32px;\n",
              "      padding: 0 0 0 0;\n",
              "      width: 32px;\n",
              "    }\n",
              "\n",
              "    .colab-df-convert:hover {\n",
              "      background-color: #E2EBFA;\n",
              "      box-shadow: 0px 1px 2px rgba(60, 64, 67, 0.3), 0px 1px 3px 1px rgba(60, 64, 67, 0.15);\n",
              "      fill: #174EA6;\n",
              "    }\n",
              "\n",
              "    .colab-df-buttons div {\n",
              "      margin-bottom: 4px;\n",
              "    }\n",
              "\n",
              "    [theme=dark] .colab-df-convert {\n",
              "      background-color: #3B4455;\n",
              "      fill: #D2E3FC;\n",
              "    }\n",
              "\n",
              "    [theme=dark] .colab-df-convert:hover {\n",
              "      background-color: #434B5C;\n",
              "      box-shadow: 0px 1px 3px 1px rgba(0, 0, 0, 0.15);\n",
              "      filter: drop-shadow(0px 1px 2px rgba(0, 0, 0, 0.3));\n",
              "      fill: #FFFFFF;\n",
              "    }\n",
              "  </style>\n",
              "\n",
              "    <script>\n",
              "      const buttonEl =\n",
              "        document.querySelector('#df-eb22bd88-190e-4437-a122-12957becc25f button.colab-df-convert');\n",
              "      buttonEl.style.display =\n",
              "        google.colab.kernel.accessAllowed ? 'block' : 'none';\n",
              "\n",
              "      async function convertToInteractive(key) {\n",
              "        const element = document.querySelector('#df-eb22bd88-190e-4437-a122-12957becc25f');\n",
              "        const dataTable =\n",
              "          await google.colab.kernel.invokeFunction('convertToInteractive',\n",
              "                                                    [key], {});\n",
              "        if (!dataTable) return;\n",
              "\n",
              "        const docLinkHtml = 'Like what you see? Visit the ' +\n",
              "          '<a target=\"_blank\" href=https://colab.research.google.com/notebooks/data_table.ipynb>data table notebook</a>'\n",
              "          + ' to learn more about interactive tables.';\n",
              "        element.innerHTML = '';\n",
              "        dataTable['output_type'] = 'display_data';\n",
              "        await google.colab.output.renderOutput(dataTable, element);\n",
              "        const docLink = document.createElement('div');\n",
              "        docLink.innerHTML = docLinkHtml;\n",
              "        element.appendChild(docLink);\n",
              "      }\n",
              "    </script>\n",
              "  </div>\n",
              "\n",
              "\n",
              "<div id=\"df-9d5ccf96-b07c-4bd8-97d9-1b04560c19a0\">\n",
              "  <button class=\"colab-df-quickchart\" onclick=\"quickchart('df-9d5ccf96-b07c-4bd8-97d9-1b04560c19a0')\"\n",
              "            title=\"Suggest charts.\"\n",
              "            style=\"display:none;\">\n",
              "\n",
              "<svg xmlns=\"http://www.w3.org/2000/svg\" height=\"24px\"viewBox=\"0 0 24 24\"\n",
              "     width=\"24px\">\n",
              "    <g>\n",
              "        <path d=\"M19 3H5c-1.1 0-2 .9-2 2v14c0 1.1.9 2 2 2h14c1.1 0 2-.9 2-2V5c0-1.1-.9-2-2-2zM9 17H7v-7h2v7zm4 0h-2V7h2v10zm4 0h-2v-4h2v4z\"/>\n",
              "    </g>\n",
              "</svg>\n",
              "  </button>\n",
              "\n",
              "<style>\n",
              "  .colab-df-quickchart {\n",
              "      --bg-color: #E8F0FE;\n",
              "      --fill-color: #1967D2;\n",
              "      --hover-bg-color: #E2EBFA;\n",
              "      --hover-fill-color: #174EA6;\n",
              "      --disabled-fill-color: #AAA;\n",
              "      --disabled-bg-color: #DDD;\n",
              "  }\n",
              "\n",
              "  [theme=dark] .colab-df-quickchart {\n",
              "      --bg-color: #3B4455;\n",
              "      --fill-color: #D2E3FC;\n",
              "      --hover-bg-color: #434B5C;\n",
              "      --hover-fill-color: #FFFFFF;\n",
              "      --disabled-bg-color: #3B4455;\n",
              "      --disabled-fill-color: #666;\n",
              "  }\n",
              "\n",
              "  .colab-df-quickchart {\n",
              "    background-color: var(--bg-color);\n",
              "    border: none;\n",
              "    border-radius: 50%;\n",
              "    cursor: pointer;\n",
              "    display: none;\n",
              "    fill: var(--fill-color);\n",
              "    height: 32px;\n",
              "    padding: 0;\n",
              "    width: 32px;\n",
              "  }\n",
              "\n",
              "  .colab-df-quickchart:hover {\n",
              "    background-color: var(--hover-bg-color);\n",
              "    box-shadow: 0 1px 2px rgba(60, 64, 67, 0.3), 0 1px 3px 1px rgba(60, 64, 67, 0.15);\n",
              "    fill: var(--button-hover-fill-color);\n",
              "  }\n",
              "\n",
              "  .colab-df-quickchart-complete:disabled,\n",
              "  .colab-df-quickchart-complete:disabled:hover {\n",
              "    background-color: var(--disabled-bg-color);\n",
              "    fill: var(--disabled-fill-color);\n",
              "    box-shadow: none;\n",
              "  }\n",
              "\n",
              "  .colab-df-spinner {\n",
              "    border: 2px solid var(--fill-color);\n",
              "    border-color: transparent;\n",
              "    border-bottom-color: var(--fill-color);\n",
              "    animation:\n",
              "      spin 1s steps(1) infinite;\n",
              "  }\n",
              "\n",
              "  @keyframes spin {\n",
              "    0% {\n",
              "      border-color: transparent;\n",
              "      border-bottom-color: var(--fill-color);\n",
              "      border-left-color: var(--fill-color);\n",
              "    }\n",
              "    20% {\n",
              "      border-color: transparent;\n",
              "      border-left-color: var(--fill-color);\n",
              "      border-top-color: var(--fill-color);\n",
              "    }\n",
              "    30% {\n",
              "      border-color: transparent;\n",
              "      border-left-color: var(--fill-color);\n",
              "      border-top-color: var(--fill-color);\n",
              "      border-right-color: var(--fill-color);\n",
              "    }\n",
              "    40% {\n",
              "      border-color: transparent;\n",
              "      border-right-color: var(--fill-color);\n",
              "      border-top-color: var(--fill-color);\n",
              "    }\n",
              "    60% {\n",
              "      border-color: transparent;\n",
              "      border-right-color: var(--fill-color);\n",
              "    }\n",
              "    80% {\n",
              "      border-color: transparent;\n",
              "      border-right-color: var(--fill-color);\n",
              "      border-bottom-color: var(--fill-color);\n",
              "    }\n",
              "    90% {\n",
              "      border-color: transparent;\n",
              "      border-bottom-color: var(--fill-color);\n",
              "    }\n",
              "  }\n",
              "</style>\n",
              "\n",
              "  <script>\n",
              "    async function quickchart(key) {\n",
              "      const quickchartButtonEl =\n",
              "        document.querySelector('#' + key + ' button');\n",
              "      quickchartButtonEl.disabled = true;  // To prevent multiple clicks.\n",
              "      quickchartButtonEl.classList.add('colab-df-spinner');\n",
              "      try {\n",
              "        const charts = await google.colab.kernel.invokeFunction(\n",
              "            'suggestCharts', [key], {});\n",
              "      } catch (error) {\n",
              "        console.error('Error during call to suggestCharts:', error);\n",
              "      }\n",
              "      quickchartButtonEl.classList.remove('colab-df-spinner');\n",
              "      quickchartButtonEl.classList.add('colab-df-quickchart-complete');\n",
              "    }\n",
              "    (() => {\n",
              "      let quickchartButtonEl =\n",
              "        document.querySelector('#df-9d5ccf96-b07c-4bd8-97d9-1b04560c19a0 button');\n",
              "      quickchartButtonEl.style.display =\n",
              "        google.colab.kernel.accessAllowed ? 'block' : 'none';\n",
              "    })();\n",
              "  </script>\n",
              "</div>\n",
              "    </div>\n",
              "  </div>\n"
            ]
          },
          "metadata": {},
          "execution_count": 37
        }
      ]
    },
    {
      "cell_type": "markdown",
      "source": [
        "Обучим модель  с помощью выборки, не разделяя ее на обучающую и тестовую части"
      ],
      "metadata": {
        "id": "fm27VBtI8rG6"
      }
    },
    {
      "cell_type": "code",
      "source": [
        "m3 = model.fit(X3, y3)"
      ],
      "metadata": {
        "id": "t4U7yI8lw7ak"
      },
      "execution_count": 38,
      "outputs": []
    },
    {
      "cell_type": "markdown",
      "source": [
        "Найдем предсказанные моделью значения зависимой переменной"
      ],
      "metadata": {
        "id": "cOCbQzVl8slh"
      }
    },
    {
      "cell_type": "code",
      "source": [
        "y3_pred = m3.predict(X3)"
      ],
      "metadata": {
        "id": "bLBrqDRu8tlC"
      },
      "execution_count": 39,
      "outputs": []
    },
    {
      "cell_type": "markdown",
      "source": [
        "Вычислим коэффициент детерминации с помощью функции explained_variance_score"
      ],
      "metadata": {
        "id": "zZ12FUFCxBsv"
      }
    },
    {
      "cell_type": "code",
      "source": [
        "R2test_m3 = metrics.explained_variance_score(y3, y3_pred)\n",
        "R2test_m3"
      ],
      "metadata": {
        "colab": {
          "base_uri": "https://localhost:8080/"
        },
        "id": "M3MDYzaVxGNR",
        "outputId": "690da9fb-c44e-4817-998f-20a226cc07c2"
      },
      "execution_count": 40,
      "outputs": [
        {
          "output_type": "execute_result",
          "data": {
            "text/plain": [
              "0.7230298103460846"
            ]
          },
          "metadata": {},
          "execution_count": 40
        }
      ]
    },
    {
      "cell_type": "code",
      "source": [
        "e_m3 = y3 - y3_pred\n",
        "e_m3"
      ],
      "metadata": {
        "colab": {
          "base_uri": "https://localhost:8080/"
        },
        "id": "kVBjFVoKxUUK",
        "outputId": "1ffde433-da7a-4a72-9aed-3819e233099f"
      },
      "execution_count": 41,
      "outputs": [
        {
          "output_type": "execute_result",
          "data": {
            "text/plain": [
              "0      17.156682\n",
              "1     -20.739551\n",
              "2     -11.750696\n",
              "3      51.686436\n",
              "4      -1.140533\n",
              "5     -13.188323\n",
              "6       2.251399\n",
              "7     -22.507833\n",
              "8      -4.721237\n",
              "9       4.218965\n",
              "10    -41.091947\n",
              "11    -13.695996\n",
              "12     20.530924\n",
              "13    -46.397363\n",
              "14      0.562847\n",
              "17     20.686549\n",
              "18    -11.881805\n",
              "19    -13.097056\n",
              "20    -11.739486\n",
              "21     -4.092122\n",
              "22    -12.408819\n",
              "23      6.991377\n",
              "24    -27.011469\n",
              "25    -30.365653\n",
              "26    -10.753447\n",
              "27    -19.128399\n",
              "28     -1.771752\n",
              "29     -1.593318\n",
              "30     10.075271\n",
              "31    -23.898452\n",
              "32    -11.720328\n",
              "34     25.840804\n",
              "35     30.205208\n",
              "36      7.120383\n",
              "37    -35.073439\n",
              "40     14.187822\n",
              "41    117.354429\n",
              "42      5.389325\n",
              "43     47.731821\n",
              "44     -8.442891\n",
              "45     -2.610675\n",
              "46     39.097960\n",
              "47    -20.265612\n",
              "Name: Price, dtype: float64"
            ]
          },
          "metadata": {},
          "execution_count": 41
        }
      ]
    },
    {
      "cell_type": "markdown",
      "source": [
        "Коэффициент детерминации стал больше по сравнению с предыдущей моделью, но несущественно. Попробуем отобрать данные, убирая в таблице ds3 строку, у которой в модели m3 самый большой остаток"
      ],
      "metadata": {
        "id": "pR3iX53Nxe5f"
      }
    },
    {
      "cell_type": "code",
      "source": [
        "ds4 = ds3.drop(labels = [41], axis = 0)"
      ],
      "metadata": {
        "id": "5KzKZgbHxh5S"
      },
      "execution_count": 42,
      "outputs": []
    },
    {
      "cell_type": "markdown",
      "source": [
        "Выделим целевую переменную Price в переменную y4"
      ],
      "metadata": {
        "id": "-KXfCxvnxp0a"
      }
    },
    {
      "cell_type": "code",
      "source": [
        "y4 = ds4['Price']"
      ],
      "metadata": {
        "id": "fzm0ONRDxrDE"
      },
      "execution_count": 43,
      "outputs": []
    },
    {
      "cell_type": "markdown",
      "source": [
        "Выделим матрицу исходных признаков в переменную X4"
      ],
      "metadata": {
        "id": "gSN5SGGdxspH"
      }
    },
    {
      "cell_type": "code",
      "source": [
        "X4 = ds4.drop('Price', axis=1)"
      ],
      "metadata": {
        "id": "QoyoS-TpxuM9"
      },
      "execution_count": 44,
      "outputs": []
    },
    {
      "cell_type": "markdown",
      "source": [
        "Обучим модель  с помощью выборки, не разделяя ее на обучаую и тестовую части"
      ],
      "metadata": {
        "id": "x7d45OWxxwn_"
      }
    },
    {
      "cell_type": "code",
      "source": [
        "m4 = model.fit(X4, y4)"
      ],
      "metadata": {
        "id": "TFikWjjdx0Tb"
      },
      "execution_count": 45,
      "outputs": []
    },
    {
      "cell_type": "markdown",
      "source": [
        "Найдем предсказанные моделью значения зависимой переменной"
      ],
      "metadata": {
        "id": "FlUDC8D8x4Dn"
      }
    },
    {
      "cell_type": "code",
      "source": [
        "y4_pred = m4.predict(X4)"
      ],
      "metadata": {
        "id": "V7QDq1D5x71G"
      },
      "execution_count": 46,
      "outputs": []
    },
    {
      "cell_type": "markdown",
      "source": [
        "Вычислим коэффициент детерминации с помощью функции explained_variance_score"
      ],
      "metadata": {
        "id": "mvUjp6ARx_Ag"
      }
    },
    {
      "cell_type": "code",
      "source": [
        "R2test_m4 = metrics.explained_variance_score(y4, y4_pred)\n",
        "R2test_m4"
      ],
      "metadata": {
        "colab": {
          "base_uri": "https://localhost:8080/"
        },
        "id": "je-08IGMx969",
        "outputId": "2b9e8ce6-c594-4965-91a9-e8a82a2988f1"
      },
      "execution_count": 47,
      "outputs": [
        {
          "output_type": "execute_result",
          "data": {
            "text/plain": [
              "0.7946536725088469"
            ]
          },
          "metadata": {},
          "execution_count": 47
        }
      ]
    },
    {
      "cell_type": "code",
      "source": [
        "e_m4 = y4 - y4_pred\n",
        "e_m4"
      ],
      "metadata": {
        "colab": {
          "base_uri": "https://localhost:8080/"
        },
        "id": "kWtIos3Pzjx7",
        "outputId": "aae0963b-722e-4601-9f54-a87351d16b77"
      },
      "execution_count": 48,
      "outputs": [
        {
          "output_type": "execute_result",
          "data": {
            "text/plain": [
              "0     28.458609\n",
              "1    -12.927500\n",
              "2     -7.211270\n",
              "3     57.235774\n",
              "4     10.046890\n",
              "5     -5.463533\n",
              "6      0.616848\n",
              "7    -18.089204\n",
              "8     -7.392468\n",
              "9      2.745387\n",
              "10   -25.054164\n",
              "11   -16.170548\n",
              "12    26.435571\n",
              "13   -43.899448\n",
              "14    -1.730063\n",
              "17    20.517117\n",
              "18    -6.973229\n",
              "19    -9.521360\n",
              "20    -9.372275\n",
              "21    -4.716295\n",
              "22    -8.520275\n",
              "23     7.551808\n",
              "24   -21.284313\n",
              "25   -27.188032\n",
              "26    -9.962957\n",
              "27    -9.911086\n",
              "28    -4.167638\n",
              "29     1.775719\n",
              "30     8.172894\n",
              "31   -18.329548\n",
              "32   -13.083620\n",
              "34    28.622585\n",
              "35    30.137957\n",
              "36     4.815823\n",
              "37   -27.989052\n",
              "40    12.347616\n",
              "42     3.343485\n",
              "43    52.256193\n",
              "44   -10.926542\n",
              "45    -4.656515\n",
              "46    45.133092\n",
              "47   -15.672434\n",
              "Name: Price, dtype: float64"
            ]
          },
          "metadata": {},
          "execution_count": 48
        }
      ]
    },
    {
      "cell_type": "markdown",
      "source": [
        "Коэффициент детерминации стал больше по сравнению с предыдущей моделью, но несущественно. Попробуем отобрать данные, убирая в таблице ds4 строку, у которой в модели m4 самый большой остаток"
      ],
      "metadata": {
        "id": "r64M2cPezErC"
      }
    },
    {
      "cell_type": "code",
      "source": [
        "ds5 = ds4.drop(labels = [3], axis = 0)"
      ],
      "metadata": {
        "id": "U0XhZ-OTzErU"
      },
      "execution_count": 49,
      "outputs": []
    },
    {
      "cell_type": "markdown",
      "source": [
        "Выделим целевую переменную Price в переменную y5"
      ],
      "metadata": {
        "id": "X0OL86FUzErU"
      }
    },
    {
      "cell_type": "code",
      "source": [
        "y5 = ds5['Price']"
      ],
      "metadata": {
        "id": "xZoWRj0HzErU"
      },
      "execution_count": 50,
      "outputs": []
    },
    {
      "cell_type": "markdown",
      "source": [
        "Выделим матрицу исходных признаков в переменную X5"
      ],
      "metadata": {
        "id": "BNS4iWdmzErU"
      }
    },
    {
      "cell_type": "code",
      "source": [
        "X5 = ds5.drop('Price', axis=1)"
      ],
      "metadata": {
        "id": "xVp-GyynzErU"
      },
      "execution_count": 51,
      "outputs": []
    },
    {
      "cell_type": "markdown",
      "source": [
        "Обучим модель  с помощью выборки, не разделяя ее на обучаую и тестовую части"
      ],
      "metadata": {
        "id": "Ajev7YYXzErV"
      }
    },
    {
      "cell_type": "code",
      "source": [
        "m5 = model.fit(X5, y5)"
      ],
      "metadata": {
        "id": "Bvb1yAfFzErV"
      },
      "execution_count": 52,
      "outputs": []
    },
    {
      "cell_type": "markdown",
      "source": [
        "Найдем предсказанные моделью значения зависимой переменной"
      ],
      "metadata": {
        "id": "JsRiE6TyzErV"
      }
    },
    {
      "cell_type": "code",
      "source": [
        "y5_pred = m5.predict(X5)"
      ],
      "metadata": {
        "id": "Bj_8MyRezErV"
      },
      "execution_count": 53,
      "outputs": []
    },
    {
      "cell_type": "markdown",
      "source": [
        "Вычислим коэффициент детерминации с помощью функции explained_variance_score"
      ],
      "metadata": {
        "id": "19lzPeA4zErV"
      }
    },
    {
      "cell_type": "code",
      "source": [
        "R2test_m5 = metrics.explained_variance_score(y5, y5_pred)\n",
        "R2test_m5"
      ],
      "metadata": {
        "colab": {
          "base_uri": "https://localhost:8080/"
        },
        "outputId": "fc70521c-14ba-4a35-fa1b-6a451b2e1dd4",
        "id": "Rot_xpKkzErV"
      },
      "execution_count": 54,
      "outputs": [
        {
          "output_type": "execute_result",
          "data": {
            "text/plain": [
              "0.824750403982233"
            ]
          },
          "metadata": {},
          "execution_count": 54
        }
      ]
    },
    {
      "cell_type": "markdown",
      "source": [
        "Коэффициент детерминации превысил величину 0,8. Перейдем к обучению данной модели."
      ],
      "metadata": {
        "id": "SdIXkaqEzu8Y"
      }
    },
    {
      "cell_type": "markdown",
      "source": [
        "##Обучение модели"
      ],
      "metadata": {
        "id": "dFVv2qVQ9JVQ"
      }
    },
    {
      "cell_type": "markdown",
      "source": [
        "Разделим выборку на обучающую и тестовую, отнеся в тестовую часть 20% данных, а в обучающую - остальные 80%.\n",
        "\n",
        "Используем функцию train_test_split"
      ],
      "metadata": {
        "id": "QOPo-t8C9KcQ"
      }
    },
    {
      "cell_type": "code",
      "source": [
        "X5_train, X5_test, y5_train, y5_test = train_test_split(X5, y5, train_size = 0.8)\n",
        "X5_train, X5_test, y5_train, y5_test"
      ],
      "metadata": {
        "id": "xCg88Zu-9LQs",
        "colab": {
          "base_uri": "https://localhost:8080/"
        },
        "outputId": "39782380-e8c0-41c2-c601-bf51394acf1d"
      },
      "execution_count": 55,
      "outputs": [
        {
          "output_type": "execute_result",
          "data": {
            "text/plain": [
              "(    House  Area   Dist  Ter\n",
              " 32    130   6.0   12.0    0\n",
              " 26    180  17.0   86.0    0\n",
              " 13     22  14.0   50.0    1\n",
              " 40     36  12.0  105.0    0\n",
              " 0     500  40.0   26.0    1\n",
              " 43    130  15.0   27.0    1\n",
              " 2     350   7.0   25.0    0\n",
              " 46    170  10.0   25.0    1\n",
              " 7      80  10.0   50.0    1\n",
              " 10    600  15.0    7.0    1\n",
              " 34    300  15.0   39.0    0\n",
              " 25     36  10.0   46.0    1\n",
              " 23    228  20.0   45.0    0\n",
              " 28     36  12.0   85.0    0\n",
              " 30     36  10.0   95.0    0\n",
              " 42     46  15.0  100.0    0\n",
              " 6      78   8.5   60.0    0\n",
              " 35    200  14.0   25.0    0\n",
              " 21    210  20.0   19.0    0\n",
              " 20    320  20.0   25.0    0\n",
              " 14     60   8.0   51.0    0\n",
              " 18     60  11.0   90.0    1\n",
              " 27    250  15.0   85.0    1\n",
              " 5     300  24.0   20.0    1\n",
              " 19     65   6.0   18.0    1\n",
              " 29    285  15.0   74.0    0\n",
              " 9      90   6.0   45.0    0\n",
              " 36     36   6.0   65.0    0\n",
              " 8      65   6.0   25.0    0\n",
              " 1     530  19.0   23.0    0\n",
              " 17    170   6.0   18.0    0\n",
              " 45     46  15.0  100.0    0,\n",
              "     House  Area  Dist  Ter\n",
              " 22     60   5.0  30.0    1\n",
              " 37    300  32.0  28.0    1\n",
              " 4     370  15.0  45.0    1\n",
              " 31    420  10.0   9.0    0\n",
              " 47     70   6.0  50.0    1\n",
              " 44     56  15.0  75.0    0\n",
              " 11     85  11.0  33.0    0\n",
              " 24    200  20.0  25.0    1\n",
              " 12    100  10.0  85.0    1,\n",
              " 32     27.0\n",
              " 26     27.0\n",
              " 13      8.5\n",
              " 40     10.0\n",
              " 0     220.0\n",
              " 43    130.0\n",
              " 2      45.0\n",
              " 46    110.0\n",
              " 7      25.0\n",
              " 10    100.0\n",
              " 34     96.0\n",
              " 25     15.0\n",
              " 23     83.0\n",
              " 28      5.5\n",
              " 30      5.0\n",
              " 42     15.0\n",
              " 6      16.5\n",
              " 35     95.0\n",
              " 21     85.0\n",
              " 20     85.0\n",
              " 14     16.5\n",
              " 18     14.0\n",
              " 27     42.0\n",
              " 5     120.0\n",
              " 19     38.0\n",
              " 29     47.0\n",
              " 9      20.0\n",
              " 36      6.0\n",
              " 8      20.0\n",
              " 1      95.0\n",
              " 17     60.0\n",
              " 45      7.0\n",
              " Name: Price, dtype: float64,\n",
              " 22     28.0\n",
              " 37    120.0\n",
              " 4      95.0\n",
              " 31     59.0\n",
              " 47     13.0\n",
              " 44     16.5\n",
              " 11     25.0\n",
              " 24     80.0\n",
              " 12     50.0\n",
              " Name: Price, dtype: float64)"
            ]
          },
          "metadata": {},
          "execution_count": 55
        }
      ]
    },
    {
      "cell_type": "markdown",
      "source": [
        "Введем новый объект - модель линейной регрессии"
      ],
      "metadata": {
        "id": "XukD3Sfk9MOZ"
      }
    },
    {
      "cell_type": "code",
      "source": [
        "model_cleared_data = LinearRegression(fit_intercept=True)"
      ],
      "metadata": {
        "id": "tSHxC48G9NyT"
      },
      "execution_count": 56,
      "outputs": []
    },
    {
      "cell_type": "markdown",
      "source": [
        "Обучаем модель на наших данных"
      ],
      "metadata": {
        "id": "xKhp9ROq9Ot6"
      }
    },
    {
      "cell_type": "code",
      "source": [
        "ml_cleared = model_cleared_data.fit(X5_train, y5_train)"
      ],
      "metadata": {
        "id": "0vR9wi9D9Pct"
      },
      "execution_count": 57,
      "outputs": []
    },
    {
      "cell_type": "markdown",
      "source": [
        "Посмотрим на результат обучения. Оценки коэффициентов перед признаками"
      ],
      "metadata": {
        "id": "BEccoBqc0MmO"
      }
    },
    {
      "cell_type": "code",
      "source": [
        "ml_cleared.coef_"
      ],
      "metadata": {
        "colab": {
          "base_uri": "https://localhost:8080/"
        },
        "id": "pR_GJGXc0Oj5",
        "outputId": "ad2dd336-0019-4f5d-c997-f823d5e75a01"
      },
      "execution_count": 58,
      "outputs": [
        {
          "output_type": "execute_result",
          "data": {
            "text/plain": [
              "array([ 0.04827508,  4.27760628, -0.73196767,  8.46831151])"
            ]
          },
          "metadata": {},
          "execution_count": 58
        }
      ]
    },
    {
      "cell_type": "markdown",
      "source": [
        "Оценка свободного коэффициента"
      ],
      "metadata": {
        "id": "81sK5D2s9Qu3"
      }
    },
    {
      "cell_type": "code",
      "source": [
        "ml_cleared.intercept_"
      ],
      "metadata": {
        "colab": {
          "base_uri": "https://localhost:8080/"
        },
        "id": "YtEhQ5rB9SKT",
        "outputId": "9cc29793-7efa-455f-915a-c2b8639a9bed"
      },
      "execution_count": 59,
      "outputs": [
        {
          "output_type": "execute_result",
          "data": {
            "text/plain": [
              "20.028763408891763"
            ]
          },
          "metadata": {},
          "execution_count": 59
        }
      ]
    },
    {
      "cell_type": "markdown",
      "source": [
        "##Тестирование и оценка качества"
      ],
      "metadata": {
        "id": "ZmPvovTu9TNq"
      }
    },
    {
      "cell_type": "markdown",
      "source": [
        "###Оценка качества модели на обучающей выборке"
      ],
      "metadata": {
        "id": "m_1DA1Il9UU-"
      }
    },
    {
      "cell_type": "markdown",
      "source": [
        "Выполним предсказание значений целевой функции моделью\n",
        "с помощью метода predict"
      ],
      "metadata": {
        "id": "TO9lxDAx9V2j"
      }
    },
    {
      "cell_type": "code",
      "source": [
        "y5_pred_ = ml_cleared.predict(X5_train)\n",
        "y5_pred_"
      ],
      "metadata": {
        "colab": {
          "base_uri": "https://localhost:8080/"
        },
        "id": "qy2U1CdA9XHm",
        "outputId": "8deee6c2-164b-4e87-ac55-f0a5c132a917"
      },
      "execution_count": 60,
      "outputs": [
        {
          "output_type": "execute_result",
          "data": {
            "text/plain": [
              "array([ 4.31865496e+01,  3.84883651e+01,  5.28472311e+01, -3.75866374e+00,\n",
              "        2.04707707e+02,  7.91738025e+01,  4.85690940e+01,  6.11807097e+01,\n",
              "        3.85367607e+01,  1.16502444e+02,  7.01286427e+01,  3.93405278e+01,\n",
              "        8.36490623e+01,  1.08806897e+01, -4.99419959e+00,  1.32167443e+01,\n",
              "        1.62358129e+01,  7.12710757e+01,  1.01811270e+02,  1.02729723e+02,\n",
              "        1.98157673e+01,  1.25701585e+01,  4.25126874e+01,  1.31002796e+02,\n",
              "        4.41251748e+01,  4.37856481e+01,  1.71006132e+01, -1.45594586e-01,\n",
              "        3.05330896e+01,  1.10053819e+02,  4.07257468e+01,  1.32167443e+01])"
            ]
          },
          "metadata": {},
          "execution_count": 60
        }
      ]
    },
    {
      "cell_type": "markdown",
      "source": [
        "Вычислим остатки - разности между имеющимися значениями и предсказанными значениями целевой переменной"
      ],
      "metadata": {
        "id": "_DGV4OeI9YaA"
      }
    },
    {
      "cell_type": "code",
      "source": [
        "e_cleared_ml = y5_train - y5_pred_\n",
        "e_cleared_ml"
      ],
      "metadata": {
        "colab": {
          "base_uri": "https://localhost:8080/"
        },
        "id": "2BythJac9a73",
        "outputId": "0114d356-9939-4f88-920d-8de6c663b3e0"
      },
      "execution_count": 61,
      "outputs": [
        {
          "output_type": "execute_result",
          "data": {
            "text/plain": [
              "32   -16.186550\n",
              "26   -11.488365\n",
              "13   -44.347231\n",
              "40    13.758664\n",
              "0     15.292293\n",
              "43    50.826197\n",
              "2     -3.569094\n",
              "46    48.819290\n",
              "7    -13.536761\n",
              "10   -16.502444\n",
              "34    25.871357\n",
              "25   -24.340528\n",
              "23    -0.649062\n",
              "28    -5.380690\n",
              "30     9.994200\n",
              "42     1.783256\n",
              "6      0.264187\n",
              "35    23.728924\n",
              "21   -16.811270\n",
              "20   -17.729723\n",
              "14    -3.315767\n",
              "18     1.429842\n",
              "27    -0.512687\n",
              "5    -11.002796\n",
              "19    -6.125175\n",
              "29     3.214352\n",
              "9      2.899387\n",
              "36     6.145595\n",
              "8    -10.533090\n",
              "1    -15.053819\n",
              "17    19.274253\n",
              "45    -6.216744\n",
              "Name: Price, dtype: float64"
            ]
          },
          "metadata": {},
          "execution_count": 61
        }
      ]
    },
    {
      "cell_type": "markdown",
      "source": [
        "Построим диаграмму остатков"
      ],
      "metadata": {
        "id": "A1RaWwVH9cvm"
      }
    },
    {
      "cell_type": "code",
      "source": [
        "plt.scatter(e_cleared_ml.index, e_cleared_ml)"
      ],
      "metadata": {
        "colab": {
          "base_uri": "https://localhost:8080/",
          "height": 448
        },
        "id": "l7PCwYqm9dqR",
        "outputId": "d0b04928-6f50-4c9a-a345-cb5b562a9496"
      },
      "execution_count": 62,
      "outputs": [
        {
          "output_type": "execute_result",
          "data": {
            "text/plain": [
              "<matplotlib.collections.PathCollection at 0x78d59417d120>"
            ]
          },
          "metadata": {},
          "execution_count": 62
        },
        {
          "output_type": "display_data",
          "data": {
            "text/plain": [
              "<Figure size 640x480 with 1 Axes>"
            ],
            "image/png": "[encoded data removed]"
          },
          "metadata": {}
        }
      ]
    },
    {
      "cell_type": "markdown",
      "source": [
        "Исходя из диаграммы, имеется много больших остатков. Значит, качество модели на обучающей выборке является невысоким."
      ],
      "metadata": {
        "id": "As9Na-fU9fAS"
      }
    },
    {
      "cell_type": "markdown",
      "source": [
        "Вычислим коэффициент детерминации с помощью функции explained_variance_score"
      ],
      "metadata": {
        "id": "qh0azrKQ9e6F"
      }
    },
    {
      "cell_type": "code",
      "source": [
        "R2_cleared_ml = metrics.explained_variance_score(y5_train, y5_pred_)\n",
        "R2_cleared_ml"
      ],
      "metadata": {
        "colab": {
          "base_uri": "https://localhost:8080/"
        },
        "id": "yj-FRsRi9iTB",
        "outputId": "a9950f8e-fd4f-4be7-b485-74213b6677d5"
      },
      "execution_count": 63,
      "outputs": [
        {
          "output_type": "execute_result",
          "data": {
            "text/plain": [
              "0.8467875007995324"
            ]
          },
          "metadata": {},
          "execution_count": 63
        }
      ]
    },
    {
      "cell_type": "markdown",
      "source": [
        "Значение R2 больше 0.8, это значит, что модель хорошо показывает на обучающей выборке"
      ],
      "metadata": {
        "id": "tSjJ7Xmy9jzR"
      }
    },
    {
      "cell_type": "markdown",
      "source": [
        "Вычислим метрику MAPE с помощью функции mean_absolute_percentage_error"
      ],
      "metadata": {
        "id": "SVS8-fF39lLk"
      }
    },
    {
      "cell_type": "code",
      "source": [
        "mape_cleared_ml = metrics.mean_absolute_percentage_error(y5_train, y5_pred_) * 100\n",
        "mape_cleared_ml"
      ],
      "metadata": {
        "colab": {
          "base_uri": "https://localhost:8080/"
        },
        "id": "CeU6Y-dD9mN0",
        "outputId": "223f5323-8e49-446a-dd39-8034a8a11567"
      },
      "execution_count": 64,
      "outputs": [
        {
          "output_type": "execute_result",
          "data": {
            "text/plain": [
              "58.364823644241014"
            ]
          },
          "metadata": {},
          "execution_count": 64
        }
      ]
    },
    {
      "cell_type": "markdown",
      "source": [
        "Вычислим дополнительные характеристики - метрики MSE и MAE. Они потребуются для сравнения качества модели на обучающей и тестовой выборках.\n",
        "\n",
        "Метрика MSE:"
      ],
      "metadata": {
        "id": "1hHnSS9e9nMB"
      }
    },
    {
      "cell_type": "code",
      "source": [
        "mse_cleared_ml = metrics.mean_squared_error(y5_train, y5_pred_)\n",
        "mse_cleared_ml"
      ],
      "metadata": {
        "colab": {
          "base_uri": "https://localhost:8080/"
        },
        "id": "weFAg5-A9oZx",
        "outputId": "00aef1f4-b02c-4aa7-f15c-035a91511980"
      },
      "execution_count": 65,
      "outputs": [
        {
          "output_type": "execute_result",
          "data": {
            "text/plain": [
              "367.16163498583944"
            ]
          },
          "metadata": {},
          "execution_count": 65
        }
      ]
    },
    {
      "cell_type": "markdown",
      "source": [
        "Метрика MAE:"
      ],
      "metadata": {
        "id": "qhkoYcEQ9pke"
      }
    },
    {
      "cell_type": "code",
      "source": [
        "mae_cleared_ml = metrics.mean_absolute_error(y5_train, y5_pred_)\n",
        "mae_cleared_ml"
      ],
      "metadata": {
        "colab": {
          "base_uri": "https://localhost:8080/"
        },
        "id": "gLI48S759qq_",
        "outputId": "7f89cc66-1d72-45df-a4cd-e829e1212c0c"
      },
      "execution_count": 66,
      "outputs": [
        {
          "output_type": "execute_result",
          "data": {
            "text/plain": [
              "13.956362275660862"
            ]
          },
          "metadata": {},
          "execution_count": 66
        }
      ]
    },
    {
      "cell_type": "markdown",
      "source": [
        "###Оценка качества модели на тестовой выборке"
      ],
      "metadata": {
        "id": "HiQp2WmE9r_i"
      }
    },
    {
      "cell_type": "markdown",
      "source": [
        "Выполним предсказание значений целевой функции моделью с помощью метода predict"
      ],
      "metadata": {
        "id": "wGiJV5919uHr"
      }
    },
    {
      "cell_type": "code",
      "source": [
        "y5_test_pred = ml_cleared.predict(X5_test)\n",
        "y5_test_pred"
      ],
      "metadata": {
        "colab": {
          "base_uri": "https://localhost:8080/"
        },
        "id": "xam8B-xG9vV_",
        "outputId": "86ff3dc1-b288-43f9-d233-72f356494a28"
      },
      "execution_count": 67,
      "outputs": [
        {
          "output_type": "execute_result",
          "data": {
            "text/plain": [
              "array([ 30.82258106, 159.36790535,  77.5844039 ,  76.49265118,\n",
              "        20.94358474,  31.99868683,  47.03088123, 105.40502492,\n",
              "        13.88339381])"
            ]
          },
          "metadata": {},
          "execution_count": 67
        }
      ]
    },
    {
      "cell_type": "markdown",
      "source": [
        "Вычислим остатки - разности между имеющимися значениями и предсказанными значениями целевой переменной"
      ],
      "metadata": {
        "id": "3SNOGBqK9wQC"
      }
    },
    {
      "cell_type": "code",
      "source": [
        "e_cleared_test_ml = y5_test - y5_test_pred\n",
        "e_cleared_test_ml"
      ],
      "metadata": {
        "colab": {
          "base_uri": "https://localhost:8080/"
        },
        "id": "O_0_n9QH9xTw",
        "outputId": "3eeb7af9-bc84-40be-8cfd-1919ed6f7c47"
      },
      "execution_count": 68,
      "outputs": [
        {
          "output_type": "execute_result",
          "data": {
            "text/plain": [
              "22    -2.822581\n",
              "37   -39.367905\n",
              "4     17.415596\n",
              "31   -17.492651\n",
              "47    -7.943585\n",
              "44   -15.498687\n",
              "11   -22.030881\n",
              "24   -25.405025\n",
              "12    36.116606\n",
              "Name: Price, dtype: float64"
            ]
          },
          "metadata": {},
          "execution_count": 68
        }
      ]
    },
    {
      "cell_type": "markdown",
      "source": [
        "Построим диаграмму остатков"
      ],
      "metadata": {
        "id": "I_Lzjpax9-VY"
      }
    },
    {
      "cell_type": "code",
      "source": [
        "plt.scatter(e_cleared_test_ml.index, e_cleared_test_ml)"
      ],
      "metadata": {
        "colab": {
          "base_uri": "https://localhost:8080/",
          "height": 448
        },
        "id": "VU_tP0Ko-ADn",
        "outputId": "10d56d28-6602-41d8-9ce7-170e57e868c9"
      },
      "execution_count": 69,
      "outputs": [
        {
          "output_type": "execute_result",
          "data": {
            "text/plain": [
              "<matplotlib.collections.PathCollection at 0x78d593fc5210>"
            ]
          },
          "metadata": {},
          "execution_count": 69
        },
        {
          "output_type": "display_data",
          "data": {
            "text/plain": [
              "<Figure size 640x480 with 1 Axes>"
            ],
            "image/png": "[encoded data removed]"
          },
          "metadata": {}
        }
      ]
    },
    {
      "cell_type": "markdown",
      "source": [
        "Исходя из диаграммы, имеется немного больших остатков. Значит, качество модели на тестовой выборке является высоким."
      ],
      "metadata": {
        "id": "VZjXnxYK-BgA"
      }
    },
    {
      "cell_type": "markdown",
      "source": [
        "Вычислим коэффициент детерминации с помощью функции explained_variance_score"
      ],
      "metadata": {
        "id": "G-reD4sf-BU4"
      }
    },
    {
      "cell_type": "code",
      "source": [
        "R2_cleared_test_ml = metrics.explained_variance_score(y5_test, y5_test_pred)\n",
        "R2_cleared_test_ml"
      ],
      "metadata": {
        "colab": {
          "base_uri": "https://localhost:8080/"
        },
        "id": "d135QxBb-H6n",
        "outputId": "16431dcc-5f9b-46a6-f4bd-7e65bc5ef1b1"
      },
      "execution_count": 70,
      "outputs": [
        {
          "output_type": "execute_result",
          "data": {
            "text/plain": [
              "0.6261463501039144"
            ]
          },
          "metadata": {},
          "execution_count": 70
        }
      ]
    },
    {
      "cell_type": "markdown",
      "source": [
        "Вычислим метрику MAPE с помощью функции mean_absolute_percentage_error"
      ],
      "metadata": {
        "id": "9oMzn6Az-FKp"
      }
    },
    {
      "cell_type": "code",
      "source": [
        "mape_cleared_test_ml = metrics.mean_absolute_percentage_error(y5_test, y5_test_pred) * 100\n",
        "mape_cleared_test_ml"
      ],
      "metadata": {
        "colab": {
          "base_uri": "https://localhost:8080/"
        },
        "id": "2zgcDjRz-HCa",
        "outputId": "f62647ae-126c-4850-aa97-57cea97c8339"
      },
      "execution_count": 71,
      "outputs": [
        {
          "output_type": "execute_result",
          "data": {
            "text/plain": [
              "48.668550438170314"
            ]
          },
          "metadata": {},
          "execution_count": 71
        }
      ]
    },
    {
      "cell_type": "markdown",
      "source": [
        "###**Вывод**"
      ],
      "metadata": {
        "id": "D-49up_i-Mtx"
      }
    },
    {
      "cell_type": "markdown",
      "source": [
        "Таким образом, исследуемая модель обладает более высоким качеством на тестовой выборке, нежели на обучающей выборке, то есть модель недообучена"
      ],
      "metadata": {
        "id": "NKadRKmA-Rti"
      }
    },
    {
      "cell_type": "markdown",
      "source": [
        "Вычислим дополнительные характеристики - метрики MSE и MAE. Они потребуются для сравнения качества модели на обучающей и тестовой выборках.\n",
        "\n",
        "Метрика MSE:"
      ],
      "metadata": {
        "id": "nUlxURLG-THl"
      }
    },
    {
      "cell_type": "code",
      "source": [
        "mse_cleared_test_ml = metrics.mean_squared_error(y5_test, y5_test_pred)\n",
        "mse_cleared_test_ml"
      ],
      "metadata": {
        "colab": {
          "base_uri": "https://localhost:8080/"
        },
        "id": "Ypd6hDCU-UfG",
        "outputId": "35cb71e3-f442-4489-8b46-3b8273be72ce"
      },
      "execution_count": 72,
      "outputs": [
        {
          "output_type": "execute_result",
          "data": {
            "text/plain": [
              "545.0654291403393"
            ]
          },
          "metadata": {},
          "execution_count": 72
        }
      ]
    },
    {
      "cell_type": "markdown",
      "source": [
        "Метрика MAE:"
      ],
      "metadata": {
        "id": "d28pjikR-WON"
      }
    },
    {
      "cell_type": "code",
      "source": [
        "mae_cleared_test_ml = metrics.mean_absolute_error(y5_test, y5_test_pred)\n",
        "mae_cleared_test_ml"
      ],
      "metadata": {
        "colab": {
          "base_uri": "https://localhost:8080/"
        },
        "id": "5uq4GpYu-YCM",
        "outputId": "5296c589-d4c5-41f9-d75b-a635927fbb69"
      },
      "execution_count": 73,
      "outputs": [
        {
          "output_type": "execute_result",
          "data": {
            "text/plain": [
              "20.454835289395895"
            ]
          },
          "metadata": {},
          "execution_count": 73
        }
      ]
    },
    {
      "cell_type": "code",
      "source": [
        "ind = ['R2', 'MAPE', 'MSE', 'MAE']\n",
        "dat1 = [R2_cleared_ml, mape_cleared_ml, mse_cleared_ml, mae_cleared_ml]\n",
        "dat2 = [R2_cleared_test_ml, mape_cleared_test_ml, mse_cleared_test_ml, mae_cleared_test_ml]\n",
        "\n",
        "pd.DataFrame({\n",
        "    'Metrics': ['R2', 'MAPE', 'MSE', 'MAE'],\n",
        "    'Train': [R2_cleared_ml, mape_cleared_ml, mse_cleared_ml, mae_cleared_ml],\n",
        "    'Test': [R2_cleared_test_ml, mape_cleared_test_ml, mse_cleared_test_ml, mae_cleared_test_ml]\n",
        "})"
      ],
      "metadata": {
        "colab": {
          "base_uri": "https://localhost:8080/",
          "height": 175
        },
        "id": "yLUveZKB-Yxh",
        "outputId": "8c85d04e-09e8-4ab0-8d7f-d85478dcdce0"
      },
      "execution_count": 74,
      "outputs": [
        {
          "output_type": "execute_result",
          "data": {
            "text/plain": [
              "  Metrics       Train        Test\n",
              "0      R2    0.846788    0.626146\n",
              "1    MAPE   58.364824   48.668550\n",
              "2     MSE  367.161635  545.065429\n",
              "3     MAE   13.956362   20.454835"
            ],
            "text/html": [
              "\n",
              "  <div id=\"df-77319cb9-a374-4a53-82ac-6851165d2c58\" class=\"colab-df-container\">\n",
              "    <div>\n",
              "<style scoped>\n",
              "    .dataframe tbody tr th:only-of-type {\n",
              "        vertical-align: middle;\n",
              "    }\n",
              "\n",
              "    .dataframe tbody tr th {\n",
              "        vertical-align: top;\n",
              "    }\n",
              "\n",
              "    .dataframe thead th {\n",
              "        text-align: right;\n",
              "    }\n",
              "</style>\n",
              "<table border=\"1\" class=\"dataframe\">\n",
              "  <thead>\n",
              "    <tr style=\"text-align: right;\">\n",
              "      <th></th>\n",
              "      <th>Metrics</th>\n",
              "      <th>Train</th>\n",
              "      <th>Test</th>\n",
              "    </tr>\n",
              "  </thead>\n",
              "  <tbody>\n",
              "    <tr>\n",
              "      <th>0</th>\n",
              "      <td>R2</td>\n",
              "      <td>0.846788</td>\n",
              "      <td>0.626146</td>\n",
              "    </tr>\n",
              "    <tr>\n",
              "      <th>1</th>\n",
              "      <td>MAPE</td>\n",
              "      <td>58.364824</td>\n",
              "      <td>48.668550</td>\n",
              "    </tr>\n",
              "    <tr>\n",
              "      <th>2</th>\n",
              "      <td>MSE</td>\n",
              "      <td>367.161635</td>\n",
              "      <td>545.065429</td>\n",
              "    </tr>\n",
              "    <tr>\n",
              "      <th>3</th>\n",
              "      <td>MAE</td>\n",
              "      <td>13.956362</td>\n",
              "      <td>20.454835</td>\n",
              "    </tr>\n",
              "  </tbody>\n",
              "</table>\n",
              "</div>\n",
              "    <div class=\"colab-df-buttons\">\n",
              "\n",
              "  <div class=\"colab-df-container\">\n",
              "    <button class=\"colab-df-convert\" onclick=\"convertToInteractive('df-77319cb9-a374-4a53-82ac-6851165d2c58')\"\n",
              "            title=\"Convert this dataframe to an interactive table.\"\n",
              "            style=\"display:none;\">\n",
              "\n",
              "  <svg xmlns=\"http://www.w3.org/2000/svg\" height=\"24px\" viewBox=\"0 -960 960 960\">\n",
              "    <path d=\"M120-120v-720h720v720H120Zm60-500h600v-160H180v160Zm220 220h160v-160H400v160Zm0 220h160v-160H400v160ZM180-400h160v-160H180v160Zm440 0h160v-160H620v160ZM180-180h160v-160H180v160Zm440 0h160v-160H620v160Z\"/>\n",
              "  </svg>\n",
              "    </button>\n",
              "\n",
              "  <style>\n",
              "    .colab-df-container {\n",
              "      display:flex;\n",
              "      gap: 12px;\n",
              "    }\n",
              "\n",
              "    .colab-df-convert {\n",
              "      background-color: #E8F0FE;\n",
              "      border: none;\n",
              "      border-radius: 50%;\n",
              "      cursor: pointer;\n",
              "      display: none;\n",
              "      fill: #1967D2;\n",
              "      height: 32px;\n",
              "      padding: 0 0 0 0;\n",
              "      width: 32px;\n",
              "    }\n",
              "\n",
              "    .colab-df-convert:hover {\n",
              "      background-color: #E2EBFA;\n",
              "      box-shadow: 0px 1px 2px rgba(60, 64, 67, 0.3), 0px 1px 3px 1px rgba(60, 64, 67, 0.15);\n",
              "      fill: #174EA6;\n",
              "    }\n",
              "\n",
              "    .colab-df-buttons div {\n",
              "      margin-bottom: 4px;\n",
              "    }\n",
              "\n",
              "    [theme=dark] .colab-df-convert {\n",
              "      background-color: #3B4455;\n",
              "      fill: #D2E3FC;\n",
              "    }\n",
              "\n",
              "    [theme=dark] .colab-df-convert:hover {\n",
              "      background-color: #434B5C;\n",
              "      box-shadow: 0px 1px 3px 1px rgba(0, 0, 0, 0.15);\n",
              "      filter: drop-shadow(0px 1px 2px rgba(0, 0, 0, 0.3));\n",
              "      fill: #FFFFFF;\n",
              "    }\n",
              "  </style>\n",
              "\n",
              "    <script>\n",
              "      const buttonEl =\n",
              "        document.querySelector('#df-77319cb9-a374-4a53-82ac-6851165d2c58 button.colab-df-convert');\n",
              "      buttonEl.style.display =\n",
              "        google.colab.kernel.accessAllowed ? 'block' : 'none';\n",
              "\n",
              "      async function convertToInteractive(key) {\n",
              "        const element = document.querySelector('#df-77319cb9-a374-4a53-82ac-6851165d2c58');\n",
              "        const dataTable =\n",
              "          await google.colab.kernel.invokeFunction('convertToInteractive',\n",
              "                                                    [key], {});\n",
              "        if (!dataTable) return;\n",
              "\n",
              "        const docLinkHtml = 'Like what you see? Visit the ' +\n",
              "          '<a target=\"_blank\" href=https://colab.research.google.com/notebooks/data_table.ipynb>data table notebook</a>'\n",
              "          + ' to learn more about interactive tables.';\n",
              "        element.innerHTML = '';\n",
              "        dataTable['output_type'] = 'display_data';\n",
              "        await google.colab.output.renderOutput(dataTable, element);\n",
              "        const docLink = document.createElement('div');\n",
              "        docLink.innerHTML = docLinkHtml;\n",
              "        element.appendChild(docLink);\n",
              "      }\n",
              "    </script>\n",
              "  </div>\n",
              "\n",
              "\n",
              "<div id=\"df-366e7cf0-61d9-41a7-913f-9e8927088c63\">\n",
              "  <button class=\"colab-df-quickchart\" onclick=\"quickchart('df-366e7cf0-61d9-41a7-913f-9e8927088c63')\"\n",
              "            title=\"Suggest charts.\"\n",
              "            style=\"display:none;\">\n",
              "\n",
              "<svg xmlns=\"http://www.w3.org/2000/svg\" height=\"24px\"viewBox=\"0 0 24 24\"\n",
              "     width=\"24px\">\n",
              "    <g>\n",
              "        <path d=\"M19 3H5c-1.1 0-2 .9-2 2v14c0 1.1.9 2 2 2h14c1.1 0 2-.9 2-2V5c0-1.1-.9-2-2-2zM9 17H7v-7h2v7zm4 0h-2V7h2v10zm4 0h-2v-4h2v4z\"/>\n",
              "    </g>\n",
              "</svg>\n",
              "  </button>\n",
              "\n",
              "<style>\n",
              "  .colab-df-quickchart {\n",
              "      --bg-color: #E8F0FE;\n",
              "      --fill-color: #1967D2;\n",
              "      --hover-bg-color: #E2EBFA;\n",
              "      --hover-fill-color: #174EA6;\n",
              "      --disabled-fill-color: #AAA;\n",
              "      --disabled-bg-color: #DDD;\n",
              "  }\n",
              "\n",
              "  [theme=dark] .colab-df-quickchart {\n",
              "      --bg-color: #3B4455;\n",
              "      --fill-color: #D2E3FC;\n",
              "      --hover-bg-color: #434B5C;\n",
              "      --hover-fill-color: #FFFFFF;\n",
              "      --disabled-bg-color: #3B4455;\n",
              "      --disabled-fill-color: #666;\n",
              "  }\n",
              "\n",
              "  .colab-df-quickchart {\n",
              "    background-color: var(--bg-color);\n",
              "    border: none;\n",
              "    border-radius: 50%;\n",
              "    cursor: pointer;\n",
              "    display: none;\n",
              "    fill: var(--fill-color);\n",
              "    height: 32px;\n",
              "    padding: 0;\n",
              "    width: 32px;\n",
              "  }\n",
              "\n",
              "  .colab-df-quickchart:hover {\n",
              "    background-color: var(--hover-bg-color);\n",
              "    box-shadow: 0 1px 2px rgba(60, 64, 67, 0.3), 0 1px 3px 1px rgba(60, 64, 67, 0.15);\n",
              "    fill: var(--button-hover-fill-color);\n",
              "  }\n",
              "\n",
              "  .colab-df-quickchart-complete:disabled,\n",
              "  .colab-df-quickchart-complete:disabled:hover {\n",
              "    background-color: var(--disabled-bg-color);\n",
              "    fill: var(--disabled-fill-color);\n",
              "    box-shadow: none;\n",
              "  }\n",
              "\n",
              "  .colab-df-spinner {\n",
              "    border: 2px solid var(--fill-color);\n",
              "    border-color: transparent;\n",
              "    border-bottom-color: var(--fill-color);\n",
              "    animation:\n",
              "      spin 1s steps(1) infinite;\n",
              "  }\n",
              "\n",
              "  @keyframes spin {\n",
              "    0% {\n",
              "      border-color: transparent;\n",
              "      border-bottom-color: var(--fill-color);\n",
              "      border-left-color: var(--fill-color);\n",
              "    }\n",
              "    20% {\n",
              "      border-color: transparent;\n",
              "      border-left-color: var(--fill-color);\n",
              "      border-top-color: var(--fill-color);\n",
              "    }\n",
              "    30% {\n",
              "      border-color: transparent;\n",
              "      border-left-color: var(--fill-color);\n",
              "      border-top-color: var(--fill-color);\n",
              "      border-right-color: var(--fill-color);\n",
              "    }\n",
              "    40% {\n",
              "      border-color: transparent;\n",
              "      border-right-color: var(--fill-color);\n",
              "      border-top-color: var(--fill-color);\n",
              "    }\n",
              "    60% {\n",
              "      border-color: transparent;\n",
              "      border-right-color: var(--fill-color);\n",
              "    }\n",
              "    80% {\n",
              "      border-color: transparent;\n",
              "      border-right-color: var(--fill-color);\n",
              "      border-bottom-color: var(--fill-color);\n",
              "    }\n",
              "    90% {\n",
              "      border-color: transparent;\n",
              "      border-bottom-color: var(--fill-color);\n",
              "    }\n",
              "  }\n",
              "</style>\n",
              "\n",
              "  <script>\n",
              "    async function quickchart(key) {\n",
              "      const quickchartButtonEl =\n",
              "        document.querySelector('#' + key + ' button');\n",
              "      quickchartButtonEl.disabled = true;  // To prevent multiple clicks.\n",
              "      quickchartButtonEl.classList.add('colab-df-spinner');\n",
              "      try {\n",
              "        const charts = await google.colab.kernel.invokeFunction(\n",
              "            'suggestCharts', [key], {});\n",
              "      } catch (error) {\n",
              "        console.error('Error during call to suggestCharts:', error);\n",
              "      }\n",
              "      quickchartButtonEl.classList.remove('colab-df-spinner');\n",
              "      quickchartButtonEl.classList.add('colab-df-quickchart-complete');\n",
              "    }\n",
              "    (() => {\n",
              "      let quickchartButtonEl =\n",
              "        document.querySelector('#df-366e7cf0-61d9-41a7-913f-9e8927088c63 button');\n",
              "      quickchartButtonEl.style.display =\n",
              "        google.colab.kernel.accessAllowed ? 'block' : 'none';\n",
              "    })();\n",
              "  </script>\n",
              "</div>\n",
              "    </div>\n",
              "  </div>\n"
            ]
          },
          "metadata": {},
          "execution_count": 74
        }
      ]
    },
    {
      "cell_type": "markdown",
      "source": [
        "Вывод:\n",
        "\n",
        "$R^2$ стал лучше на тестовой выборке, но MAPE стали хуже на тестовой выборке, а MSE, MAE хуже на обучающей выборке, следовательно нельзя сказать модель переобучена или недообучена."
      ],
      "metadata": {
        "id": "NJ-2T0LN3PZ9"
      }
    },
    {
      "cell_type": "markdown",
      "source": [
        "#Заключение"
      ],
      "metadata": {
        "id": "buCte8K--aHQ"
      }
    },
    {
      "cell_type": "markdown",
      "source": [
        "Целью нашей работы было: предсказать стоимость коттеджа по его признакам. Мы провели тестирование и оценку качества модели на обучающей и тестовой выборках используя модель линейной регрессии, пользуясь библиотеками pandas, matplotlib.pyplot, numpy и stats и необходимыми нам инструментами пакета Scikit-learn.\n",
        "\n",
        "Мы улучшили качество модели посредством дополнительной очистки данных и ее переобучения.\n",
        "\n",
        "Проведя повторную оценку и тестирование модели, мы не можем сделать вывод, что данная модель получилась переобученной или недообученой, так как она показывает половину хороших результатов на тестовой выборке и половину хороших на обучающей выборке."
      ],
      "metadata": {
        "id": "N2ccR5IjMnOu"
      }
    }
  ]
}